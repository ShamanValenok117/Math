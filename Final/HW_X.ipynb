{
 "cells": [
  {
   "cell_type": "markdown",
   "metadata": {
    "id": "g1hQiFW7isGe"
   },
   "source": [
    "# Итоговая работа."
   ]
  },
  {
   "cell_type": "code",
   "execution_count": 1,
   "metadata": {
    "ExecuteTime": {
     "end_time": "2021-06-17T10:07:47.680990Z",
     "start_time": "2021-06-17T10:07:46.136987Z"
    },
    "id": "NyZ7GotDi1Mp"
   },
   "outputs": [],
   "source": [
    "import matplotlib.pyplot as plt\n",
    "import numpy as np\n",
    "import pandas as pd\n",
    "import seaborn as sns\n",
    "\n",
    "from scipy.optimize import minimize\n",
    "%matplotlib inline"
   ]
  },
  {
   "cell_type": "markdown",
   "metadata": {
    "id": "VZFf_auXisJd"
   },
   "source": [
    "## Задание 1"
   ]
  },
  {
   "cell_type": "markdown",
   "metadata": {
    "id": "ABMPXsuhisMO"
   },
   "source": [
    "Дана матрица рейтингов фильмов (строки - пользователи (10 человек), столбцы - фильмы (15 фильмов))"
   ]
  },
  {
   "cell_type": "code",
   "execution_count": 2,
   "metadata": {
    "ExecuteTime": {
     "end_time": "2021-06-17T10:07:56.712003Z",
     "start_time": "2021-06-17T10:07:56.692003Z"
    },
    "id": "D4_Vshevi-4P"
   },
   "outputs": [],
   "source": [
    "raitings = np.array([[ 4,  4,  9,  4,  1,  6, 10,  7,  9,  6,  9,  2,  8,  6,  6],\n",
    "                     [ 9,  2,  5, 10,  7,  8, 10,  5,  6,  2,  1,  6,  8,  9,  7],\n",
    "                     [ 1,  6,  8,  8,  4,  9,  3,  8, 10,  5,  2,  6,  8,  1,  6],\n",
    "                     [ 6,  1,  9,  7,  7,  9,  2,  3,  5,  1,  6,  6,  3,  2,  7],\n",
    "                     [ 3,  7,  3,  5,  7,  9,  9,  6,  2,  9,  1,  2,  8, 10,  6],\n",
    "                     [ 8,  3,  7,  3,  8,  6,  1,  8,  8,  6,  1,  9,  4, 10,  1],\n",
    "                     [ 9,  8,  4,  8,  8, 10,  6,  1,  1,  2,  9,  5,  2,  7,  2],\n",
    "                     [ 4,  1,  6,  4,  3, 10,  4,  4,  2,  8,  7,  9,  3,  8,  3],\n",
    "                     [ 2,  7,  7,  6, 10,  6,  8,  9,  8,  6, 10,  1,  7, 10,  4],\n",
    "                     [ 5, 10,  8,  8,  9,  7,  2,  9,  9, 10,  8,  8,  8,  6, 10]])"
   ]
  },
  {
   "cell_type": "markdown",
   "metadata": {
    "id": "FuYpBPsTjBVa"
   },
   "source": [
    "**a)** Необходимо найти наиболее похожего пользователя по косинусной метрике для каждого из (ответ: 10 пар вида (x, y), где y - наиболее похожий пользователь на пользователя x)."
   ]
  },
  {
   "cell_type": "code",
   "execution_count": 3,
   "metadata": {
    "ExecuteTime": {
     "end_time": "2021-06-17T18:25:18.086490Z",
     "start_time": "2021-06-17T18:25:18.066490Z"
    }
   },
   "outputs": [],
   "source": [
    "from sklearn.metrics import pairwise_distances"
   ]
  },
  {
   "cell_type": "code",
   "execution_count": 50,
   "metadata": {
    "ExecuteTime": {
     "end_time": "2021-06-17T19:24:53.588003Z",
     "start_time": "2021-06-17T19:24:53.580503Z"
    }
   },
   "outputs": [
    {
     "name": "stdout",
     "output_type": "stream",
     "text": [
      "[[0.         0.17397081]\n",
      " [0.17397081 0.        ]]\n"
     ]
    }
   ],
   "source": [
    "a = pairwise_distances(raitings, metric='cosine')\n",
    "# проверим метрику 'cosine' на примере первых двух векторов\n",
    "print(a[:2,:2])"
   ]
  },
  {
   "cell_type": "code",
   "execution_count": 49,
   "metadata": {
    "ExecuteTime": {
     "end_time": "2021-06-17T19:24:35.086270Z",
     "start_time": "2021-06-17T19:24:35.066270Z"
    }
   },
   "outputs": [
    {
     "data": {
      "text/plain": [
       "(0.8260291914926011, 0.17397080850739888)"
      ]
     },
     "execution_count": 49,
     "metadata": {},
     "output_type": "execute_result"
    }
   ],
   "source": [
    "# посчитаем сами.  и проверим с метрикой\n",
    "\n",
    "# длина\n",
    "l0 = np.sqrt((raitings[0]**2).sum())\n",
    "l1 = np.sqrt((raitings[1]**2).sum())\n",
    "# косинус\n",
    "cosine  = (raitings[0] @ raitings[1]) / (l0*l1)\n",
    "alpha_ = np.arccos(cosine)\n",
    "cosine, 1-cosine"
   ]
  },
  {
   "cell_type": "markdown",
   "metadata": {
    "ExecuteTime": {
     "end_time": "2021-06-17T18:55:13.215707Z",
     "start_time": "2021-06-17T18:55:13.205707Z"
    }
   },
   "source": [
    "#### стало быть 'cosine' считает 1-cos(между векторами). \n",
    "Выходит нужно в полученной матрице 'pairwise_distances' искать минимальное значение - оно будет соответствовать cos(alpha)=1 или alpha = 0 - то есть векторы сонаправлены "
   ]
  },
  {
   "cell_type": "code",
   "execution_count": 51,
   "metadata": {
    "ExecuteTime": {
     "end_time": "2021-06-17T19:24:59.783098Z",
     "start_time": "2021-06-17T19:24:59.168089Z"
    }
   },
   "outputs": [
    {
     "data": {
      "text/plain": [
       "<AxesSubplot:>"
      ]
     },
     "execution_count": 51,
     "metadata": {},
     "output_type": "execute_result"
    },
    {
     "data": {
      "image/png": "[encoded data removed]",
      "text/plain": [
       "<Figure size 432x288 with 2 Axes>"
      ]
     },
     "metadata": {
      "needs_background": "light"
     },
     "output_type": "display_data"
    }
   ],
   "source": [
    "# посмотрим на полученну матрицу:\n",
    "import seaborn as sns\n",
    "sns.heatmap(a,cmap=\"YlGnBu\")"
   ]
  },
  {
   "cell_type": "code",
   "execution_count": 52,
   "metadata": {
    "ExecuteTime": {
     "end_time": "2021-06-17T19:26:01.275310Z",
     "start_time": "2021-06-17T19:26:01.265310Z"
    }
   },
   "outputs": [],
   "source": [
    "# если мы будем искать минимумы, то найдем нули. Заменим ноль на что то существенное например 1\n",
    "np.place(a,a==0,1)"
   ]
  },
  {
   "cell_type": "code",
   "execution_count": 53,
   "metadata": {
    "ExecuteTime": {
     "end_time": "2021-06-17T19:26:21.188338Z",
     "start_time": "2021-06-17T19:26:20.608337Z"
    }
   },
   "outputs": [
    {
     "data": {
      "text/plain": [
       "<AxesSubplot:>"
      ]
     },
     "execution_count": 53,
     "metadata": {},
     "output_type": "execute_result"
    },
    {
     "data": {
      "image/png": "[encoded data removed]",
      "text/plain": [
       "<Figure size 432x288 with 2 Axes>"
      ]
     },
     "metadata": {
      "needs_background": "light"
     },
     "output_type": "display_data"
    }
   ],
   "source": [
    "# проверим\n",
    "sns.heatmap(a,cmap=\"YlGnBu\")"
   ]
  },
  {
   "cell_type": "code",
   "execution_count": 54,
   "metadata": {
    "ExecuteTime": {
     "end_time": "2021-06-17T19:26:43.960370Z",
     "start_time": "2021-06-17T19:26:43.940370Z"
    }
   },
   "outputs": [
    {
     "data": {
      "text/plain": [
       "array([8, 4, 9, 9, 8, 9, 3, 5, 0, 2], dtype=int64)"
      ]
     },
     "execution_count": 54,
     "metadata": {},
     "output_type": "execute_result"
    }
   ],
   "source": [
    "#находим минимумы:\n",
    "similar_array = a.argmin(axis=1)\n",
    "similar_array"
   ]
  },
  {
   "cell_type": "code",
   "execution_count": 55,
   "metadata": {
    "ExecuteTime": {
     "end_time": "2021-06-17T19:27:04.884400Z",
     "start_time": "2021-06-17T19:27:04.874400Z"
    }
   },
   "outputs": [
    {
     "data": {
      "text/plain": [
       "[(0, 8),\n",
       " (1, 4),\n",
       " (2, 9),\n",
       " (3, 9),\n",
       " (4, 8),\n",
       " (5, 9),\n",
       " (6, 3),\n",
       " (7, 5),\n",
       " (8, 0),\n",
       " (9, 2)]"
      ]
     },
     "execution_count": 55,
     "metadata": {},
     "output_type": "execute_result"
    }
   ],
   "source": [
    "#сопоставляем с векторами:\n",
    "similar_array = list(enumerate(similar_array))\n",
    "similar_array"
   ]
  },
  {
   "cell_type": "code",
   "execution_count": 37,
   "metadata": {
    "ExecuteTime": {
     "end_time": "2021-06-17T19:04:30.376474Z",
     "start_time": "2021-06-17T19:04:30.366474Z"
    }
   },
   "outputs": [],
   "source": [
    "#Job is done!"
   ]
  },
  {
   "cell_type": "markdown",
   "metadata": {
    "id": "FuYpBPsTjBVa"
   },
   "source": [
    "**b)** Предположим, вы захотели сжать признаковые описания пользователя с 15 фильмов, до, скажем, 5-ти признаков, как вы это сделаете?"
   ]
  },
  {
   "cell_type": "code",
   "execution_count": 56,
   "metadata": {
    "ExecuteTime": {
     "end_time": "2021-06-18T08:15:31.864644Z",
     "start_time": "2021-06-18T08:15:31.734644Z"
    }
   },
   "outputs": [],
   "source": [
    "# Будем делать через методы снижения размерности Метод Главных Компонент (PCA), проверять будем метрикой median absolute error и MSE\n",
    "# Импортируем\n",
    "from sklearn.decomposition import PCA\n",
    "from sklearn.metrics import median_absolute_error\n",
    "from sklearn.metrics import mean_squared_error"
   ]
  },
  {
   "cell_type": "code",
   "execution_count": 67,
   "metadata": {
    "ExecuteTime": {
     "end_time": "2021-06-18T08:29:36.778807Z",
     "start_time": "2021-06-18T08:29:36.748807Z"
    },
    "collapsed": true
   },
   "outputs": [
    {
     "data": {
      "text/plain": [
       "(array([ 8.74700053e+01+0.00000000e+00j, -8.26467348e+00+0.00000000e+00j,\n",
       "         9.06861682e+00+0.00000000e+00j, -2.74389547e+00+5.36310283e+00j,\n",
       "        -2.74389547e+00-5.36310283e+00j,  5.14806531e+00+1.85850516e+00j,\n",
       "         5.14806531e+00-1.85850516e+00j,  1.72608804e-01+4.02604405e+00j,\n",
       "         1.72608804e-01-4.02604405e+00j, -4.27505889e-01+0.00000000e+00j,\n",
       "         5.52858749e-14+0.00000000e+00j, -5.73848351e-15+5.78086523e-15j,\n",
       "        -5.73848351e-15-5.78086523e-15j,  5.62375548e-17+8.09529500e-16j,\n",
       "         5.62375548e-17-8.09529500e-16j]),\n",
       " array([[-0.26648658+0.00000000e+00j, -0.16243971+0.00000000e+00j,\n",
       "         -0.30736687+0.00000000e+00j, -0.05242368-5.12027782e-02j,\n",
       "         -0.05242368+5.12027782e-02j,  0.07111041-9.43597776e-02j,\n",
       "          0.07111041+9.43597776e-02j, -0.00152088-1.27890698e-01j,\n",
       "         -0.00152088+1.27890698e-01j,  0.03137791+0.00000000e+00j,\n",
       "         -0.00466132+0.00000000e+00j,  0.03317817-1.25243200e-02j,\n",
       "          0.03317817+1.25243200e-02j,  0.23850372-1.04892256e-01j,\n",
       "          0.23850372+1.04892256e-01j],\n",
       "        [-0.26880254+0.00000000e+00j, -0.16623039+0.00000000e+00j,\n",
       "         -0.21389431+0.00000000e+00j,  0.03530669+8.27582819e-02j,\n",
       "          0.03530669-8.27582819e-02j,  0.20716245+1.49975090e-01j,\n",
       "          0.20716245-1.49975090e-01j, -0.0231309 +1.31201599e-01j,\n",
       "         -0.0231309 -1.31201599e-01j,  0.12382003+0.00000000e+00j,\n",
       "          0.12737759+0.00000000e+00j,  0.11600821+1.14806010e-02j,\n",
       "          0.11600821-1.14806010e-02j, -0.13935358+1.30438714e-01j,\n",
       "         -0.13935358-1.30438714e-01j],\n",
       "        [-0.24929355+0.00000000e+00j,  0.10445589+0.00000000e+00j,\n",
       "          0.34300077+0.00000000e+00j, -0.12037479-1.43463220e-01j,\n",
       "         -0.12037479+1.43463220e-01j, -0.25706123+2.49908216e-01j,\n",
       "         -0.25706123-2.49908216e-01j,  0.45172624+0.00000000e+00j,\n",
       "          0.45172624-0.00000000e+00j,  0.32480731+0.00000000e+00j,\n",
       "          0.37795293+0.00000000e+00j,  0.23900553+1.30581590e-01j,\n",
       "          0.23900553-1.30581590e-01j, -0.02252136+2.49487610e-01j,\n",
       "         -0.02252136-2.49487610e-01j],\n",
       "        [-0.21342412+0.00000000e+00j,  0.41290984+0.00000000e+00j,\n",
       "          0.11520027+0.00000000e+00j, -0.35467984+1.52723050e-01j,\n",
       "         -0.35467984-1.52723050e-01j, -0.15685429+9.73778390e-02j,\n",
       "         -0.15685429-9.73778390e-02j,  0.10620139-1.50957831e-01j,\n",
       "          0.10620139+1.50957831e-01j, -0.01571559+0.00000000e+00j,\n",
       "          0.00714443+0.00000000e+00j, -0.01414222+1.67786194e-01j,\n",
       "         -0.01414222-1.67786194e-01j, -0.00951022+1.12330241e-01j,\n",
       "         -0.00951022-1.12330241e-01j],\n",
       "        [-0.25232457+0.00000000e+00j, -0.36433881+0.00000000e+00j,\n",
       "          0.1157524 +0.00000000e+00j,  0.15879593-2.55785970e-01j,\n",
       "          0.15879593+2.55785970e-01j,  0.1606811 -1.49811200e-01j,\n",
       "          0.1606811 +1.49811200e-01j, -0.12094535+9.24376661e-02j,\n",
       "         -0.12094535-9.24376661e-02j, -0.07754391+0.00000000e+00j,\n",
       "         -0.09162179+0.00000000e+00j, -0.13401395-1.13056211e-01j,\n",
       "         -0.13401395+1.13056211e-01j,  0.12645361-1.15006874e-01j,\n",
       "          0.12645361+1.15006874e-01j],\n",
       "        [-0.24374726+0.00000000e+00j,  0.02494021+0.00000000e+00j,\n",
       "          0.12825974+0.00000000e+00j,  0.18508361+1.46701261e-01j,\n",
       "          0.18508361-1.46701261e-01j, -0.2151003 +1.82244168e-03j,\n",
       "         -0.2151003 -1.82244168e-03j, -0.14411391+3.52321609e-02j,\n",
       "         -0.14411391-3.52321609e-02j, -0.19481144+0.00000000e+00j,\n",
       "         -0.20781811+0.00000000e+00j, -0.11984942-1.93840636e-02j,\n",
       "         -0.11984942+1.93840636e-02j, -0.08595021-1.10420544e-01j,\n",
       "         -0.08595021+1.10420544e-01j],\n",
       "        [-0.23517107+0.00000000e+00j,  0.0841093 +0.00000000e+00j,\n",
       "         -0.59774312+0.00000000e+00j,  0.29640036+8.69431679e-02j,\n",
       "          0.29640036-8.69431679e-02j,  0.42594799+0.00000000e+00j,\n",
       "          0.42594799-0.00000000e+00j, -0.2456843 +1.20266474e-01j,\n",
       "         -0.2456843 -1.20266474e-01j, -0.06006531+0.00000000e+00j,\n",
       "         -0.0681633 +0.00000000e+00j, -0.05509121-1.60671687e-01j,\n",
       "         -0.05509121+1.60671687e-01j,  0.10814201-7.57691652e-03j,\n",
       "          0.10814201+7.57691652e-03j],\n",
       "        [-0.2237693 +0.00000000e+00j, -0.32338246+0.00000000e+00j,\n",
       "         -0.02183911+0.00000000e+00j,  0.45474315+0.00000000e+00j,\n",
       "          0.45474315-0.00000000e+00j, -0.11133327-2.34589446e-02j,\n",
       "         -0.11133327+2.34589446e-02j, -0.35253982-2.35251987e-01j,\n",
       "         -0.35253982+2.35251987e-01j,  0.4656037 +0.00000000e+00j,\n",
       "          0.35125029+0.00000000e+00j,  0.51150779-1.16169063e-01j,\n",
       "          0.51150779+1.16169063e-01j,  0.48616535+0.00000000e+00j,\n",
       "          0.48616535-0.00000000e+00j],\n",
       "        [-0.29226666+0.00000000e+00j,  0.00396077+0.00000000e+00j,\n",
       "         -0.12747928+0.00000000e+00j, -0.10244918-4.49920441e-03j,\n",
       "         -0.10244918+4.49920441e-03j,  0.05902113-2.16335738e-01j,\n",
       "          0.05902113+2.16335738e-01j, -0.22637427+2.59053349e-01j,\n",
       "         -0.22637427-2.59053349e-01j, -0.62417564+0.00000000e+00j,\n",
       "         -0.61803888+0.00000000e+00j, -0.56263755+0.00000000e+00j,\n",
       "         -0.56263755-0.00000000e+00j, -0.39992974-1.12447133e-01j,\n",
       "         -0.39992974+1.12447133e-01j],\n",
       "        [-0.34715977+0.00000000e+00j,  0.3890715 +0.00000000e+00j,\n",
       "          0.2010867 +0.00000000e+00j, -0.16099127+1.70237919e-01j,\n",
       "         -0.16099127-1.70237919e-01j,  0.07785328-3.50004119e-01j,\n",
       "          0.07785328+3.50004119e-01j,  0.10085319-6.48480018e-02j,\n",
       "          0.10085319+6.48480018e-02j, -0.30968859+0.00000000e+00j,\n",
       "         -0.29361202+0.00000000e+00j, -0.31872729+3.03918583e-02j,\n",
       "         -0.31872729-3.03918583e-02j,  0.07271511-8.40459599e-02j,\n",
       "          0.07271511+8.40459599e-02j],\n",
       "        [-0.26648658+0.00000000e+00j, -0.16243971+0.00000000e+00j,\n",
       "         -0.30736687+0.00000000e+00j, -0.05242368-5.12027782e-02j,\n",
       "         -0.05242368+5.12027782e-02j,  0.07111041-9.43597776e-02j,\n",
       "          0.07111041+9.43597776e-02j, -0.00152088-1.27890698e-01j,\n",
       "         -0.00152088+1.27890698e-01j,  0.03137791+0.00000000e+00j,\n",
       "          0.01710688+0.00000000e+00j,  0.02810858-3.12062415e-02j,\n",
       "          0.02810858+3.12062415e-02j,  0.08956196-8.74949534e-02j,\n",
       "          0.08956196+8.74949534e-02j],\n",
       "        [-0.26880254+0.00000000e+00j, -0.16623039+0.00000000e+00j,\n",
       "         -0.21389431+0.00000000e+00j,  0.03530669+8.27582819e-02j,\n",
       "          0.03530669-8.27582819e-02j,  0.20716245+1.49975090e-01j,\n",
       "          0.20716245-1.49975090e-01j, -0.0231309 +1.31201599e-01j,\n",
       "         -0.0231309 -1.31201599e-01j,  0.12382003+0.00000000e+00j,\n",
       "          0.15539374+0.00000000e+00j,  0.11579079-1.35227644e-01j,\n",
       "          0.11579079+1.35227644e-01j,  0.04066656+2.44361053e-02j,\n",
       "          0.04066656-2.44361053e-02j],\n",
       "        [-0.24929355+0.00000000e+00j,  0.10445589+0.00000000e+00j,\n",
       "          0.34300077+0.00000000e+00j, -0.12037479-1.43463220e-01j,\n",
       "         -0.12037479+1.43463220e-01j, -0.25706123+2.49908216e-01j,\n",
       "         -0.25706123-2.49908216e-01j,  0.45172624-3.33066907e-16j,\n",
       "          0.45172624+3.33066907e-16j,  0.32480731+0.00000000e+00j,\n",
       "          0.39431704+0.00000000e+00j,  0.2219479 +3.07467780e-02j,\n",
       "          0.2219479 -3.07467780e-02j,  0.22965027-1.22624280e-01j,\n",
       "          0.22965027+1.22624280e-01j],\n",
       "        [-0.21342412+0.00000000e+00j,  0.41290984+0.00000000e+00j,\n",
       "          0.11520027+0.00000000e+00j, -0.35467984+1.52723050e-01j,\n",
       "         -0.35467984-1.52723050e-01j, -0.15685429+9.73778390e-02j,\n",
       "         -0.15685429-9.73778390e-02j,  0.10620139-1.50957831e-01j,\n",
       "          0.10620139+1.50957831e-01j, -0.01571559+0.00000000e+00j,\n",
       "          0.00536752+0.00000000e+00j, -0.00100871+1.71890105e-01j,\n",
       "         -0.00100871-1.71890105e-01j, -0.41919375+1.66790327e-01j,\n",
       "         -0.41919375-1.66790327e-01j],\n",
       "        [-0.25232457+0.00000000e+00j, -0.36433881+0.00000000e+00j,\n",
       "          0.1157524 +0.00000000e+00j,  0.15879593-2.55785970e-01j,\n",
       "          0.15879593+2.55785970e-01j,  0.1606811 -1.49811200e-01j,\n",
       "          0.1606811 +1.49811200e-01j, -0.12094535+9.24376661e-02j,\n",
       "         -0.12094535-9.24376661e-02j, -0.07754391+0.00000000e+00j,\n",
       "         -0.11451276+0.00000000e+00j, -0.02429106-1.68829756e-02j,\n",
       "         -0.02429106+1.68829756e-02j, -0.21625844+4.85897703e-02j,\n",
       "         -0.21625844-4.85897703e-02j]]))"
      ]
     },
     "execution_count": 67,
     "metadata": {},
     "output_type": "execute_result"
    }
   ],
   "source": [
    "# посмотрим на главные компоненты\n",
    "np.set_printoptions(formatter={'float_kind': '{:.2f}'.format})\n",
    "a = raitings\n",
    "a= np.resize(a,(15,15))\n",
    "np.linalg.eig(a) "
   ]
  },
  {
   "cell_type": "markdown",
   "metadata": {},
   "source": [
    "первые три компонента имеют максимальное значение. проверим сколько нужно на самом деле"
   ]
  },
  {
   "cell_type": "code",
   "execution_count": 91,
   "metadata": {
    "ExecuteTime": {
     "end_time": "2021-06-18T09:03:24.644670Z",
     "start_time": "2021-06-18T09:03:24.634670Z"
    }
   },
   "outputs": [
    {
     "data": {
      "text/plain": [
       "(7.350868868484463e-30, 1.9984014443252818e-15)"
      ]
     },
     "execution_count": 91,
     "metadata": {},
     "output_type": "execute_result"
    }
   ],
   "source": [
    "tester = PCA(n_components=9,svd_solver='full' )\n",
    "a = tester.fit_transform(raitings)\n",
    "a_ = tester.inverse_transform(a)\n",
    "#metrics\n",
    "mse = mean_squared_error(raitings,a_)\n",
    "mae = median_absolute_error(raitings,a_)\n",
    "mse, mae"
   ]
  },
  {
   "cell_type": "code",
   "execution_count": 112,
   "metadata": {
    "ExecuteTime": {
     "end_time": "2021-06-18T09:30:34.057731Z",
     "start_time": "2021-06-18T09:30:33.527730Z"
    }
   },
   "outputs": [
    {
     "data": {
      "image/png": "[encoded data removed]",
      "text/plain": [
       "<Figure size 432x288 with 1 Axes>"
      ]
     },
     "metadata": {
      "needs_background": "light"
     },
     "output_type": "display_data"
    }
   ],
   "source": [
    "plt.plot(tester.explained_variance_ratio_,'+-', label = 'variance by eigenvalue')\n",
    "plt.plot(tester.explained_variance_ratio_.cumsum(),'+--',label = 'cumulative variance')\n",
    "plt.axhline(.9,color='r')\n",
    "plt.legend()\n",
    "plt.yticks(np.arange(0,1.1,.1))\n",
    "plt.xlabel('components')\n",
    "plt.ylabel('variance')\n",
    "plt.title('components vs variance');"
   ]
  },
  {
   "cell_type": "markdown",
   "metadata": {},
   "source": [
    "Видно, что первые пять собственных компонентов снижают дисперсию на 90%  \n",
    "\n",
    "Посмотрим как выглядят основные компоненты и   \n",
    "проверим на Mean Square Error (MSE) и median absolute error (MAE)"
   ]
  },
  {
   "cell_type": "code",
   "execution_count": 93,
   "metadata": {
    "ExecuteTime": {
     "end_time": "2021-06-18T09:04:11.670737Z",
     "start_time": "2021-06-18T09:04:11.660737Z"
    }
   },
   "outputs": [
    {
     "data": {
      "text/plain": [
       "array([16.92, 14.91, 12.62, 12.09, 11.28, 9.57, 7.13, 5.39, 3.94])"
      ]
     },
     "execution_count": 93,
     "metadata": {},
     "output_type": "execute_result"
    }
   ],
   "source": [
    "tester.singular_values_"
   ]
  },
  {
   "cell_type": "code",
   "execution_count": 79,
   "metadata": {
    "ExecuteTime": {
     "end_time": "2021-06-18T08:59:13.027887Z",
     "start_time": "2021-06-18T08:59:12.947887Z"
    }
   },
   "outputs": [
    {
     "name": "stderr",
     "output_type": "stream",
     "text": [
      "\u001b[32m[I 2021-06-18 11:59:12,957]\u001b[0m A new study created in memory with name: no-name-b5d0d492-b187-4227-b6d8-14ff3a4fccef\u001b[0m\n",
      "\u001b[32m[I 2021-06-18 11:59:12,957]\u001b[0m Trial 0 finished with value: 1.5123253608358054 and parameters: {'n': 2}. Best is trial 0 with value: 1.5123253608358054.\u001b[0m\n",
      "\u001b[32m[I 2021-06-18 11:59:12,967]\u001b[0m Trial 1 finished with value: 1.1287437973838526 and parameters: {'n': 4}. Best is trial 1 with value: 1.1287437973838526.\u001b[0m\n",
      "\u001b[32m[I 2021-06-18 11:59:12,967]\u001b[0m Trial 2 finished with value: 0.2840695916688586 and parameters: {'n': 8}. Best is trial 2 with value: 0.2840695916688586.\u001b[0m\n",
      "\u001b[32m[I 2021-06-18 11:59:12,977]\u001b[0m Trial 3 finished with value: 1.9984014443252818e-15 and parameters: {'n': 9}. Best is trial 3 with value: 1.9984014443252818e-15.\u001b[0m\n",
      "\u001b[32m[I 2021-06-18 11:59:12,977]\u001b[0m Trial 4 finished with value: 0.2840695916688586 and parameters: {'n': 8}. Best is trial 3 with value: 1.9984014443252818e-15.\u001b[0m\n",
      "\u001b[32m[I 2021-06-18 11:59:12,977]\u001b[0m Trial 5 finished with value: 0.3537171054877469 and parameters: {'n': 7}. Best is trial 3 with value: 1.9984014443252818e-15.\u001b[0m\n",
      "\u001b[32m[I 2021-06-18 11:59:12,987]\u001b[0m Trial 6 finished with value: 0.2840695916688586 and parameters: {'n': 8}. Best is trial 3 with value: 1.9984014443252818e-15.\u001b[0m\n",
      "\u001b[32m[I 2021-06-18 11:59:12,987]\u001b[0m Trial 7 finished with value: 1.316653001521182 and parameters: {'n': 3}. Best is trial 3 with value: 1.9984014443252818e-15.\u001b[0m\n",
      "\u001b[32m[I 2021-06-18 11:59:12,997]\u001b[0m Trial 8 finished with value: 1.1287437973838526 and parameters: {'n': 4}. Best is trial 3 with value: 1.9984014443252818e-15.\u001b[0m\n",
      "\u001b[32m[I 2021-06-18 11:59:12,997]\u001b[0m Trial 9 finished with value: 1.9984014443252818e-15 and parameters: {'n': 9}. Best is trial 3 with value: 1.9984014443252818e-15.\u001b[0m\n"
     ]
    },
    {
     "data": {
      "text/plain": [
       "{'n': 9}"
      ]
     },
     "execution_count": 79,
     "metadata": {},
     "output_type": "execute_result"
    }
   ],
   "source": [
    "import optuna\n",
    "\n",
    "def objective(trial):\n",
    "    n = trial.suggest_int('n', 1, 9 )\n",
    "    \n",
    "    tester = PCA(n_components=n ,svd_solver='full' )\n",
    "    a = tester.fit_transform(raitings)\n",
    "    a_ = tester.inverse_transform(a)\n",
    "    \n",
    "    #metrics\n",
    "    mse = mean_squared_error(raitings,a_)\n",
    "    mae = median_absolute_error(raitings,a_)\n",
    "    return mae\n",
    "\n",
    "study = optuna.create_study()\n",
    "study.optimize(objective, n_trials=10)\n",
    "\n",
    "study.best_params"
   ]
  },
  {
   "cell_type": "markdown",
   "metadata": {},
   "source": [
    "MSE после 5 компоненты выдает такой же результат, как для 8 компонентов.  \n",
    "MAE после 3 компонентов выдает такой же результат, как для 9 компонентов."
   ]
  },
  {
   "cell_type": "markdown",
   "metadata": {
    "ExecuteTime": {
     "end_time": "2021-06-18T09:35:09.275119Z",
     "start_time": "2021-06-18T09:35:09.255119Z"
    }
   },
   "source": [
    "Стало быть, можно сокращать количество компонентов до 5 с минимальной потерей информации:"
   ]
  },
  {
   "cell_type": "code",
   "execution_count": 115,
   "metadata": {
    "ExecuteTime": {
     "end_time": "2021-06-18T09:36:14.464210Z",
     "start_time": "2021-06-18T09:36:14.444210Z"
    }
   },
   "outputs": [
    {
     "data": {
      "text/plain": [
       "array([[-5.31, 1.93, -4.93, 2.70, 5.50],\n",
       "       [2.88, 2.72, 1.41, 7.26, -4.50],\n",
       "       [-4.94, -6.69, -0.95, 3.62, -0.69],\n",
       "       [5.15, -6.28, -4.66, 1.09, -1.01],\n",
       "       [-1.37, 7.54, 4.01, 2.13, -0.16],\n",
       "       [2.65, -3.77, 8.58, -1.47, 1.67],\n",
       "       [8.62, 3.79, -4.03, -4.38, -3.14],\n",
       "       [5.40, -1.02, 1.01, -1.90, 6.55],\n",
       "       [-5.78, 5.30, -1.48, -3.71, 0.21],\n",
       "       [-7.28, -3.52, 1.03, -5.35, -4.43]])"
      ]
     },
     "execution_count": 115,
     "metadata": {},
     "output_type": "execute_result"
    }
   ],
   "source": [
    "tester = PCA(n_components=5,svd_solver='full' )\n",
    "decreased_components = tester.fit_transform(raitings)\n",
    "decreased_components"
   ]
  },
  {
   "cell_type": "markdown",
   "metadata": {
    "id": "QRJEo5ydjFjG"
   },
   "source": [
    "## Задание 2"
   ]
  },
  {
   "cell_type": "markdown",
   "metadata": {
    "id": "39rGnTIojFlV"
   },
   "source": [
    "\n",
    "Вычислите производную $tg^2(sin(x) + cos(2x+3))$ в точке $x_0=1$ (на python и на бумаге)."
   ]
  },
  {
   "cell_type": "code",
   "execution_count": 116,
   "metadata": {
    "ExecuteTime": {
     "end_time": "2021-06-18T09:42:16.451145Z",
     "start_time": "2021-06-18T09:42:14.161142Z"
    }
   },
   "outputs": [],
   "source": [
    "import sympy\n",
    "from sympy import *\n",
    "x = symbols('x')"
   ]
  },
  {
   "cell_type": "code",
   "execution_count": 123,
   "metadata": {
    "ExecuteTime": {
     "end_time": "2021-06-18T10:16:31.785030Z",
     "start_time": "2021-06-18T10:16:31.765030Z"
    }
   },
   "outputs": [
    {
     "data": {
      "text/latex": [
       "$\\displaystyle \\tan^{2}{\\left(\\sin{\\left(x \\right)} + \\cos{\\left(2 x + 3 \\right)} \\right)}$"
      ],
      "text/plain": [
       "tan(sin(x) + cos(2*x + 3))**2"
      ]
     },
     "execution_count": 123,
     "metadata": {},
     "output_type": "execute_result"
    }
   ],
   "source": [
    "expression = tan( sin(x) + cos(2*x+3) )**2\n",
    "expression"
   ]
  },
  {
   "cell_type": "markdown",
   "metadata": {},
   "source": [
    "Вычислим 'на бумаге':"
   ]
  },
  {
   "cell_type": "markdown",
   "metadata": {},
   "source": [
    "Распишем: \n",
    "\n",
    "$$  \\frac {d(tan^2(sin(𝑥)+cos(2𝑥+3)))}{dx} = (tan^2(sin(𝑥)+cos(2𝑥+3)))' =  (2 \\cdot tan(sin(𝑥)+cos(2𝑥+3) ) \\cdot (tan(sin(𝑥)+cos(2𝑥+3))' \\cdot (sin(𝑥)+cos(2𝑥+3))' = (2 \\cdot tan(sin(𝑥)+cos(2𝑥+3) ) \\cdot (tan^2(sin(𝑥)+cos(2𝑥+3)+1) \\cdot (-2cos(2x+3) + sin(𝑥)) $$\n",
    "\n",
    "В итоге:\n",
    "$$ (tan^2(sin(𝑥)+cos(2𝑥+3)))' = (2 \\cdot tan(sin(𝑥)+cos(2𝑥+3) ) \\cdot (tan^2(sin(𝑥)+cos(2𝑥+3)+1) \\cdot (-2cos(2x+3) + sin(𝑥))    $$"
   ]
  },
  {
   "cell_type": "code",
   "execution_count": 121,
   "metadata": {
    "ExecuteTime": {
     "end_time": "2021-06-18T09:53:11.813766Z",
     "start_time": "2021-06-18T09:53:11.793766Z"
    }
   },
   "outputs": [
    {
     "data": {
      "text/latex": [
       "$\\displaystyle 2 \\left(- 2 \\sin{\\left(2 x + 3 \\right)} + \\cos{\\left(x \\right)}\\right) \\left(\\tan^{2}{\\left(\\sin{\\left(x \\right)} + \\cos{\\left(2 x + 3 \\right)} \\right)} + 1\\right) \\tan{\\left(\\sin{\\left(x \\right)} + \\cos{\\left(2 x + 3 \\right)} \\right)}$"
      ],
      "text/plain": [
       "2*(-2*sin(2*x + 3) + cos(x))*(tan(sin(x) + cos(2*x + 3))**2 + 1)*tan(sin(x) + cos(2*x + 3))"
      ]
     },
     "execution_count": 121,
     "metadata": {},
     "output_type": "execute_result"
    }
   ],
   "source": [
    "expression_derivat = diff(expression,x)\n",
    "expression_derivat"
   ]
  },
  {
   "cell_type": "code",
   "execution_count": 132,
   "metadata": {
    "ExecuteTime": {
     "end_time": "2021-06-18T10:34:09.736949Z",
     "start_time": "2021-06-18T10:34:09.726949Z"
    }
   },
   "outputs": [
    {
     "name": "stdout",
     "output_type": "stream",
     "text": [
      " Производная от f(x) в точке x0=1 равна 55.386.\n"
     ]
    }
   ],
   "source": [
    "# посчитаем в точке х0=1:\n",
    "expr_x0 = expression_derivat.evalf(subs={x:1})\n",
    "print(f' Производная от f(x) в точке x0=1 равна {expr_x0:.3f}.')"
   ]
  },
  {
   "cell_type": "code",
   "execution_count": 131,
   "metadata": {
    "ExecuteTime": {
     "end_time": "2021-06-18T10:34:05.445943Z",
     "start_time": "2021-06-18T10:34:05.435943Z"
    }
   },
   "outputs": [
    {
     "name": "stdout",
     "output_type": "stream",
     "text": [
      " Производная от f(x) в точке x0=1 равна 55.386.\n"
     ]
    }
   ],
   "source": [
    "# проверим\n",
    "import scipy \n",
    "def func(x):\n",
    "    return np.tan( np.sin(x) + np.cos(2*x+3) )**2\n",
    "\n",
    "expr_x0 = scipy.misc.derivative(func, 1, 1e-4, n=1)\n",
    "print(f' Производная от f(x) в точке x0=1 равна {expr_x0:.3f}.')"
   ]
  },
  {
   "cell_type": "markdown",
   "metadata": {},
   "source": [
    "Совпадает => Done!"
   ]
  },
  {
   "cell_type": "markdown",
   "metadata": {
    "id": "T1y3_xiwjFpC"
   },
   "source": [
    "## Задание 3"
   ]
  },
  {
   "cell_type": "markdown",
   "metadata": {
    "id": "1EyIA1IQjU7w"
   },
   "source": [
    "Дана функция с неизвестными параметрами a и b, вам также известны значения функции fx в точках x. Найдите оптимальные параметры a, b, минимизирующие абсолютную ошибку **error**."
   ]
  },
  {
   "cell_type": "code",
   "execution_count": 214,
   "metadata": {
    "ExecuteTime": {
     "end_time": "2021-06-18T14:28:26.040320Z",
     "start_time": "2021-06-18T14:28:26.020320Z"
    },
    "id": "eoBdc8Pwjhmk"
   },
   "outputs": [],
   "source": [
    "def f(x, a, b):\n",
    "    return np.e**a * np.sin(b*x) + x"
   ]
  },
  {
   "cell_type": "code",
   "execution_count": 134,
   "metadata": {
    "ExecuteTime": {
     "end_time": "2021-06-18T10:35:45.930085Z",
     "start_time": "2021-06-18T10:35:45.910085Z"
    },
    "id": "nftvBKK2jho9"
   },
   "outputs": [],
   "source": [
    "x = np.array([0.        , 0.26315789, 0.52631579, 0.78947368, 1.05263158,\n",
    "              1.31578947, 1.57894737, 1.84210526, 2.10526316, 2.36842105,\n",
    "              2.63157895, 2.89473684, 3.15789474, 3.42105263, 3.68421053,\n",
    "              3.94736842, 4.21052632, 4.47368421, 4.73684211, 5.        ])"
   ]
  },
  {
   "cell_type": "code",
   "execution_count": 135,
   "metadata": {
    "ExecuteTime": {
     "end_time": "2021-06-18T10:35:47.290087Z",
     "start_time": "2021-06-18T10:35:47.280087Z"
    },
    "id": "Dk9sBWrKjhrH"
   },
   "outputs": [],
   "source": [
    "fx = np.array([  0.        , -12.01819092, -18.90968634, -17.68786571,\n",
    "                -8.7529108 ,   4.27524517,  16.06801336,  21.81250213,\n",
    "                19.22059845,   9.48411207,  -3.22273056, -13.48576488,\n",
    "               -16.91096359, -11.95866834,  -0.58630088,  12.56873816,\n",
    "                22.12489421,  24.20292139,  18.04522521,   6.33211092])"
   ]
  },
  {
   "cell_type": "code",
   "execution_count": 211,
   "metadata": {
    "ExecuteTime": {
     "end_time": "2021-06-18T14:22:50.306848Z",
     "start_time": "2021-06-18T14:22:50.026848Z"
    },
    "id": "X_4afDeijht2",
    "scrolled": true
   },
   "outputs": [
    {
     "data": {
      "image/png": "[encoded data removed]",
      "text/plain": [
       "<Figure size 432x288 with 1 Axes>"
      ]
     },
     "metadata": {
      "needs_background": "light"
     },
     "output_type": "display_data"
    }
   ],
   "source": [
    "params = [1,2]\n",
    "plt.plot(x, fx)\n",
    "plt.plot(x,f(params,x),'r--')\n",
    "plt.show()"
   ]
  },
  {
   "cell_type": "code",
   "execution_count": 222,
   "metadata": {
    "ExecuteTime": {
     "end_time": "2021-06-18T14:30:15.224473Z",
     "start_time": "2021-06-18T14:30:15.204473Z"
    },
    "id": "oXoGpFu0i-6g"
   },
   "outputs": [],
   "source": [
    "def error(params):\n",
    "    return np.sum(np.abs(fx - f(x, params[0], params[1])))"
   ]
  },
  {
   "cell_type": "markdown",
   "metadata": {},
   "source": [
    "#### Вариант решения через scipy minimize"
   ]
  },
  {
   "cell_type": "code",
   "execution_count": 196,
   "metadata": {
    "ExecuteTime": {
     "end_time": "2021-06-18T13:56:58.466266Z",
     "start_time": "2021-06-18T13:56:58.463266Z"
    }
   },
   "outputs": [],
   "source": [
    "from scipy.optimize import minimize"
   ]
  },
  {
   "cell_type": "code",
   "execution_count": 228,
   "metadata": {
    "ExecuteTime": {
     "end_time": "2021-06-18T14:32:01.623623Z",
     "start_time": "2021-06-18T14:32:01.603623Z"
    }
   },
   "outputs": [
    {
     "name": "stdout",
     "output_type": "stream",
     "text": [
      "Optimization terminated successfully.\n",
      "         Current function value: 0.000013\n",
      "         Iterations: 77\n",
      "         Function evaluations: 153\n"
     ]
    }
   ],
   "source": [
    "params=[-10,20]\n",
    "res = minimize(error,params , method='nelder-mead', options={'xtol':1e-8, 'disp':True})"
   ]
  },
  {
   "cell_type": "code",
   "execution_count": 229,
   "metadata": {
    "ExecuteTime": {
     "end_time": "2021-06-18T14:32:09.288633Z",
     "start_time": "2021-06-18T14:32:09.278633Z"
    },
    "scrolled": true
   },
   "outputs": [
    {
     "data": {
      "text/plain": [
       "(array([[3.00, 21.38],\n",
       "        [3.00, 21.38],\n",
       "        [3.00, 21.38]]),\n",
       " array([0.00, 0.00, 0.00]))"
      ]
     },
     "execution_count": 229,
     "metadata": {},
     "output_type": "execute_result"
    }
   ],
   "source": [
    "res.final_simplex"
   ]
  },
  {
   "cell_type": "code",
   "execution_count": 231,
   "metadata": {
    "ExecuteTime": {
     "end_time": "2021-06-18T14:33:15.375726Z",
     "start_time": "2021-06-18T14:33:15.075726Z"
    },
    "id": "X_4afDeijht2",
    "scrolled": false
   },
   "outputs": [
    {
     "data": {
      "image/png": "[encoded data removed]",
      "text/plain": [
       "<Figure size 432x288 with 1 Axes>"
      ]
     },
     "metadata": {
      "needs_background": "light"
     },
     "output_type": "display_data"
    }
   ],
   "source": [
    "a,b = 3, 21.38\n",
    "plt.plot(x, fx)\n",
    "plt.plot(x,f(x,a,b),'r--')\n",
    "plt.show()"
   ]
  },
  {
   "cell_type": "markdown",
   "metadata": {},
   "source": [
    "Совпадение с кривой."
   ]
  },
  {
   "cell_type": "markdown",
   "metadata": {},
   "source": [
    "#### Градиентный бустинг"
   ]
  },
  {
   "cell_type": "code",
   "execution_count": 138,
   "metadata": {
    "ExecuteTime": {
     "end_time": "2021-06-18T13:04:20.895523Z",
     "start_time": "2021-06-18T13:04:20.885523Z"
    }
   },
   "outputs": [],
   "source": [
    "from scipy.optimize import approx_fprime"
   ]
  },
  {
   "cell_type": "code",
   "execution_count": 235,
   "metadata": {
    "ExecuteTime": {
     "end_time": "2021-06-18T14:38:13.729145Z",
     "start_time": "2021-06-18T14:38:13.709145Z"
    }
   },
   "outputs": [],
   "source": [
    "def f_modified(ab, x):\n",
    "    return np.e**ab[0] * np.sin(ab[1]*x) + x"
   ]
  },
  {
   "cell_type": "code",
   "execution_count": 258,
   "metadata": {
    "ExecuteTime": {
     "end_time": "2021-06-18T15:02:27.257187Z",
     "start_time": "2021-06-18T15:02:27.237187Z"
    },
    "scrolled": true
   },
   "outputs": [
    {
     "name": "stdout",
     "output_type": "stream",
     "text": [
      "Loss function \t|\t gradient: \t|\t params coordinates:\n",
      "-------------------------------------------------------\n",
      "254.20\t|\t[9.69 87.61]\t|\t[1, 2]\n",
      "244.51\t|\t[-0.00 -0.00]\t|\t[-8.69 -85.61]\n",
      "244.51\t|\t[-0.00 -0.00]\t|\t[-8.69 -85.61]\n",
      "244.51\t|\t[-0.00 -0.00]\t|\t[-8.69 -85.61]\n",
      "244.51\t|\t[-0.00 -0.00]\t|\t[-8.69 -85.61]\n",
      "244.51\t|\t[-0.00 -0.00]\t|\t[-8.69 -85.61]\n",
      "244.51\t|\t[-0.00 -0.00]\t|\t[-8.69 -85.61]\n",
      "244.51\t|\t[-0.00 -0.00]\t|\t[-8.69 -85.61]\n",
      "244.51\t|\t[-0.00 -0.00]\t|\t[-8.69 -85.61]\n",
      "-------------------------------------------------------\n",
      "Минимум достигается в:  [-8.69 -85.61]\n",
      "Значение ошибки в минимуме: 244.51\n"
     ]
    }
   ],
   "source": [
    "learning_rate = 1\n",
    "accuracy = 0.1\n",
    "eps = np.sqrt(np.finfo(float).eps)\n",
    "params = [1,2]\n",
    "\n",
    "\n",
    "print('Loss function \\t|\\t gradient: \\t|\\t params coordinates:')\n",
    "print('-'*55)\n",
    "\n",
    "for i in range(1,10,1):\n",
    "    #first iteration\n",
    "    abs_error = error(params)\n",
    "    grad = approx_fprime( params, error, eps)\n",
    "    print(f'{abs_error:.2f}\\t|\\t{grad}\\t|\\t{params}')\n",
    "    \n",
    "    #grad boost\n",
    "    params = params - learning_rate*grad\n",
    "    \n",
    "    #stop criteria\n",
    "    if abs_error < accuracy: \n",
    "        print('-'*55)\n",
    "        print(f'Total iterations = {i}') \n",
    "        break\n",
    "        \n",
    "print('-'*55)\n",
    "print(\"Минимум достигается в: \", params)\n",
    "print(\"Значение ошибки в минимуме: %.2f\" % error(params))\n",
    "        "
   ]
  },
  {
   "cell_type": "code",
   "execution_count": 260,
   "metadata": {
    "ExecuteTime": {
     "end_time": "2021-06-18T15:03:17.749258Z",
     "start_time": "2021-06-18T15:03:17.479258Z"
    },
    "id": "X_4afDeijht2",
    "scrolled": false
   },
   "outputs": [
    {
     "data": {
      "image/png": "[encoded data removed]",
      "text/plain": [
       "<Figure size 432x288 with 1 Axes>"
      ]
     },
     "metadata": {
      "needs_background": "light"
     },
     "output_type": "display_data"
    }
   ],
   "source": [
    "plt.plot(x, fx)\n",
    "plt.plot(x,f_modified(params,x),'r--')\n",
    "plt.show()"
   ]
  },
  {
   "cell_type": "markdown",
   "metadata": {},
   "source": [
    "Градиентный бустинг не проходит. \n",
    "\n",
    "Функция потерь: L = fx - f(a,b). Функция потерь получает точку  (х = х0 в t-мерном пространстве, где t=len(x) ).\n",
    "Предполагаю, что градиент не находит минимум для функции sin()."
   ]
  },
  {
   "cell_type": "markdown",
   "metadata": {},
   "source": [
    "#### Фреймворк 'optuna' + перебор всех возможных вариантов"
   ]
  },
  {
   "cell_type": "code",
   "execution_count": 305,
   "metadata": {
    "ExecuteTime": {
     "end_time": "2021-06-18T16:02:21.400250Z",
     "start_time": "2021-06-18T16:01:57.153212Z"
    },
    "scrolled": true
   },
   "outputs": [
    {
     "name": "stderr",
     "output_type": "stream",
     "text": [
      "\u001b[32m[I 2021-06-18 19:01:57,163]\u001b[0m A new study created in memory with name: no-name-9d82437f-805b-43bf-a65d-feac7b27d3af\u001b[0m\n",
      "\u001b[32m[I 2021-06-18 19:01:57,163]\u001b[0m Trial 0 finished with value: 244.50956431389145 and parameters: {'params[0]': -4.727308781177689, 'params[1]': -4.74699877769345}. Best is trial 0 with value: 244.50956431389145.\u001b[0m\n",
      "\u001b[32m[I 2021-06-18 19:01:57,163]\u001b[0m Trial 1 finished with value: 2766.1256548412284 and parameters: {'params[0]': 5.406079047961352, 'params[1]': -6.252227802176273}. Best is trial 0 with value: 244.50956431389145.\u001b[0m\n",
      "\u001b[32m[I 2021-06-18 19:01:57,173]\u001b[0m Trial 2 finished with value: 540.3962578223598 and parameters: {'params[0]': 3.720917320421268, 'params[1]': 6.859748866689703}. Best is trial 0 with value: 244.50956431389145.\u001b[0m\n",
      "\u001b[32m[I 2021-06-18 19:01:57,173]\u001b[0m Trial 3 finished with value: 244.50954864954332 and parameters: {'params[0]': -8.255944507293954, 'params[1]': -9.485851601737888}. Best is trial 3 with value: 244.50954864954332.\u001b[0m\n",
      "\u001b[32m[I 2021-06-18 19:01:57,173]\u001b[0m Trial 4 finished with value: 13604.919266211115 and parameters: {'params[0]': 6.977434888814603, 'params[1]': 6.523301769483464}. Best is trial 3 with value: 244.50954864954332.\u001b[0m\n",
      "\u001b[32m[I 2021-06-18 19:01:57,183]\u001b[0m Trial 5 finished with value: 259.861534316861 and parameters: {'params[0]': 0.7584819360579687, 'params[1]': 2.8085022736016167}. Best is trial 3 with value: 244.50954864954332.\u001b[0m\n",
      "\u001b[32m[I 2021-06-18 19:01:57,183]\u001b[0m Trial 6 finished with value: 242.69378992944647 and parameters: {'params[0]': 1.2091074037113714, 'params[1]': -8.740847244106394}. Best is trial 6 with value: 242.69378992944647.\u001b[0m\n",
      "\u001b[32m[I 2021-06-18 19:01:57,183]\u001b[0m Trial 7 finished with value: 244.51102201423345 and parameters: {'params[0]': -5.58505162708975, 'params[1]': 4.186829906463444}. Best is trial 6 with value: 242.69378992944647.\u001b[0m\n",
      "\u001b[32m[I 2021-06-18 19:01:57,183]\u001b[0m Trial 8 finished with value: 454.2786016468849 and parameters: {'params[0]': 3.457980082493304, 'params[1]': -9.09415908412669}. Best is trial 6 with value: 242.69378992944647.\u001b[0m\n",
      "\u001b[32m[I 2021-06-18 19:01:57,193]\u001b[0m Trial 9 finished with value: 244.50777297643998 and parameters: {'params[0]': -6.909506547910431, 'params[1]': 6.327983178604441}. Best is trial 6 with value: 242.69378992944647.\u001b[0m\n",
      "\u001b[32m[I 2021-06-18 19:01:57,203]\u001b[0m Trial 10 finished with value: 244.18849700161329 and parameters: {'params[0]': -1.6244146897524605, 'params[1]': -1.939188373416455}. Best is trial 6 with value: 242.69378992944647.\u001b[0m\n",
      "\u001b[32m[I 2021-06-18 19:01:57,213]\u001b[0m Trial 11 finished with value: 245.90929009138637 and parameters: {'params[0]': -1.236425724029479, 'params[1]': -1.5957771394864082}. Best is trial 6 with value: 242.69378992944647.\u001b[0m\n",
      "\u001b[32m[I 2021-06-18 19:01:57,223]\u001b[0m Trial 12 finished with value: 244.8431941134464 and parameters: {'params[0]': -0.6744273315158616, 'params[1]': -1.2321361103115713}. Best is trial 6 with value: 242.69378992944647.\u001b[0m\n",
      "\u001b[32m[I 2021-06-18 19:01:57,243]\u001b[0m Trial 13 finished with value: 244.537169540817 and parameters: {'params[0]': -2.722628315195071, 'params[1]': -5.358035770406554}. Best is trial 6 with value: 242.69378992944647.\u001b[0m\n",
      "\u001b[32m[I 2021-06-18 19:01:57,253]\u001b[0m Trial 14 finished with value: 255.4730103508146 and parameters: {'params[0]': 2.238090762985477, 'params[1]': 9.893318223640023}. Best is trial 6 with value: 242.69378992944647.\u001b[0m\n",
      "\u001b[32m[I 2021-06-18 19:01:57,263]\u001b[0m Trial 15 finished with value: 244.52187993667118 and parameters: {'params[0]': -3.1504745356037027, 'params[1]': -3.171657715307375}. Best is trial 6 with value: 242.69378992944647.\u001b[0m\n",
      "\u001b[32m[I 2021-06-18 19:01:57,283]\u001b[0m Trial 16 finished with value: 181095.97340979305 and parameters: {'params[0]': 9.642019142703303, 'params[1]': 0.8349756045473024}. Best is trial 6 with value: 242.69378992944647.\u001b[0m\n",
      "\u001b[32m[I 2021-06-18 19:01:57,293]\u001b[0m Trial 17 finished with value: 235.32338813247557 and parameters: {'params[0]': 1.0898985237071581, 'params[1]': -7.676680897704869}. Best is trial 17 with value: 235.32338813247557.\u001b[0m\n",
      "\u001b[32m[I 2021-06-18 19:01:57,313]\u001b[0m Trial 18 finished with value: 242.87472906400836 and parameters: {'params[0]': 0.8580265799523947, 'params[1]': -7.986729007978023}. Best is trial 17 with value: 235.32338813247557.\u001b[0m\n",
      "\u001b[32m[I 2021-06-18 19:01:57,323]\u001b[0m Trial 19 finished with value: 18754.531580293507 and parameters: {'params[0]': 7.3361423370512835, 'params[1]': -7.579397178042106}. Best is trial 17 with value: 235.32338813247557.\u001b[0m\n",
      "\u001b[32m[I 2021-06-18 19:01:57,343]\u001b[0m Trial 20 finished with value: 260.9674943643177 and parameters: {'params[0]': 2.1606205989545737, 'params[1]': -9.862805206441445}. Best is trial 17 with value: 235.32338813247557.\u001b[0m\n",
      "\u001b[32m[I 2021-06-18 19:01:57,363]\u001b[0m Trial 21 finished with value: 235.66703642013164 and parameters: {'params[0]': 0.8635404523825304, 'params[1]': -7.582841809502732}. Best is trial 17 with value: 235.32338813247557.\u001b[0m\n",
      "\u001b[32m[I 2021-06-18 19:01:57,373]\u001b[0m Trial 22 finished with value: 839.560467672848 and parameters: {'params[0]': 4.226600157541843, 'params[1]': -6.831161607613961}. Best is trial 17 with value: 235.32338813247557.\u001b[0m\n",
      "\u001b[32m[I 2021-06-18 19:01:57,393]\u001b[0m Trial 23 finished with value: 243.5880294847727 and parameters: {'params[0]': 1.1922399259268264, 'params[1]': -4.233152836510904}. Best is trial 17 with value: 235.32338813247557.\u001b[0m\n",
      "\u001b[32m[I 2021-06-18 19:01:57,413]\u001b[0m Trial 24 finished with value: 3586.016106645514 and parameters: {'params[0]': 5.679874995428266, 'params[1]': -8.612529018729173}. Best is trial 17 with value: 235.32338813247557.\u001b[0m\n",
      "\u001b[32m[I 2021-06-18 19:01:57,423]\u001b[0m Trial 25 finished with value: 245.22662793679368 and parameters: {'params[0]': -0.4199563965726136, 'params[1]': -6.809758741408685}. Best is trial 17 with value: 235.32338813247557.\u001b[0m\n",
      "\u001b[32m[I 2021-06-18 19:01:57,443]\u001b[0m Trial 26 finished with value: 244.51073242840556 and parameters: {'params[0]': -2.938876761973898, 'params[1]': -9.692959933743982}. Best is trial 17 with value: 235.32338813247557.\u001b[0m\n",
      "\u001b[32m[I 2021-06-18 19:01:57,463]\u001b[0m Trial 27 finished with value: 262.2714031053993 and parameters: {'params[0]': 2.407119739426621, 'params[1]': -3.8757327749503583}. Best is trial 17 with value: 235.32338813247557.\u001b[0m\n",
      "\u001b[32m[I 2021-06-18 19:01:57,483]\u001b[0m Trial 28 finished with value: 244.54617234440528 and parameters: {'params[0]': 0.1301452359754043, 'params[1]': -5.980740368524581}. Best is trial 17 with value: 235.32338813247557.\u001b[0m\n",
      "\u001b[32m[I 2021-06-18 19:01:57,503]\u001b[0m Trial 29 finished with value: 244.50992018836047 and parameters: {'params[0]': -4.704520064338462, 'params[1]': -4.898699073278003}. Best is trial 17 with value: 235.32338813247557.\u001b[0m\n",
      "\u001b[32m[I 2021-06-18 19:01:57,533]\u001b[0m Trial 30 finished with value: 244.33719421000106 and parameters: {'params[0]': -1.7244277565023332, 'params[1]': -7.943417540517472}. Best is trial 17 with value: 235.32338813247557.\u001b[0m\n",
      "\u001b[32m[I 2021-06-18 19:01:57,543]\u001b[0m Trial 31 finished with value: 235.8707443718564 and parameters: {'params[0]': 1.507364827528584, 'params[1]': -7.798675206943598}. Best is trial 17 with value: 235.32338813247557.\u001b[0m\n",
      "\u001b[32m[I 2021-06-18 19:01:57,573]\u001b[0m Trial 32 finished with value: 259.68085676582945 and parameters: {'params[0]': 1.8622757766093878, 'params[1]': -6.602046506994381}. Best is trial 17 with value: 235.32338813247557.\u001b[0m\n",
      "\u001b[32m[I 2021-06-18 19:01:57,593]\u001b[0m Trial 33 finished with value: 1471.1837753979876 and parameters: {'params[0]': 4.762531591338847, 'params[1]': -8.316420185313069}. Best is trial 17 with value: 235.32338813247557.\u001b[0m\n",
      "\u001b[32m[I 2021-06-18 19:01:57,603]\u001b[0m Trial 34 finished with value: 298.0612039303389 and parameters: {'params[0]': 2.856689070226992, 'params[1]': -5.305324215431767}. Best is trial 17 with value: 235.32338813247557.\u001b[0m\n",
      "\u001b[32m[I 2021-06-18 19:01:57,623]\u001b[0m Trial 35 finished with value: 4884.380189924537 and parameters: {'params[0]': 5.975950181807272, 'params[1]': -9.802347294917489}. Best is trial 17 with value: 235.32338813247557.\u001b[0m\n",
      "\u001b[32m[I 2021-06-18 19:01:57,643]\u001b[0m Trial 36 finished with value: 233.0387360121334 and parameters: {'params[0]': 0.25218001238265253, 'params[1]': -2.7048311139539436}. Best is trial 36 with value: 233.0387360121334.\u001b[0m\n"
     ]
    },
    {
     "name": "stderr",
     "output_type": "stream",
     "text": [
      "\u001b[32m[I 2021-06-18 19:01:57,663]\u001b[0m Trial 37 finished with value: 246.228754782358 and parameters: {'params[0]': -0.15994790033059636, 'params[1]': 0.8045733439933209}. Best is trial 36 with value: 233.0387360121334.\u001b[0m\n",
      "\u001b[32m[I 2021-06-18 19:01:57,683]\u001b[0m Trial 38 finished with value: 365.81651570974554 and parameters: {'params[0]': 3.782305391977488, 'params[1]': -2.707102205006406}. Best is trial 36 with value: 233.0387360121334.\u001b[0m\n",
      "\u001b[32m[I 2021-06-18 19:01:57,713]\u001b[0m Trial 39 finished with value: 244.65128795992345 and parameters: {'params[0]': -4.142335648140235, 'params[1]': 2.704454428256837}. Best is trial 36 with value: 233.0387360121334.\u001b[0m\n",
      "\u001b[32m[I 2021-06-18 19:01:57,723]\u001b[0m Trial 40 finished with value: 243.64177743785137 and parameters: {'params[0]': 0.3394140749742114, 'params[1]': -3.7175790017423354}. Best is trial 36 with value: 233.0387360121334.\u001b[0m\n",
      "\u001b[32m[I 2021-06-18 19:01:57,743]\u001b[0m Trial 41 finished with value: 232.06255713802952 and parameters: {'params[0]': 1.2799921076065641, 'params[1]': -7.37505140047479}. Best is trial 41 with value: 232.06255713802952.\u001b[0m\n",
      "\u001b[32m[I 2021-06-18 19:01:57,753]\u001b[0m Trial 42 finished with value: 233.37392747624492 and parameters: {'params[0]': 1.454916130291969, 'params[1]': -7.289313651415949}. Best is trial 41 with value: 232.06255713802952.\u001b[0m\n",
      "\u001b[32m[I 2021-06-18 19:01:57,783]\u001b[0m Trial 43 finished with value: 296.4035096925946 and parameters: {'params[0]': 2.903839184981213, 'params[1]': -6.218500557189395}. Best is trial 41 with value: 232.06255713802952.\u001b[0m\n",
      "\u001b[32m[I 2021-06-18 19:01:57,793]\u001b[0m Trial 44 finished with value: 244.02406900833995 and parameters: {'params[0]': -1.6298797002370744, 'params[1]': -7.1210424363478335}. Best is trial 41 with value: 232.06255713802952.\u001b[0m\n",
      "\u001b[32m[I 2021-06-18 19:01:57,813]\u001b[0m Trial 45 finished with value: 243.6931342556007 and parameters: {'params[0]': 0.782118126599268, 'params[1]': -0.6566510166505889}. Best is trial 41 with value: 232.06255713802952.\u001b[0m\n",
      "\u001b[32m[I 2021-06-18 19:01:57,833]\u001b[0m Trial 46 finished with value: 244.19439069983872 and parameters: {'params[0]': -0.5360138699455967, 'params[1]': -8.72948442301127}. Best is trial 41 with value: 232.06255713802952.\u001b[0m\n",
      "\u001b[32m[I 2021-06-18 19:01:57,843]\u001b[0m Trial 47 finished with value: 361.27159218055664 and parameters: {'params[0]': 3.16984666325184, 'params[1]': -5.899020111508573}. Best is trial 41 with value: 232.06255713802952.\u001b[0m\n",
      "\u001b[32m[I 2021-06-18 19:01:57,863]\u001b[0m Trial 48 finished with value: 243.58672675539358 and parameters: {'params[0]': -2.3661693964012467, 'params[1]': -2.661933350965325}. Best is trial 41 with value: 232.06255713802952.\u001b[0m\n",
      "\u001b[32m[I 2021-06-18 19:01:57,893]\u001b[0m Trial 49 finished with value: 244.63632906187866 and parameters: {'params[0]': -1.141012766506423, 'params[1]': -5.399583075193194}. Best is trial 41 with value: 232.06255713802952.\u001b[0m\n",
      "\u001b[32m[I 2021-06-18 19:01:57,913]\u001b[0m Trial 50 finished with value: 250.29141394617307 and parameters: {'params[0]': 1.50598628035116, 'params[1]': -4.631777303834737}. Best is trial 41 with value: 232.06255713802952.\u001b[0m\n",
      "\u001b[32m[I 2021-06-18 19:01:57,933]\u001b[0m Trial 51 finished with value: 229.42860531405373 and parameters: {'params[0]': 1.4121470759366612, 'params[1]': -7.4108885191194505}. Best is trial 51 with value: 229.42860531405373.\u001b[0m\n",
      "\u001b[32m[I 2021-06-18 19:01:57,953]\u001b[0m Trial 52 finished with value: 244.5095417618544 and parameters: {'params[0]': -9.808253052366027, 'params[1]': -9.18649973947837}. Best is trial 51 with value: 229.42860531405373.\u001b[0m\n",
      "\u001b[32m[I 2021-06-18 19:01:57,973]\u001b[0m Trial 53 finished with value: 246.83157296743332 and parameters: {'params[0]': 0.4001118682582603, 'params[1]': -6.756733533797542}. Best is trial 51 with value: 229.42860531405373.\u001b[0m\n",
      "\u001b[32m[I 2021-06-18 19:01:57,993]\u001b[0m Trial 54 finished with value: 894.6456895394087 and parameters: {'params[0]': 4.283942080991725, 'params[1]': -7.3899686220918355}. Best is trial 51 with value: 229.42860531405373.\u001b[0m\n",
      "\u001b[32m[I 2021-06-18 19:01:58,013]\u001b[0m Trial 55 finished with value: 246.43308201206452 and parameters: {'params[0]': 1.8718739437829774, 'params[1]': -9.496807038189667}. Best is trial 51 with value: 229.42860531405373.\u001b[0m\n",
      "\u001b[32m[I 2021-06-18 19:01:58,033]\u001b[0m Trial 56 finished with value: 244.8069168219386 and parameters: {'params[0]': 0.7947525965356217, 'params[1]': -8.307691555379893}. Best is trial 51 with value: 229.42860531405373.\u001b[0m\n",
      "\u001b[32m[I 2021-06-18 19:01:58,053]\u001b[0m Trial 57 finished with value: 242.68875892334952 and parameters: {'params[0]': -0.840066986072763, 'params[1]': -7.396966534145918}. Best is trial 51 with value: 229.42860531405373.\u001b[0m\n",
      "\u001b[32m[I 2021-06-18 19:01:58,073]\u001b[0m Trial 58 finished with value: 280.91865059939545 and parameters: {'params[0]': 2.741680634316831, 'params[1]': -5.662094592665037}. Best is trial 51 with value: 229.42860531405373.\u001b[0m\n",
      "\u001b[32m[I 2021-06-18 19:01:58,093]\u001b[0m Trial 59 finished with value: 503.9321747757964 and parameters: {'params[0]': 3.6255242721424272, 'params[1]': -4.510246297752774}. Best is trial 51 with value: 229.42860531405373.\u001b[0m\n",
      "\u001b[32m[I 2021-06-18 19:01:58,113]\u001b[0m Trial 60 finished with value: 245.8240362120095 and parameters: {'params[0]': -2.245262838873532, 'params[1]': 2.4456829942491205}. Best is trial 51 with value: 229.42860531405373.\u001b[0m\n",
      "\u001b[32m[I 2021-06-18 19:01:58,123]\u001b[0m Trial 61 finished with value: 242.55253837969738 and parameters: {'params[0]': 1.35827705653374, 'params[1]': -7.97896055768351}. Best is trial 51 with value: 229.42860531405373.\u001b[0m\n",
      "\u001b[32m[I 2021-06-18 19:01:58,153]\u001b[0m Trial 62 finished with value: 243.77258516171364 and parameters: {'params[0]': 1.5324463594660214, 'params[1]': -8.986640879984105}. Best is trial 51 with value: 229.42860531405373.\u001b[0m\n",
      "\u001b[32m[I 2021-06-18 19:01:58,173]\u001b[0m Trial 63 finished with value: 240.68724976937983 and parameters: {'params[0]': -0.0871731875643782, 'params[1]': -7.4732955310684135}. Best is trial 51 with value: 229.42860531405373.\u001b[0m\n",
      "\u001b[32m[I 2021-06-18 19:01:58,193]\u001b[0m Trial 64 finished with value: 253.74482411900328 and parameters: {'params[0]': 2.0898661643261196, 'params[1]': -9.995674667205016}. Best is trial 51 with value: 229.42860531405373.\u001b[0m\n",
      "\u001b[32m[I 2021-06-18 19:01:58,213]\u001b[0m Trial 65 finished with value: 250.38008874215905 and parameters: {'params[0]': 1.0476464494801425, 'params[1]': -6.385622325303606}. Best is trial 51 with value: 229.42860531405373.\u001b[0m\n",
      "\u001b[32m[I 2021-06-18 19:01:58,233]\u001b[0m Trial 66 finished with value: 244.9037201049467 and parameters: {'params[0]': 0.29719797377166324, 'params[1]': 8.52310238745549}. Best is trial 51 with value: 229.42860531405373.\u001b[0m\n",
      "\u001b[32m[I 2021-06-18 19:01:58,263]\u001b[0m Trial 67 finished with value: 265.3828846694298 and parameters: {'params[0]': 2.34830035662792, 'params[1]': -8.638524556297028}. Best is trial 51 with value: 229.42860531405373.\u001b[0m\n",
      "\u001b[32m[I 2021-06-18 19:01:58,283]\u001b[0m Trial 68 finished with value: 1285.693736913886 and parameters: {'params[0]': 4.667339625004738, 'params[1]': -7.908075766664032}. Best is trial 51 with value: 229.42860531405373.\u001b[0m\n",
      "\u001b[32m[I 2021-06-18 19:01:58,293]\u001b[0m Trial 69 finished with value: 244.593028553729 and parameters: {'params[0]': -0.6813913362964288, 'params[1]': -5.0250106973187005}. Best is trial 51 with value: 229.42860531405373.\u001b[0m\n",
      "\u001b[32m[I 2021-06-18 19:01:58,313]\u001b[0m Trial 70 finished with value: 416.0509315956856 and parameters: {'params[0]': 3.48556159235757, 'params[1]': -6.25797427506434}. Best is trial 51 with value: 229.42860531405373.\u001b[0m\n",
      "\u001b[32m[I 2021-06-18 19:01:58,333]\u001b[0m Trial 71 finished with value: 240.79978755275732 and parameters: {'params[0]': -0.12884747763056525, 'params[1]': -7.399251927602128}. Best is trial 51 with value: 229.42860531405373.\u001b[0m\n",
      "\u001b[32m[I 2021-06-18 19:01:58,343]\u001b[0m Trial 72 finished with value: 246.22294882705518 and parameters: {'params[0]': 0.6823707238456725, 'params[1]': -6.832627976669686}. Best is trial 51 with value: 229.42860531405373.\u001b[0m\n",
      "\u001b[32m[I 2021-06-18 19:01:58,373]\u001b[0m Trial 73 finished with value: 239.69689355142097 and parameters: {'params[0]': 1.395748314559567, 'params[1]': -7.888890530427553}. Best is trial 51 with value: 229.42860531405373.\u001b[0m\n"
     ]
    },
    {
     "name": "stderr",
     "output_type": "stream",
     "text": [
      "\u001b[32m[I 2021-06-18 19:01:58,393]\u001b[0m Trial 74 finished with value: 253.360727536559 and parameters: {'params[0]': 1.5365818519515808, 'params[1]': -8.484756655618398}. Best is trial 51 with value: 229.42860531405373.\u001b[0m\n",
      "\u001b[32m[I 2021-06-18 19:01:58,423]\u001b[0m Trial 75 finished with value: 244.48956997029467 and parameters: {'params[0]': 2.3657786956588365, 'params[1]': -9.404993928363963}. Best is trial 51 with value: 229.42860531405373.\u001b[0m\n",
      "\u001b[32m[I 2021-06-18 19:01:58,443]\u001b[0m Trial 76 finished with value: 243.85181789060715 and parameters: {'params[0]': -1.3138638471152693, 'params[1]': -7.7558096963662635}. Best is trial 51 with value: 229.42860531405373.\u001b[0m\n",
      "\u001b[32m[I 2021-06-18 19:01:58,473]\u001b[0m Trial 77 finished with value: 241.64814651807794 and parameters: {'params[0]': 1.1572812014044525, 'params[1]': -3.952731136362177}. Best is trial 51 with value: 229.42860531405373.\u001b[0m\n",
      "\u001b[32m[I 2021-06-18 19:01:58,493]\u001b[0m Trial 78 finished with value: 244.49150465504798 and parameters: {'params[0]': -3.587059441184029, 'params[1]': -6.966091204897202}. Best is trial 51 with value: 229.42860531405373.\u001b[0m\n",
      "\u001b[32m[I 2021-06-18 19:01:58,525]\u001b[0m Trial 79 finished with value: 249.70034348182963 and parameters: {'params[0]': 1.839060162816001, 'params[1]': -5.554930708206327}. Best is trial 51 with value: 229.42860531405373.\u001b[0m\n",
      "\u001b[32m[I 2021-06-18 19:01:58,545]\u001b[0m Trial 80 finished with value: 303.4952764223221 and parameters: {'params[0]': 2.9317701171612605, 'params[1]': -8.242064336566399}. Best is trial 51 with value: 229.42860531405373.\u001b[0m\n",
      "\u001b[32m[I 2021-06-18 19:01:58,565]\u001b[0m Trial 81 finished with value: 244.12692551573687 and parameters: {'params[0]': -0.0759679304523615, 'params[1]': -8.954675321013656}. Best is trial 51 with value: 229.42860531405373.\u001b[0m\n",
      "\u001b[32m[I 2021-06-18 19:01:58,585]\u001b[0m Trial 82 finished with value: 241.50538745058483 and parameters: {'params[0]': -0.28229259064610257, 'params[1]': -7.5317264640951285}. Best is trial 51 with value: 229.42860531405373.\u001b[0m\n",
      "\u001b[32m[I 2021-06-18 19:01:58,605]\u001b[0m Trial 83 finished with value: 244.16578573037 and parameters: {'params[0]': 0.4245063531365203, 'params[1]': 5.073068891815094}. Best is trial 51 with value: 229.42860531405373.\u001b[0m\n",
      "\u001b[32m[I 2021-06-18 19:01:58,615]\u001b[0m Trial 84 finished with value: 244.73884107912122 and parameters: {'params[0]': -1.9519903327686072, 'params[1]': -6.298042081211014}. Best is trial 51 with value: 229.42860531405373.\u001b[0m\n",
      "\u001b[32m[I 2021-06-18 19:01:58,635]\u001b[0m Trial 85 finished with value: 239.73571069343518 and parameters: {'params[0]': 0.93863992871907, 'params[1]': -7.1346329037278124}. Best is trial 51 with value: 229.42860531405373.\u001b[0m\n",
      "\u001b[32m[I 2021-06-18 19:01:58,645]\u001b[0m Trial 86 finished with value: 245.2465299306474 and parameters: {'params[0]': 0.9729000101829488, 'params[1]': -9.990443511581397}. Best is trial 51 with value: 229.42860531405373.\u001b[0m\n",
      "\u001b[32m[I 2021-06-18 19:01:58,665]\u001b[0m Trial 87 finished with value: 244.55180615104493 and parameters: {'params[0]': -1.150134829484542, 'params[1]': -6.899978128761294}. Best is trial 51 with value: 229.42860531405373.\u001b[0m\n",
      "\u001b[32m[I 2021-06-18 19:01:58,685]\u001b[0m Trial 88 finished with value: 262.96004878934775 and parameters: {'params[0]': 2.5042699168071105, 'params[1]': -8.062135955351355}. Best is trial 51 with value: 229.42860531405373.\u001b[0m\n",
      "\u001b[32m[I 2021-06-18 19:01:58,705]\u001b[0m Trial 89 finished with value: 248.20467631519173 and parameters: {'params[0]': 1.6696904929009175, 'params[1]': -5.80666934775329}. Best is trial 51 with value: 229.42860531405373.\u001b[0m\n",
      "\u001b[32m[I 2021-06-18 19:01:58,715]\u001b[0m Trial 90 finished with value: 245.86848057321075 and parameters: {'params[0]': 0.6481427957239431, 'params[1]': -3.2350420109590523}. Best is trial 51 with value: 229.42860531405373.\u001b[0m\n",
      "\u001b[32m[I 2021-06-18 19:01:58,725]\u001b[0m Trial 91 finished with value: 240.27408186131422 and parameters: {'params[0]': 0.057197658688567854, 'params[1]': -7.3146076275442775}. Best is trial 51 with value: 229.42860531405373.\u001b[0m\n",
      "\u001b[32m[I 2021-06-18 19:01:58,745]\u001b[0m Trial 92 finished with value: 252.8019110809755 and parameters: {'params[0]': 1.232298567276494, 'params[1]': -6.51824361890913}. Best is trial 51 with value: 229.42860531405373.\u001b[0m\n",
      "\u001b[32m[I 2021-06-18 19:01:58,765]\u001b[0m Trial 93 finished with value: 243.59339197128944 and parameters: {'params[0]': -0.7416080038052129, 'params[1]': -7.071655798785892}. Best is trial 51 with value: 229.42860531405373.\u001b[0m\n",
      "\u001b[32m[I 2021-06-18 19:01:58,785]\u001b[0m Trial 94 finished with value: 244.12985709868846 and parameters: {'params[0]': 2.089067176985837, 'params[1]': -9.261689856179771}. Best is trial 51 with value: 229.42860531405373.\u001b[0m\n",
      "\u001b[32m[I 2021-06-18 19:01:58,805]\u001b[0m Trial 95 finished with value: 243.990456126034 and parameters: {'params[0]': 0.2626241298137758, 'params[1]': -8.585803143450203}. Best is trial 51 with value: 229.42860531405373.\u001b[0m\n",
      "\u001b[32m[I 2021-06-18 19:01:58,825]\u001b[0m Trial 96 finished with value: 662.6730518404196 and parameters: {'params[0]': 3.9818311646716045, 'params[1]': -5.199942735934189}. Best is trial 51 with value: 229.42860531405373.\u001b[0m\n",
      "\u001b[32m[I 2021-06-18 19:01:58,835]\u001b[0m Trial 97 finished with value: 300.7807286076098 and parameters: {'params[0]': 2.9578226267866947, 'params[1]': -7.9171514752567775}. Best is trial 51 with value: 229.42860531405373.\u001b[0m\n",
      "\u001b[32m[I 2021-06-18 19:01:58,855]\u001b[0m Trial 98 finished with value: 239.91222684853955 and parameters: {'params[0]': 1.106728374401348, 'params[1]': 0.32498636156184}. Best is trial 51 with value: 229.42860531405373.\u001b[0m\n",
      "\u001b[32m[I 2021-06-18 19:01:58,865]\u001b[0m Trial 99 finished with value: 385.8115067168925 and parameters: {'params[0]': 3.3165988341250525, 'params[1]': 0.4919655631552998}. Best is trial 51 with value: 229.42860531405373.\u001b[0m\n",
      "\u001b[32m[I 2021-06-18 19:01:58,885]\u001b[0m Trial 100 finished with value: 300.3198977742548 and parameters: {'params[0]': 1.8198536223781772, 'params[1]': 2.1822766763331414}. Best is trial 51 with value: 229.42860531405373.\u001b[0m\n",
      "\u001b[32m[I 2021-06-18 19:01:58,905]\u001b[0m Trial 101 finished with value: 248.6802958550734 and parameters: {'params[0]': 0.9912364432714861, 'params[1]': -1.2826712038346444}. Best is trial 51 with value: 229.42860531405373.\u001b[0m\n",
      "\u001b[32m[I 2021-06-18 19:01:58,925]\u001b[0m Trial 102 finished with value: 239.10005582131475 and parameters: {'params[0]': 0.6008383018781033, 'params[1]': 1.7641458885047978}. Best is trial 51 with value: 229.42860531405373.\u001b[0m\n",
      "\u001b[32m[I 2021-06-18 19:01:58,955]\u001b[0m Trial 103 finished with value: 245.55703817777126 and parameters: {'params[0]': 0.6029610229555729, 'params[1]': 1.9045381908856742}. Best is trial 51 with value: 229.42860531405373.\u001b[0m\n",
      "\u001b[32m[I 2021-06-18 19:01:58,965]\u001b[0m Trial 104 finished with value: 249.1181714044078 and parameters: {'params[0]': 1.2679806140173568, 'params[1]': -0.5259491600072077}. Best is trial 51 with value: 229.42860531405373.\u001b[0m\n",
      "\u001b[32m[I 2021-06-18 19:01:58,985]\u001b[0m Trial 105 finished with value: 241.753347839786 and parameters: {'params[0]': 2.5600290960504375, 'params[1]': 1.491928425992096}. Best is trial 51 with value: 229.42860531405373.\u001b[0m\n",
      "\u001b[32m[I 2021-06-18 19:01:59,005]\u001b[0m Trial 106 finished with value: 243.23859900536442 and parameters: {'params[0]': -0.4574938235916902, 'params[1]': 0.1733907967660684}. Best is trial 51 with value: 229.42860531405373.\u001b[0m\n",
      "\u001b[32m[I 2021-06-18 19:01:59,025]\u001b[0m Trial 107 finished with value: 275.6863746841705 and parameters: {'params[0]': 2.143391222884817, 'params[1]': 0.8783781372712968}. Best is trial 51 with value: 229.42860531405373.\u001b[0m\n",
      "\u001b[32m[I 2021-06-18 19:01:59,045]\u001b[0m Trial 108 finished with value: 240.80636186240804 and parameters: {'params[0]': 1.4354933030125858, 'params[1]': 3.3703023302975774}. Best is trial 51 with value: 229.42860531405373.\u001b[0m\n",
      "\u001b[32m[I 2021-06-18 19:01:59,065]\u001b[0m Trial 109 finished with value: 243.15868974525307 and parameters: {'params[0]': 0.7047291738236002, 'params[1]': 3.2264577020543017}. Best is trial 51 with value: 229.42860531405373.\u001b[0m\n",
      "\u001b[32m[I 2021-06-18 19:01:59,085]\u001b[0m Trial 110 finished with value: 244.6432235191444 and parameters: {'params[0]': 0.1977573001622741, 'params[1]': -6.005776797778809}. Best is trial 51 with value: 229.42860531405373.\u001b[0m\n"
     ]
    },
    {
     "name": "stderr",
     "output_type": "stream",
     "text": [
      "\u001b[32m[I 2021-06-18 19:01:59,105]\u001b[0m Trial 111 finished with value: 237.48462764852627 and parameters: {'params[0]': -0.03474427450215667, 'params[1]': -2.11815794569714}. Best is trial 51 with value: 229.42860531405373.\u001b[0m\n",
      "\u001b[32m[I 2021-06-18 19:01:59,115]\u001b[0m Trial 112 finished with value: 239.84722954591246 and parameters: {'params[0]': 1.7227038270245858, 'params[1]': -0.748324325226071}. Best is trial 51 with value: 229.42860531405373.\u001b[0m\n",
      "\u001b[32m[I 2021-06-18 19:01:59,135]\u001b[0m Trial 113 finished with value: 251.28490412726566 and parameters: {'params[0]': 1.7465191498487371, 'params[1]': -1.841920494173198}. Best is trial 51 with value: 229.42860531405373.\u001b[0m\n",
      "\u001b[32m[I 2021-06-18 19:01:59,155]\u001b[0m Trial 114 finished with value: 240.86537058185752 and parameters: {'params[0]': -1.1295339563011901, 'params[1]': -2.2890064257856824}. Best is trial 51 with value: 229.42860531405373.\u001b[0m\n",
      "\u001b[32m[I 2021-06-18 19:01:59,165]\u001b[0m Trial 115 finished with value: 247.9076221259357 and parameters: {'params[0]': -0.3513067798624312, 'params[1]': -1.5912147491913564}. Best is trial 51 with value: 229.42860531405373.\u001b[0m\n",
      "\u001b[32m[I 2021-06-18 19:01:59,185]\u001b[0m Trial 116 finished with value: 248.86015854051192 and parameters: {'params[0]': 0.800380178699253, 'params[1]': -0.4621467279230105}. Best is trial 51 with value: 229.42860531405373.\u001b[0m\n",
      "\u001b[32m[I 2021-06-18 19:01:59,205]\u001b[0m Trial 117 finished with value: 239.0740587719728 and parameters: {'params[0]': 2.0463487353318106, 'params[1]': -1.0092824948141321}. Best is trial 51 with value: 229.42860531405373.\u001b[0m\n",
      "\u001b[32m[I 2021-06-18 19:01:59,225]\u001b[0m Trial 118 finished with value: 246.05336983480578 and parameters: {'params[0]': 2.2665856341703585, 'params[1]': -1.1412577694345771}. Best is trial 51 with value: 229.42860531405373.\u001b[0m\n",
      "\u001b[32m[I 2021-06-18 19:01:59,235]\u001b[0m Trial 119 finished with value: 239.72497228855065 and parameters: {'params[0]': 0.4021587799027314, 'params[1]': -7.661989543670014}. Best is trial 51 with value: 229.42860531405373.\u001b[0m\n",
      "\u001b[32m[I 2021-06-18 19:01:59,255]\u001b[0m Trial 120 finished with value: 227.43485697337945 and parameters: {'params[0]': 0.3180956612489503, 'params[1]': -2.4310213603169606}. Best is trial 120 with value: 227.43485697337945.\u001b[0m\n",
      "\u001b[32m[I 2021-06-18 19:01:59,265]\u001b[0m Trial 121 finished with value: 247.67870348643075 and parameters: {'params[0]': 0.225047789836422, 'params[1]': -0.2570776735138094}. Best is trial 120 with value: 227.43485697337945.\u001b[0m\n",
      "\u001b[32m[I 2021-06-18 19:01:59,285]\u001b[0m Trial 122 finished with value: 244.78266442338486 and parameters: {'params[0]': -0.7607365535162254, 'params[1]': -3.463466209693903}. Best is trial 120 with value: 227.43485697337945.\u001b[0m\n",
      "\u001b[32m[I 2021-06-18 19:01:59,305]\u001b[0m Trial 123 finished with value: 226.13709059936795 and parameters: {'params[0]': 1.3710238004288466, 'params[1]': -2.061350304551939}. Best is trial 123 with value: 226.13709059936795.\u001b[0m\n",
      "\u001b[32m[I 2021-06-18 19:01:59,325]\u001b[0m Trial 124 finished with value: 219.71565190634863 and parameters: {'params[0]': 1.5154085904745143, 'params[1]': -2.849419216478723}. Best is trial 124 with value: 219.71565190634863.\u001b[0m\n",
      "\u001b[32m[I 2021-06-18 19:01:59,335]\u001b[0m Trial 125 finished with value: 83.98930491668621 and parameters: {'params[0]': 2.7211356362616903, 'params[1]': -2.586123841964775}. Best is trial 125 with value: 83.98930491668621.\u001b[0m\n",
      "\u001b[32m[I 2021-06-18 19:01:59,355]\u001b[0m Trial 126 finished with value: 165.06186510331872 and parameters: {'params[0]': 2.7699911512963924, 'params[1]': -2.7658766572594318}. Best is trial 125 with value: 83.98930491668621.\u001b[0m\n",
      "\u001b[32m[I 2021-06-18 19:01:59,375]\u001b[0m Trial 127 finished with value: 85.17561396041158 and parameters: {'params[0]': 3.133806173227342, 'params[1]': -2.39531411455787}. Best is trial 125 with value: 83.98930491668621.\u001b[0m\n",
      "\u001b[32m[I 2021-06-18 19:01:59,395]\u001b[0m Trial 128 finished with value: 412.40024722962363 and parameters: {'params[0]': 3.342371090882689, 'params[1]': -3.2022871715229324}. Best is trial 125 with value: 83.98930491668621.\u001b[0m\n",
      "\u001b[32m[I 2021-06-18 19:01:59,415]\u001b[0m Trial 129 finished with value: 101.05878941670795 and parameters: {'params[0]': 2.658404556198312, 'params[1]': -2.6093580129181477}. Best is trial 125 with value: 83.98930491668621.\u001b[0m\n",
      "\u001b[32m[I 2021-06-18 19:01:59,435]\u001b[0m Trial 130 finished with value: 1770.560361294573 and parameters: {'params[0]': 5.109855947580029, 'params[1]': -2.623316805118934}. Best is trial 125 with value: 83.98930491668621.\u001b[0m\n",
      "\u001b[32m[I 2021-06-18 19:01:59,455]\u001b[0m Trial 131 finished with value: 81.96561289690509 and parameters: {'params[0]': 2.76189481996498, 'params[1]': -2.593335673255153}. Best is trial 131 with value: 81.96561289690509.\u001b[0m\n",
      "\u001b[32m[I 2021-06-18 19:01:59,475]\u001b[0m Trial 132 finished with value: 782.1491364898146 and parameters: {'params[0]': 4.26031014671308, 'params[1]': -2.868838352410037}. Best is trial 131 with value: 81.96561289690509.\u001b[0m\n",
      "\u001b[32m[I 2021-06-18 19:01:59,485]\u001b[0m Trial 133 finished with value: 262.0931917457616 and parameters: {'params[0]': 2.73109385252254, 'params[1]': -4.1442465483694075}. Best is trial 131 with value: 81.96561289690509.\u001b[0m\n",
      "\u001b[32m[I 2021-06-18 19:01:59,505]\u001b[0m Trial 134 finished with value: 61.517670972735246 and parameters: {'params[0]': 3.1243374311505865, 'params[1]': -2.431567162511039}. Best is trial 134 with value: 61.517670972735246.\u001b[0m\n",
      "\u001b[32m[I 2021-06-18 19:01:59,525]\u001b[0m Trial 135 finished with value: 193.03232226282591 and parameters: {'params[0]': 3.2372678470035807, 'params[1]': -2.24182427062198}. Best is trial 134 with value: 61.517670972735246.\u001b[0m\n",
      "\u001b[32m[I 2021-06-18 19:01:59,545]\u001b[0m Trial 136 finished with value: 364.1762386718851 and parameters: {'params[0]': 3.8179869003434215, 'params[1]': -2.354058165863563}. Best is trial 134 with value: 61.517670972735246.\u001b[0m\n",
      "\u001b[32m[I 2021-06-18 19:01:59,555]\u001b[0m Trial 137 finished with value: 1227.4745449276268 and parameters: {'params[0]': 4.664764075680464, 'params[1]': -2.899999167109414}. Best is trial 134 with value: 61.517670972735246.\u001b[0m\n",
      "\u001b[32m[I 2021-06-18 19:01:59,575]\u001b[0m Trial 138 finished with value: 359.8000030875639 and parameters: {'params[0]': 3.223785930664645, 'params[1]': -1.8555654281601766}. Best is trial 134 with value: 61.517670972735246.\u001b[0m\n",
      "\u001b[32m[I 2021-06-18 19:01:59,595]\u001b[0m Trial 139 finished with value: 244.67588735698828 and parameters: {'params[0]': 3.6966648081101194, 'params[1]': -2.513632995827471}. Best is trial 134 with value: 61.517670972735246.\u001b[0m\n",
      "\u001b[32m[I 2021-06-18 19:01:59,615]\u001b[0m Trial 140 finished with value: 325.2003836862689 and parameters: {'params[0]': 2.883967650647452, 'params[1]': -3.563964495080017}. Best is trial 134 with value: 61.517670972735246.\u001b[0m\n",
      "\u001b[32m[I 2021-06-18 19:01:59,635]\u001b[0m Trial 141 finished with value: 319.43623758853846 and parameters: {'params[0]': 2.6115233249017633, 'params[1]': -1.5888144103956872}. Best is trial 134 with value: 61.517670972735246.\u001b[0m\n",
      "\u001b[32m[I 2021-06-18 19:01:59,655]\u001b[0m Trial 142 finished with value: 266.52789010191003 and parameters: {'params[0]': 2.38827757170387, 'params[1]': -3.155923324250156}. Best is trial 134 with value: 61.517670972735246.\u001b[0m\n",
      "\u001b[32m[I 2021-06-18 19:01:59,675]\u001b[0m Trial 143 finished with value: 344.45790161800124 and parameters: {'params[0]': 3.180966923413059, 'params[1]': -4.359382522005645}. Best is trial 134 with value: 61.517670972735246.\u001b[0m\n",
      "\u001b[32m[I 2021-06-18 19:01:59,685]\u001b[0m Trial 144 finished with value: 687.1914298439989 and parameters: {'params[0]': 4.0983639942882935, 'params[1]': -2.009621802539352}. Best is trial 134 with value: 61.517670972735246.\u001b[0m\n",
      "\u001b[32m[I 2021-06-18 19:01:59,705]\u001b[0m Trial 145 finished with value: 428.30153994498613 and parameters: {'params[0]': 3.5127326793882414, 'params[1]': -3.860832204655743}. Best is trial 134 with value: 61.517670972735246.\u001b[0m\n",
      "\u001b[32m[I 2021-06-18 19:01:59,725]\u001b[0m Trial 146 finished with value: 178.04411247833252 and parameters: {'params[0]': 2.7898347846036278, 'params[1]': -2.792648468208334}. Best is trial 134 with value: 61.517670972735246.\u001b[0m\n",
      "\u001b[32m[I 2021-06-18 19:01:59,735]\u001b[0m Trial 147 finished with value: 225.21059050181893 and parameters: {'params[0]': 2.6093038257755357, 'params[1]': -2.917548985468118}. Best is trial 134 with value: 61.517670972735246.\u001b[0m\n"
     ]
    },
    {
     "name": "stderr",
     "output_type": "stream",
     "text": [
      "\u001b[32m[I 2021-06-18 19:01:59,755]\u001b[0m Trial 148 finished with value: 16.987786593204312 and parameters: {'params[0]': 2.9600439056615264, 'params[1]': -2.4789715117030626}. Best is trial 148 with value: 16.987786593204312.\u001b[0m\n",
      "\u001b[32m[I 2021-06-18 19:01:59,765]\u001b[0m Trial 149 finished with value: 244.00536646792742 and parameters: {'params[0]': 2.8434720812953764, 'params[1]': -2.9440574249089795}. Best is trial 148 with value: 16.987786593204312.\u001b[0m\n",
      "\u001b[32m[I 2021-06-18 19:01:59,785]\u001b[0m Trial 150 finished with value: 976.0327787911158 and parameters: {'params[0]': 4.527946019337188, 'params[1]': -2.2998575292123467}. Best is trial 148 with value: 16.987786593204312.\u001b[0m\n",
      "\u001b[32m[I 2021-06-18 19:01:59,805]\u001b[0m Trial 151 finished with value: 393.93371675831196 and parameters: {'params[0]': 3.10327991966223, 'params[1]': -1.5893792828765732}. Best is trial 148 with value: 16.987786593204312.\u001b[0m\n",
      "\u001b[32m[I 2021-06-18 19:01:59,815]\u001b[0m Trial 152 finished with value: 632.2286340618265 and parameters: {'params[0]': 3.8111911504143983, 'params[1]': -3.480323778867714}. Best is trial 148 with value: 16.987786593204312.\u001b[0m\n",
      "\u001b[32m[I 2021-06-18 19:01:59,835]\u001b[0m Trial 153 finished with value: 115.4410455668895 and parameters: {'params[0]': 2.527748810021603, 'params[1]': -2.6123396728727757}. Best is trial 148 with value: 16.987786593204312.\u001b[0m\n",
      "\u001b[32m[I 2021-06-18 19:01:59,855]\u001b[0m Trial 154 finished with value: 144.1486510960762 and parameters: {'params[0]': 2.220476387207648, 'params[1]': -2.604896308969316}. Best is trial 148 with value: 16.987786593204312.\u001b[0m\n",
      "\u001b[32m[I 2021-06-18 19:01:59,865]\u001b[0m Trial 155 finished with value: 130.9637123204575 and parameters: {'params[0]': 2.3315053538333848, 'params[1]': -2.596568436737326}. Best is trial 148 with value: 16.987786593204312.\u001b[0m\n",
      "\u001b[32m[I 2021-06-18 19:01:59,885]\u001b[0m Trial 156 finished with value: 82.24060629117233 and parameters: {'params[0]': 2.626481969014284, 'params[1]': -2.5458157154590237}. Best is trial 148 with value: 16.987786593204312.\u001b[0m\n",
      "\u001b[32m[I 2021-06-18 19:01:59,905]\u001b[0m Trial 157 finished with value: 177.1713626155918 and parameters: {'params[0]': 2.5312981819804774, 'params[1]': -2.775159457032356}. Best is trial 148 with value: 16.987786593204312.\u001b[0m\n",
      "\u001b[32m[I 2021-06-18 19:01:59,925]\u001b[0m Trial 158 finished with value: 210.64260217963852 and parameters: {'params[0]': 2.398505318948662, 'params[1]': -2.872290860336995}. Best is trial 148 with value: 16.987786593204312.\u001b[0m\n",
      "\u001b[32m[I 2021-06-18 19:01:59,945]\u001b[0m Trial 159 finished with value: 454.8669943055151 and parameters: {'params[0]': 3.4141265419463456, 'params[1]': -3.4240313093013133}. Best is trial 148 with value: 16.987786593204312.\u001b[0m\n",
      "\u001b[32m[I 2021-06-18 19:01:59,955]\u001b[0m Trial 160 finished with value: 156.93229487904262 and parameters: {'params[0]': 2.294415200067834, 'params[1]': -2.6856066049372096}. Best is trial 148 with value: 16.987786593204312.\u001b[0m\n",
      "\u001b[32m[I 2021-06-18 19:01:59,975]\u001b[0m Trial 161 finished with value: 164.2344298541705 and parameters: {'params[0]': 2.1813336991646337, 'params[1]': -2.688771936615461}. Best is trial 148 with value: 16.987786593204312.\u001b[0m\n",
      "\u001b[32m[I 2021-06-18 19:01:59,995]\u001b[0m Trial 162 finished with value: 261.0811711410976 and parameters: {'params[0]': 2.2983357906506354, 'params[1]': -3.756934368628364}. Best is trial 148 with value: 16.987786593204312.\u001b[0m\n",
      "\u001b[32m[I 2021-06-18 19:02:00,015]\u001b[0m Trial 163 finished with value: 13.269781708837542 and parameters: {'params[0]': 3.050249997276545, 'params[1]': -2.5061245717984897}. Best is trial 163 with value: 13.269781708837542.\u001b[0m\n",
      "\u001b[32m[I 2021-06-18 19:02:00,025]\u001b[0m Trial 164 finished with value: 320.36573787029795 and parameters: {'params[0]': 2.9034379701871598, 'params[1]': -1.339175770137831}. Best is trial 163 with value: 13.269781708837542.\u001b[0m\n",
      "\u001b[32m[I 2021-06-18 19:02:00,045]\u001b[0m Trial 165 finished with value: 405.5576710859342 and parameters: {'params[0]': 3.4389391512935146, 'params[1]': -1.9013076725145224}. Best is trial 163 with value: 13.269781708837542.\u001b[0m\n",
      "\u001b[32m[I 2021-06-18 19:02:00,065]\u001b[0m Trial 166 finished with value: 427.1524633164814 and parameters: {'params[0]': 4.001634730062419, 'params[1]': -2.4830066524048084}. Best is trial 163 with value: 13.269781708837542.\u001b[0m\n",
      "\u001b[32m[I 2021-06-18 19:02:00,085]\u001b[0m Trial 167 finished with value: 265.65492201346467 and parameters: {'params[0]': 2.026310594527364, 'params[1]': -3.273748234658763}. Best is trial 163 with value: 13.269781708837542.\u001b[0m\n",
      "\u001b[32m[I 2021-06-18 19:02:00,105]\u001b[0m Trial 168 finished with value: 171.30872023656772 and parameters: {'params[0]': 2.9225717045510824, 'params[1]': -2.1923065149238528}. Best is trial 163 with value: 13.269781708837542.\u001b[0m\n",
      "\u001b[32m[I 2021-06-18 19:02:00,125]\u001b[0m Trial 169 finished with value: 324.46430154486274 and parameters: {'params[0]': 2.689224165405451, 'params[1]': -1.5359706283382377}. Best is trial 163 with value: 13.269781708837542.\u001b[0m\n",
      "\u001b[32m[I 2021-06-18 19:02:00,145]\u001b[0m Trial 170 finished with value: 85.17255724567295 and parameters: {'params[0]': 3.0138577849342245, 'params[1]': -2.626950940361087}. Best is trial 163 with value: 13.269781708837542.\u001b[0m\n",
      "\u001b[32m[I 2021-06-18 19:02:00,155]\u001b[0m Trial 171 finished with value: 59.66172083523921 and parameters: {'params[0]': 3.0475502013409352, 'params[1]': -2.58536611797779}. Best is trial 163 with value: 13.269781708837542.\u001b[0m\n",
      "\u001b[32m[I 2021-06-18 19:02:00,175]\u001b[0m Trial 172 finished with value: 421.3563624442273 and parameters: {'params[0]': 3.6662556734878193, 'params[1]': -2.0555789291211726}. Best is trial 163 with value: 13.269781708837542.\u001b[0m\n",
      "\u001b[32m[I 2021-06-18 19:02:00,195]\u001b[0m Trial 173 finished with value: 148.1280422011544 and parameters: {'params[0]': 2.0876192632792825, 'params[1]': -2.526136152337031}. Best is trial 163 with value: 13.269781708837542.\u001b[0m\n",
      "\u001b[32m[I 2021-06-18 19:02:00,215]\u001b[0m Trial 174 finished with value: 158.1542984077241 and parameters: {'params[0]': 1.9645543384505335, 'params[1]': -2.44388707161986}. Best is trial 163 with value: 13.269781708837542.\u001b[0m\n",
      "\u001b[32m[I 2021-06-18 19:02:00,235]\u001b[0m Trial 175 finished with value: 238.5188318810404 and parameters: {'params[0]': 1.9142645360201875, 'params[1]': -0.9534167751863478}. Best is trial 163 with value: 13.269781708837542.\u001b[0m\n",
      "\u001b[32m[I 2021-06-18 19:02:00,255]\u001b[0m Trial 176 finished with value: 258.7014863787552 and parameters: {'params[0]': 2.2923195524910405, 'params[1]': -3.8789249012560285}. Best is trial 163 with value: 13.269781708837542.\u001b[0m\n",
      "\u001b[32m[I 2021-06-18 19:02:00,275]\u001b[0m Trial 177 finished with value: 377.2397151787628 and parameters: {'params[0]': 3.1844125165604713, 'params[1]': -3.22098173178735}. Best is trial 163 with value: 13.269781708837542.\u001b[0m\n",
      "\u001b[32m[I 2021-06-18 19:02:00,295]\u001b[0m Trial 178 finished with value: 165.54471883928457 and parameters: {'params[0]': 1.897953284644298, 'params[1]': -2.537187763970175}. Best is trial 163 with value: 13.269781708837542.\u001b[0m\n",
      "\u001b[32m[I 2021-06-18 19:02:00,315]\u001b[0m Trial 179 finished with value: 1036.1962144755105 and parameters: {'params[0]': 4.322045102555191, 'params[1]': -1.6994336508188739}. Best is trial 163 with value: 13.269781708837542.\u001b[0m\n",
      "\u001b[32m[I 2021-06-18 19:02:00,335]\u001b[0m Trial 180 finished with value: 145.70089580045516 and parameters: {'params[0]': 2.0967273288353048, 'params[1]': -2.5045414235647665}. Best is trial 163 with value: 13.269781708837542.\u001b[0m\n",
      "\u001b[32m[I 2021-06-18 19:02:00,365]\u001b[0m Trial 181 finished with value: 143.48379368200276 and parameters: {'params[0]': 2.108334940219945, 'params[1]': -2.485365691215822}. Best is trial 163 with value: 13.269781708837542.\u001b[0m\n",
      "\u001b[32m[I 2021-06-18 19:02:00,385]\u001b[0m Trial 182 finished with value: 153.05453511076792 and parameters: {'params[0]': 2.1058453965513237, 'params[1]': -2.3778241194465606}. Best is trial 163 with value: 13.269781708837542.\u001b[0m\n",
      "\u001b[32m[I 2021-06-18 19:02:00,405]\u001b[0m Trial 183 finished with value: 175.6053497702495 and parameters: {'params[0]': 2.0047039771205695, 'params[1]': -2.2878240156793748}. Best is trial 163 with value: 13.269781708837542.\u001b[0m\n",
      "\u001b[32m[I 2021-06-18 19:02:00,425]\u001b[0m Trial 184 finished with value: 257.6495964919611 and parameters: {'params[0]': 2.4245208808813055, 'params[1]': -1.888634273563794}. Best is trial 163 with value: 13.269781708837542.\u001b[0m\n"
     ]
    },
    {
     "name": "stderr",
     "output_type": "stream",
     "text": [
      "\u001b[32m[I 2021-06-18 19:02:00,445]\u001b[0m Trial 185 finished with value: 370.854865110595 and parameters: {'params[0]': 3.160947272411808, 'params[1]': -3.218562542801692}. Best is trial 163 with value: 13.269781708837542.\u001b[0m\n",
      "\u001b[32m[I 2021-06-18 19:02:00,475]\u001b[0m Trial 186 finished with value: 482.08507612653636 and parameters: {'params[0]': 3.641301576722271, 'params[1]': -1.206457803175037}. Best is trial 163 with value: 13.269781708837542.\u001b[0m\n",
      "\u001b[32m[I 2021-06-18 19:02:00,495]\u001b[0m Trial 187 finished with value: 179.86877758335544 and parameters: {'params[0]': 1.6815080801546187, 'params[1]': -2.421822465741477}. Best is trial 163 with value: 13.269781708837542.\u001b[0m\n",
      "\u001b[32m[I 2021-06-18 19:02:00,515]\u001b[0m Trial 188 finished with value: 284.315092123701 and parameters: {'params[0]': 2.5556232182397305, 'params[1]': -3.638239024586967}. Best is trial 163 with value: 13.269781708837542.\u001b[0m\n",
      "\u001b[32m[I 2021-06-18 19:02:00,525]\u001b[0m Trial 189 finished with value: 299.0027445749455 and parameters: {'params[0]': 3.035139463877591, 'params[1]': -1.9161327608043202}. Best is trial 163 with value: 13.269781708837542.\u001b[0m\n",
      "\u001b[32m[I 2021-06-18 19:02:00,545]\u001b[0m Trial 190 finished with value: 252.4833970560573 and parameters: {'params[0]': 2.3254623217715693, 'params[1]': -3.0639716916750466}. Best is trial 163 with value: 13.269781708837542.\u001b[0m\n",
      "\u001b[32m[I 2021-06-18 19:02:00,565]\u001b[0m Trial 191 finished with value: 147.84123320817287 and parameters: {'params[0]': 2.0822592974581635, 'params[1]': -2.515420317297363}. Best is trial 163 with value: 13.269781708837542.\u001b[0m\n",
      "\u001b[32m[I 2021-06-18 19:02:00,575]\u001b[0m Trial 192 finished with value: 160.15737375850685 and parameters: {'params[0]': 1.9436295499410905, 'params[1]': -2.4392493584361863}. Best is trial 163 with value: 13.269781708837542.\u001b[0m\n",
      "\u001b[32m[I 2021-06-18 19:02:00,595]\u001b[0m Trial 193 finished with value: 183.8875192134715 and parameters: {'params[0]': 2.69510192418522, 'params[1]': -2.156894850025106}. Best is trial 163 with value: 13.269781708837542.\u001b[0m\n",
      "\u001b[32m[I 2021-06-18 19:02:00,616]\u001b[0m Trial 194 finished with value: 244.51866254358038 and parameters: {'params[0]': -6.142291266766163, 'params[1]': -1.4621370898305703}. Best is trial 163 with value: 13.269781708837542.\u001b[0m\n",
      "\u001b[32m[I 2021-06-18 19:02:00,626]\u001b[0m Trial 195 finished with value: 433.1143983250024 and parameters: {'params[0]': 3.416302104615272, 'params[1]': -3.2003621363931307}. Best is trial 163 with value: 13.269781708837542.\u001b[0m\n",
      "\u001b[32m[I 2021-06-18 19:02:00,646]\u001b[0m Trial 196 finished with value: 160.39500725954062 and parameters: {'params[0]': 2.1293716843689046, 'params[1]': -2.653580158722484}. Best is trial 163 with value: 13.269781708837542.\u001b[0m\n",
      "\u001b[32m[I 2021-06-18 19:02:00,676]\u001b[0m Trial 197 finished with value: 358.4574661900603 and parameters: {'params[0]': 3.117383926916055, 'params[1]': -1.800488048488813}. Best is trial 163 with value: 13.269781708837542.\u001b[0m\n",
      "\u001b[32m[I 2021-06-18 19:02:00,701]\u001b[0m Trial 198 finished with value: 244.84154992510068 and parameters: {'params[0]': 1.8318439275077474, 'params[1]': -4.1796074884472745}. Best is trial 163 with value: 13.269781708837542.\u001b[0m\n",
      "\u001b[32m[I 2021-06-18 19:02:00,721]\u001b[0m Trial 199 finished with value: 290.62496150082626 and parameters: {'params[0]': 2.571798531973609, 'params[1]': -3.5736410349057977}. Best is trial 163 with value: 13.269781708837542.\u001b[0m\n",
      "\u001b[32m[I 2021-06-18 19:02:00,751]\u001b[0m Trial 200 finished with value: 375.2308898989221 and parameters: {'params[0]': 3.8788714375791016, 'params[1]': -2.4061565930842517}. Best is trial 163 with value: 13.269781708837542.\u001b[0m\n",
      "\u001b[32m[I 2021-06-18 19:02:00,771]\u001b[0m Trial 201 finished with value: 184.53270907968627 and parameters: {'params[0]': 1.686534223110741, 'params[1]': -2.5918671946766794}. Best is trial 163 with value: 13.269781708837542.\u001b[0m\n",
      "\u001b[32m[I 2021-06-18 19:02:00,796]\u001b[0m Trial 202 finished with value: 184.3932218766412 and parameters: {'params[0]': 2.0814083995426604, 'params[1]': -2.2214348683181395}. Best is trial 163 with value: 13.269781708837542.\u001b[0m\n",
      "\u001b[32m[I 2021-06-18 19:02:00,821]\u001b[0m Trial 203 finished with value: 297.2279180747177 and parameters: {'params[0]': 2.9183861592383145, 'params[1]': -3.1199815042959385}. Best is trial 163 with value: 13.269781708837542.\u001b[0m\n",
      "\u001b[32m[I 2021-06-18 19:02:00,841]\u001b[0m Trial 204 finished with value: 124.29737010396289 and parameters: {'params[0]': 2.3576737076229692, 'params[1]': -2.5736510586212544}. Best is trial 163 with value: 13.269781708837542.\u001b[0m\n",
      "\u001b[32m[I 2021-06-18 19:02:00,861]\u001b[0m Trial 205 finished with value: 157.10524451482888 and parameters: {'params[0]': 2.548561195379966, 'params[1]': -2.724772623456145}. Best is trial 163 with value: 13.269781708837542.\u001b[0m\n",
      "\u001b[32m[I 2021-06-18 19:02:00,881]\u001b[0m Trial 206 finished with value: 243.7640946901642 and parameters: {'params[0]': 2.606212730968835, 'params[1]': -2.9911296133788494}. Best is trial 163 with value: 13.269781708837542.\u001b[0m\n",
      "\u001b[32m[I 2021-06-18 19:02:00,896]\u001b[0m Trial 207 finished with value: 240742.5289844529 and parameters: {'params[0]': 9.904557062487275, 'params[1]': -1.935257300378607}. Best is trial 163 with value: 13.269781708837542.\u001b[0m\n",
      "\u001b[32m[I 2021-06-18 19:02:00,921]\u001b[0m Trial 208 finished with value: 231.29985280632903 and parameters: {'params[0]': 3.243376093650143, 'params[1]': -2.799481181668457}. Best is trial 163 with value: 13.269781708837542.\u001b[0m\n",
      "\u001b[32m[I 2021-06-18 19:02:00,946]\u001b[0m Trial 209 finished with value: 284.3914126279439 and parameters: {'params[0]': 2.3829034790513974, 'params[1]': -3.3022324195609083}. Best is trial 163 with value: 13.269781708837542.\u001b[0m\n",
      "\u001b[32m[I 2021-06-18 19:02:00,976]\u001b[0m Trial 210 finished with value: 6719.596559106473 and parameters: {'params[0]': 6.306925347398577, 'params[1]': -1.4947028188631384}. Best is trial 163 with value: 13.269781708837542.\u001b[0m\n",
      "\u001b[32m[I 2021-06-18 19:02:00,996]\u001b[0m Trial 211 finished with value: 31.229661689409397 and parameters: {'params[0]': 2.866131810779686, 'params[1]': -2.4890934096805646}. Best is trial 163 with value: 13.269781708837542.\u001b[0m\n",
      "\u001b[32m[I 2021-06-18 19:02:01,021]\u001b[0m Trial 212 finished with value: 133.33055421176218 and parameters: {'params[0]': 2.8755036257200794, 'params[1]': -2.707697011932775}. Best is trial 163 with value: 13.269781708837542.\u001b[0m\n",
      "\u001b[32m[I 2021-06-18 19:02:01,041]\u001b[0m Trial 213 finished with value: 69072.12157355304 and parameters: {'params[0]': 8.634420473119103, 'params[1]': -2.121769226973794}. Best is trial 163 with value: 13.269781708837542.\u001b[0m\n",
      "\u001b[32m[I 2021-06-18 19:02:01,061]\u001b[0m Trial 214 finished with value: 190.77322167762475 and parameters: {'params[0]': 3.5225195232549305, 'params[1]': -2.595599841394349}. Best is trial 163 with value: 13.269781708837542.\u001b[0m\n",
      "\u001b[32m[I 2021-06-18 19:02:01,091]\u001b[0m Trial 215 finished with value: 322.8217469956734 and parameters: {'params[0]': 2.869357322726117, 'params[1]': -3.5476073459615134}. Best is trial 163 with value: 13.269781708837542.\u001b[0m\n",
      "\u001b[32m[I 2021-06-18 19:02:01,106]\u001b[0m Trial 216 finished with value: 263.26752143385727 and parameters: {'params[0]': 3.048161685654301, 'params[1]': -2.933919239887488}. Best is trial 163 with value: 13.269781708837542.\u001b[0m\n",
      "\u001b[32m[I 2021-06-18 19:02:01,131]\u001b[0m Trial 217 finished with value: 208.54256767214667 and parameters: {'params[0]': 2.26113926181844, 'params[1]': -2.1017432909973124}. Best is trial 163 with value: 13.269781708837542.\u001b[0m\n",
      "\u001b[32m[I 2021-06-18 19:02:01,156]\u001b[0m Trial 218 finished with value: 440.34360657758333 and parameters: {'params[0]': 3.552004782189748, 'params[1]': -3.057781534502692}. Best is trial 163 with value: 13.269781708837542.\u001b[0m\n",
      "\u001b[32m[I 2021-06-18 19:02:01,176]\u001b[0m Trial 219 finished with value: 340.5258463909905 and parameters: {'params[0]': 2.8222363150096337, 'params[1]': -1.6784488968062332}. Best is trial 163 with value: 13.269781708837542.\u001b[0m\n",
      "\u001b[32m[I 2021-06-18 19:02:01,196]\u001b[0m Trial 220 finished with value: 484.66060929730713 and parameters: {'params[0]': 4.007935620307768, 'params[1]': -2.352865079596373}. Best is trial 163 with value: 13.269781708837542.\u001b[0m\n",
      "\u001b[32m[I 2021-06-18 19:02:01,216]\u001b[0m Trial 221 finished with value: 140.35130921422606 and parameters: {'params[0]': 2.5192511552173436, 'params[1]': -2.676981012314605}. Best is trial 163 with value: 13.269781708837542.\u001b[0m\n"
     ]
    },
    {
     "name": "stderr",
     "output_type": "stream",
     "text": [
      "\u001b[32m[I 2021-06-18 19:02:01,241]\u001b[0m Trial 222 finished with value: 143.840116648349 and parameters: {'params[0]': 2.321796699719704, 'params[1]': -2.6482519033159027}. Best is trial 163 with value: 13.269781708837542.\u001b[0m\n",
      "\u001b[32m[I 2021-06-18 19:02:01,261]\u001b[0m Trial 223 finished with value: 233.7941894458304 and parameters: {'params[0]': 3.1225731191830812, 'params[1]': -2.1046951042893385}. Best is trial 163 with value: 13.269781708837542.\u001b[0m\n",
      "\u001b[32m[I 2021-06-18 19:02:01,276]\u001b[0m Trial 224 finished with value: 88.40054570387525 and parameters: {'params[0]': 2.5982083955872035, 'params[1]': -2.5558281730733796}. Best is trial 163 with value: 13.269781708837542.\u001b[0m\n",
      "\u001b[32m[I 2021-06-18 19:02:01,291]\u001b[0m Trial 225 finished with value: 266.5152626739621 and parameters: {'params[0]': 2.6807599911203326, 'params[1]': -3.0777734467836266}. Best is trial 163 with value: 13.269781708837542.\u001b[0m\n",
      "\u001b[32m[I 2021-06-18 19:02:01,311]\u001b[0m Trial 226 finished with value: 172.09413493165857 and parameters: {'params[0]': 3.3535613612521322, 'params[1]': -2.6643392464413864}. Best is trial 163 with value: 13.269781708837542.\u001b[0m\n",
      "\u001b[32m[I 2021-06-18 19:02:01,331]\u001b[0m Trial 227 finished with value: 307.01900942865126 and parameters: {'params[0]': 2.739246933047225, 'params[1]': -3.454677774156935}. Best is trial 163 with value: 13.269781708837542.\u001b[0m\n",
      "\u001b[32m[I 2021-06-18 19:02:01,346]\u001b[0m Trial 228 finished with value: 232.92935783288794 and parameters: {'params[0]': 1.5370247417302907, 'params[1]': -1.9761388331796015}. Best is trial 163 with value: 13.269781708837542.\u001b[0m\n",
      "\u001b[32m[I 2021-06-18 19:02:01,366]\u001b[0m Trial 229 finished with value: 262.8131749298224 and parameters: {'params[0]': 2.4044314525199573, 'params[1]': -3.850399382522933}. Best is trial 163 with value: 13.269781708837542.\u001b[0m\n",
      "\u001b[32m[I 2021-06-18 19:02:01,386]\u001b[0m Trial 230 finished with value: 279.84713465306123 and parameters: {'params[0]': 3.0404489267903343, 'params[1]': -2.981327338528253}. Best is trial 163 with value: 13.269781708837542.\u001b[0m\n",
      "\u001b[32m[I 2021-06-18 19:02:01,401]\u001b[0m Trial 231 finished with value: 144.22626754540173 and parameters: {'params[0]': 2.1108819076992407, 'params[1]': -2.5034967525705176}. Best is trial 163 with value: 13.269781708837542.\u001b[0m\n",
      "\u001b[32m[I 2021-06-18 19:02:01,416]\u001b[0m Trial 232 finished with value: 120.29438772208218 and parameters: {'params[0]': 2.3175770871600907, 'params[1]': -2.490662991326699}. Best is trial 163 with value: 13.269781708837542.\u001b[0m\n",
      "\u001b[32m[I 2021-06-18 19:02:01,436]\u001b[0m Trial 233 finished with value: 142.32265841908836 and parameters: {'params[0]': 2.5047019389167056, 'params[1]': -2.2885628881338813}. Best is trial 163 with value: 13.269781708837542.\u001b[0m\n",
      "\u001b[32m[I 2021-06-18 19:02:01,451]\u001b[0m Trial 234 finished with value: 293.4739259526277 and parameters: {'params[0]': 2.6046924670297966, 'params[1]': -1.789569967175762}. Best is trial 163 with value: 13.269781708837542.\u001b[0m\n",
      "\u001b[32m[I 2021-06-18 19:02:01,471]\u001b[0m Trial 235 finished with value: 139.75672275686176 and parameters: {'params[0]': 3.047337425961362, 'params[1]': -2.2786263547855365}. Best is trial 163 with value: 13.269781708837542.\u001b[0m\n",
      "\u001b[32m[I 2021-06-18 19:02:01,491]\u001b[0m Trial 236 finished with value: 385.36340670372573 and parameters: {'params[0]': 3.5516553065525915, 'params[1]': -2.8933520694094836}. Best is trial 163 with value: 13.269781708837542.\u001b[0m\n",
      "\u001b[32m[I 2021-06-18 19:02:01,511]\u001b[0m Trial 237 finished with value: 182.74053524578187 and parameters: {'params[0]': 3.0696313797272263, 'params[1]': -2.2023833989980752}. Best is trial 163 with value: 13.269781708837542.\u001b[0m\n",
      "\u001b[32m[I 2021-06-18 19:02:01,536]\u001b[0m Trial 238 finished with value: 329.1985872160396 and parameters: {'params[0]': 2.927956759580787, 'params[1]': -1.3661852227947393}. Best is trial 163 with value: 13.269781708837542.\u001b[0m\n",
      "\u001b[32m[I 2021-06-18 19:02:01,551]\u001b[0m Trial 239 finished with value: 451.93168141005685 and parameters: {'params[0]': 3.3826006380095284, 'params[1]': -3.3497662450824106}. Best is trial 163 with value: 13.269781708837542.\u001b[0m\n",
      "\u001b[32m[I 2021-06-18 19:02:01,571]\u001b[0m Trial 240 finished with value: 288.82515201920404 and parameters: {'params[0]': 2.6033142657344306, 'params[1]': -1.8112018181626324}. Best is trial 163 with value: 13.269781708837542.\u001b[0m\n",
      "\u001b[32m[I 2021-06-18 19:02:01,591]\u001b[0m Trial 241 finished with value: 104.31676968441505 and parameters: {'params[0]': 2.4614673444719517, 'params[1]': -2.5250919232263374}. Best is trial 163 with value: 13.269781708837542.\u001b[0m\n",
      "\u001b[32m[I 2021-06-18 19:02:01,611]\u001b[0m Trial 242 finished with value: 177.5092206908586 and parameters: {'params[0]': 2.3946069728357697, 'params[1]': -2.7635048681854357}. Best is trial 163 with value: 13.269781708837542.\u001b[0m\n",
      "\u001b[32m[I 2021-06-18 19:02:01,631]\u001b[0m Trial 243 finished with value: 132.4442430644662 and parameters: {'params[0]': 2.8674133780598745, 'params[1]': -2.275151009132708}. Best is trial 163 with value: 13.269781708837542.\u001b[0m\n",
      "\u001b[32m[I 2021-06-18 19:02:01,651]\u001b[0m Trial 244 finished with value: 212.12931621897695 and parameters: {'params[0]': 2.913458901258807, 'params[1]': -2.096983895756771}. Best is trial 163 with value: 13.269781708837542.\u001b[0m\n",
      "\u001b[32m[I 2021-06-18 19:02:01,671]\u001b[0m Trial 245 finished with value: 346.6808888315583 and parameters: {'params[0]': 3.6612696387127914, 'params[1]': -2.212393977829304}. Best is trial 163 with value: 13.269781708837542.\u001b[0m\n",
      "\u001b[32m[I 2021-06-18 19:02:01,691]\u001b[0m Trial 246 finished with value: 285.16529620744984 and parameters: {'params[0]': 3.048590457861334, 'params[1]': -2.9929804180722392}. Best is trial 163 with value: 13.269781708837542.\u001b[0m\n",
      "\u001b[32m[I 2021-06-18 19:02:01,711]\u001b[0m Trial 247 finished with value: 177.1898012640135 and parameters: {'params[0]': 3.322888490840662, 'params[1]': -2.6834031583658913}. Best is trial 163 with value: 13.269781708837542.\u001b[0m\n",
      "\u001b[32m[I 2021-06-18 19:02:01,731]\u001b[0m Trial 248 finished with value: 78.03752200545576 and parameters: {'params[0]': 2.7943976039024587, 'params[1]': -2.392480274752824}. Best is trial 163 with value: 13.269781708837542.\u001b[0m\n",
      "\u001b[32m[I 2021-06-18 19:02:01,751]\u001b[0m Trial 249 finished with value: 157.46990911812927 and parameters: {'params[0]': 2.768948746847706, 'params[1]': -2.2130590991296675}. Best is trial 163 with value: 13.269781708837542.\u001b[0m\n",
      "\u001b[32m[I 2021-06-18 19:02:01,771]\u001b[0m Trial 250 finished with value: 673.3511616582679 and parameters: {'params[0]': 3.8451869098858715, 'params[1]': -1.693749383520784}. Best is trial 163 with value: 13.269781708837542.\u001b[0m\n",
      "\u001b[32m[I 2021-06-18 19:02:01,791]\u001b[0m Trial 251 finished with value: 282.9714528399185 and parameters: {'params[0]': 2.6151303250000284, 'params[1]': -3.185503864741073}. Best is trial 163 with value: 13.269781708837542.\u001b[0m\n",
      "\u001b[32m[I 2021-06-18 19:02:01,821]\u001b[0m Trial 252 finished with value: 223.3091208982525 and parameters: {'params[0]': 3.330850055792431, 'params[1]': -2.2285082744978406}. Best is trial 163 with value: 13.269781708837542.\u001b[0m\n",
      "\u001b[32m[I 2021-06-18 19:02:01,841]\u001b[0m Trial 253 finished with value: 294.87412794922136 and parameters: {'params[0]': 2.9867033586600806, 'params[1]': -1.1794037573651157}. Best is trial 163 with value: 13.269781708837542.\u001b[0m\n",
      "\u001b[32m[I 2021-06-18 19:02:01,861]\u001b[0m Trial 254 finished with value: 211.06105627187264 and parameters: {'params[0]': 2.5292651625677967, 'params[1]': -2.873183956478395}. Best is trial 163 with value: 13.269781708837542.\u001b[0m\n",
      "\u001b[32m[I 2021-06-18 19:02:01,881]\u001b[0m Trial 255 finished with value: 342.2865124575292 and parameters: {'params[0]': 3.23754997175261, 'params[1]': -1.9058463466419742}. Best is trial 163 with value: 13.269781708837542.\u001b[0m\n",
      "\u001b[32m[I 2021-06-18 19:02:01,901]\u001b[0m Trial 256 finished with value: 80.6751817669065 and parameters: {'params[0]': 2.7506372339630696, 'params[1]': -2.5871493632159486}. Best is trial 163 with value: 13.269781708837542.\u001b[0m\n",
      "\u001b[32m[I 2021-06-18 19:02:01,921]\u001b[0m Trial 257 finished with value: 582.5761718586855 and parameters: {'params[0]': 3.7185426737870158, 'params[1]': -3.3077376031344543}. Best is trial 163 with value: 13.269781708837542.\u001b[0m\n",
      "\u001b[32m[I 2021-06-18 19:02:01,941]\u001b[0m Trial 258 finished with value: 49.29889206608484 and parameters: {'params[0]': 2.8253068568984716, 'params[1]': -2.451886102685919}. Best is trial 163 with value: 13.269781708837542.\u001b[0m\n"
     ]
    },
    {
     "name": "stderr",
     "output_type": "stream",
     "text": [
      "\u001b[32m[I 2021-06-18 19:02:01,951]\u001b[0m Trial 259 finished with value: 909.1620783307625 and parameters: {'params[0]': 4.175823905161772, 'params[1]': -1.6246054069824}. Best is trial 163 with value: 13.269781708837542.\u001b[0m\n",
      "\u001b[32m[I 2021-06-18 19:02:01,981]\u001b[0m Trial 260 finished with value: 138.8074810085905 and parameters: {'params[0]': 2.815147965809508, 'params[1]': -2.2599293362482413}. Best is trial 163 with value: 13.269781708837542.\u001b[0m\n",
      "\u001b[32m[I 2021-06-18 19:02:01,991]\u001b[0m Trial 261 finished with value: 268.97834153459513 and parameters: {'params[0]': 2.936705140465938, 'params[1]': -2.9944224317800976}. Best is trial 163 with value: 13.269781708837542.\u001b[0m\n",
      "\u001b[32m[I 2021-06-18 19:02:02,011]\u001b[0m Trial 262 finished with value: 364.6385641039562 and parameters: {'params[0]': 3.448243063658164, 'params[1]': -2.004361763297896}. Best is trial 163 with value: 13.269781708837542.\u001b[0m\n",
      "\u001b[32m[I 2021-06-18 19:02:02,031]\u001b[0m Trial 263 finished with value: 79.41711595314476 and parameters: {'params[0]': 3.1509359383319646, 'params[1]': -2.410412845523945}. Best is trial 163 with value: 13.269781708837542.\u001b[0m\n",
      "\u001b[32m[I 2021-06-18 19:02:02,051]\u001b[0m Trial 264 finished with value: 662.424074688782 and parameters: {'params[0]': 3.8969260243973434, 'params[1]': -3.6332081606281417}. Best is trial 163 with value: 13.269781708837542.\u001b[0m\n",
      "\u001b[32m[I 2021-06-18 19:02:02,071]\u001b[0m Trial 265 finished with value: 401.3191913963105 and parameters: {'params[0]': 3.2502641371600993, 'params[1]': -1.4407617471709624}. Best is trial 163 with value: 13.269781708837542.\u001b[0m\n",
      "\u001b[32m[I 2021-06-18 19:02:02,091]\u001b[0m Trial 266 finished with value: 143.1890632349729 and parameters: {'params[0]': 2.8758531865377908, 'params[1]': -2.2525771975115934}. Best is trial 163 with value: 13.269781708837542.\u001b[0m\n",
      "\u001b[32m[I 2021-06-18 19:02:02,101]\u001b[0m Trial 267 finished with value: 185.04016224780875 and parameters: {'params[0]': 3.550393972660283, 'params[1]': -2.472487611772392}. Best is trial 163 with value: 13.269781708837542.\u001b[0m\n",
      "\u001b[32m[I 2021-06-18 19:02:02,121]\u001b[0m Trial 268 finished with value: 374.1217295107221 and parameters: {'params[0]': 3.1958131820962286, 'params[1]': -3.2022085983096646}. Best is trial 163 with value: 13.269781708837542.\u001b[0m\n",
      "\u001b[32m[I 2021-06-18 19:02:02,151]\u001b[0m Trial 269 finished with value: 254.24939338646837 and parameters: {'params[0]': 2.815135561428, 'params[1]': -0.8711899964389866}. Best is trial 163 with value: 13.269781708837542.\u001b[0m\n",
      "\u001b[32m[I 2021-06-18 19:02:02,161]\u001b[0m Trial 270 finished with value: 899.3370139459349 and parameters: {'params[0]': 4.22330433441821, 'params[1]': -1.811593963687046}. Best is trial 163 with value: 13.269781708837542.\u001b[0m\n",
      "\u001b[32m[I 2021-06-18 19:02:02,181]\u001b[0m Trial 271 finished with value: 427.67730892264615 and parameters: {'params[0]': 3.7165212973342956, 'params[1]': -2.85406920007388}. Best is trial 163 with value: 13.269781708837542.\u001b[0m\n",
      "\u001b[32m[I 2021-06-18 19:02:02,201]\u001b[0m Trial 272 finished with value: 57.87053735039113 and parameters: {'params[0]': 2.934147691056541, 'params[1]': -2.4119360049270617}. Best is trial 163 with value: 13.269781708837542.\u001b[0m\n",
      "\u001b[32m[I 2021-06-18 19:02:02,221]\u001b[0m Trial 273 finished with value: 303.1754852740886 and parameters: {'params[0]': 2.6931919312480646, 'params[1]': -3.4654147467274035}. Best is trial 163 with value: 13.269781708837542.\u001b[0m\n",
      "\u001b[32m[I 2021-06-18 19:02:02,241]\u001b[0m Trial 274 finished with value: 244.50843469167813 and parameters: {'params[0]': -9.068779862529707, 'params[1]': -2.6700658931899106}. Best is trial 163 with value: 13.269781708837542.\u001b[0m\n",
      "\u001b[32m[I 2021-06-18 19:02:02,261]\u001b[0m Trial 275 finished with value: 230.21088829990313 and parameters: {'params[0]': 1.7690534327023362, 'params[1]': -1.9910556174702319}. Best is trial 163 with value: 13.269781708837542.\u001b[0m\n",
      "\u001b[32m[I 2021-06-18 19:02:02,281]\u001b[0m Trial 276 finished with value: 326.7334139350913 and parameters: {'params[0]': 3.27594049363658, 'params[1]': -2.9753712780595123}. Best is trial 163 with value: 13.269781708837542.\u001b[0m\n",
      "\u001b[32m[I 2021-06-18 19:02:02,301]\u001b[0m Trial 277 finished with value: 91.12521966325939 and parameters: {'params[0]': 2.537507777063037, 'params[1]': -2.4702504501945417}. Best is trial 163 with value: 13.269781708837542.\u001b[0m\n",
      "\u001b[32m[I 2021-06-18 19:02:02,321]\u001b[0m Trial 278 finished with value: 126.7722354478004 and parameters: {'params[0]': 2.4223770494199455, 'params[1]': -2.6181477666104365}. Best is trial 163 with value: 13.269781708837542.\u001b[0m\n",
      "\u001b[32m[I 2021-06-18 19:02:02,341]\u001b[0m Trial 279 finished with value: 295.7289747210578 and parameters: {'params[0]': 2.3818848413984988, 'params[1]': -1.659307006649357}. Best is trial 163 with value: 13.269781708837542.\u001b[0m\n",
      "\u001b[32m[I 2021-06-18 19:02:02,351]\u001b[0m Trial 280 finished with value: 243.78172866068974 and parameters: {'params[0]': 1.653309339658392, 'params[1]': -3.9706405722125124}. Best is trial 163 with value: 13.269781708837542.\u001b[0m\n",
      "\u001b[32m[I 2021-06-18 19:02:02,371]\u001b[0m Trial 281 finished with value: 257.8956388115999 and parameters: {'params[0]': 2.338716932139694, 'params[1]': -3.0972927450001966}. Best is trial 163 with value: 13.269781708837542.\u001b[0m\n",
      "\u001b[32m[I 2021-06-18 19:02:02,401]\u001b[0m Trial 282 finished with value: 166.6618095445303 and parameters: {'params[0]': 1.882426422788047, 'params[1]': -2.535790001182581}. Best is trial 163 with value: 13.269781708837542.\u001b[0m\n",
      "\u001b[32m[I 2021-06-18 19:02:02,421]\u001b[0m Trial 283 finished with value: 258.22521918628615 and parameters: {'params[0]': 2.571415477779233, 'params[1]': -1.9208875136239252}. Best is trial 163 with value: 13.269781708837542.\u001b[0m\n",
      "\u001b[32m[I 2021-06-18 19:02:02,431]\u001b[0m Trial 284 finished with value: 459.0014821510772 and parameters: {'params[0]': 3.4043197404353753, 'params[1]': -3.330701969020794}. Best is trial 163 with value: 13.269781708837542.\u001b[0m\n",
      "\u001b[32m[I 2021-06-18 19:02:02,451]\u001b[0m Trial 285 finished with value: 123.47302031587304 and parameters: {'params[0]': 2.2917598692787995, 'params[1]': -2.479872288662873}. Best is trial 163 with value: 13.269781708837542.\u001b[0m\n",
      "\u001b[32m[I 2021-06-18 19:02:02,471]\u001b[0m Trial 286 finished with value: 206.91565253942764 and parameters: {'params[0]': 1.628524066019075, 'params[1]': -2.7704147917629145}. Best is trial 163 with value: 13.269781708837542.\u001b[0m\n",
      "\u001b[32m[I 2021-06-18 19:02:02,491]\u001b[0m Trial 287 finished with value: 277.7661748476155 and parameters: {'params[0]': 2.359397302912273, 'params[1]': -1.3690641189156798}. Best is trial 163 with value: 13.269781708837542.\u001b[0m\n",
      "\u001b[32m[I 2021-06-18 19:02:02,511]\u001b[0m Trial 288 finished with value: 142.1727996965326 and parameters: {'params[0]': 2.140602304375564, 'params[1]': -2.4420443940325627}. Best is trial 163 with value: 13.269781708837542.\u001b[0m\n",
      "\u001b[32m[I 2021-06-18 19:02:02,541]\u001b[0m Trial 289 finished with value: 244.08265305841766 and parameters: {'params[0]': 1.9506328768169308, 'params[1]': -3.0604589691098947}. Best is trial 163 with value: 13.269781708837542.\u001b[0m\n",
      "\u001b[32m[I 2021-06-18 19:02:02,561]\u001b[0m Trial 290 finished with value: 281.48399742380053 and parameters: {'params[0]': 2.500436960309151, 'params[1]': -3.6358910071348953}. Best is trial 163 with value: 13.269781708837542.\u001b[0m\n",
      "\u001b[32m[I 2021-06-18 19:02:02,581]\u001b[0m Trial 291 finished with value: 356.6377683575981 and parameters: {'params[0]': 3.2273562919877703, 'params[1]': -1.86534682322559}. Best is trial 163 with value: 13.269781708837542.\u001b[0m\n",
      "\u001b[32m[I 2021-06-18 19:02:02,611]\u001b[0m Trial 292 finished with value: 250.72858123398845 and parameters: {'params[0]': 3.7095612321481983, 'params[1]': -2.5095561958559403}. Best is trial 163 with value: 13.269781708837542.\u001b[0m\n",
      "\u001b[32m[I 2021-06-18 19:02:02,631]\u001b[0m Trial 293 finished with value: 233.65937747697052 and parameters: {'params[0]': 1.2488559730264215, 'params[1]': -2.9506739445402115}. Best is trial 163 with value: 13.269781708837542.\u001b[0m\n",
      "\u001b[32m[I 2021-06-18 19:02:02,661]\u001b[0m Trial 294 finished with value: 165.03702324275417 and parameters: {'params[0]': 2.8275362126613315, 'params[1]': -2.195280522362649}. Best is trial 163 with value: 13.269781708837542.\u001b[0m\n",
      "\u001b[32m[I 2021-06-18 19:02:02,671]\u001b[0m Trial 295 finished with value: 157.27752998209382 and parameters: {'params[0]': 2.2739629451986647, 'params[1]': -2.6831922077944155}. Best is trial 163 with value: 13.269781708837542.\u001b[0m\n"
     ]
    },
    {
     "name": "stderr",
     "output_type": "stream",
     "text": [
      "\u001b[32m[I 2021-06-18 19:02:02,691]\u001b[0m Trial 296 finished with value: 402.0653102874107 and parameters: {'params[0]': 3.216990331226631, 'params[1]': -3.369767800878654}. Best is trial 163 with value: 13.269781708837542.\u001b[0m\n",
      "\u001b[32m[I 2021-06-18 19:02:02,721]\u001b[0m Trial 297 finished with value: 2201.810190424564 and parameters: {'params[0]': 5.23972195243115, 'params[1]': -1.9887112595527943}. Best is trial 163 with value: 13.269781708837542.\u001b[0m\n",
      "\u001b[32m[I 2021-06-18 19:02:02,731]\u001b[0m Trial 298 finished with value: 64.59549950042518 and parameters: {'params[0]': 2.690499372536542, 'params[1]': -2.495262216127623}. Best is trial 163 with value: 13.269781708837542.\u001b[0m\n",
      "\u001b[32m[I 2021-06-18 19:02:02,751]\u001b[0m Trial 299 finished with value: 328.16402335989216 and parameters: {'params[0]': 2.6915960065956877, 'params[1]': -1.6362409965943825}. Best is trial 163 with value: 13.269781708837542.\u001b[0m\n",
      "\u001b[32m[I 2021-06-18 19:02:02,771]\u001b[0m Trial 300 finished with value: 592.3734728884538 and parameters: {'params[0]': 3.827344564550738, 'params[1]': -1.1240150873310752}. Best is trial 163 with value: 13.269781708837542.\u001b[0m\n",
      "\u001b[32m[I 2021-06-18 19:02:02,791]\u001b[0m Trial 301 finished with value: 158.1383420690367 and parameters: {'params[0]': 3.1217970492446594, 'params[1]': -2.263500640992544}. Best is trial 163 with value: 13.269781708837542.\u001b[0m\n",
      "\u001b[32m[I 2021-06-18 19:02:02,801]\u001b[0m Trial 302 finished with value: 386.4992664460202 and parameters: {'params[0]': 3.481124245702238, 'params[1]': -2.946372735515748}. Best is trial 163 with value: 13.269781708837542.\u001b[0m\n",
      "\u001b[32m[I 2021-06-18 19:02:02,821]\u001b[0m Trial 303 finished with value: 77.46038729563163 and parameters: {'params[0]': 2.8411997820125032, 'params[1]': -2.3864977137121324}. Best is trial 163 with value: 13.269781708837542.\u001b[0m\n",
      "\u001b[32m[I 2021-06-18 19:02:02,841]\u001b[0m Trial 304 finished with value: 255.643698701165 and parameters: {'params[0]': 2.920751204139196, 'params[1]': -1.9996919304752283}. Best is trial 163 with value: 13.269781708837542.\u001b[0m\n",
      "\u001b[32m[I 2021-06-18 19:02:02,861]\u001b[0m Trial 305 finished with value: 830.769904868174 and parameters: {'params[0]': 4.440880876334429, 'params[1]': -2.392049355648709}. Best is trial 163 with value: 13.269781708837542.\u001b[0m\n",
      "\u001b[32m[I 2021-06-18 19:02:02,871]\u001b[0m Trial 306 finished with value: 812.3900504606424 and parameters: {'params[0]': 4.056811110953832, 'params[1]': -1.5810533787417913}. Best is trial 163 with value: 13.269781708837542.\u001b[0m\n",
      "\u001b[32m[I 2021-06-18 19:02:02,891]\u001b[0m Trial 307 finished with value: 357.29493696139383 and parameters: {'params[0]': 3.1100329486844243, 'params[1]': -3.2125442675973814}. Best is trial 163 with value: 13.269781708837542.\u001b[0m\n",
      "\u001b[32m[I 2021-06-18 19:02:02,911]\u001b[0m Trial 308 finished with value: 287.24210638584924 and parameters: {'params[0]': 2.7424936816364682, 'params[1]': -4.447258326182638}. Best is trial 163 with value: 13.269781708837542.\u001b[0m\n",
      "\u001b[32m[I 2021-06-18 19:02:02,931]\u001b[0m Trial 309 finished with value: 287.4293019247408 and parameters: {'params[0]': 3.5211930222631374, 'params[1]': -2.7576705895055698}. Best is trial 163 with value: 13.269781708837542.\u001b[0m\n",
      "\u001b[32m[I 2021-06-18 19:02:02,951]\u001b[0m Trial 310 finished with value: 252.23624429568736 and parameters: {'params[0]': 1.7310739950494591, 'params[1]': -3.641780553162647}. Best is trial 163 with value: 13.269781708837542.\u001b[0m\n",
      "\u001b[32m[I 2021-06-18 19:02:02,971]\u001b[0m Trial 311 finished with value: 189.5400190084562 and parameters: {'params[0]': 2.060512172662413, 'params[1]': -2.2011010991306277}. Best is trial 163 with value: 13.269781708837542.\u001b[0m\n",
      "\u001b[32m[I 2021-06-18 19:02:02,991]\u001b[0m Trial 312 finished with value: 275.82873683138456 and parameters: {'params[0]': 2.7344202895400325, 'params[1]': -1.8942175024395818}. Best is trial 163 with value: 13.269781708837542.\u001b[0m\n",
      "\u001b[32m[I 2021-06-18 19:02:03,011]\u001b[0m Trial 313 finished with value: 55.534077472060766 and parameters: {'params[0]': 3.150739801554943, 'params[1]': -2.4540762256973148}. Best is trial 163 with value: 13.269781708837542.\u001b[0m\n",
      "\u001b[32m[I 2021-06-18 19:02:03,031]\u001b[0m Trial 314 finished with value: 469.74454385921536 and parameters: {'params[0]': 3.6204900567046727, 'params[1]': -3.0369945176075586}. Best is trial 163 with value: 13.269781708837542.\u001b[0m\n",
      "\u001b[32m[I 2021-06-18 19:02:03,051]\u001b[0m Trial 315 finished with value: 375.02277816810346 and parameters: {'params[0]': 3.1801842293707736, 'params[1]': -1.3868112809841198}. Best is trial 163 with value: 13.269781708837542.\u001b[0m\n",
      "\u001b[32m[I 2021-06-18 19:02:03,071]\u001b[0m Trial 316 finished with value: 84.10692702602174 and parameters: {'params[0]': 3.096888793831668, 'params[1]': -2.3843226271554303}. Best is trial 163 with value: 13.269781708837542.\u001b[0m\n",
      "\u001b[32m[I 2021-06-18 19:02:03,091]\u001b[0m Trial 317 finished with value: 441.9650943554837 and parameters: {'params[0]': 3.4524235501862006, 'params[1]': 7.470958711346595}. Best is trial 163 with value: 13.269781708837542.\u001b[0m\n",
      "\u001b[32m[I 2021-06-18 19:02:03,121]\u001b[0m Trial 318 finished with value: 616.675111044287 and parameters: {'params[0]': 4.027916836532889, 'params[1]': -2.0512724420700765}. Best is trial 163 with value: 13.269781708837542.\u001b[0m\n",
      "\u001b[32m[I 2021-06-18 19:02:03,141]\u001b[0m Trial 319 finished with value: 361.9293036683806 and parameters: {'params[0]': 3.053845960207185, 'params[1]': -3.319691584690201}. Best is trial 163 with value: 13.269781708837542.\u001b[0m\n",
      "\u001b[32m[I 2021-06-18 19:02:03,161]\u001b[0m Trial 320 finished with value: 478.7698266309758 and parameters: {'params[0]': 3.8766826946237813, 'params[1]': -2.804335594281403}. Best is trial 163 with value: 13.269781708837542.\u001b[0m\n",
      "\u001b[32m[I 2021-06-18 19:02:03,181]\u001b[0m Trial 321 finished with value: 436.9807453633679 and parameters: {'params[0]': 3.3054547208496015, 'params[1]': -1.6941003311551874}. Best is trial 163 with value: 13.269781708837542.\u001b[0m\n",
      "\u001b[32m[I 2021-06-18 19:02:03,211]\u001b[0m Trial 322 finished with value: 107.26653637517894 and parameters: {'params[0]': 2.786350084105331, 'params[1]': -2.3309912114846467}. Best is trial 163 with value: 13.269781708837542.\u001b[0m\n",
      "\u001b[32m[I 2021-06-18 19:02:03,231]\u001b[0m Trial 323 finished with value: 197.9212014691996 and parameters: {'params[0]': 2.9844369140092057, 'params[1]': -2.140965284590635}. Best is trial 163 with value: 13.269781708837542.\u001b[0m\n",
      "\u001b[32m[I 2021-06-18 19:02:03,241]\u001b[0m Trial 324 finished with value: 1168.262283806306 and parameters: {'params[0]': 4.530810294438626, 'params[1]': -1.021301445024121}. Best is trial 163 with value: 13.269781708837542.\u001b[0m\n",
      "\u001b[32m[I 2021-06-18 19:02:03,271]\u001b[0m Trial 325 finished with value: 186.49115825433086 and parameters: {'params[0]': 3.5000213456006346, 'params[1]': -2.4158716794918362}. Best is trial 163 with value: 13.269781708837542.\u001b[0m\n",
      "\u001b[32m[I 2021-06-18 19:02:03,291]\u001b[0m Trial 326 finished with value: 239.0701702760774 and parameters: {'params[0]': 2.7269456184803786, 'params[1]': -2.9508925148547087}. Best is trial 163 with value: 13.269781708837542.\u001b[0m\n",
      "\u001b[32m[I 2021-06-18 19:02:03,311]\u001b[0m Trial 327 finished with value: 349.21902226494336 and parameters: {'params[0]': 2.981832206885049, 'params[1]': -1.744437712395901}. Best is trial 163 with value: 13.269781708837542.\u001b[0m\n",
      "\u001b[32m[I 2021-06-18 19:02:03,331]\u001b[0m Trial 328 finished with value: 227.1682891746523 and parameters: {'params[0]': 3.55353739948492, 'params[1]': -2.3676859692379906}. Best is trial 163 with value: 13.269781708837542.\u001b[0m\n",
      "\u001b[32m[I 2021-06-18 19:02:03,351]\u001b[0m Trial 329 finished with value: 280.1176615576157 and parameters: {'params[0]': 2.7613630262881674, 'params[1]': -3.813780977279322}. Best is trial 163 with value: 13.269781708837542.\u001b[0m\n",
      "\u001b[32m[I 2021-06-18 19:02:03,381]\u001b[0m Trial 330 finished with value: 221.42261193718144 and parameters: {'params[0]': 3.2305913080804483, 'params[1]': -2.786976225634911}. Best is trial 163 with value: 13.269781708837542.\u001b[0m\n",
      "\u001b[32m[I 2021-06-18 19:02:03,411]\u001b[0m Trial 331 finished with value: 657.5158110373535 and parameters: {'params[0]': 3.8609689792658584, 'params[1]': -3.311295415474725}. Best is trial 163 with value: 13.269781708837542.\u001b[0m\n",
      "\u001b[32m[I 2021-06-18 19:02:03,421]\u001b[0m Trial 332 finished with value: 211.33526272235434 and parameters: {'params[0]': 2.6921410382400395, 'params[1]': -2.0906565294544452}. Best is trial 163 with value: 13.269781708837542.\u001b[0m\n"
     ]
    },
    {
     "name": "stderr",
     "output_type": "stream",
     "text": [
      "\u001b[32m[I 2021-06-18 19:02:03,451]\u001b[0m Trial 333 finished with value: 365.38130721657996 and parameters: {'params[0]': 3.127559560892556, 'params[1]': -1.3903732913307938}. Best is trial 163 with value: 13.269781708837542.\u001b[0m\n",
      "\u001b[32m[I 2021-06-18 19:02:03,471]\u001b[0m Trial 334 finished with value: 616.4839093241791 and parameters: {'params[0]': 4.175240633612375, 'params[1]': -2.704031803039094}. Best is trial 163 with value: 13.269781708837542.\u001b[0m\n",
      "\u001b[32m[I 2021-06-18 19:02:03,491]\u001b[0m Trial 335 finished with value: 270.2015032486282 and parameters: {'params[0]': 2.5157483061706944, 'params[1]': -3.1410298342052827}. Best is trial 163 with value: 13.269781708837542.\u001b[0m\n",
      "\u001b[32m[I 2021-06-18 19:02:03,511]\u001b[0m Trial 336 finished with value: 226.0291030456328 and parameters: {'params[0]': 3.4634173674115254, 'params[1]': -2.3046051359477944}. Best is trial 163 with value: 13.269781708837542.\u001b[0m\n",
      "\u001b[32m[I 2021-06-18 19:02:03,531]\u001b[0m Trial 337 finished with value: 1791.7221978702985 and parameters: {'params[0]': 4.9357913179370065, 'params[1]': -1.79645871393198}. Best is trial 163 with value: 13.269781708837542.\u001b[0m\n",
      "\u001b[32m[I 2021-06-18 19:02:03,541]\u001b[0m Trial 338 finished with value: 89.68954232040329 and parameters: {'params[0]': 2.6133728147416644, 'params[1]': -2.567016292585628}. Best is trial 163 with value: 13.269781708837542.\u001b[0m\n",
      "\u001b[32m[I 2021-06-18 19:02:03,571]\u001b[0m Trial 339 finished with value: 247.12553167798353 and parameters: {'params[0]': 2.960709006033909, 'params[1]': -2.0295744868372108}. Best is trial 163 with value: 13.269781708837542.\u001b[0m\n",
      "\u001b[32m[I 2021-06-18 19:02:03,591]\u001b[0m Trial 340 finished with value: 216.35408756060755 and parameters: {'params[0]': 2.005693693981958, 'params[1]': -2.886083147576035}. Best is trial 163 with value: 13.269781708837542.\u001b[0m\n",
      "\u001b[32m[I 2021-06-18 19:02:03,611]\u001b[0m Trial 341 finished with value: 304.23548814460565 and parameters: {'params[0]': 2.7349536972662305, 'params[1]': -3.5270326350858388}. Best is trial 163 with value: 13.269781708837542.\u001b[0m\n",
      "\u001b[32m[I 2021-06-18 19:02:03,631]\u001b[0m Trial 342 finished with value: 487.6446320730904 and parameters: {'params[0]': 3.755281546140856, 'params[1]': -0.6973507659316924}. Best is trial 163 with value: 13.269781708837542.\u001b[0m\n",
      "\u001b[32m[I 2021-06-18 19:02:03,661]\u001b[0m Trial 343 finished with value: 94.65783865890981 and parameters: {'params[0]': 3.228324998274201, 'params[1]': -2.414191944914802}. Best is trial 163 with value: 13.269781708837542.\u001b[0m\n",
      "\u001b[32m[I 2021-06-18 19:02:03,681]\u001b[0m Trial 344 finished with value: 397.1828041700719 and parameters: {'params[0]': 3.4197869612114307, 'params[1]': -4.068648120014923}. Best is trial 163 with value: 13.269781708837542.\u001b[0m\n",
      "\u001b[32m[I 2021-06-18 19:02:03,691]\u001b[0m Trial 345 finished with value: 41.90454278041217 and parameters: {'params[0]': 3.1100800711996817, 'params[1]': -2.461586881671925}. Best is trial 163 with value: 13.269781708837542.\u001b[0m\n",
      "\u001b[32m[I 2021-06-18 19:02:03,711]\u001b[0m Trial 346 finished with value: 678.8307505909141 and parameters: {'params[0]': 3.89186212004131, 'params[1]': -1.4770355702647195}. Best is trial 163 with value: 13.269781708837542.\u001b[0m\n",
      "\u001b[32m[I 2021-06-18 19:02:03,731]\u001b[0m Trial 347 finished with value: 307.0656758296046 and parameters: {'params[0]': 3.1790028587887234, 'params[1]': -2.986431515429842}. Best is trial 163 with value: 13.269781708837542.\u001b[0m\n",
      "\u001b[32m[I 2021-06-18 19:02:03,761]\u001b[0m Trial 348 finished with value: 387.39726746938913 and parameters: {'params[0]': 3.3635542179966, 'params[1]': -1.8858958555383636}. Best is trial 163 with value: 13.269781708837542.\u001b[0m\n",
      "\u001b[32m[I 2021-06-18 19:02:03,781]\u001b[0m Trial 349 finished with value: 570.4324394718552 and parameters: {'params[0]': 4.209327735832108, 'params[1]': -2.5127716306984347}. Best is trial 163 with value: 13.269781708837542.\u001b[0m\n",
      "\u001b[32m[I 2021-06-18 19:02:03,801]\u001b[0m Trial 350 finished with value: 569.2204579005476 and parameters: {'params[0]': 3.713161902278179, 'params[1]': -3.2522416706513937}. Best is trial 163 with value: 13.269781708837542.\u001b[0m\n",
      "\u001b[32m[I 2021-06-18 19:02:03,821]\u001b[0m Trial 351 finished with value: 149.37555815741314 and parameters: {'params[0]': 2.920626263500017, 'params[1]': -2.2428540048083025}. Best is trial 163 with value: 13.269781708837542.\u001b[0m\n",
      "\u001b[32m[I 2021-06-18 19:02:03,851]\u001b[0m Trial 352 finished with value: 194.4987282228489 and parameters: {'params[0]': 3.217149099128928, 'params[1]': -2.7461636782084518}. Best is trial 163 with value: 13.269781708837542.\u001b[0m\n",
      "\u001b[32m[I 2021-06-18 19:02:03,871]\u001b[0m Trial 353 finished with value: 274.28208498094097 and parameters: {'params[0]': 2.535061692349361, 'params[1]': -1.8508686163198311}. Best is trial 163 with value: 13.269781708837542.\u001b[0m\n",
      "\u001b[32m[I 2021-06-18 19:02:03,891]\u001b[0m Trial 354 finished with value: 50.86785718922231 and parameters: {'params[0]': 3.1622184572485037, 'params[1]': -2.4715949737933967}. Best is trial 163 with value: 13.269781708837542.\u001b[0m\n",
      "\u001b[32m[I 2021-06-18 19:02:03,911]\u001b[0m Trial 355 finished with value: 497.1734068168597 and parameters: {'params[0]': 3.5961300545646537, 'params[1]': -1.4004906647388526}. Best is trial 163 with value: 13.269781708837542.\u001b[0m\n",
      "\u001b[32m[I 2021-06-18 19:02:03,931]\u001b[0m Trial 356 finished with value: 215.42751771441175 and parameters: {'params[0]': 3.1420695354268355, 'params[1]': -2.1574231114008735}. Best is trial 163 with value: 13.269781708837542.\u001b[0m\n",
      "\u001b[32m[I 2021-06-18 19:02:03,951]\u001b[0m Trial 357 finished with value: 1145.997412526829 and parameters: {'params[0]': 4.54507593049107, 'params[1]': -2.9866553892616228}. Best is trial 163 with value: 13.269781708837542.\u001b[0m\n",
      "\u001b[32m[I 2021-06-18 19:02:03,981]\u001b[0m Trial 358 finished with value: 292.89896965859464 and parameters: {'params[0]': 3.7873699160942103, 'params[1]': -2.4997743214833927}. Best is trial 163 with value: 13.269781708837542.\u001b[0m\n",
      "\u001b[32m[I 2021-06-18 19:02:03,991]\u001b[0m Trial 359 finished with value: 360.9767646988528 and parameters: {'params[0]': 3.090949237408108, 'params[1]': -3.5209930311601556}. Best is trial 163 with value: 13.269781708837542.\u001b[0m\n",
      "\u001b[32m[I 2021-06-18 19:02:04,011]\u001b[0m Trial 360 finished with value: 275.0262941506377 and parameters: {'params[0]': 2.1739667446681605, 'params[1]': -1.7387945139236538}. Best is trial 163 with value: 13.269781708837542.\u001b[0m\n",
      "\u001b[32m[I 2021-06-18 19:02:04,031]\u001b[0m Trial 361 finished with value: 663.8423106406689 and parameters: {'params[0]': 4.150837163302118, 'params[1]': -2.148024416399215}. Best is trial 163 with value: 13.269781708837542.\u001b[0m\n",
      "\u001b[32m[I 2021-06-18 19:02:04,051]\u001b[0m Trial 362 finished with value: 270.89819596678495 and parameters: {'params[0]': 3.4574662966585317, 'params[1]': -2.7668204781978734}. Best is trial 163 with value: 13.269781708837542.\u001b[0m\n",
      "\u001b[32m[I 2021-06-18 19:02:04,071]\u001b[0m Trial 363 finished with value: 304.3108546788124 and parameters: {'params[0]': 2.785568081976365, 'params[1]': -3.225416553566698}. Best is trial 163 with value: 13.269781708837542.\u001b[0m\n",
      "\u001b[32m[I 2021-06-18 19:02:04,091]\u001b[0m Trial 364 finished with value: 107.146575206348 and parameters: {'params[0]': 2.490262005159918, 'params[1]': -2.4150838824121954}. Best is trial 163 with value: 13.269781708837542.\u001b[0m\n",
      "\u001b[32m[I 2021-06-18 19:02:04,111]\u001b[0m Trial 365 finished with value: 314.303028153577 and parameters: {'params[0]': 3.1177132502450253, 'params[1]': -1.1922386647403242}. Best is trial 163 with value: 13.269781708837542.\u001b[0m\n",
      "\u001b[32m[I 2021-06-18 19:02:04,131]\u001b[0m Trial 366 finished with value: 331.4700377208777 and parameters: {'params[0]': 3.519777074005598, 'params[1]': -2.826961620426689}. Best is trial 163 with value: 13.269781708837542.\u001b[0m\n",
      "\u001b[32m[I 2021-06-18 19:02:04,161]\u001b[0m Trial 367 finished with value: 223.34181822652343 and parameters: {'params[0]': 2.006507046825873, 'params[1]': -2.0332594288696373}. Best is trial 163 with value: 13.269781708837542.\u001b[0m\n",
      "\u001b[32m[I 2021-06-18 19:02:04,191]\u001b[0m Trial 368 finished with value: 301.58844186755795 and parameters: {'params[0]': 2.9427161892307447, 'params[1]': -0.17312926748719892}. Best is trial 163 with value: 13.269781708837542.\u001b[0m\n",
      "\u001b[32m[I 2021-06-18 19:02:04,221]\u001b[0m Trial 369 finished with value: 129.6623148548678 and parameters: {'params[0]': 2.464990006595825, 'params[1]': -2.338828028605941}. Best is trial 163 with value: 13.269781708837542.\u001b[0m\n"
     ]
    },
    {
     "name": "stderr",
     "output_type": "stream",
     "text": [
      "\u001b[32m[I 2021-06-18 19:02:04,241]\u001b[0m Trial 370 finished with value: 716.2656708647871 and parameters: {'params[0]': 3.9069630848198855, 'params[1]': -1.6563361400215655}. Best is trial 163 with value: 13.269781708837542.\u001b[0m\n",
      "\u001b[32m[I 2021-06-18 19:02:04,261]\u001b[0m Trial 371 finished with value: 374.79453475543517 and parameters: {'params[0]': 3.263985143991838, 'params[1]': -4.787026193315434}. Best is trial 163 with value: 13.269781708837542.\u001b[0m\n",
      "\u001b[32m[I 2021-06-18 19:02:04,281]\u001b[0m Trial 372 finished with value: 271.9392611142756 and parameters: {'params[0]': 2.7640560088873336, 'params[1]': -3.075926656346158}. Best is trial 163 with value: 13.269781708837542.\u001b[0m\n",
      "\u001b[32m[I 2021-06-18 19:02:04,301]\u001b[0m Trial 373 finished with value: 132.31513349824067 and parameters: {'params[0]': 2.280144340489845, 'params[1]': -2.5666403126507795}. Best is trial 163 with value: 13.269781708837542.\u001b[0m\n",
      "\u001b[32m[I 2021-06-18 19:02:04,321]\u001b[0m Trial 374 finished with value: 413.20036213051435 and parameters: {'params[0]': 3.473797125643611, 'params[1]': -3.8826645233570947}. Best is trial 163 with value: 13.269781708837542.\u001b[0m\n",
      "\u001b[32m[I 2021-06-18 19:02:04,331]\u001b[0m Trial 375 finished with value: 3731.309943945401 and parameters: {'params[0]': 5.765540783017931, 'params[1]': -2.026842379170187}. Best is trial 163 with value: 13.269781708837542.\u001b[0m\n",
      "\u001b[32m[I 2021-06-18 19:02:04,351]\u001b[0m Trial 376 finished with value: 328.9745808278667 and parameters: {'params[0]': 2.95089270071623, 'params[1]': -3.462128189536124}. Best is trial 163 with value: 13.269781708837542.\u001b[0m\n",
      "\u001b[32m[I 2021-06-18 19:02:04,371]\u001b[0m Trial 377 finished with value: 21009.363518703063 and parameters: {'params[0]': 7.447457090798775, 'params[1]': -2.7236493902087657}. Best is trial 163 with value: 13.269781708837542.\u001b[0m\n",
      "\u001b[32m[I 2021-06-18 19:02:04,401]\u001b[0m Trial 378 finished with value: 180.9338922286863 and parameters: {'params[0]': 1.6942048138779997, 'params[1]': -2.3920240586492754}. Best is trial 163 with value: 13.269781708837542.\u001b[0m\n",
      "\u001b[32m[I 2021-06-18 19:02:04,411]\u001b[0m Trial 379 finished with value: 308.1626493292106 and parameters: {'params[0]': 2.551307565214137, 'params[1]': -1.691926681587232}. Best is trial 163 with value: 13.269781708837542.\u001b[0m\n",
      "\u001b[32m[I 2021-06-18 19:02:04,431]\u001b[0m Trial 380 finished with value: 548.3612311312074 and parameters: {'params[0]': 3.7789864771234054, 'params[1]': -3.0931845410843213}. Best is trial 163 with value: 13.269781708837542.\u001b[0m\n",
      "\u001b[32m[I 2021-06-18 19:02:04,451]\u001b[0m Trial 381 finished with value: 242.17179655858186 and parameters: {'params[0]': 3.229950295052436, 'params[1]': -2.139766325205896}. Best is trial 163 with value: 13.269781708837542.\u001b[0m\n",
      "\u001b[32m[I 2021-06-18 19:02:04,471]\u001b[0m Trial 382 finished with value: 178.11121723413575 and parameters: {'params[0]': 1.9521354809164015, 'params[1]': -2.681439597813715}. Best is trial 163 with value: 13.269781708837542.\u001b[0m\n",
      "\u001b[32m[I 2021-06-18 19:02:04,491]\u001b[0m Trial 383 finished with value: 858.9963396784613 and parameters: {'params[0]': 4.278212288797118, 'params[1]': -2.9583887403537084}. Best is trial 163 with value: 13.269781708837542.\u001b[0m\n",
      "\u001b[32m[I 2021-06-18 19:02:04,511]\u001b[0m Trial 384 finished with value: 300.1871568253176 and parameters: {'params[0]': 2.8123529523855257, 'params[1]': -1.2945088525934791}. Best is trial 163 with value: 13.269781708837542.\u001b[0m\n",
      "\u001b[32m[I 2021-06-18 19:02:04,531]\u001b[0m Trial 385 finished with value: 244.02939601787696 and parameters: {'params[0]': 2.3789239816014427, 'params[1]': -1.9451173213513782}. Best is trial 163 with value: 13.269781708837542.\u001b[0m\n",
      "\u001b[32m[I 2021-06-18 19:02:04,551]\u001b[0m Trial 386 finished with value: 136.38441864933668 and parameters: {'params[0]': 3.393282592204979, 'params[1]': -2.4381714213055816}. Best is trial 163 with value: 13.269781708837542.\u001b[0m\n",
      "\u001b[32m[I 2021-06-18 19:02:04,571]\u001b[0m Trial 387 finished with value: 338.2420595142867 and parameters: {'params[0]': 2.9902662227833505, 'params[1]': -3.503596986724428}. Best is trial 163 with value: 13.269781708837542.\u001b[0m\n",
      "\u001b[32m[I 2021-06-18 19:02:04,601]\u001b[0m Trial 388 finished with value: 141.38840139295348 and parameters: {'params[0]': 2.6153378687092808, 'params[1]': -2.696056438293713}. Best is trial 163 with value: 13.269781708837542.\u001b[0m\n",
      "\u001b[32m[I 2021-06-18 19:02:04,621]\u001b[0m Trial 389 finished with value: 348.3811645776334 and parameters: {'params[0]': 3.6582987101919247, 'params[1]': -2.2073630530078523}. Best is trial 163 with value: 13.269781708837542.\u001b[0m\n",
      "\u001b[32m[I 2021-06-18 19:02:04,641]\u001b[0m Trial 390 finished with value: 258.67423092118185 and parameters: {'params[0]': 2.1830152260585605, 'params[1]': -3.149681922803858}. Best is trial 163 with value: 13.269781708837542.\u001b[0m\n",
      "\u001b[32m[I 2021-06-18 19:02:04,661]\u001b[0m Trial 391 finished with value: 262.2979961330493 and parameters: {'params[0]': 1.412164937049429, 'params[1]': -1.6734766382092965}. Best is trial 163 with value: 13.269781708837542.\u001b[0m\n",
      "\u001b[32m[I 2021-06-18 19:02:04,691]\u001b[0m Trial 392 finished with value: 43.02396475179149 and parameters: {'params[0]': 3.162528572143821, 'params[1]': -2.5059710792683134}. Best is trial 163 with value: 13.269781708837542.\u001b[0m\n",
      "\u001b[32m[I 2021-06-18 19:02:04,711]\u001b[0m Trial 393 finished with value: 271.27814585079415 and parameters: {'params[0]': 2.9215510968225993, 'params[1]': -0.973636010990728}. Best is trial 163 with value: 13.269781708837542.\u001b[0m\n",
      "\u001b[32m[I 2021-06-18 19:02:04,731]\u001b[0m Trial 394 finished with value: 561.8735091960859 and parameters: {'params[0]': 3.9647110340784177, 'params[1]': -2.8616976618420393}. Best is trial 163 with value: 13.269781708837542.\u001b[0m\n",
      "\u001b[32m[I 2021-06-18 19:02:04,751]\u001b[0m Trial 395 finished with value: 296.75465951846655 and parameters: {'params[0]': 2.555587711246901, 'params[1]': -3.3908413065574434}. Best is trial 163 with value: 13.269781708837542.\u001b[0m\n",
      "\u001b[32m[I 2021-06-18 19:02:04,771]\u001b[0m Trial 396 finished with value: 226.02529667902053 and parameters: {'params[0]': 1.994993165024575, 'params[1]': -2.01644109441773}. Best is trial 163 with value: 13.269781708837542.\u001b[0m\n",
      "\u001b[32m[I 2021-06-18 19:02:04,801]\u001b[0m Trial 397 finished with value: 349.9689286845767 and parameters: {'params[0]': 3.2186998787997094, 'params[1]': -3.800208483942373}. Best is trial 163 with value: 13.269781708837542.\u001b[0m\n",
      "\u001b[32m[I 2021-06-18 19:02:04,821]\u001b[0m Trial 398 finished with value: 43.61690962620225 and parameters: {'params[0]': 2.8117931996364574, 'params[1]': -2.480080815708532}. Best is trial 163 with value: 13.269781708837542.\u001b[0m\n",
      "\u001b[32m[I 2021-06-18 19:02:04,851]\u001b[0m Trial 399 finished with value: 371.66424465682223 and parameters: {'params[0]': 3.540113665805636, 'params[1]': -2.879025125619723}. Best is trial 163 with value: 13.269781708837542.\u001b[0m\n",
      "\u001b[32m[I 2021-06-18 19:02:04,871]\u001b[0m Trial 400 finished with value: 363.3980537349055 and parameters: {'params[0]': 2.949266459710584, 'params[1]': -1.5964415837748098}. Best is trial 163 with value: 13.269781708837542.\u001b[0m\n",
      "\u001b[32m[I 2021-06-18 19:02:04,891]\u001b[0m Trial 401 finished with value: 219.4652627011542 and parameters: {'params[0]': 3.5271629079845948, 'params[1]': -2.361803393598538}. Best is trial 163 with value: 13.269781708837542.\u001b[0m\n",
      "\u001b[32m[I 2021-06-18 19:02:04,921]\u001b[0m Trial 402 finished with value: 320.2268880265668 and parameters: {'params[0]': 2.9718077660886753, 'params[1]': -3.1837816977510927}. Best is trial 163 with value: 13.269781708837542.\u001b[0m\n",
      "\u001b[32m[I 2021-06-18 19:02:04,931]\u001b[0m Trial 403 finished with value: 230.13689232397456 and parameters: {'params[0]': 2.4145427927567362, 'params[1]': -2.014415379993666}. Best is trial 163 with value: 13.269781708837542.\u001b[0m\n",
      "\u001b[32m[I 2021-06-18 19:02:04,951]\u001b[0m Trial 404 finished with value: 500.14073851157264 and parameters: {'params[0]': 4.000919496124629, 'params[1]': -2.7196083273307377}. Best is trial 163 with value: 13.269781708837542.\u001b[0m\n",
      "\u001b[32m[I 2021-06-18 19:02:04,981]\u001b[0m Trial 405 finished with value: 49.59242767899957 and parameters: {'params[0]': 2.818492642536204, 'params[1]': -2.453584573364701}. Best is trial 163 with value: 13.269781708837542.\u001b[0m\n",
      "\u001b[32m[I 2021-06-18 19:02:05,001]\u001b[0m Trial 406 finished with value: 1378.7908570027544 and parameters: {'params[0]': 4.797804360167665, 'params[1]': -2.0332207091204704}. Best is trial 163 with value: 13.269781708837542.\u001b[0m\n"
     ]
    },
    {
     "name": "stderr",
     "output_type": "stream",
     "text": [
      "\u001b[32m[I 2021-06-18 19:02:05,031]\u001b[0m Trial 407 finished with value: 427.077282170674 and parameters: {'params[0]': 3.2413402589515052, 'params[1]': -1.5996468119514735}. Best is trial 163 with value: 13.269781708837542.\u001b[0m\n",
      "\u001b[32m[I 2021-06-18 19:02:05,051]\u001b[0m Trial 408 finished with value: 447.96992870376744 and parameters: {'params[0]': 3.5652267303638214, 'params[1]': -3.1074741562758303}. Best is trial 163 with value: 13.269781708837542.\u001b[0m\n",
      "\u001b[32m[I 2021-06-18 19:02:05,071]\u001b[0m Trial 409 finished with value: 98.46656321738887 and parameters: {'params[0]': 2.8778948052662865, 'params[1]': -2.3425569482363793}. Best is trial 163 with value: 13.269781708837542.\u001b[0m\n",
      "\u001b[32m[I 2021-06-18 19:02:05,091]\u001b[0m Trial 410 finished with value: 166.03731233579538 and parameters: {'params[0]': 2.1661840976281352, 'params[1]': -2.6923076218166786}. Best is trial 163 with value: 13.269781708837542.\u001b[0m\n",
      "\u001b[32m[I 2021-06-18 19:02:05,111]\u001b[0m Trial 411 finished with value: 882.6185000766579 and parameters: {'params[0]': 4.260534840111551, 'params[1]': 9.958917780616424}. Best is trial 163 with value: 13.269781708837542.\u001b[0m\n",
      "\u001b[32m[I 2021-06-18 19:02:05,131]\u001b[0m Trial 412 finished with value: 334.613563071965 and parameters: {'params[0]': 3.1025217452224076, 'params[1]': -1.8556007643445505}. Best is trial 163 with value: 13.269781708837542.\u001b[0m\n",
      "\u001b[32m[I 2021-06-18 19:02:05,151]\u001b[0m Trial 413 finished with value: 602.8168809880464 and parameters: {'params[0]': 3.790238236286147, 'params[1]': -3.627644582657303}. Best is trial 163 with value: 13.269781708837542.\u001b[0m\n",
      "\u001b[32m[I 2021-06-18 19:02:05,171]\u001b[0m Trial 414 finished with value: 278.2295146237956 and parameters: {'params[0]': 2.7308082953515598, 'params[1]': 4.551808258246651}. Best is trial 163 with value: 13.269781708837542.\u001b[0m\n",
      "\u001b[32m[I 2021-06-18 19:02:05,191]\u001b[0m Trial 415 finished with value: 157.06936004413984 and parameters: {'params[0]': 3.245391690863388, 'params[1]': -2.308037661683035}. Best is trial 163 with value: 13.269781708837542.\u001b[0m\n",
      "\u001b[32m[I 2021-06-18 19:02:05,211]\u001b[0m Trial 416 finished with value: 231.22077804917092 and parameters: {'params[0]': 1.8457252163267333, 'params[1]': -2.9702985203459478}. Best is trial 163 with value: 13.269781708837542.\u001b[0m\n",
      "\u001b[32m[I 2021-06-18 19:02:05,231]\u001b[0m Trial 417 finished with value: 117.15713130766771 and parameters: {'params[0]': 2.350353797119241, 'params[1]': -2.5043105127216667}. Best is trial 163 with value: 13.269781708837542.\u001b[0m\n",
      "\u001b[32m[I 2021-06-18 19:02:05,251]\u001b[0m Trial 418 finished with value: 302.15252441620555 and parameters: {'params[0]': 2.6796913901959485, 'params[1]': -3.2710350902611895}. Best is trial 163 with value: 13.269781708837542.\u001b[0m\n",
      "\u001b[32m[I 2021-06-18 19:02:05,271]\u001b[0m Trial 419 finished with value: 385.85344321913493 and parameters: {'params[0]': 3.4040922991166456, 'params[1]': -1.2189659326496531}. Best is trial 163 with value: 13.269781708837542.\u001b[0m\n",
      "\u001b[32m[I 2021-06-18 19:02:05,301]\u001b[0m Trial 420 finished with value: 299.21340725637856 and parameters: {'params[0]': 2.9970376967975567, 'params[1]': -4.1571549825479845}. Best is trial 163 with value: 13.269781708837542.\u001b[0m\n",
      "\u001b[32m[I 2021-06-18 19:02:05,321]\u001b[0m Trial 421 finished with value: 426.14596203457194 and parameters: {'params[0]': 3.7925414152465318, 'params[1]': -2.1784358393910392}. Best is trial 163 with value: 13.269781708837542.\u001b[0m\n",
      "\u001b[32m[I 2021-06-18 19:02:05,341]\u001b[0m Trial 422 finished with value: 174.68954887137653 and parameters: {'params[0]': 2.2767493561025676, 'params[1]': -2.7418151103500596}. Best is trial 163 with value: 13.269781708837542.\u001b[0m\n",
      "\u001b[32m[I 2021-06-18 19:02:05,361]\u001b[0m Trial 423 finished with value: 296.5528159464833 and parameters: {'params[0]': 2.717484100929468, 'params[1]': -1.8224399462788825}. Best is trial 163 with value: 13.269781708837542.\u001b[0m\n",
      "\u001b[32m[I 2021-06-18 19:02:05,381]\u001b[0m Trial 424 finished with value: 188.36708349636734 and parameters: {'params[0]': 3.205505753459147, 'params[1]': -2.2374760886999563}. Best is trial 163 with value: 13.269781708837542.\u001b[0m\n",
      "\u001b[32m[I 2021-06-18 19:02:05,411]\u001b[0m Trial 425 finished with value: 451.53010843975835 and parameters: {'params[0]': 3.617397674507031, 'params[1]': -2.968814706313548}. Best is trial 163 with value: 13.269781708837542.\u001b[0m\n",
      "\u001b[32m[I 2021-06-18 19:02:05,421]\u001b[0m Trial 426 finished with value: 274.2358083575101 and parameters: {'params[0]': 1.8292910645592633, 'params[1]': -1.5375325615355968}. Best is trial 163 with value: 13.269781708837542.\u001b[0m\n",
      "\u001b[32m[I 2021-06-18 19:02:05,451]\u001b[0m Trial 427 finished with value: 75.57395765317234 and parameters: {'params[0]': 2.7653928376843084, 'params[1]': -2.5799254222959482}. Best is trial 163 with value: 13.269781708837542.\u001b[0m\n",
      "\u001b[32m[I 2021-06-18 19:02:05,471]\u001b[0m Trial 428 finished with value: 390.3618665658807 and parameters: {'params[0]': 3.1897184816758024, 'params[1]': -3.4076451797656895}. Best is trial 163 with value: 13.269781708837542.\u001b[0m\n",
      "\u001b[32m[I 2021-06-18 19:02:05,491]\u001b[0m Trial 429 finished with value: 557.3757187234075 and parameters: {'params[0]': 4.124163052865319, 'params[1]': -2.6709205020134115}. Best is trial 163 with value: 13.269781708837542.\u001b[0m\n",
      "\u001b[32m[I 2021-06-18 19:02:05,521]\u001b[0m Trial 430 finished with value: 261.8132424135262 and parameters: {'params[0]': 2.8366495526856763, 'params[1]': -1.9686415759050933}. Best is trial 163 with value: 13.269781708837542.\u001b[0m\n",
      "\u001b[32m[I 2021-06-18 19:02:05,541]\u001b[0m Trial 431 finished with value: 461.1624008026699 and parameters: {'params[0]': 3.484574123963389, 'params[1]': -0.5885185099175771}. Best is trial 163 with value: 13.269781708837542.\u001b[0m\n",
      "\u001b[32m[I 2021-06-18 19:02:05,561]\u001b[0m Trial 432 finished with value: 146.54741022786774 and parameters: {'params[0]': 2.2293959663084415, 'params[1]': -2.3564610827007306}. Best is trial 163 with value: 13.269781708837542.\u001b[0m\n",
      "\u001b[32m[I 2021-06-18 19:02:05,581]\u001b[0m Trial 433 finished with value: 284.4426938823049 and parameters: {'params[0]': 2.9955614668403463, 'params[1]': -3.020642658126509}. Best is trial 163 with value: 13.269781708837542.\u001b[0m\n",
      "\u001b[32m[I 2021-06-18 19:02:05,611]\u001b[0m Trial 434 finished with value: 304.01149336476453 and parameters: {'params[0]': 2.57887121999107, 'params[1]': 0.9753516359619494}. Best is trial 163 with value: 13.269781708837542.\u001b[0m\n",
      "\u001b[32m[I 2021-06-18 19:02:05,622]\u001b[0m Trial 435 finished with value: 1110.3329315856442 and parameters: {'params[0]': 4.524777561303942, 'params[1]': -1.3390668592121222}. Best is trial 163 with value: 13.269781708837542.\u001b[0m\n",
      "\u001b[32m[I 2021-06-18 19:02:05,642]\u001b[0m Trial 436 finished with value: 95.07732551089822 and parameters: {'params[0]': 3.265383882883217, 'params[1]': -2.573072537390977}. Best is trial 163 with value: 13.269781708837542.\u001b[0m\n",
      "\u001b[32m[I 2021-06-18 19:02:05,672]\u001b[0m Trial 437 finished with value: 240.090956081375 and parameters: {'params[0]': 1.5014621149842222, 'params[1]': -1.9182190553189349}. Best is trial 163 with value: 13.269781708837542.\u001b[0m\n",
      "\u001b[32m[I 2021-06-18 19:02:05,692]\u001b[0m Trial 438 finished with value: 302.25579325476366 and parameters: {'params[0]': 2.715034235894937, 'params[1]': -3.5588561459039116}. Best is trial 163 with value: 13.269781708837542.\u001b[0m\n",
      "\u001b[32m[I 2021-06-18 19:02:05,712]\u001b[0m Trial 439 finished with value: 545.1783914239975 and parameters: {'params[0]': 3.9112703927324763, 'params[1]': -2.883744366518866}. Best is trial 163 with value: 13.269781708837542.\u001b[0m\n",
      "\u001b[32m[I 2021-06-18 19:02:05,732]\u001b[0m Trial 440 finished with value: 173.4842906801728 and parameters: {'params[0]': 2.292429277373871, 'params[1]': -2.2288529757001374}. Best is trial 163 with value: 13.269781708837542.\u001b[0m\n",
      "\u001b[32m[I 2021-06-18 19:02:05,762]\u001b[0m Trial 441 finished with value: 504.41068344131827 and parameters: {'params[0]': 3.5445735218192986, 'params[1]': -3.291864198564168}. Best is trial 163 with value: 13.269781708837542.\u001b[0m\n",
      "\u001b[32m[I 2021-06-18 19:02:05,782]\u001b[0m Trial 442 finished with value: 49.90193469641564 and parameters: {'params[0]': 3.035193792271854, 'params[1]': -2.572534879484992}. Best is trial 163 with value: 13.269781708837542.\u001b[0m\n",
      "\u001b[32m[I 2021-06-18 19:02:05,812]\u001b[0m Trial 443 finished with value: 292.0310671166462 and parameters: {'params[0]': 2.937279730000471, 'params[1]': -3.884540505559075}. Best is trial 163 with value: 13.269781708837542.\u001b[0m\n"
     ]
    },
    {
     "name": "stderr",
     "output_type": "stream",
     "text": [
      "\u001b[32m[I 2021-06-18 19:02:05,832]\u001b[0m Trial 444 finished with value: 178.38515410980028 and parameters: {'params[0]': 2.0249986958857935, 'params[1]': -2.7111075723254823}. Best is trial 163 with value: 13.269781708837542.\u001b[0m\n",
      "\u001b[32m[I 2021-06-18 19:02:05,862]\u001b[0m Trial 445 finished with value: 305.7302936000587 and parameters: {'params[0]': 2.6395473544248302, 'params[1]': -1.7536469127049434}. Best is trial 163 with value: 13.269781708837542.\u001b[0m\n",
      "\u001b[32m[I 2021-06-18 19:02:05,882]\u001b[0m Trial 446 finished with value: 368.18356654725693 and parameters: {'params[0]': 3.286895051389066, 'params[1]': -3.124202035092101}. Best is trial 163 with value: 13.269781708837542.\u001b[0m\n",
      "\u001b[32m[I 2021-06-18 19:02:05,912]\u001b[0m Trial 447 finished with value: 146.26174063987594 and parameters: {'params[0]': 2.375804052650174, 'params[1]': -2.306934941571746}. Best is trial 163 with value: 13.269781708837542.\u001b[0m\n",
      "\u001b[32m[I 2021-06-18 19:02:05,932]\u001b[0m Trial 448 finished with value: 363.28849438157573 and parameters: {'params[0]': 3.6266286187796544, 'params[1]': -2.814153067047713}. Best is trial 163 with value: 13.269781708837542.\u001b[0m\n",
      "\u001b[32m[I 2021-06-18 19:02:05,962]\u001b[0m Trial 449 finished with value: 264.4545288966649 and parameters: {'params[0]': 2.967028478641072, 'params[1]': -1.989015718813296}. Best is trial 163 with value: 13.269781708837542.\u001b[0m\n",
      "\u001b[32m[I 2021-06-18 19:02:05,982]\u001b[0m Trial 450 finished with value: 244.42514857311403 and parameters: {'params[0]': -4.878105818950215, 'params[1]': -2.2775929663032755}. Best is trial 163 with value: 13.269781708837542.\u001b[0m\n",
      "\u001b[32m[I 2021-06-18 19:02:06,002]\u001b[0m Trial 451 finished with value: 244.5041694252676 and parameters: {'params[0]': -7.6477430247735025, 'params[1]': -2.580787153222278}. Best is trial 163 with value: 13.269781708837542.\u001b[0m\n",
      "\u001b[32m[I 2021-06-18 19:02:06,022]\u001b[0m Trial 452 finished with value: 313.96456470509474 and parameters: {'params[0]': 2.7731347636745802, 'params[1]': -3.313837864359}. Best is trial 163 with value: 13.269781708837542.\u001b[0m\n",
      "\u001b[32m[I 2021-06-18 19:02:06,042]\u001b[0m Trial 453 finished with value: 364.61507375374373 and parameters: {'params[0]': 3.3025458830731504, 'params[1]': -1.0702422607294455}. Best is trial 163 with value: 13.269781708837542.\u001b[0m\n",
      "\u001b[32m[I 2021-06-18 19:02:06,072]\u001b[0m Trial 454 finished with value: 702.3941141394885 and parameters: {'params[0]': 3.9305879085997426, 'params[1]': -1.4780715845456613}. Best is trial 163 with value: 13.269781708837542.\u001b[0m\n",
      "\u001b[32m[I 2021-06-18 19:02:06,092]\u001b[0m Trial 455 finished with value: 163.41352983496486 and parameters: {'params[0]': 2.026865544425993, 'params[1]': -2.6172190000545106}. Best is trial 163 with value: 13.269781708837542.\u001b[0m\n",
      "\u001b[32m[I 2021-06-18 19:02:06,102]\u001b[0m Trial 456 finished with value: 259.08987575070705 and parameters: {'params[0]': 2.4301386725188703, 'params[1]': -3.0859864935748833}. Best is trial 163 with value: 13.269781708837542.\u001b[0m\n",
      "\u001b[32m[I 2021-06-18 19:02:06,132]\u001b[0m Trial 457 finished with value: 278.72192714016364 and parameters: {'params[0]': 3.0906177481496973, 'params[1]': -1.9961296329409506}. Best is trial 163 with value: 13.269781708837542.\u001b[0m\n",
      "\u001b[32m[I 2021-06-18 19:02:06,152]\u001b[0m Trial 458 finished with value: 174.0894042868787 and parameters: {'params[0]': 3.4387935218218315, 'params[1]': -2.3868408107911296}. Best is trial 163 with value: 13.269781708837542.\u001b[0m\n",
      "\u001b[32m[I 2021-06-18 19:02:06,172]\u001b[0m Trial 459 finished with value: 219.7098120362208 and parameters: {'params[0]': 1.7696645730738885, 'params[1]': -2.8912786044862417}. Best is trial 163 with value: 13.269781708837542.\u001b[0m\n",
      "\u001b[32m[I 2021-06-18 19:02:06,192]\u001b[0m Trial 460 finished with value: 301.6679361537564 and parameters: {'params[0]': 2.7070321332161766, 'params[1]': -3.5382448071852295}. Best is trial 163 with value: 13.269781708837542.\u001b[0m\n",
      "\u001b[32m[I 2021-06-18 19:02:06,212]\u001b[0m Trial 461 finished with value: 286.7483385355972 and parameters: {'params[0]': 2.298759029792291, 'params[1]': -1.6895210965664385}. Best is trial 163 with value: 13.269781708837542.\u001b[0m\n",
      "\u001b[32m[I 2021-06-18 19:02:06,242]\u001b[0m Trial 462 finished with value: 707.794025810686 and parameters: {'params[0]': 4.188201425608641, 'params[1]': -2.107607314901183}. Best is trial 163 with value: 13.269781708837542.\u001b[0m\n",
      "\u001b[32m[I 2021-06-18 19:02:06,262]\u001b[0m Trial 463 finished with value: 270.56164913806987 and parameters: {'params[0]': 3.7479411575399295, 'params[1]': -2.5200810182448703}. Best is trial 163 with value: 13.269781708837542.\u001b[0m\n",
      "\u001b[32m[I 2021-06-18 19:02:06,292]\u001b[0m Trial 464 finished with value: 250.59904925074594 and parameters: {'params[0]': 2.9906399697698456, 'params[1]': -2.925716493643635}. Best is trial 163 with value: 13.269781708837542.\u001b[0m\n",
      "\u001b[32m[I 2021-06-18 19:02:06,312]\u001b[0m Trial 465 finished with value: 189.80665395595216 and parameters: {'params[0]': 2.6947485749688007, 'params[1]': -2.143049470330351}. Best is trial 163 with value: 13.269781708837542.\u001b[0m\n",
      "\u001b[32m[I 2021-06-18 19:02:06,332]\u001b[0m Trial 466 finished with value: 203.7489796715984 and parameters: {'params[0]': 1.31345152453611, 'params[1]': -2.6009434123087045}. Best is trial 163 with value: 13.269781708837542.\u001b[0m\n",
      "\u001b[32m[I 2021-06-18 19:02:06,352]\u001b[0m Trial 467 finished with value: 448.0076107897169 and parameters: {'params[0]': 3.3185989358742707, 'params[1]': -1.5802825643552114}. Best is trial 163 with value: 13.269781708837542.\u001b[0m\n",
      "\u001b[32m[I 2021-06-18 19:02:06,382]\u001b[0m Trial 468 finished with value: 313.7134917620233 and parameters: {'params[0]': 3.035016071622692, 'params[1]': -3.7642892776657986}. Best is trial 163 with value: 13.269781708837542.\u001b[0m\n",
      "\u001b[32m[I 2021-06-18 19:02:06,392]\u001b[0m Trial 469 finished with value: 275.5163079034606 and parameters: {'params[0]': 2.4221252606155548, 'params[1]': -3.201923912340723}. Best is trial 163 with value: 13.269781708837542.\u001b[0m\n",
      "\u001b[32m[I 2021-06-18 19:02:06,422]\u001b[0m Trial 470 finished with value: 429.6296795445025 and parameters: {'params[0]': 3.5157237806163426, 'params[1]': -1.9101257234138345}. Best is trial 163 with value: 13.269781708837542.\u001b[0m\n",
      "\u001b[32m[I 2021-06-18 19:02:06,442]\u001b[0m Trial 471 finished with value: 193.81069387368467 and parameters: {'params[0]': 2.05722604598936, 'params[1]': -2.7872556337887824}. Best is trial 163 with value: 13.269781708837542.\u001b[0m\n",
      "\u001b[32m[I 2021-06-18 19:02:06,462]\u001b[0m Trial 472 finished with value: 90.89204833152786 and parameters: {'params[0]': 2.793471530688884, 'params[1]': -2.3649096740197746}. Best is trial 163 with value: 13.269781708837542.\u001b[0m\n",
      "\u001b[32m[I 2021-06-18 19:02:06,482]\u001b[0m Trial 473 finished with value: 583.0605348985372 and parameters: {'params[0]': 3.7663692875187804, 'params[1]': -3.2215810317517573}. Best is trial 163 with value: 13.269781708837542.\u001b[0m\n",
      "\u001b[32m[I 2021-06-18 19:02:06,502]\u001b[0m Trial 474 finished with value: 130.7925799610937 and parameters: {'params[0]': 3.1010678693333413, 'params[1]': -2.303997116482023}. Best is trial 163 with value: 13.269781708837542.\u001b[0m\n",
      "\u001b[32m[I 2021-06-18 19:02:06,532]\u001b[0m Trial 475 finished with value: 905.3260019141293 and parameters: {'params[0]': 4.438930323103657, 'params[1]': -2.775474520608475}. Best is trial 163 with value: 13.269781708837542.\u001b[0m\n",
      "\u001b[32m[I 2021-06-18 19:02:06,552]\u001b[0m Trial 476 finished with value: 291.35996414691385 and parameters: {'params[0]': 2.5694732562826474, 'params[1]': -1.7867227154869976}. Best is trial 163 with value: 13.269781708837542.\u001b[0m\n",
      "\u001b[32m[I 2021-06-18 19:02:06,572]\u001b[0m Trial 477 finished with value: 244.33373450891594 and parameters: {'params[0]': 1.7536504103945958, 'params[1]': -4.3611007686271295}. Best is trial 163 with value: 13.269781708837542.\u001b[0m\n",
      "\u001b[32m[I 2021-06-18 19:02:06,602]\u001b[0m Trial 478 finished with value: 381.87269187768277 and parameters: {'params[0]': 3.354675533928481, 'params[1]': -1.1480855351799573}. Best is trial 163 with value: 13.269781708837542.\u001b[0m\n",
      "\u001b[32m[I 2021-06-18 19:02:06,622]\u001b[0m Trial 479 finished with value: 134.8262908465461 and parameters: {'params[0]': 2.194570299147028, 'params[1]': -2.493346168636845}. Best is trial 163 with value: 13.269781708837542.\u001b[0m\n",
      "\u001b[32m[I 2021-06-18 19:02:06,642]\u001b[0m Trial 480 finished with value: 340.0435273308313 and parameters: {'params[0]': 2.9881140795253405, 'params[1]': -3.5247717049284386}. Best is trial 163 with value: 13.269781708837542.\u001b[0m\n"
     ]
    },
    {
     "name": "stderr",
     "output_type": "stream",
     "text": [
      "\u001b[32m[I 2021-06-18 19:02:06,672]\u001b[0m Trial 481 finished with value: 602.9793085101062 and parameters: {'params[0]': 4.025287193778876, 'params[1]': -2.0829861488862225}. Best is trial 163 with value: 13.269781708837542.\u001b[0m\n",
      "\u001b[32m[I 2021-06-18 19:02:06,692]\u001b[0m Trial 482 finished with value: 243.89648152027746 and parameters: {'params[0]': 2.46393723743658, 'params[1]': -3.0058667738759937}. Best is trial 163 with value: 13.269781708837542.\u001b[0m\n",
      "\u001b[32m[I 2021-06-18 19:02:06,712]\u001b[0m Trial 483 finished with value: 244.68539046260483 and parameters: {'params[0]': -3.2654549007092264, 'params[1]': -1.505487072115408}. Best is trial 163 with value: 13.269781708837542.\u001b[0m\n",
      "\u001b[32m[I 2021-06-18 19:02:06,732]\u001b[0m Trial 484 finished with value: 212.38789044876108 and parameters: {'params[0]': 3.559473291955226, 'params[1]': -2.6105493810865825}. Best is trial 163 with value: 13.269781708837542.\u001b[0m\n",
      "\u001b[32m[I 2021-06-18 19:02:06,752]\u001b[0m Trial 485 finished with value: 224.14450392821763 and parameters: {'params[0]': 2.843887770548808, 'params[1]': -2.0665325315428795}. Best is trial 163 with value: 13.269781708837542.\u001b[0m\n",
      "\u001b[32m[I 2021-06-18 19:02:06,782]\u001b[0m Trial 486 finished with value: 7641.813184998385 and parameters: {'params[0]': 6.4375725562174315, 'params[1]': -2.950801126875738}. Best is trial 163 with value: 13.269781708837542.\u001b[0m\n",
      "\u001b[32m[I 2021-06-18 19:02:06,802]\u001b[0m Trial 487 finished with value: 92.62937841386069 and parameters: {'params[0]': 3.1105710833447273, 'params[1]': -2.3735702062058515}. Best is trial 163 with value: 13.269781708837542.\u001b[0m\n",
      "\u001b[32m[I 2021-06-18 19:02:06,822]\u001b[0m Trial 488 finished with value: 286.84870292257926 and parameters: {'params[0]': 2.4540458158553924, 'params[1]': -3.2757809805831046}. Best is trial 163 with value: 13.269781708837542.\u001b[0m\n",
      "\u001b[32m[I 2021-06-18 19:02:06,842]\u001b[0m Trial 489 finished with value: 375.87441758251936 and parameters: {'params[0]': 3.3955199530466813, 'params[1]': -1.9436691016592214}. Best is trial 163 with value: 13.269781708837542.\u001b[0m\n",
      "\u001b[32m[I 2021-06-18 19:02:06,862]\u001b[0m Trial 490 finished with value: 136.77900534157067 and parameters: {'params[0]': 2.7555684168714647, 'params[1]': -2.707740523677138}. Best is trial 163 with value: 13.269781708837542.\u001b[0m\n",
      "\u001b[32m[I 2021-06-18 19:02:06,882]\u001b[0m Trial 491 finished with value: 609.9386029292499 and parameters: {'params[0]': 3.8824510605187563, 'params[1]': -3.74415045870897}. Best is trial 163 with value: 13.269781708837542.\u001b[0m\n",
      "\u001b[32m[I 2021-06-18 19:02:06,902]\u001b[0m Trial 492 finished with value: 243.60415407867904 and parameters: {'params[0]': 2.131946458857895, 'params[1]': -0.7237014397057369}. Best is trial 163 with value: 13.269781708837542.\u001b[0m\n",
      "\u001b[32m[I 2021-06-18 19:02:06,922]\u001b[0m Trial 493 finished with value: 393.42420339113045 and parameters: {'params[0]': 3.1052118831109525, 'params[1]': -1.57687271303487}. Best is trial 163 with value: 13.269781708837542.\u001b[0m\n",
      "\u001b[32m[I 2021-06-18 19:02:06,952]\u001b[0m Trial 494 finished with value: 196.00061689474146 and parameters: {'params[0]': 1.5541296676602663, 'params[1]': -2.299883360008414}. Best is trial 163 with value: 13.269781708837542.\u001b[0m\n",
      "\u001b[32m[I 2021-06-18 19:02:06,962]\u001b[0m Trial 495 finished with value: 249.75414765451296 and parameters: {'params[0]': 2.6622971692040514, 'params[1]': -3.0102525853681237}. Best is trial 163 with value: 13.269781708837542.\u001b[0m\n",
      "\u001b[32m[I 2021-06-18 19:02:06,992]\u001b[0m Trial 496 finished with value: 478.6590995816566 and parameters: {'params[0]': 3.6109142412357316, 'params[1]': 9.260053523576223}. Best is trial 163 with value: 13.269781708837542.\u001b[0m\n",
      "\u001b[32m[I 2021-06-18 19:02:07,012]\u001b[0m Trial 497 finished with value: 89.43623992583451 and parameters: {'params[0]': 3.228887930695365, 'params[1]': -2.5796026288802842}. Best is trial 163 with value: 13.269781708837542.\u001b[0m\n",
      "\u001b[32m[I 2021-06-18 19:02:07,032]\u001b[0m Trial 498 finished with value: 240.08008383862594 and parameters: {'params[0]': 2.1712590153216755, 'params[1]': -1.9400335081287046}. Best is trial 163 with value: 13.269781708837542.\u001b[0m\n",
      "\u001b[32m[I 2021-06-18 19:02:07,052]\u001b[0m Trial 499 finished with value: 124.12493421216995 and parameters: {'params[0]': 2.853001759228132, 'params[1]': -2.2919146181516905}. Best is trial 163 with value: 13.269781708837542.\u001b[0m\n",
      "\u001b[32m[I 2021-06-18 19:02:07,072]\u001b[0m Trial 500 finished with value: 279.3789242061648 and parameters: {'params[0]': 2.481336199945116, 'params[1]': -3.2061507890302567}. Best is trial 163 with value: 13.269781708837542.\u001b[0m\n",
      "\u001b[32m[I 2021-06-18 19:02:07,102]\u001b[0m Trial 501 finished with value: 283.15093243766677 and parameters: {'params[0]': 3.4641721873031823, 'params[1]': -2.781239111110468}. Best is trial 163 with value: 13.269781708837542.\u001b[0m\n",
      "\u001b[32m[I 2021-06-18 19:02:07,122]\u001b[0m Trial 502 finished with value: 901.70420487701 and parameters: {'params[0]': 4.312659966403892, 'params[1]': -1.3064995633867782}. Best is trial 163 with value: 13.269781708837542.\u001b[0m\n",
      "\u001b[32m[I 2021-06-18 19:02:07,142]\u001b[0m Trial 503 finished with value: 262.32603015693394 and parameters: {'params[0]': 1.8028570972952673, 'params[1]': -1.7656561152325172}. Best is trial 163 with value: 13.269781708837542.\u001b[0m\n",
      "\u001b[32m[I 2021-06-18 19:02:07,162]\u001b[0m Trial 504 finished with value: 365.5333729478708 and parameters: {'params[0]': 3.120461362348195, 'params[1]': -3.4473154392088876}. Best is trial 163 with value: 13.269781708837542.\u001b[0m\n",
      "\u001b[32m[I 2021-06-18 19:02:07,182]\u001b[0m Trial 505 finished with value: 380.39350786985153 and parameters: {'params[0]': 3.920193810643113, 'params[1]': -2.454050293094455}. Best is trial 163 with value: 13.269781708837542.\u001b[0m\n",
      "\u001b[32m[I 2021-06-18 19:02:07,212]\u001b[0m Trial 506 finished with value: 231.84354378605386 and parameters: {'params[0]': 1.0097857008882223, 'params[1]': -2.8841974706321425}. Best is trial 163 with value: 13.269781708837542.\u001b[0m\n",
      "\u001b[32m[I 2021-06-18 19:02:07,232]\u001b[0m Trial 507 finished with value: 255.4546714867912 and parameters: {'params[0]': 2.62049324925849, 'params[1]': -4.140274074803584}. Best is trial 163 with value: 13.269781708837542.\u001b[0m\n",
      "\u001b[32m[I 2021-06-18 19:02:07,262]\u001b[0m Trial 508 finished with value: 226.46162262102834 and parameters: {'params[0]': 3.05531584877897, 'params[1]': -2.097885619819582}. Best is trial 163 with value: 13.269781708837542.\u001b[0m\n",
      "\u001b[32m[I 2021-06-18 19:02:07,282]\u001b[0m Trial 509 finished with value: 144.49617954866216 and parameters: {'params[0]': 2.1947173210900774, 'params[1]': -2.589605817034111}. Best is trial 163 with value: 13.269781708837542.\u001b[0m\n",
      "\u001b[32m[I 2021-06-18 19:02:07,312]\u001b[0m Trial 510 finished with value: 486.9733154661636 and parameters: {'params[0]': 3.6519694065507027, 'params[1]': -3.137349240355479}. Best is trial 163 with value: 13.269781708837542.\u001b[0m\n",
      "\u001b[32m[I 2021-06-18 19:02:07,332]\u001b[0m Trial 511 finished with value: 1267.3079716933207 and parameters: {'params[0]': 4.73603550462987, 'params[1]': -2.2165870147845834}. Best is trial 163 with value: 13.269781708837542.\u001b[0m\n",
      "\u001b[32m[I 2021-06-18 19:02:07,362]\u001b[0m Trial 512 finished with value: 156.319727984514 and parameters: {'params[0]': 2.8014087761634343, 'params[1]': -2.7498459338851697}. Best is trial 163 with value: 13.269781708837542.\u001b[0m\n",
      "\u001b[32m[I 2021-06-18 19:02:07,382]\u001b[0m Trial 513 finished with value: 402.26402361293043 and parameters: {'params[0]': 3.2718607885029733, 'params[1]': -1.7772891402076394}. Best is trial 163 with value: 13.269781708837542.\u001b[0m\n",
      "\u001b[32m[I 2021-06-18 19:02:07,402]\u001b[0m Trial 514 finished with value: 275.7115450512254 and parameters: {'params[0]': 2.407100716038187, 'params[1]': -3.6465281222481734}. Best is trial 163 with value: 13.269781708837542.\u001b[0m\n",
      "\u001b[32m[I 2021-06-18 19:02:07,432]\u001b[0m Trial 515 finished with value: 93.33046007178977 and parameters: {'params[0]': 2.861267394868708, 'params[1]': -2.353149334420546}. Best is trial 163 with value: 13.269781708837542.\u001b[0m\n",
      "\u001b[32m[I 2021-06-18 19:02:07,452]\u001b[0m Trial 516 finished with value: 442.3652018511631 and parameters: {'params[0]': 3.352998872462749, 'params[1]': -1.5023230156208802}. Best is trial 163 with value: 13.269781708837542.\u001b[0m\n",
      "\u001b[32m[I 2021-06-18 19:02:07,482]\u001b[0m Trial 517 finished with value: 235.13498735239767 and parameters: {'params[0]': 1.8646065241418754, 'params[1]': -2.997632519266268}. Best is trial 163 with value: 13.269781708837542.\u001b[0m\n"
     ]
    },
    {
     "name": "stderr",
     "output_type": "stream",
     "text": [
      "\u001b[32m[I 2021-06-18 19:02:07,502]\u001b[0m Trial 518 finished with value: 464.8855086992418 and parameters: {'params[0]': 3.729142982212717, 'params[1]': -2.0272710489152566}. Best is trial 163 with value: 13.269781708837542.\u001b[0m\n",
      "\u001b[32m[I 2021-06-18 19:02:07,532]\u001b[0m Trial 519 finished with value: 81.48814501447761 and parameters: {'params[0]': 2.613528498537764, 'params[1]': -2.526550197252136}. Best is trial 163 with value: 13.269781708837542.\u001b[0m\n",
      "\u001b[32m[I 2021-06-18 19:02:07,552]\u001b[0m Trial 520 finished with value: 134.4384177798912 and parameters: {'params[0]': 2.2212773262867147, 'params[1]': -2.527156392843986}. Best is trial 163 with value: 13.269781708837542.\u001b[0m\n",
      "\u001b[32m[I 2021-06-18 19:02:07,572]\u001b[0m Trial 521 finished with value: 298.3350577919637 and parameters: {'params[0]': 2.5677199428222397, 'params[1]': -3.346256840762829}. Best is trial 163 with value: 13.269781708837542.\u001b[0m\n",
      "\u001b[32m[I 2021-06-18 19:02:07,592]\u001b[0m Trial 522 finished with value: 238.6200034382261 and parameters: {'params[0]': 1.9307010012656112, 'params[1]': -0.9659578684966124}. Best is trial 163 with value: 13.269781708837542.\u001b[0m\n",
      "\u001b[32m[I 2021-06-18 19:02:07,612]\u001b[0m Trial 523 finished with value: 244.65144689405952 and parameters: {'params[0]': 1.4064316338780811, 'params[1]': -1.8837451782391579}. Best is trial 163 with value: 13.269781708837542.\u001b[0m\n",
      "\u001b[32m[I 2021-06-18 19:02:07,642]\u001b[0m Trial 524 finished with value: 138.53756935644594 and parameters: {'params[0]': 2.712992516428018, 'params[1]': -2.2634609047518532}. Best is trial 163 with value: 13.269781708837542.\u001b[0m\n",
      "\u001b[32m[I 2021-06-18 19:02:07,662]\u001b[0m Trial 525 finished with value: 235.57035372940794 and parameters: {'params[0]': 3.067320009047895, 'params[1]': -2.864398626026157}. Best is trial 163 with value: 13.269781708837542.\u001b[0m\n",
      "\u001b[32m[I 2021-06-18 19:02:07,682]\u001b[0m Trial 526 finished with value: 276.40368167399777 and parameters: {'params[0]': 2.3155872286172836, 'params[1]': -1.3747038445154443}. Best is trial 163 with value: 13.269781708837542.\u001b[0m\n",
      "\u001b[32m[I 2021-06-18 19:02:07,712]\u001b[0m Trial 527 finished with value: 91.68595694046398 and parameters: {'params[0]': 3.3193420299154477, 'params[1]': -2.5118106125860473}. Best is trial 163 with value: 13.269781708837542.\u001b[0m\n",
      "\u001b[32m[I 2021-06-18 19:02:07,732]\u001b[0m Trial 528 finished with value: 206.29196744874443 and parameters: {'params[0]': 2.620641611317951, 'params[1]': -2.1020290741701344}. Best is trial 163 with value: 13.269781708837542.\u001b[0m\n",
      "\u001b[32m[I 2021-06-18 19:02:07,752]\u001b[0m Trial 529 finished with value: 284.45533639641377 and parameters: {'params[0]': 2.9455373057865524, 'params[1]': -3.054299426559148}. Best is trial 163 with value: 13.269781708837542.\u001b[0m\n",
      "\u001b[32m[I 2021-06-18 19:02:07,772]\u001b[0m Trial 530 finished with value: 484.7601221794927 and parameters: {'params[0]': 3.50585759952565, 'params[1]': -1.7734951615369492}. Best is trial 163 with value: 13.269781708837542.\u001b[0m\n",
      "\u001b[32m[I 2021-06-18 19:02:07,802]\u001b[0m Trial 531 finished with value: 496.370042223345 and parameters: {'params[0]': 4.049132013846055, 'params[1]': -2.655864373791622}. Best is trial 163 with value: 13.269781708837542.\u001b[0m\n",
      "\u001b[32m[I 2021-06-18 19:02:07,822]\u001b[0m Trial 532 finished with value: 273.640530662509 and parameters: {'params[0]': 2.08875144666868, 'params[1]': -3.3907259093066293}. Best is trial 163 with value: 13.269781708837542.\u001b[0m\n",
      "\u001b[32m[I 2021-06-18 19:02:07,852]\u001b[0m Trial 533 finished with value: 143.95222678872602 and parameters: {'params[0]': 2.4879910836449346, 'params[1]': -2.2874749469368303}. Best is trial 163 with value: 13.269781708837542.\u001b[0m\n",
      "\u001b[32m[I 2021-06-18 19:02:07,872]\u001b[0m Trial 534 finished with value: 291.3414815602606 and parameters: {'params[0]': 2.9445390416938237, 'params[1]': -3.914213736177781}. Best is trial 163 with value: 13.269781708837542.\u001b[0m\n",
      "\u001b[32m[I 2021-06-18 19:02:07,902]\u001b[0m Trial 535 finished with value: 277.3065088546416 and parameters: {'params[0]': 3.296356925948109, 'params[1]': -2.851411974002123}. Best is trial 163 with value: 13.269781708837542.\u001b[0m\n",
      "\u001b[32m[I 2021-06-18 19:02:07,912]\u001b[0m Trial 536 finished with value: 263.3236582192111 and parameters: {'params[0]': 1.645798627207999, 'params[1]': -1.726905764458099}. Best is trial 163 with value: 13.269781708837542.\u001b[0m\n",
      "\u001b[32m[I 2021-06-18 19:02:07,942]\u001b[0m Trial 537 finished with value: 251.44612722956805 and parameters: {'params[0]': 3.7096995134425788, 'params[1]': -2.5274687719172775}. Best is trial 163 with value: 13.269781708837542.\u001b[0m\n",
      "\u001b[32m[I 2021-06-18 19:02:07,972]\u001b[0m Trial 538 finished with value: 206.4816349774639 and parameters: {'params[0]': 2.6059088661638437, 'params[1]': -2.1012444239895984}. Best is trial 163 with value: 13.269781708837542.\u001b[0m\n",
      "\u001b[32m[I 2021-06-18 19:02:07,992]\u001b[0m Trial 539 finished with value: 311.24634868308465 and parameters: {'params[0]': 2.9787529159286747, 'params[1]': -3.150615081427813}. Best is trial 163 with value: 13.269781708837542.\u001b[0m\n",
      "\u001b[32m[I 2021-06-18 19:02:08,012]\u001b[0m Trial 540 finished with value: 153.1333674313978 and parameters: {'params[0]': 2.1927091139607855, 'params[1]': -2.643535512820939}. Best is trial 163 with value: 13.269781708837542.\u001b[0m\n",
      "\u001b[32m[I 2021-06-18 19:02:08,032]\u001b[0m Trial 541 finished with value: 383.1655451691084 and parameters: {'params[0]': 3.390611538901654, 'params[1]': -1.2608198885589772}. Best is trial 163 with value: 13.269781708837542.\u001b[0m\n",
      "\u001b[32m[I 2021-06-18 19:02:08,062]\u001b[0m Trial 542 finished with value: 584.2296283562874 and parameters: {'params[0]': 4.07685717559698, 'params[1]': -2.2266726699090773}. Best is trial 163 with value: 13.269781708837542.\u001b[0m\n",
      "\u001b[32m[I 2021-06-18 19:02:08,082]\u001b[0m Trial 543 finished with value: 231.20994774940414 and parameters: {'params[0]': 2.8128371814100412, 'params[1]': -2.913038241034843}. Best is trial 163 with value: 13.269781708837542.\u001b[0m\n",
      "\u001b[32m[I 2021-06-18 19:02:08,102]\u001b[0m Trial 544 finished with value: 2640.855792508728 and parameters: {'params[0]': 5.322588712078823, 'params[1]': -3.4961816739697555}. Best is trial 163 with value: 13.269781708837542.\u001b[0m\n",
      "\u001b[32m[I 2021-06-18 19:02:08,132]\u001b[0m Trial 545 finished with value: 272.3321793186185 and parameters: {'params[0]': 2.3783820263509545, 'params[1]': -1.808603973483153}. Best is trial 163 with value: 13.269781708837542.\u001b[0m\n",
      "\u001b[32m[I 2021-06-18 19:02:08,152]\u001b[0m Trial 546 finished with value: 90.93579713744849 and parameters: {'params[0]': 3.1924720260720667, 'params[1]': -2.4063709419420394}. Best is trial 163 with value: 13.269781708837542.\u001b[0m\n",
      "\u001b[32m[I 2021-06-18 19:02:08,182]\u001b[0m Trial 547 finished with value: 521.9021557609287 and parameters: {'params[0]': 3.7324190932216172, 'params[1]': -3.1043414022524414}. Best is trial 163 with value: 13.269781708837542.\u001b[0m\n",
      "\u001b[32m[I 2021-06-18 19:02:08,212]\u001b[0m Trial 548 finished with value: 227.50924317885114 and parameters: {'params[0]': 2.7262230303532062, 'params[1]': -2.0506670081006813}. Best is trial 163 with value: 13.269781708837542.\u001b[0m\n",
      "\u001b[32m[I 2021-06-18 19:02:08,232]\u001b[0m Trial 549 finished with value: 153.87199638513886 and parameters: {'params[0]': 2.144985043580834, 'params[1]': -2.621363297063112}. Best is trial 163 with value: 13.269781708837542.\u001b[0m\n",
      "\u001b[32m[I 2021-06-18 19:02:08,252]\u001b[0m Trial 550 finished with value: 382.6708414388924 and parameters: {'params[0]': 3.1371972951222356, 'params[1]': -1.4806001161427655}. Best is trial 163 with value: 13.269781708837542.\u001b[0m\n",
      "\u001b[32m[I 2021-06-18 19:02:08,282]\u001b[0m Trial 551 finished with value: 824.5963197248852 and parameters: {'params[0]': 4.378032098454583, 'params[1]': -2.7555093212644954}. Best is trial 163 with value: 13.269781708837542.\u001b[0m\n",
      "\u001b[32m[I 2021-06-18 19:02:08,302]\u001b[0m Trial 552 finished with value: 158.1102237667507 and parameters: {'params[0]': 2.635465813886858, 'params[1]': -2.221698953586549}. Best is trial 163 with value: 13.269781708837542.\u001b[0m\n",
      "\u001b[32m[I 2021-06-18 19:02:08,332]\u001b[0m Trial 553 finished with value: 493.71983724609584 and parameters: {'params[0]': 3.5436839355521728, 'params[1]': -3.619364039315659}. Best is trial 163 with value: 13.269781708837542.\u001b[0m\n",
      "\u001b[32m[I 2021-06-18 19:02:08,362]\u001b[0m Trial 554 finished with value: 252.53119720537646 and parameters: {'params[0]': 1.82250654168853, 'params[1]': -3.1915292055590077}. Best is trial 163 with value: 13.269781708837542.\u001b[0m\n"
     ]
    },
    {
     "name": "stderr",
     "output_type": "stream",
     "text": [
      "\u001b[32m[I 2021-06-18 19:02:08,402]\u001b[0m Trial 555 finished with value: 356.39804346419817 and parameters: {'params[0]': 2.96707340218557, 'params[1]': -1.7064318965338827}. Best is trial 163 with value: 13.269781708837542.\u001b[0m\n",
      "\u001b[32m[I 2021-06-18 19:02:08,432]\u001b[0m Trial 556 finished with value: 107.42379292910397 and parameters: {'params[0]': 2.47161893549825, 'params[1]': -2.4254553649549653}. Best is trial 163 with value: 13.269781708837542.\u001b[0m\n",
      "\u001b[32m[I 2021-06-18 19:02:08,452]\u001b[0m Trial 557 finished with value: 241.7937375024099 and parameters: {'params[0]': 3.3188237382139616, 'params[1]': -2.782515197331628}. Best is trial 163 with value: 13.269781708837542.\u001b[0m\n",
      "\u001b[32m[I 2021-06-18 19:02:08,482]\u001b[0m Trial 558 finished with value: 555.7357432205723 and parameters: {'params[0]': 3.903081647693118, 'params[1]': -2.0248970674748357}. Best is trial 163 with value: 13.269781708837542.\u001b[0m\n",
      "\u001b[32m[I 2021-06-18 19:02:08,502]\u001b[0m Trial 559 finished with value: 261.4761845590878 and parameters: {'params[0]': 2.8934596243454487, 'params[1]': -0.9093320986861153}. Best is trial 163 with value: 13.269781708837542.\u001b[0m\n",
      "\u001b[32m[I 2021-06-18 19:02:08,532]\u001b[0m Trial 560 finished with value: 239.83834344356026 and parameters: {'params[0]': 2.0432597059182314, 'params[1]': -3.0175257523558567}. Best is trial 163 with value: 13.269781708837542.\u001b[0m\n",
      "\u001b[32m[I 2021-06-18 19:02:08,552]\u001b[0m Trial 561 finished with value: 445.68747409906985 and parameters: {'params[0]': 3.485393309986078, 'params[1]': -4.969999526280962}. Best is trial 163 with value: 13.269781708837542.\u001b[0m\n",
      "\u001b[32m[I 2021-06-18 19:02:08,572]\u001b[0m Trial 562 finished with value: 132.94181529570807 and parameters: {'params[0]': 2.5931151375442822, 'params[1]': -2.294846318211196}. Best is trial 163 with value: 13.269781708837542.\u001b[0m\n",
      "\u001b[32m[I 2021-06-18 19:02:08,602]\u001b[0m Trial 563 finished with value: 103.20538641210885 and parameters: {'params[0]': 3.1088636731618475, 'params[1]': -2.6385214803850707}. Best is trial 163 with value: 13.269781708837542.\u001b[0m\n",
      "\u001b[32m[I 2021-06-18 19:02:08,622]\u001b[0m Trial 564 finished with value: 244.58912697174947 and parameters: {'params[0]': -2.4054226629446416, 'params[1]': -3.3699444722821217}. Best is trial 163 with value: 13.269781708837542.\u001b[0m\n",
      "\u001b[32m[I 2021-06-18 19:02:08,642]\u001b[0m Trial 565 finished with value: 265.7233160069782 and parameters: {'params[0]': 1.6029340625409214, 'params[1]': -1.465243351242358}. Best is trial 163 with value: 13.269781708837542.\u001b[0m\n",
      "\u001b[32m[I 2021-06-18 19:02:08,672]\u001b[0m Trial 566 finished with value: 21133.072012019493 and parameters: {'params[0]': 7.467299427820214, 'params[1]': -1.8961882498554825}. Best is trial 163 with value: 13.269781708837542.\u001b[0m\n",
      "\u001b[32m[I 2021-06-18 19:02:08,697]\u001b[0m Trial 567 finished with value: 126.00975100811222 and parameters: {'params[0]': 2.274007220005288, 'params[1]': -2.497173344629521}. Best is trial 163 with value: 13.269781708837542.\u001b[0m\n",
      "\u001b[32m[I 2021-06-18 19:02:08,722]\u001b[0m Trial 568 finished with value: 289.1728627480411 and parameters: {'params[0]': 2.870350156912441, 'params[1]': -3.798265194365575}. Best is trial 163 with value: 13.269781708837542.\u001b[0m\n",
      "\u001b[32m[I 2021-06-18 19:02:08,742]\u001b[0m Trial 569 finished with value: 518.7231063940786 and parameters: {'params[0]': 3.76630226104727, 'params[1]': -2.9601098980346077}. Best is trial 163 with value: 13.269781708837542.\u001b[0m\n",
      "\u001b[32m[I 2021-06-18 19:02:08,762]\u001b[0m Trial 570 finished with value: 228.1129134605666 and parameters: {'params[0]': 1.1879290873875032, 'params[1]': -2.0692118157922064}. Best is trial 163 with value: 13.269781708837542.\u001b[0m\n",
      "\u001b[32m[I 2021-06-18 19:02:08,792]\u001b[0m Trial 571 finished with value: 93.385575960901 and parameters: {'params[0]': 3.2406265864133488, 'params[1]': -2.4229941151179197}. Best is trial 163 with value: 13.269781708837542.\u001b[0m\n",
      "\u001b[32m[I 2021-06-18 19:02:08,812]\u001b[0m Trial 572 finished with value: 207.59206794193025 and parameters: {'params[0]': 2.462268832572705, 'params[1]': -2.8617518624217646}. Best is trial 163 with value: 13.269781708837542.\u001b[0m\n",
      "\u001b[32m[I 2021-06-18 19:02:08,837]\u001b[0m Trial 573 finished with value: 341.84514517253376 and parameters: {'params[0]': 2.8431242033779, 'params[1]': -1.6879634569704156}. Best is trial 163 with value: 13.269781708837542.\u001b[0m\n",
      "\u001b[32m[I 2021-06-18 19:02:08,862]\u001b[0m Trial 574 finished with value: 502.82605591098184 and parameters: {'params[0]': 3.530706800774886, 'params[1]': -3.354600901082911}. Best is trial 163 with value: 13.269781708837542.\u001b[0m\n",
      "\u001b[32m[I 2021-06-18 19:02:08,887]\u001b[0m Trial 575 finished with value: 182.10965151516615 and parameters: {'params[0]': 2.1555648280139907, 'params[1]': -2.217406945903539}. Best is trial 163 with value: 13.269781708837542.\u001b[0m\n",
      "\u001b[32m[I 2021-06-18 19:02:08,917]\u001b[0m Trial 576 finished with value: 509.56013409506164 and parameters: {'params[0]': 4.1125768206835325, 'params[1]': -2.470866932890019}. Best is trial 163 with value: 13.269781708837542.\u001b[0m\n",
      "\u001b[32m[I 2021-06-18 19:02:08,937]\u001b[0m Trial 577 finished with value: 255.87850999103154 and parameters: {'params[0]': 3.2547008537328073, 'params[1]': -0.03350052865674158}. Best is trial 163 with value: 13.269781708837542.\u001b[0m\n",
      "\u001b[32m[I 2021-06-18 19:02:08,962]\u001b[0m Trial 578 finished with value: 203.2304892306188 and parameters: {'params[0]': 2.6704964180637525, 'params[1]': -2.8513448769510448}. Best is trial 163 with value: 13.269781708837542.\u001b[0m\n",
      "\u001b[32m[I 2021-06-18 19:02:08,992]\u001b[0m Trial 579 finished with value: 352.5629589676299 and parameters: {'params[0]': 3.0853092977093772, 'params[1]': -3.2153308285401807}. Best is trial 163 with value: 13.269781708837542.\u001b[0m\n",
      "\u001b[32m[I 2021-06-18 19:02:09,012]\u001b[0m Trial 580 finished with value: 246.90509814833874 and parameters: {'params[0]': 1.9177479886499633, 'params[1]': -1.211182508015654}. Best is trial 163 with value: 13.269781708837542.\u001b[0m\n",
      "\u001b[32m[I 2021-06-18 19:02:09,037]\u001b[0m Trial 581 finished with value: 246.7423610873349 and parameters: {'params[0]': 2.4228707764553805, 'params[1]': -1.9391709563025417}. Best is trial 163 with value: 13.269781708837542.\u001b[0m\n",
      "\u001b[32m[I 2021-06-18 19:02:09,062]\u001b[0m Trial 582 finished with value: 332.5089669973854 and parameters: {'params[0]': 3.772315073384638, 'params[1]': -2.657171742875464}. Best is trial 163 with value: 13.269781708837542.\u001b[0m\n",
      "\u001b[32m[I 2021-06-18 19:02:09,087]\u001b[0m Trial 583 finished with value: 197.31912094542022 and parameters: {'params[0]': 2.8157265345808966, 'params[1]': -2.124599194710574}. Best is trial 163 with value: 13.269781708837542.\u001b[0m\n",
      "\u001b[32m[I 2021-06-18 19:02:09,117]\u001b[0m Trial 584 finished with value: 377.7263530730909 and parameters: {'params[0]': 3.353016605981722, 'params[1]': -4.07487532618368}. Best is trial 163 with value: 13.269781708837542.\u001b[0m\n",
      "\u001b[32m[I 2021-06-18 19:02:09,142]\u001b[0m Trial 585 finished with value: 276.91454558371703 and parameters: {'params[0]': 2.4115757594090423, 'params[1]': -1.7982726214273947}. Best is trial 163 with value: 13.269781708837542.\u001b[0m\n",
      "\u001b[32m[I 2021-06-18 19:02:09,167]\u001b[0m Trial 586 finished with value: 990.1437224376706 and parameters: {'params[0]': 4.419277949181854, 'params[1]': -2.9606644742900254}. Best is trial 163 with value: 13.269781708837542.\u001b[0m\n",
      "\u001b[32m[I 2021-06-18 19:02:09,192]\u001b[0m Trial 587 finished with value: 42.52980003265622 and parameters: {'params[0]': 2.9746340714027037, 'params[1]': -2.4336855074645545}. Best is trial 163 with value: 13.269781708837542.\u001b[0m\n",
      "\u001b[32m[I 2021-06-18 19:02:09,217]\u001b[0m Trial 588 finished with value: 263.8258239181028 and parameters: {'params[0]': 1.80646463563126, 'params[1]': -3.4578269341538563}. Best is trial 163 with value: 13.269781708837542.\u001b[0m\n",
      "\u001b[32m[I 2021-06-18 19:02:09,242]\u001b[0m Trial 589 finished with value: 87.16205116249871 and parameters: {'params[0]': 2.741088442091449, 'params[1]': -2.3841131045785455}. Best is trial 163 with value: 13.269781708837542.\u001b[0m\n",
      "\u001b[32m[I 2021-06-18 19:02:09,272]\u001b[0m Trial 590 finished with value: 356.36903949344264 and parameters: {'params[0]': 3.559531272581452, 'params[1]': -2.844600640655087}. Best is trial 163 with value: 13.269781708837542.\u001b[0m\n",
      "\u001b[32m[I 2021-06-18 19:02:09,302]\u001b[0m Trial 591 finished with value: 323.7335150915662 and parameters: {'params[0]': 2.977121368450798, 'params[1]': -4.52143306679344}. Best is trial 163 with value: 13.269781708837542.\u001b[0m\n"
     ]
    },
    {
     "name": "stderr",
     "output_type": "stream",
     "text": [
      "\u001b[32m[I 2021-06-18 19:02:09,332]\u001b[0m Trial 592 finished with value: 264.0519376643965 and parameters: {'params[0]': 2.2792689977712013, 'params[1]': 5.939452207236612}. Best is trial 163 with value: 13.269781708837542.\u001b[0m\n",
      "\u001b[32m[I 2021-06-18 19:02:09,357]\u001b[0m Trial 593 finished with value: 311.18929785417777 and parameters: {'params[0]': 2.5953638466846525, 'params[1]': -1.483500359520887}. Best is trial 163 with value: 13.269781708837542.\u001b[0m\n",
      "\u001b[32m[I 2021-06-18 19:02:09,377]\u001b[0m Trial 594 finished with value: 93.90211893009892 and parameters: {'params[0]': 3.3248379011544764, 'params[1]': -2.5171998935663167}. Best is trial 163 with value: 13.269781708837542.\u001b[0m\n",
      "\u001b[32m[I 2021-06-18 19:02:09,397]\u001b[0m Trial 595 finished with value: 324.417067108394 and parameters: {'params[0]': 2.938125862819995, 'params[1]': -3.2181922345645573}. Best is trial 163 with value: 13.269781708837542.\u001b[0m\n",
      "\u001b[32m[I 2021-06-18 19:02:09,432]\u001b[0m Trial 596 finished with value: 605.1607048751574 and parameters: {'params[0]': 3.946410008782984, 'params[1]': -1.9757885301328288}. Best is trial 163 with value: 13.269781708837542.\u001b[0m\n",
      "\u001b[32m[I 2021-06-18 19:02:09,452]\u001b[0m Trial 597 finished with value: 1395.931721328602 and parameters: {'params[0]': 4.901883647067059, 'params[1]': -2.584427338794733}. Best is trial 163 with value: 13.269781708837542.\u001b[0m\n",
      "\u001b[32m[I 2021-06-18 19:02:09,477]\u001b[0m Trial 598 finished with value: 201.75384226286855 and parameters: {'params[0]': 1.9236350758985359, 'params[1]': -2.1639109700203405}. Best is trial 163 with value: 13.269781708837542.\u001b[0m\n",
      "\u001b[32m[I 2021-06-18 19:02:09,502]\u001b[0m Trial 599 finished with value: 250.455430239015 and parameters: {'params[0]': 2.38917043886677, 'params[1]': -3.0436440858064615}. Best is trial 163 with value: 13.269781708837542.\u001b[0m\n",
      "\u001b[32m[I 2021-06-18 19:02:09,527]\u001b[0m Trial 600 finished with value: 512.6491380632724 and parameters: {'params[0]': 3.5925927177760784, 'params[1]': -3.6206078874216896}. Best is trial 163 with value: 13.269781708837542.\u001b[0m\n",
      "\u001b[32m[I 2021-06-18 19:02:09,547]\u001b[0m Trial 601 finished with value: 264.4041602054605 and parameters: {'params[0]': 1.497874275638169, 'params[1]': -1.6617067730801116}. Best is trial 163 with value: 13.269781708837542.\u001b[0m\n",
      "\u001b[32m[I 2021-06-18 19:02:09,572]\u001b[0m Trial 602 finished with value: 150.3253814288896 and parameters: {'params[0]': 3.1024876512425634, 'params[1]': -2.711716182411247}. Best is trial 163 with value: 13.269781708837542.\u001b[0m\n",
      "\u001b[32m[I 2021-06-18 19:02:09,597]\u001b[0m Trial 603 finished with value: 140.2128703964491 and parameters: {'params[0]': 2.693183538627101, 'params[1]': -2.2609292082652868}. Best is trial 163 with value: 13.269781708837542.\u001b[0m\n",
      "\u001b[32m[I 2021-06-18 19:02:09,622]\u001b[0m Trial 604 finished with value: 230.40572037126418 and parameters: {'params[0]': 3.259720747127339, 'params[1]': -2.7898733741552535}. Best is trial 163 with value: 13.269781708837542.\u001b[0m\n",
      "\u001b[32m[I 2021-06-18 19:02:09,652]\u001b[0m Trial 605 finished with value: 247.48985496640358 and parameters: {'params[0]': 2.182346988897825, 'params[1]': -1.1886452578344264}. Best is trial 163 with value: 13.269781708837542.\u001b[0m\n",
      "\u001b[32m[I 2021-06-18 19:02:09,682]\u001b[0m Trial 606 finished with value: 269.5898088708084 and parameters: {'params[0]': 2.752107532550576, 'params[1]': -1.9220009447061273}. Best is trial 163 with value: 13.269781708837542.\u001b[0m\n",
      "\u001b[32m[I 2021-06-18 19:02:09,722]\u001b[0m Trial 607 finished with value: 529.4065868802625 and parameters: {'params[0]': 3.694799267696297, 'params[1]': -3.182185613967302}. Best is trial 163 with value: 13.269781708837542.\u001b[0m\n",
      "\u001b[32m[I 2021-06-18 19:02:09,752]\u001b[0m Trial 608 finished with value: 84.34481502257835 and parameters: {'params[0]': 2.9490904735502825, 'params[1]': -2.3658143335411816}. Best is trial 163 with value: 13.269781708837542.\u001b[0m\n",
      "\u001b[32m[I 2021-06-18 19:02:09,792]\u001b[0m Trial 609 finished with value: 167.42131077517826 and parameters: {'params[0]': 3.406938228654454, 'params[1]': -2.62897399603596}. Best is trial 163 with value: 13.269781708837542.\u001b[0m\n",
      "\u001b[32m[I 2021-06-18 19:02:09,822]\u001b[0m Trial 610 finished with value: 846.9112885277009 and parameters: {'params[0]': 4.190316187677897, 'params[1]': -5.472462121073679}. Best is trial 163 with value: 13.269781708837542.\u001b[0m\n",
      "\u001b[32m[I 2021-06-18 19:02:09,852]\u001b[0m Trial 611 finished with value: 281.7949085669644 and parameters: {'params[0]': 2.4299269581992253, 'params[1]': -0.5306923691271699}. Best is trial 163 with value: 13.269781708837542.\u001b[0m\n",
      "\u001b[32m[I 2021-06-18 19:02:09,882]\u001b[0m Trial 612 finished with value: 273.1546288293686 and parameters: {'params[0]': 1.9530820987553046, 'params[1]': -1.6967528765699154}. Best is trial 163 with value: 13.269781708837542.\u001b[0m\n",
      "\u001b[32m[I 2021-06-18 19:02:09,912]\u001b[0m Trial 613 finished with value: 332.6555732947342 and parameters: {'params[0]': 3.137212056014132, 'params[1]': -3.7802109081345083}. Best is trial 163 with value: 13.269781708837542.\u001b[0m\n",
      "\u001b[32m[I 2021-06-18 19:02:09,952]\u001b[0m Trial 614 finished with value: 261.56379171315024 and parameters: {'params[0]': 2.5361979256889717, 'params[1]': 0.4980783540988969}. Best is trial 163 with value: 13.269781708837542.\u001b[0m\n",
      "\u001b[32m[I 2021-06-18 19:02:09,992]\u001b[0m Trial 615 finished with value: 366.2175948252891 and parameters: {'params[0]': 3.7324684669671315, 'params[1]': -2.2488207080679126}. Best is trial 163 with value: 13.269781708837542.\u001b[0m\n",
      "\u001b[32m[I 2021-06-18 19:02:10,022]\u001b[0m Trial 616 finished with value: 322.28111796666747 and parameters: {'params[0]': 2.883352795879459, 'params[1]': -3.2493304868119095}. Best is trial 163 with value: 13.269781708837542.\u001b[0m\n",
      "\u001b[32m[I 2021-06-18 19:02:10,062]\u001b[0m Trial 617 finished with value: 334.1396491646723 and parameters: {'params[0]': 3.3410032008484207, 'params[1]': -2.938838363023117}. Best is trial 163 with value: 13.269781708837542.\u001b[0m\n",
      "\u001b[32m[I 2021-06-18 19:02:10,092]\u001b[0m Trial 618 finished with value: 217.3135144749233 and parameters: {'params[0]': 2.327008141825395, 'params[1]': -2.064999534049582}. Best is trial 163 with value: 13.269781708837542.\u001b[0m\n",
      "\u001b[32m[I 2021-06-18 19:02:10,132]\u001b[0m Trial 619 finished with value: 79.66234376494583 and parameters: {'params[0]': 2.736828182560412, 'params[1]': -2.580660678894247}. Best is trial 163 with value: 13.269781708837542.\u001b[0m\n",
      "\u001b[32m[I 2021-06-18 19:02:10,162]\u001b[0m Trial 620 finished with value: 61.068658088831334 and parameters: {'params[0]': 3.0337168776099395, 'params[1]': -2.4052931235134087}. Best is trial 163 with value: 13.269781708837542.\u001b[0m\n",
      "\u001b[32m[I 2021-06-18 19:02:10,192]\u001b[0m Trial 621 finished with value: 773.5338033286674 and parameters: {'params[0]': 4.00911783749479, 'params[1]': 3.00318659644683}. Best is trial 163 with value: 13.269781708837542.\u001b[0m\n",
      "\u001b[32m[I 2021-06-18 19:02:10,222]\u001b[0m Trial 622 finished with value: 502.5445195701987 and parameters: {'params[0]': 3.519006057602038, 'params[1]': -1.5028413918861472}. Best is trial 163 with value: 13.269781708837542.\u001b[0m\n",
      "\u001b[32m[I 2021-06-18 19:02:10,252]\u001b[0m Trial 623 finished with value: 81.54520016345963 and parameters: {'params[0]': 3.10615263242619, 'params[1]': -2.392219024804}. Best is trial 163 with value: 13.269781708837542.\u001b[0m\n",
      "\u001b[32m[I 2021-06-18 19:02:10,292]\u001b[0m Trial 624 finished with value: 576.8042245340284 and parameters: {'params[0]': 3.842894071065444, 'params[1]': -1.8977327598037452}. Best is trial 163 with value: 13.269781708837542.\u001b[0m\n",
      "\u001b[32m[I 2021-06-18 19:02:10,322]\u001b[0m Trial 625 finished with value: 343.26595210617177 and parameters: {'params[0]': 3.235706437438629, 'params[1]': -1.0571311258503795}. Best is trial 163 with value: 13.269781708837542.\u001b[0m\n",
      "\u001b[32m[I 2021-06-18 19:02:10,352]\u001b[0m Trial 626 finished with value: 738.5247923720261 and parameters: {'params[0]': 4.304363400067366, 'params[1]': -2.2983493146590006}. Best is trial 163 with value: 13.269781708837542.\u001b[0m\n",
      "\u001b[32m[I 2021-06-18 19:02:10,382]\u001b[0m Trial 627 finished with value: 86.82908360831554 and parameters: {'params[0]': 3.0706974894819754, 'params[1]': -2.62162171055367}. Best is trial 163 with value: 13.269781708837542.\u001b[0m\n",
      "\u001b[32m[I 2021-06-18 19:02:10,412]\u001b[0m Trial 628 finished with value: 532.2246243863959 and parameters: {'params[0]': 3.539564990043421, 'params[1]': -1.627572958840875}. Best is trial 163 with value: 13.269781708837542.\u001b[0m\n"
     ]
    },
    {
     "name": "stderr",
     "output_type": "stream",
     "text": [
      "\u001b[32m[I 2021-06-18 19:02:10,442]\u001b[0m Trial 629 finished with value: 212.2130851833049 and parameters: {'params[0]': 2.938965089539079, 'params[1]': -2.1007021970269655}. Best is trial 163 with value: 13.269781708837542.\u001b[0m\n",
      "\u001b[32m[I 2021-06-18 19:02:10,462]\u001b[0m Trial 630 finished with value: 74127.37039890447 and parameters: {'params[0]': 8.670687426804456, 'params[1]': -2.8735712604520756}. Best is trial 163 with value: 13.269781708837542.\u001b[0m\n",
      "\u001b[32m[I 2021-06-18 19:02:10,502]\u001b[0m Trial 631 finished with value: 154.6685345938662 and parameters: {'params[0]': 3.403059986290253, 'params[1]': -2.40385087045076}. Best is trial 163 with value: 13.269781708837542.\u001b[0m\n",
      "\u001b[32m[I 2021-06-18 19:02:10,522]\u001b[0m Trial 632 finished with value: 627.1056660460902 and parameters: {'params[0]': 3.9528598374115607, 'params[1]': -1.9144854374083784}. Best is trial 163 with value: 13.269781708837542.\u001b[0m\n",
      "\u001b[32m[I 2021-06-18 19:02:10,552]\u001b[0m Trial 633 finished with value: 283.36791561083186 and parameters: {'params[0]': 2.729252201978154, 'params[1]': -3.1574429685714507}. Best is trial 163 with value: 13.269781708837542.\u001b[0m\n",
      "\u001b[32m[I 2021-06-18 19:02:10,582]\u001b[0m Trial 634 finished with value: 107.16749644644675 and parameters: {'params[0]': 3.1077013781157152, 'params[1]': -2.644447088943208}. Best is trial 163 with value: 13.269781708837542.\u001b[0m\n",
      "\u001b[32m[I 2021-06-18 19:02:10,602]\u001b[0m Trial 635 finished with value: 499.82393841810847 and parameters: {'params[0]': 3.5250463746109046, 'params[1]': -1.480197141466443}. Best is trial 163 with value: 13.269781708837542.\u001b[0m\n",
      "\u001b[32m[I 2021-06-18 19:02:10,622]\u001b[0m Trial 636 finished with value: 134.98079929871997 and parameters: {'params[0]': 2.697366589572423, 'params[1]': -2.273680993180166}. Best is trial 163 with value: 13.269781708837542.\u001b[0m\n",
      "\u001b[32m[I 2021-06-18 19:02:10,652]\u001b[0m Trial 637 finished with value: 377.9564445397079 and parameters: {'params[0]': 3.1400962889038544, 'params[1]': -3.4069095951481025}. Best is trial 163 with value: 13.269781708837542.\u001b[0m\n",
      "\u001b[32m[I 2021-06-18 19:02:10,667]\u001b[0m Trial 638 finished with value: 216.58784017815512 and parameters: {'params[0]': 2.310320964652266, 'params[1]': -2.8971906974033876}. Best is trial 163 with value: 13.269781708837542.\u001b[0m\n",
      "\u001b[32m[I 2021-06-18 19:02:10,697]\u001b[0m Trial 639 finished with value: 1203.455324740667 and parameters: {'params[0]': 4.6349746764052, 'params[1]': 1.4550080635200258}. Best is trial 163 with value: 13.269781708837542.\u001b[0m\n",
      "\u001b[32m[I 2021-06-18 19:02:10,717]\u001b[0m Trial 640 finished with value: 508.61013851447535 and parameters: {'params[0]': 3.756008262056527, 'params[1]': -1.950044138124194}. Best is trial 163 with value: 13.269781708837542.\u001b[0m\n",
      "\u001b[32m[I 2021-06-18 19:02:10,737]\u001b[0m Trial 641 finished with value: 39.258814491575755 and parameters: {'params[0]': 2.856400719090815, 'params[1]': -2.527849672797387}. Best is trial 163 with value: 13.269781708837542.\u001b[0m\n",
      "\u001b[32m[I 2021-06-18 19:02:10,767]\u001b[0m Trial 642 finished with value: 268.166503669642 and parameters: {'params[0]': 1.961539342158722, 'params[1]': -3.4689355330506793}. Best is trial 163 with value: 13.269781708837542.\u001b[0m\n",
      "\u001b[32m[I 2021-06-18 19:02:10,787]\u001b[0m Trial 643 finished with value: 196.63346343727173 and parameters: {'params[0]': 2.6403428548511063, 'params[1]': -2.833200127144022}. Best is trial 163 with value: 13.269781708837542.\u001b[0m\n",
      "\u001b[32m[I 2021-06-18 19:02:10,817]\u001b[0m Trial 644 finished with value: 116.16201906042846 and parameters: {'params[0]': 2.371279196171735, 'params[1]': -2.5227170655161064}. Best is trial 163 with value: 13.269781708837542.\u001b[0m\n",
      "\u001b[32m[I 2021-06-18 19:02:10,847]\u001b[0m Trial 645 finished with value: 242.69152926860303 and parameters: {'params[0]': 1.5471948903610475, 'params[1]': -4.005344706491475}. Best is trial 163 with value: 13.269781708837542.\u001b[0m\n",
      "\u001b[32m[I 2021-06-18 19:02:10,877]\u001b[0m Trial 646 finished with value: 263.01208501682544 and parameters: {'params[0]': 2.8201219219489664, 'params[1]': -3.0185339467219148}. Best is trial 163 with value: 13.269781708837542.\u001b[0m\n",
      "\u001b[32m[I 2021-06-18 19:02:10,907]\u001b[0m Trial 647 finished with value: 298.58971258893143 and parameters: {'params[0]': 3.32679737721622, 'params[1]': -2.0680001811164037}. Best is trial 163 with value: 13.269781708837542.\u001b[0m\n",
      "\u001b[32m[I 2021-06-18 19:02:10,937]\u001b[0m Trial 648 finished with value: 258.59185009051095 and parameters: {'params[0]': 2.245102637607701, 'params[1]': -1.275510884409102}. Best is trial 163 with value: 13.269781708837542.\u001b[0m\n",
      "\u001b[32m[I 2021-06-18 19:02:10,967]\u001b[0m Trial 649 finished with value: 242.41379684492816 and parameters: {'params[0]': -1.7095882761475436, 'params[1]': -2.55842178759864}. Best is trial 163 with value: 13.269781708837542.\u001b[0m\n",
      "\u001b[32m[I 2021-06-18 19:02:10,987]\u001b[0m Trial 650 finished with value: 317.23853339500374 and parameters: {'params[0]': 2.8004536867111756, 'params[1]': -1.7712453448549907}. Best is trial 163 with value: 13.269781708837542.\u001b[0m\n",
      "\u001b[32m[I 2021-06-18 19:02:11,027]\u001b[0m Trial 651 finished with value: 346.58192750421534 and parameters: {'params[0]': 3.6429430285051443, 'params[1]': -2.1990031470808207}. Best is trial 163 with value: 13.269781708837542.\u001b[0m\n",
      "\u001b[32m[I 2021-06-18 19:02:11,057]\u001b[0m Trial 652 finished with value: 278.1609540038327 and parameters: {'params[0]': 3.1045459444610883, 'params[1]': -2.945864540083209}. Best is trial 163 with value: 13.269781708837542.\u001b[0m\n",
      "\u001b[32m[I 2021-06-18 19:02:11,087]\u001b[0m Trial 653 finished with value: 290.64309819952115 and parameters: {'params[0]': 2.540201012675601, 'params[1]': -3.5220509986210393}. Best is trial 163 with value: 13.269781708837542.\u001b[0m\n",
      "\u001b[32m[I 2021-06-18 19:02:11,117]\u001b[0m Trial 654 finished with value: 490.5240608124512 and parameters: {'params[0]': 4.0922814325766455, 'params[1]': -2.5747879116083325}. Best is trial 163 with value: 13.269781708837542.\u001b[0m\n",
      "\u001b[32m[I 2021-06-18 19:02:11,157]\u001b[0m Trial 655 finished with value: 261.899650161342 and parameters: {'params[0]': 2.0021030596135785, 'params[1]': -3.2419238256257756}. Best is trial 163 with value: 13.269781708837542.\u001b[0m\n",
      "\u001b[32m[I 2021-06-18 19:02:11,187]\u001b[0m Trial 656 finished with value: 253.59582244299298 and parameters: {'params[0]': 0.9023164715853433, 'params[1]': -1.7232775553301307}. Best is trial 163 with value: 13.269781708837542.\u001b[0m\n",
      "\u001b[32m[I 2021-06-18 19:02:11,217]\u001b[0m Trial 657 finished with value: 236.46585545470174 and parameters: {'params[0]': 3.413273792073406, 'params[1]': -2.2476640416875977}. Best is trial 163 with value: 13.269781708837542.\u001b[0m\n",
      "\u001b[32m[I 2021-06-18 19:02:11,237]\u001b[0m Trial 658 finished with value: 164.0166327979312 and parameters: {'params[0]': 2.71371083692573, 'params[1]': -2.7603805488959083}. Best is trial 163 with value: 13.269781708837542.\u001b[0m\n",
      "\u001b[32m[I 2021-06-18 19:02:11,267]\u001b[0m Trial 659 finished with value: 173.32605842386766 and parameters: {'params[0]': 3.0292293980454255, 'params[1]': -2.2117458363895337}. Best is trial 163 with value: 13.269781708837542.\u001b[0m\n",
      "\u001b[32m[I 2021-06-18 19:02:11,287]\u001b[0m Trial 660 finished with value: 257.4876267851324 and parameters: {'params[0]': 2.453269777774407, 'params[1]': -3.0722914078855084}. Best is trial 163 with value: 13.269781708837542.\u001b[0m\n",
      "\u001b[32m[I 2021-06-18 19:02:11,317]\u001b[0m Trial 661 finished with value: 454.39602773590235 and parameters: {'params[0]': 3.726209896343465, 'params[1]': -0.9154934983417189}. Best is trial 163 with value: 13.269781708837542.\u001b[0m\n",
      "\u001b[32m[I 2021-06-18 19:02:11,347]\u001b[0m Trial 662 finished with value: 417.2940105048073 and parameters: {'params[0]': 3.266654376508882, 'params[1]': -1.5041246976858231}. Best is trial 163 with value: 13.269781708837542.\u001b[0m\n",
      "\u001b[32m[I 2021-06-18 19:02:11,367]\u001b[0m Trial 663 finished with value: 179.1886738526796 and parameters: {'params[0]': 1.7573846720248256, 'params[1]': -2.5812063220303774}. Best is trial 163 with value: 13.269781708837542.\u001b[0m\n",
      "\u001b[32m[I 2021-06-18 19:02:11,397]\u001b[0m Trial 664 finished with value: 294.85666184628843 and parameters: {'params[0]': 2.897826201639099, 'params[1]': -3.777979256189761}. Best is trial 163 with value: 13.269781708837542.\u001b[0m\n",
      "\u001b[32m[I 2021-06-18 19:02:11,427]\u001b[0m Trial 665 finished with value: 248.62904993354277 and parameters: {'params[0]': 2.0525695266191124, 'params[1]': -1.8714825459283575}. Best is trial 163 with value: 13.269781708837542.\u001b[0m\n"
     ]
    },
    {
     "name": "stderr",
     "output_type": "stream",
     "text": [
      "\u001b[32m[I 2021-06-18 19:02:11,457]\u001b[0m Trial 666 finished with value: 103.02804871567287 and parameters: {'params[0]': 2.492312224579039, 'params[1]': -2.4345963847425662}. Best is trial 163 with value: 13.269781708837542.\u001b[0m\n",
      "\u001b[32m[I 2021-06-18 19:02:11,477]\u001b[0m Trial 667 finished with value: 396.8026188862126 and parameters: {'params[0]': 3.383821604685118, 'params[1]': -3.1403611966926492}. Best is trial 163 with value: 13.269781708837542.\u001b[0m\n",
      "\u001b[32m[I 2021-06-18 19:02:11,507]\u001b[0m Trial 668 finished with value: 259.9252963671629 and parameters: {'params[0]': 2.9530772862720887, 'params[1]': -1.9967237566224847}. Best is trial 163 with value: 13.269781708837542.\u001b[0m\n",
      "\u001b[32m[I 2021-06-18 19:02:11,527]\u001b[0m Trial 669 finished with value: 566.7844601674174 and parameters: {'params[0]': 4.0904349272858385, 'params[1]': -2.7290651240806487}. Best is trial 163 with value: 13.269781708837542.\u001b[0m\n",
      "\u001b[32m[I 2021-06-18 19:02:11,557]\u001b[0m Trial 670 finished with value: 143.67428720741026 and parameters: {'params[0]': 2.652903614353196, 'params[1]': -2.255190259790485}. Best is trial 163 with value: 13.269781708837542.\u001b[0m\n",
      "\u001b[32m[I 2021-06-18 19:02:11,577]\u001b[0m Trial 671 finished with value: 339.4487797517839 and parameters: {'params[0]': 3.5052442037722527, 'params[1]': -2.8507085118491515}. Best is trial 163 with value: 13.269781708837542.\u001b[0m\n",
      "\u001b[32m[I 2021-06-18 19:02:11,597]\u001b[0m Trial 672 finished with value: 279.3305923582338 and parameters: {'params[0]': 2.290288018093766, 'params[1]': -3.307665430121018}. Best is trial 163 with value: 13.269781708837542.\u001b[0m\n",
      "\u001b[32m[I 2021-06-18 19:02:11,627]\u001b[0m Trial 673 finished with value: 358.5634706716097 and parameters: {'params[0]': 3.0506477368091116, 'params[1]': -1.433067956615883}. Best is trial 163 with value: 13.269781708837542.\u001b[0m\n",
      "\u001b[32m[I 2021-06-18 19:02:11,647]\u001b[0m Trial 674 finished with value: 580.6337701650692 and parameters: {'params[0]': 3.809257909518872, 'params[1]': 3.7289319409900683}. Best is trial 163 with value: 13.269781708837542.\u001b[0m\n",
      "\u001b[32m[I 2021-06-18 19:02:11,677]\u001b[0m Trial 675 finished with value: 200.25150589221266 and parameters: {'params[0]': 1.3126029636935592, 'params[1]': -2.530012053703763}. Best is trial 163 with value: 13.269781708837542.\u001b[0m\n",
      "\u001b[32m[I 2021-06-18 19:02:11,702]\u001b[0m Trial 676 finished with value: 267.6008728888556 and parameters: {'params[0]': 2.751985063373713, 'params[1]': -1.9298871268324858}. Best is trial 163 with value: 13.269781708837542.\u001b[0m\n",
      "\u001b[32m[I 2021-06-18 19:02:11,722]\u001b[0m Trial 677 finished with value: 312.8297596666684 and parameters: {'params[0]': 3.285517804098974, 'params[1]': -2.929093110149353}. Best is trial 163 with value: 13.269781708837542.\u001b[0m\n",
      "\u001b[32m[I 2021-06-18 19:02:11,752]\u001b[0m Trial 678 finished with value: 183.50420217838598 and parameters: {'params[0]': 2.099773990547047, 'params[1]': -2.2213515391028054}. Best is trial 163 with value: 13.269781708837542.\u001b[0m\n",
      "\u001b[32m[I 2021-06-18 19:02:11,777]\u001b[0m Trial 679 finished with value: 1071.9316076065809 and parameters: {'params[0]': 4.482469918853845, 'params[1]': -3.734951788370089}. Best is trial 163 with value: 13.269781708837542.\u001b[0m\n",
      "\u001b[32m[I 2021-06-18 19:02:11,802]\u001b[0m Trial 680 finished with value: 362.81406858801734 and parameters: {'params[0]': 2.9624436831544503, 'params[1]': -1.6619435844239723}. Best is trial 163 with value: 13.269781708837542.\u001b[0m\n",
      "\u001b[32m[I 2021-06-18 19:02:11,822]\u001b[0m Trial 681 finished with value: 115.54459014924282 and parameters: {'params[0]': 2.453882877698758, 'params[1]': -2.590974647142034}. Best is trial 163 with value: 13.269781708837542.\u001b[0m\n",
      "\u001b[32m[I 2021-06-18 19:02:11,852]\u001b[0m Trial 682 finished with value: 478.0871423517046 and parameters: {'params[0]': 3.6389418292133477, 'params[1]': -3.08993029587508}. Best is trial 163 with value: 13.269781708837542.\u001b[0m\n",
      "\u001b[32m[I 2021-06-18 19:02:11,877]\u001b[0m Trial 683 finished with value: 187.77823920908116 and parameters: {'params[0]': 3.2143304213102013, 'params[1]': -2.242076090881423}. Best is trial 163 with value: 13.269781708837542.\u001b[0m\n",
      "\u001b[32m[I 2021-06-18 19:02:11,907]\u001b[0m Trial 684 finished with value: 295.73546589627523 and parameters: {'params[0]': 2.6050561449742666, 'params[1]': -3.490059186157591}. Best is trial 163 with value: 13.269781708837542.\u001b[0m\n",
      "\u001b[32m[I 2021-06-18 19:02:11,927]\u001b[0m Trial 685 finished with value: 171.838631499057 and parameters: {'params[0]': 2.0192221220811426, 'params[1]': -2.670972549319765}. Best is trial 163 with value: 13.269781708837542.\u001b[0m\n",
      "\u001b[32m[I 2021-06-18 19:02:11,957]\u001b[0m Trial 686 finished with value: 273.8872815998386 and parameters: {'params[0]': 2.8212671032359995, 'params[1]': -1.9247272967785296}. Best is trial 163 with value: 13.269781708837542.\u001b[0m\n",
      "\u001b[32m[I 2021-06-18 19:02:11,977]\u001b[0m Trial 687 finished with value: 485.7693241745633 and parameters: {'params[0]': 4.048011194733301, 'params[1]': -2.4023475542515196}. Best is trial 163 with value: 13.269781708837542.\u001b[0m\n",
      "\u001b[32m[I 2021-06-18 19:02:12,007]\u001b[0m Trial 688 finished with value: 224.87134200798639 and parameters: {'params[0]': 1.6668089262365335, 'params[1]': -2.9162081526595336}. Best is trial 163 with value: 13.269781708837542.\u001b[0m\n",
      "\u001b[32m[I 2021-06-18 19:02:12,032]\u001b[0m Trial 689 finished with value: 393.15551339678586 and parameters: {'params[0]': 3.440064041184976, 'params[1]': -1.2326318165419725}. Best is trial 163 with value: 13.269781708837542.\u001b[0m\n",
      "\u001b[32m[I 2021-06-18 19:02:12,062]\u001b[0m Trial 690 finished with value: 360.11222592375134 and parameters: {'params[0]': 3.0740431662471246, 'params[1]': -1.763276487028711}. Best is trial 163 with value: 13.269781708837542.\u001b[0m\n",
      "\u001b[32m[I 2021-06-18 19:02:12,087]\u001b[0m Trial 691 finished with value: 283.8268199028146 and parameters: {'params[0]': 2.359735532091039, 'params[1]': -3.320225325316056}. Best is trial 163 with value: 13.269781708837542.\u001b[0m\n",
      "\u001b[32m[I 2021-06-18 19:02:12,107]\u001b[0m Trial 692 finished with value: 566.4506218460701 and parameters: {'params[0]': 3.7636775616704696, 'params[1]': -4.209565642563787}. Best is trial 163 with value: 13.269781708837542.\u001b[0m\n",
      "\u001b[32m[I 2021-06-18 19:02:12,137]\u001b[0m Trial 693 finished with value: 150.03272542743275 and parameters: {'params[0]': 2.7515693384540523, 'params[1]': -2.2323568748178793}. Best is trial 163 with value: 13.269781708837542.\u001b[0m\n",
      "\u001b[32m[I 2021-06-18 19:02:12,157]\u001b[0m Trial 694 finished with value: 180.10468655071293 and parameters: {'params[0]': 3.2615908546724546, 'params[1]': -2.710291109732384}. Best is trial 163 with value: 13.269781708837542.\u001b[0m\n",
      "\u001b[32m[I 2021-06-18 19:02:12,197]\u001b[0m Trial 695 finished with value: 210.5268936054716 and parameters: {'params[0]': 2.240250523117192, 'params[1]': -2.0944683354379805}. Best is trial 163 with value: 13.269781708837542.\u001b[0m\n",
      "\u001b[32m[I 2021-06-18 19:02:12,217]\u001b[0m Trial 696 finished with value: 301.3363345282905 and parameters: {'params[0]': 3.0156853688146485, 'params[1]': -3.0804220116443797}. Best is trial 163 with value: 13.269781708837542.\u001b[0m\n",
      "\u001b[32m[I 2021-06-18 19:02:12,247]\u001b[0m Trial 697 finished with value: 184.39481994901206 and parameters: {'params[0]': 3.563785388277166, 'params[1]': -2.520764340532203}. Best is trial 163 with value: 13.269781708837542.\u001b[0m\n",
      "\u001b[32m[I 2021-06-18 19:02:12,277]\u001b[0m Trial 698 finished with value: 314.1200669243476 and parameters: {'params[0]': 2.563266348595605, 'params[1]': -1.5830007316157109}. Best is trial 163 with value: 13.269781708837542.\u001b[0m\n",
      "\u001b[32m[I 2021-06-18 19:02:12,297]\u001b[0m Trial 699 finished with value: 187.51920029011828 and parameters: {'params[0]': 2.9076429045610865, 'params[1]': -2.805808378169529}. Best is trial 163 with value: 13.269781708837542.\u001b[0m\n",
      "\u001b[32m[I 2021-06-18 19:02:12,327]\u001b[0m Trial 700 finished with value: 239.1896085198449 and parameters: {'params[0]': 1.7405994928631021, 'params[1]': -0.7995853980355934}. Best is trial 163 with value: 13.269781708837542.\u001b[0m\n",
      "\u001b[32m[I 2021-06-18 19:02:12,367]\u001b[0m Trial 701 finished with value: 342.0341115996818 and parameters: {'params[0]': 3.352760208039787, 'params[1]': -1.9895541383639248}. Best is trial 163 with value: 13.269781708837542.\u001b[0m\n",
      "\u001b[32m[I 2021-06-18 19:02:12,397]\u001b[0m Trial 702 finished with value: 523.6786082588562 and parameters: {'params[0]': 4.07550432069411, 'params[1]': -2.3731787974879373}. Best is trial 163 with value: 13.269781708837542.\u001b[0m\n"
     ]
    },
    {
     "name": "stderr",
     "output_type": "stream",
     "text": [
      "\u001b[32m[I 2021-06-18 19:02:12,427]\u001b[0m Trial 703 finished with value: 277.39132176409646 and parameters: {'params[0]': 2.1811371474839736, 'params[1]': -3.4089591855247514}. Best is trial 163 with value: 13.269781708837542.\u001b[0m\n",
      "\u001b[32m[I 2021-06-18 19:02:12,457]\u001b[0m Trial 704 finished with value: 152.57296779050705 and parameters: {'params[0]': 2.5898939627738358, 'params[1]': -2.719119589261566}. Best is trial 163 with value: 13.269781708837542.\u001b[0m\n",
      "\u001b[32m[I 2021-06-18 19:02:12,487]\u001b[0m Trial 705 finished with value: 229.2692780976607 and parameters: {'params[0]': 3.1114563036255585, 'params[1]': -2.1099604212262224}. Best is trial 163 with value: 13.269781708837542.\u001b[0m\n",
      "\u001b[32m[I 2021-06-18 19:02:12,517]\u001b[0m Trial 706 finished with value: 405.36925623097517 and parameters: {'params[0]': 3.4434863405526865, 'params[1]': -3.103522922519039}. Best is trial 163 with value: 13.269781708837542.\u001b[0m\n",
      "\u001b[32m[I 2021-06-18 19:02:12,547]\u001b[0m Trial 707 finished with value: 274.7601681809352 and parameters: {'params[0]': 2.6935551090893006, 'params[1]': -1.220403861653}. Best is trial 163 with value: 13.269781708837542.\u001b[0m\n",
      "\u001b[32m[I 2021-06-18 19:02:12,577]\u001b[0m Trial 708 finished with value: 310.34982807493645 and parameters: {'params[0]': 3.805600951121721, 'params[1]': -2.4702589926457197}. Best is trial 163 with value: 13.269781708837542.\u001b[0m\n",
      "\u001b[32m[I 2021-06-18 19:02:12,617]\u001b[0m Trial 709 finished with value: 276.2791244029943 and parameters: {'params[0]': 2.319563329812121, 'params[1]': -1.7735035351681385}. Best is trial 163 with value: 13.269781708837542.\u001b[0m\n",
      "\u001b[32m[I 2021-06-18 19:02:12,647]\u001b[0m Trial 710 finished with value: 331.0935837312809 and parameters: {'params[0]': 2.9630529106896835, 'params[1]': -3.645166810476253}. Best is trial 163 with value: 13.269781708837542.\u001b[0m\n",
      "\u001b[32m[I 2021-06-18 19:02:12,667]\u001b[0m Trial 711 finished with value: 259.67632824268316 and parameters: {'params[0]': 3.295688270655087, 'params[1]': -2.8236718673739447}. Best is trial 163 with value: 13.269781708837542.\u001b[0m\n",
      "\u001b[32m[I 2021-06-18 19:02:12,697]\u001b[0m Trial 712 finished with value: 171.3121653169161 and parameters: {'params[0]': 1.9758817525284154, 'params[1]': -2.322738898667281}. Best is trial 163 with value: 13.269781708837542.\u001b[0m\n",
      "\u001b[32m[I 2021-06-18 19:02:12,727]\u001b[0m Trial 713 finished with value: 285.80516719924174 and parameters: {'params[0]': 2.7461668623122484, 'params[1]': -3.1617487416222945}. Best is trial 163 with value: 13.269781708837542.\u001b[0m\n",
      "\u001b[32m[I 2021-06-18 19:02:12,757]\u001b[0m Trial 714 finished with value: 1102.790613964818 and parameters: {'params[0]': 4.409831172389781, 'params[1]': -1.5506234801378094}. Best is trial 163 with value: 13.269781708837542.\u001b[0m\n",
      "\u001b[32m[I 2021-06-18 19:02:12,787]\u001b[0m Trial 715 finished with value: 456.26608035370054 and parameters: {'params[0]': 3.6902129943690567, 'params[1]': -2.0064252827374114}. Best is trial 163 with value: 13.269781708837542.\u001b[0m\n",
      "\u001b[32m[I 2021-06-18 19:02:12,817]\u001b[0m Trial 716 finished with value: 109.73834350665588 and parameters: {'params[0]': 2.4447880954903214, 'params[1]': -2.549741374236379}. Best is trial 163 with value: 13.269781708837542.\u001b[0m\n",
      "\u001b[32m[I 2021-06-18 19:02:12,847]\u001b[0m Trial 717 finished with value: 249.20644603842456 and parameters: {'params[0]': 3.090138876206166, 'params[1]': -2.884373974796441}. Best is trial 163 with value: 13.269781708837542.\u001b[0m\n",
      "\u001b[32m[I 2021-06-18 19:02:12,877]\u001b[0m Trial 718 finished with value: 212.4932368389583 and parameters: {'params[0]': 3.405067340761873, 'params[1]': -2.2905151411786635}. Best is trial 163 with value: 13.269781708837542.\u001b[0m\n",
      "\u001b[32m[I 2021-06-18 19:02:12,897]\u001b[0m Trial 719 finished with value: 1805.4425782670787 and parameters: {'params[0]': 5.0103807831890865, 'params[1]': -1.8933790059343512}. Best is trial 163 with value: 13.269781708837542.\u001b[0m\n",
      "\u001b[32m[I 2021-06-18 19:02:12,937]\u001b[0m Trial 720 finished with value: 279.0294661919485 and parameters: {'params[0]': 2.811082854843331, 'params[1]': -3.9494482076873636}. Best is trial 163 with value: 13.269781708837542.\u001b[0m\n",
      "\u001b[32m[I 2021-06-18 19:02:12,967]\u001b[0m Trial 721 finished with value: 273.79911960218095 and parameters: {'params[0]': 2.121364433022324, 'params[1]': -3.3490938431588653}. Best is trial 163 with value: 13.269781708837542.\u001b[0m\n",
      "\u001b[32m[I 2021-06-18 19:02:12,997]\u001b[0m Trial 722 finished with value: 345.53151405417634 and parameters: {'params[0]': 3.86618961857997, 'params[1]': -2.5902515706325855}. Best is trial 163 with value: 13.269781708837542.\u001b[0m\n",
      "\u001b[32m[I 2021-06-18 19:02:13,027]\u001b[0m Trial 723 finished with value: 284.8914636072607 and parameters: {'params[0]': 3.039209468799187, 'params[1]': -2.996978090667693}. Best is trial 163 with value: 13.269781708837542.\u001b[0m\n",
      "\u001b[32m[I 2021-06-18 19:02:13,057]\u001b[0m Trial 724 finished with value: 170.01073914069283 and parameters: {'params[0]': 2.6213443490520514, 'params[1]': -2.1939936096057213}. Best is trial 163 with value: 13.269781708837542.\u001b[0m\n",
      "\u001b[32m[I 2021-06-18 19:02:13,087]\u001b[0m Trial 725 finished with value: 263.99264169654595 and parameters: {'params[0]': 1.820161300101508, 'params[1]': -1.378416161210905}. Best is trial 163 with value: 13.269781708837542.\u001b[0m\n",
      "\u001b[32m[I 2021-06-18 19:02:13,127]\u001b[0m Trial 726 finished with value: 163.64252820847958 and parameters: {'params[0]': 3.513892858136999, 'params[1]': -2.5204193487890283}. Best is trial 163 with value: 13.269781708837542.\u001b[0m\n",
      "\u001b[32m[I 2021-06-18 19:02:13,157]\u001b[0m Trial 727 finished with value: 245.8584368913179 and parameters: {'params[0]': 1.127543312136449, 'params[1]': -1.869530017298119}. Best is trial 163 with value: 13.269781708837542.\u001b[0m\n",
      "\u001b[32m[I 2021-06-18 19:02:13,187]\u001b[0m Trial 728 finished with value: 239.93962261750556 and parameters: {'params[0]': 2.385384818485987, 'params[1]': -2.9939618342299243}. Best is trial 163 with value: 13.269781708837542.\u001b[0m\n",
      "\u001b[32m[I 2021-06-18 19:02:13,217]\u001b[0m Trial 729 finished with value: 904.6321173503429 and parameters: {'params[0]': 4.233434641662797, 'params[1]': -3.567938303259459}. Best is trial 163 with value: 13.269781708837542.\u001b[0m\n",
      "\u001b[32m[I 2021-06-18 19:02:13,247]\u001b[0m Trial 730 finished with value: 129.48341635780662 and parameters: {'params[0]': 3.170857721328277, 'params[1]': -2.326721438198573}. Best is trial 163 with value: 13.269781708837542.\u001b[0m\n",
      "\u001b[32m[I 2021-06-18 19:02:13,287]\u001b[0m Trial 731 finished with value: 328.81376451227396 and parameters: {'params[0]': 2.7021115863930856, 'params[1]': -1.6466186218085572}. Best is trial 163 with value: 13.269781708837542.\u001b[0m\n",
      "\u001b[32m[I 2021-06-18 19:02:13,317]\u001b[0m Trial 732 finished with value: 154.89839966269537 and parameters: {'params[0]': 3.0043530157450795, 'params[1]': -2.739452608838274}. Best is trial 163 with value: 13.269781708837542.\u001b[0m\n",
      "\u001b[32m[I 2021-06-18 19:02:13,347]\u001b[0m Trial 733 finished with value: 216.0649729733332 and parameters: {'params[0]': 1.4587820178355622, 'params[1]': -2.1406279611004315}. Best is trial 163 with value: 13.269781708837542.\u001b[0m\n",
      "\u001b[32m[I 2021-06-18 19:02:13,377]\u001b[0m Trial 734 finished with value: 568.1779493433705 and parameters: {'params[0]': 3.706894951054685, 'params[1]': -3.2587603788477457}. Best is trial 163 with value: 13.269781708837542.\u001b[0m\n",
      "\u001b[32m[I 2021-06-18 19:02:13,417]\u001b[0m Trial 735 finished with value: 281.4799409504996 and parameters: {'params[0]': 2.2827245940716994, 'params[1]': -0.4590475667629821}. Best is trial 163 with value: 13.269781708837542.\u001b[0m\n",
      "\u001b[32m[I 2021-06-18 19:02:13,447]\u001b[0m Trial 736 finished with value: 192.88520671342695 and parameters: {'params[0]': 3.3340047179377463, 'params[1]': -2.7020714059786672}. Best is trial 163 with value: 13.269781708837542.\u001b[0m\n",
      "\u001b[32m[I 2021-06-18 19:02:13,477]\u001b[0m Trial 737 finished with value: 80.6214081609461 and parameters: {'params[0]': 2.641000466622785, 'params[1]': -2.4416810547714696}. Best is trial 163 with value: 13.269781708837542.\u001b[0m\n",
      "\u001b[32m[I 2021-06-18 19:02:13,507]\u001b[0m Trial 738 finished with value: 317.5788782364986 and parameters: {'params[0]': 2.9354177810008597, 'params[1]': -1.8297838204444188}. Best is trial 163 with value: 13.269781708837542.\u001b[0m\n",
      "\u001b[32m[I 2021-06-18 19:02:13,557]\u001b[0m Trial 739 finished with value: 201.0900520501883 and parameters: {'params[0]': 2.030014211126945, 'params[1]': -2.149283080080872}. Best is trial 163 with value: 13.269781708837542.\u001b[0m\n"
     ]
    },
    {
     "name": "stderr",
     "output_type": "stream",
     "text": [
      "\u001b[32m[I 2021-06-18 19:02:13,587]\u001b[0m Trial 740 finished with value: 439.60353266519417 and parameters: {'params[0]': 3.5485162316282173, 'params[1]': -1.0180643474246345}. Best is trial 163 with value: 13.269781708837542.\u001b[0m\n",
      "\u001b[32m[I 2021-06-18 19:02:13,617]\u001b[0m Trial 741 finished with value: 227.91095434336847 and parameters: {'params[0]': 2.6427273689117317, 'params[1]': -2.9247787468333306}. Best is trial 163 with value: 13.269781708837542.\u001b[0m\n",
      "\u001b[32m[I 2021-06-18 19:02:13,637]\u001b[0m Trial 742 finished with value: 384.78208872848404 and parameters: {'params[0]': 3.209321477419459, 'params[1]': -1.4021345696811878}. Best is trial 163 with value: 13.269781708837542.\u001b[0m\n",
      "\u001b[32m[I 2021-06-18 19:02:13,662]\u001b[0m Trial 743 finished with value: 411.2614437747803 and parameters: {'params[0]': 3.989744639693487, 'params[1]': -2.5051537864023214}. Best is trial 163 with value: 13.269781708837542.\u001b[0m\n",
      "\u001b[32m[I 2021-06-18 19:02:13,692]\u001b[0m Trial 744 finished with value: 244.21031502636657 and parameters: {'params[0]': 2.307741313735744, 'params[1]': -1.9334271067332343}. Best is trial 163 with value: 13.269781708837542.\u001b[0m\n",
      "\u001b[32m[I 2021-06-18 19:02:13,712]\u001b[0m Trial 745 finished with value: 244.50960421420172 and parameters: {'params[0]': -9.418485631876148, 'params[1]': -3.23038627476852}. Best is trial 163 with value: 13.269781708837542.\u001b[0m\n",
      "\u001b[32m[I 2021-06-18 19:02:13,742]\u001b[0m Trial 746 finished with value: 94.03184295244881 and parameters: {'params[0]': 2.9623733930971548, 'params[1]': -2.3490896826954693}. Best is trial 163 with value: 13.269781708837542.\u001b[0m\n",
      "\u001b[32m[I 2021-06-18 19:02:13,762]\u001b[0m Trial 747 finished with value: 315.82523377096027 and parameters: {'params[0]': 3.4612168570900232, 'params[1]': -2.835812272409183}. Best is trial 163 with value: 13.269781708837542.\u001b[0m\n",
      "\u001b[32m[I 2021-06-18 19:02:13,792]\u001b[0m Trial 748 finished with value: 311.4793784009784 and parameters: {'params[0]': 2.534755346590141, 'params[1]': -1.591945917636242}. Best is trial 163 with value: 13.269781708837542.\u001b[0m\n",
      "\u001b[32m[I 2021-06-18 19:02:13,812]\u001b[0m Trial 749 finished with value: 256.9712896705867 and parameters: {'params[0]': 1.6270868342516744, 'params[1]': -3.528805884341473}. Best is trial 163 with value: 13.269781708837542.\u001b[0m\n",
      "\u001b[32m[I 2021-06-18 19:02:13,842]\u001b[0m Trial 750 finished with value: 190.63343559977318 and parameters: {'params[0]': 2.9574276970197433, 'params[1]': -2.150639074927215}. Best is trial 163 with value: 13.269781708837542.\u001b[0m\n",
      "\u001b[32m[I 2021-06-18 19:02:13,862]\u001b[0m Trial 751 finished with value: 379.9231720035515 and parameters: {'params[0]': 3.855796316063476, 'params[1]': -2.663493837198379}. Best is trial 163 with value: 13.269781708837542.\u001b[0m\n",
      "\u001b[32m[I 2021-06-18 19:02:13,892]\u001b[0m Trial 752 finished with value: 398.00622960721824 and parameters: {'params[0]': 3.3298056288200026, 'params[1]': -4.499622047837756}. Best is trial 163 with value: 13.269781708837542.\u001b[0m\n",
      "\u001b[32m[I 2021-06-18 19:02:13,922]\u001b[0m Trial 753 finished with value: 1318.3694860322705 and parameters: {'params[0]': 4.661453671893347, 'params[1]': -3.0796895947176175}. Best is trial 163 with value: 13.269781708837542.\u001b[0m\n",
      "\u001b[32m[I 2021-06-18 19:02:13,942]\u001b[0m Trial 754 finished with value: 244.48423041674025 and parameters: {'params[0]': -6.155298813673184, 'params[1]': -2.5281032860429837}. Best is trial 163 with value: 13.269781708837542.\u001b[0m\n",
      "\u001b[32m[I 2021-06-18 19:02:13,972]\u001b[0m Trial 755 finished with value: 198.83092184612147 and parameters: {'params[0]': 2.125713938966432, 'params[1]': -2.1508754253754603}. Best is trial 163 with value: 13.269781708837542.\u001b[0m\n",
      "\u001b[32m[I 2021-06-18 19:02:13,992]\u001b[0m Trial 756 finished with value: 329.62398352138337 and parameters: {'params[0]': 2.714153441091559, 'params[1]': -1.6549802540883705}. Best is trial 163 with value: 13.269781708837542.\u001b[0m\n",
      "\u001b[32m[I 2021-06-18 19:02:14,012]\u001b[0m Trial 757 finished with value: 225.60197954334888 and parameters: {'params[0]': 3.126943396428075, 'params[1]': -2.830992916503554}. Best is trial 163 with value: 13.269781708837542.\u001b[0m\n",
      "\u001b[32m[I 2021-06-18 19:02:14,042]\u001b[0m Trial 758 finished with value: 841.0271571474026 and parameters: {'params[0]': 4.22911933047425, 'params[1]': -3.87766513199566}. Best is trial 163 with value: 13.269781708837542.\u001b[0m\n",
      "\u001b[32m[I 2021-06-18 19:02:14,072]\u001b[0m Trial 759 finished with value: 126.95789327588136 and parameters: {'params[0]': 2.422564655277308, 'params[1]': -2.3616517724049118}. Best is trial 163 with value: 13.269781708837542.\u001b[0m\n",
      "\u001b[32m[I 2021-06-18 19:02:14,102]\u001b[0m Trial 760 finished with value: 414.18020881119804 and parameters: {'params[0]': 3.585904188466823, 'params[1]': -2.002764983793763}. Best is trial 163 with value: 13.269781708837542.\u001b[0m\n",
      "\u001b[32m[I 2021-06-18 19:02:14,122]\u001b[0m Trial 761 finished with value: 327.858568744928 and parameters: {'params[0]': 2.8701187611000516, 'params[1]': -3.3383228171336077}. Best is trial 163 with value: 13.269781708837542.\u001b[0m\n",
      "\u001b[32m[I 2021-06-18 19:02:14,152]\u001b[0m Trial 762 finished with value: 184.1841503092931 and parameters: {'params[0]': 1.830274299807316, 'params[1]': -2.669692094362046}. Best is trial 163 with value: 13.269781708837542.\u001b[0m\n",
      "\u001b[32m[I 2021-06-18 19:02:14,182]\u001b[0m Trial 763 finished with value: 333.6231398938035 and parameters: {'params[0]': 3.2090555182255662, 'params[1]': -1.911446301333258}. Best is trial 163 with value: 13.269781708837542.\u001b[0m\n",
      "\u001b[32m[I 2021-06-18 19:02:14,202]\u001b[0m Trial 764 finished with value: 10552.09316747464 and parameters: {'params[0]': 6.793012668465035, 'params[1]': -1.308231259580245}. Best is trial 163 with value: 13.269781708837542.\u001b[0m\n",
      "\u001b[32m[I 2021-06-18 19:02:14,232]\u001b[0m Trial 765 finished with value: 268.1551711004734 and parameters: {'params[0]': 2.596141537155127, 'params[1]': -3.1038552559588624}. Best is trial 163 with value: 13.269781708837542.\u001b[0m\n",
      "\u001b[32m[I 2021-06-18 19:02:14,262]\u001b[0m Trial 766 finished with value: 327.4614984981836 and parameters: {'params[0]': 3.7846642899580334, 'params[1]': -2.3973016196193164}. Best is trial 163 with value: 13.269781708837542.\u001b[0m\n",
      "\u001b[32m[I 2021-06-18 19:02:14,282]\u001b[0m Trial 767 finished with value: 202.52259585067702 and parameters: {'params[0]': 2.2763523191808237, 'params[1]': -2.8405077620739423}. Best is trial 163 with value: 13.269781708837542.\u001b[0m\n",
      "\u001b[32m[I 2021-06-18 19:02:14,312]\u001b[0m Trial 768 finished with value: 145.10606992785904 and parameters: {'params[0]': 2.9446475662025904, 'params[1]': -2.2542701388395665}. Best is trial 163 with value: 13.269781708837542.\u001b[0m\n",
      "\u001b[32m[I 2021-06-18 19:02:14,342]\u001b[0m Trial 769 finished with value: 471.88049458430675 and parameters: {'params[0]': 3.412535790631673, 'params[1]': -1.6973505826345885}. Best is trial 163 with value: 13.269781708837542.\u001b[0m\n",
      "\u001b[32m[I 2021-06-18 19:02:14,372]\u001b[0m Trial 770 finished with value: 290.3453883454459 and parameters: {'params[0]': 2.639167800116418, 'params[1]': -3.6409385871087903}. Best is trial 163 with value: 13.269781708837542.\u001b[0m\n",
      "\u001b[32m[I 2021-06-18 19:02:14,402]\u001b[0m Trial 771 finished with value: 72.92812113582394 and parameters: {'params[0]': 3.182302460943896, 'params[1]': -2.5698975102635204}. Best is trial 163 with value: 13.269781708837542.\u001b[0m\n",
      "\u001b[32m[I 2021-06-18 19:02:14,422]\u001b[0m Trial 772 finished with value: 3501.2195908184185 and parameters: {'params[0]': 5.716270944063469, 'params[1]': -2.473165344680653}. Best is trial 163 with value: 13.269781708837542.\u001b[0m\n",
      "\u001b[32m[I 2021-06-18 19:02:14,462]\u001b[0m Trial 773 finished with value: 733.3229747128577 and parameters: {'params[0]': 4.00878581173418, 'params[1]': -3.2545219402816645}. Best is trial 163 with value: 13.269781708837542.\u001b[0m\n",
      "\u001b[32m[I 2021-06-18 19:02:14,482]\u001b[0m Trial 774 finished with value: 479.64046145865007 and parameters: {'params[0]': 3.6593097447138394, 'params[1]': -1.9241922418803261}. Best is trial 163 with value: 13.269781708837542.\u001b[0m\n",
      "\u001b[32m[I 2021-06-18 19:02:14,512]\u001b[0m Trial 775 finished with value: 305.18567797901574 and parameters: {'params[0]': 3.3134429799628626, 'params[1]': -2.8931552331887245}. Best is trial 163 with value: 13.269781708837542.\u001b[0m\n",
      "\u001b[32m[I 2021-06-18 19:02:14,542]\u001b[0m Trial 776 finished with value: 355.27318746295214 and parameters: {'params[0]': 3.2698913664536913, 'params[1]': -1.108449485973994}. Best is trial 163 with value: 13.269781708837542.\u001b[0m\n"
     ]
    },
    {
     "name": "stderr",
     "output_type": "stream",
     "text": [
      "\u001b[32m[I 2021-06-18 19:02:14,572]\u001b[0m Trial 777 finished with value: 328.68922832248666 and parameters: {'params[0]': 3.686833478360139, 'params[1]': -2.284548916398332}. Best is trial 163 with value: 13.269781708837542.\u001b[0m\n",
      "\u001b[32m[I 2021-06-18 19:02:14,592]\u001b[0m Trial 778 finished with value: 869.3379593098705 and parameters: {'params[0]': 4.474302422218839, 'params[1]': -2.667150188718588}. Best is trial 163 with value: 13.269781708837542.\u001b[0m\n",
      "\u001b[32m[I 2021-06-18 19:02:14,622]\u001b[0m Trial 779 finished with value: 328.24048837560264 and parameters: {'params[0]': 2.9896084716403717, 'params[1]': -5.96784165475057}. Best is trial 163 with value: 13.269781708837542.\u001b[0m\n",
      "\u001b[32m[I 2021-06-18 19:02:14,642]\u001b[0m Trial 780 finished with value: 846.4013309155642 and parameters: {'params[0]': 4.100463948636995, 'params[1]': -1.6960540282394447}. Best is trial 163 with value: 13.269781708837542.\u001b[0m\n",
      "\u001b[32m[I 2021-06-18 19:02:14,672]\u001b[0m Trial 781 finished with value: 302.7490596311387 and parameters: {'params[0]': 3.0105419916771603, 'params[1]': -3.088293187273941}. Best is trial 163 with value: 13.269781708837542.\u001b[0m\n",
      "\u001b[32m[I 2021-06-18 19:02:14,702]\u001b[0m Trial 782 finished with value: 391.8820731635651 and parameters: {'params[0]': 3.512736178893655, 'params[1]': -1.9920380468039065}. Best is trial 163 with value: 13.269781708837542.\u001b[0m\n",
      "\u001b[32m[I 2021-06-18 19:02:14,722]\u001b[0m Trial 783 finished with value: 110.98671540109589 and parameters: {'params[0]': 2.4801113947154154, 'params[1]': -2.4028484666863985}. Best is trial 163 with value: 13.269781708837542.\u001b[0m\n",
      "\u001b[32m[I 2021-06-18 19:02:14,752]\u001b[0m Trial 784 finished with value: 266.5504980640206 and parameters: {'params[0]': 2.061101964224545, 'params[1]': -3.5545647366456468}. Best is trial 163 with value: 13.269781708837542.\u001b[0m\n",
      "\u001b[32m[I 2021-06-18 19:02:14,772]\u001b[0m Trial 785 finished with value: 163.968668500459 and parameters: {'params[0]': 2.872878355323283, 'params[1]': -2.7628666057778126}. Best is trial 163 with value: 13.269781708837542.\u001b[0m\n",
      "\u001b[32m[I 2021-06-18 19:02:14,802]\u001b[0m Trial 786 finished with value: 244.7074925812426 and parameters: {'params[0]': 3.2055727719056133, 'params[1]': -2.118184435137806}. Best is trial 163 with value: 13.269781708837542.\u001b[0m\n",
      "\u001b[32m[I 2021-06-18 19:02:14,822]\u001b[0m Trial 787 finished with value: 540.2931797317906 and parameters: {'params[0]': 3.7635409507855653, 'params[1]': -3.091631894858716}. Best is trial 163 with value: 13.269781708837542.\u001b[0m\n",
      "\u001b[32m[I 2021-06-18 19:02:14,852]\u001b[0m Trial 788 finished with value: 314.17366639485067 and parameters: {'params[0]': 2.660590649246127, 'params[1]': -1.4624089699272003}. Best is trial 163 with value: 13.269781708837542.\u001b[0m\n",
      "\u001b[32m[I 2021-06-18 19:02:14,872]\u001b[0m Trial 789 finished with value: 90.67676503927711 and parameters: {'params[0]': 3.292455930276543, 'params[1]': -2.4646722990634693}. Best is trial 163 with value: 13.269781708837542.\u001b[0m\n",
      "\u001b[32m[I 2021-06-18 19:02:14,902]\u001b[0m Trial 790 finished with value: 188.6286791868474 and parameters: {'params[0]': 2.326590674121698, 'params[1]': -2.7932848135071566}. Best is trial 163 with value: 13.269781708837542.\u001b[0m\n",
      "\u001b[32m[I 2021-06-18 19:02:14,922]\u001b[0m Trial 791 finished with value: 231.52991340025062 and parameters: {'params[0]': 2.7690066570121257, 'params[1]': -2.0435276435720042}. Best is trial 163 with value: 13.269781708837542.\u001b[0m\n",
      "\u001b[32m[I 2021-06-18 19:02:14,952]\u001b[0m Trial 792 finished with value: 880.1240939914268 and parameters: {'params[0]': 4.194870780951398, 'params[1]': -3.344489489242417}. Best is trial 163 with value: 13.269781708837542.\u001b[0m\n",
      "\u001b[32m[I 2021-06-18 19:02:14,972]\u001b[0m Trial 793 finished with value: 342.46026687756023 and parameters: {'params[0]': 3.499636680462004, 'params[1]': -0.7776303100160762}. Best is trial 163 with value: 13.269781708837542.\u001b[0m\n",
      "\u001b[32m[I 2021-06-18 19:02:15,002]\u001b[0m Trial 794 finished with value: 151.8579203365299 and parameters: {'params[0]': 2.037520206560283, 'params[1]': -2.4432711172104873}. Best is trial 163 with value: 13.269781708837542.\u001b[0m\n",
      "\u001b[32m[I 2021-06-18 19:02:15,032]\u001b[0m Trial 795 finished with value: 316.93023117938424 and parameters: {'params[0]': 2.9146949164488922, 'params[1]': -1.8231096520797503}. Best is trial 163 with value: 13.269781708837542.\u001b[0m\n",
      "\u001b[32m[I 2021-06-18 19:02:15,052]\u001b[0m Trial 796 finished with value: 320.70470408251083 and parameters: {'params[0]': 3.131269510051812, 'params[1]': -4.034342091556557}. Best is trial 163 with value: 13.269781708837542.\u001b[0m\n",
      "\u001b[32m[I 2021-06-18 19:02:15,092]\u001b[0m Trial 797 finished with value: 218.4961862857519 and parameters: {'params[0]': 2.4128282978448623, 'params[1]': -2.9017010544700765}. Best is trial 163 with value: 13.269781708837542.\u001b[0m\n",
      "\u001b[32m[I 2021-06-18 19:02:15,112]\u001b[0m Trial 798 finished with value: 415.38350000650723 and parameters: {'params[0]': 3.8196643805031543, 'params[1]': -2.2407703996453536}. Best is trial 163 with value: 13.269781708837542.\u001b[0m\n",
      "\u001b[32m[I 2021-06-18 19:02:15,142]\u001b[0m Trial 799 finished with value: 264.31055384601086 and parameters: {'params[0]': 1.6646630745582656, 'params[1]': -1.4200005410343377}. Best is trial 163 with value: 13.269781708837542.\u001b[0m\n",
      "\u001b[32m[I 2021-06-18 19:02:15,172]\u001b[0m Trial 800 finished with value: 244.3338803105611 and parameters: {'params[0]': -4.227253174314309, 'params[1]': -2.5166869159637857}. Best is trial 163 with value: 13.269781708837542.\u001b[0m\n",
      "\u001b[32m[I 2021-06-18 19:02:15,202]\u001b[0m Trial 801 finished with value: 400.82964777487257 and parameters: {'params[0]': 3.3454370747555586, 'params[1]': -3.1734593260255766}. Best is trial 163 with value: 13.269781708837542.\u001b[0m\n",
      "\u001b[32m[I 2021-06-18 19:02:15,232]\u001b[0m Trial 802 finished with value: 312.59785027835795 and parameters: {'params[0]': 2.726120401885635, 'params[1]': -1.7603091960225248}. Best is trial 163 with value: 13.269781708837542.\u001b[0m\n",
      "\u001b[32m[I 2021-06-18 19:02:15,262]\u001b[0m Trial 803 finished with value: 139.63350705177987 and parameters: {'params[0]': 2.4542389219762186, 'params[1]': -2.6627202200974187}. Best is trial 163 with value: 13.269781708837542.\u001b[0m\n",
      "\u001b[32m[I 2021-06-18 19:02:15,292]\u001b[0m Trial 804 finished with value: 205.47063012765523 and parameters: {'params[0]': 3.0600474893217218, 'params[1]': -2.14561116489584}. Best is trial 163 with value: 13.269781708837542.\u001b[0m\n",
      "\u001b[32m[I 2021-06-18 19:02:15,322]\u001b[0m Trial 805 finished with value: 243.0149487664873 and parameters: {'params[0]': -0.7068406486543432, 'params[1]': -2.9545129981371234}. Best is trial 163 with value: 13.269781708837542.\u001b[0m\n",
      "\u001b[32m[I 2021-06-18 19:02:15,352]\u001b[0m Trial 806 finished with value: 531.6890854778813 and parameters: {'params[0]': 3.6061457223160893, 'params[1]': -3.5419642478409834}. Best is trial 163 with value: 13.269781708837542.\u001b[0m\n",
      "\u001b[32m[I 2021-06-18 19:02:15,372]\u001b[0m Trial 807 finished with value: 271.1842472571875 and parameters: {'params[0]': 2.0711334058525357, 'params[1]': 7.882588876073331}. Best is trial 163 with value: 13.269781708837542.\u001b[0m\n",
      "\u001b[32m[I 2021-06-18 19:02:15,402]\u001b[0m Trial 808 finished with value: 91.38637929519332 and parameters: {'params[0]': 2.8303979186485138, 'params[1]': -2.360050884140103}. Best is trial 163 with value: 13.269781708837542.\u001b[0m\n",
      "\u001b[32m[I 2021-06-18 19:02:15,432]\u001b[0m Trial 809 finished with value: 653.6674275505117 and parameters: {'params[0]': 3.9905692164844697, 'params[1]': -1.9061102826536027}. Best is trial 163 with value: 13.269781708837542.\u001b[0m\n",
      "\u001b[32m[I 2021-06-18 19:02:15,462]\u001b[0m Trial 810 finished with value: 171.5532218984073 and parameters: {'params[0]': 3.172462506816903, 'params[1]': -2.7246081795245822}. Best is trial 163 with value: 13.269781708837542.\u001b[0m\n",
      "\u001b[32m[I 2021-06-18 19:02:15,492]\u001b[0m Trial 811 finished with value: 280.21736906091263 and parameters: {'params[0]': 2.4242914729442075, 'params[1]': -3.232483363668377}. Best is trial 163 with value: 13.269781708837542.\u001b[0m\n",
      "\u001b[32m[I 2021-06-18 19:02:15,522]\u001b[0m Trial 812 finished with value: 428.3991008940782 and parameters: {'params[0]': 3.459454395972508, 'params[1]': -1.343615971945933}. Best is trial 163 with value: 13.269781708837542.\u001b[0m\n",
      "\u001b[32m[I 2021-06-18 19:02:15,552]\u001b[0m Trial 813 finished with value: 186.63851032014742 and parameters: {'params[0]': 2.805768101776008, 'params[1]': -2.147330255874814}. Best is trial 163 with value: 13.269781708837542.\u001b[0m\n"
     ]
    },
    {
     "name": "stderr",
     "output_type": "stream",
     "text": [
      "\u001b[32m[I 2021-06-18 19:02:15,582]\u001b[0m Trial 814 finished with value: 44.3757612830555 and parameters: {'params[0]': 3.137294609659329, 'params[1]': -2.5341998353882507}. Best is trial 163 with value: 13.269781708837542.\u001b[0m\n",
      "\u001b[32m[I 2021-06-18 19:02:15,622]\u001b[0m Trial 815 finished with value: 1198.6170472030155 and parameters: {'params[0]': 4.602868211248344, 'params[1]': -3.7433751431720834}. Best is trial 163 with value: 13.269781708837542.\u001b[0m\n",
      "\u001b[32m[I 2021-06-18 19:02:15,652]\u001b[0m Trial 816 finished with value: 524.478252582855 and parameters: {'params[0]': 3.895858194352969, 'params[1]': -2.8644585089493093}. Best is trial 163 with value: 13.269781708837542.\u001b[0m\n",
      "\u001b[32m[I 2021-06-18 19:02:15,682]\u001b[0m Trial 817 finished with value: 213.21035420240264 and parameters: {'params[0]': 3.6107236674782426, 'params[1]': -2.5685398622403937}. Best is trial 163 with value: 13.269781708837542.\u001b[0m\n",
      "\u001b[32m[I 2021-06-18 19:02:15,702]\u001b[0m Trial 818 finished with value: 404.73732107353874 and parameters: {'params[0]': 3.2957076942432404, 'params[1]': -3.216751580805497}. Best is trial 163 with value: 13.269781708837542.\u001b[0m\n",
      "\u001b[32m[I 2021-06-18 19:02:15,732]\u001b[0m Trial 819 finished with value: 849.8697434988632 and parameters: {'params[0]': 4.098182001386122, 'params[1]': -1.6693206897579733}. Best is trial 163 with value: 13.269781708837542.\u001b[0m\n",
      "\u001b[32m[I 2021-06-18 19:02:15,762]\u001b[0m Trial 820 finished with value: 250.64897272120305 and parameters: {'params[0]': 3.14846016277753, 'params[1]': -2.079411830596416}. Best is trial 163 with value: 13.269781708837542.\u001b[0m\n",
      "\u001b[32m[I 2021-06-18 19:02:15,782]\u001b[0m Trial 821 finished with value: 284.81977353469847 and parameters: {'params[0]': 3.67547249327953, 'params[1]': -2.653700682166189}. Best is trial 163 with value: 13.269781708837542.\u001b[0m\n",
      "\u001b[32m[I 2021-06-18 19:02:15,812]\u001b[0m Trial 822 finished with value: 286.9570790674997 and parameters: {'params[0]': 3.0941658546892703, 'params[1]': -2.976360125000029}. Best is trial 163 with value: 13.269781708837542.\u001b[0m\n",
      "\u001b[32m[I 2021-06-18 19:02:15,832]\u001b[0m Trial 823 finished with value: 1037.4756891937222 and parameters: {'params[0]': 4.394574313048808, 'params[1]': -4.254141417660191}. Best is trial 163 with value: 13.269781708837542.\u001b[0m\n",
      "\u001b[32m[I 2021-06-18 19:02:15,862]\u001b[0m Trial 824 finished with value: 304.25731294320354 and parameters: {'params[0]': 3.441686679241827, 'params[1]': -2.135394138319225}. Best is trial 163 with value: 13.269781708837542.\u001b[0m\n",
      "\u001b[32m[I 2021-06-18 19:02:15,882]\u001b[0m Trial 825 finished with value: 341.75946924356185 and parameters: {'params[0]': 2.971282666972574, 'params[1]': -3.395947503899531}. Best is trial 163 with value: 13.269781708837542.\u001b[0m\n",
      "\u001b[32m[I 2021-06-18 19:02:15,912]\u001b[0m Trial 826 finished with value: 250.4133945458294 and parameters: {'params[0]': 2.472371618354397, 'params[1]': -1.1121292580062467}. Best is trial 163 with value: 13.269781708837542.\u001b[0m\n",
      "\u001b[32m[I 2021-06-18 19:02:15,932]\u001b[0m Trial 827 finished with value: 771.4352595274916 and parameters: {'params[0]': 3.781486912415717, 'params[1]': 2.2851283079629927}. Best is trial 163 with value: 13.269781708837542.\u001b[0m\n",
      "\u001b[32m[I 2021-06-18 19:02:15,962]\u001b[0m Trial 828 finished with value: 45.76691470132797 and parameters: {'params[0]': 2.826288270869758, 'params[1]': -2.4603600298953485}. Best is trial 163 with value: 13.269781708837542.\u001b[0m\n",
      "\u001b[32m[I 2021-06-18 19:02:15,982]\u001b[0m Trial 829 finished with value: 435.5885915169206 and parameters: {'params[0]': 3.3037522911781045, 'params[1]': -1.6976289604219765}. Best is trial 163 with value: 13.269781708837542.\u001b[0m\n",
      "\u001b[32m[I 2021-06-18 19:02:16,012]\u001b[0m Trial 830 finished with value: 130.6985197042132 and parameters: {'params[0]': 3.0018086594389772, 'params[1]': -2.2887100095535047}. Best is trial 163 with value: 13.269781708837542.\u001b[0m\n",
      "\u001b[32m[I 2021-06-18 19:02:16,042]\u001b[0m Trial 831 finished with value: 479.2772178608698 and parameters: {'params[0]': 3.5910511496811046, 'params[1]': -1.8702934483834306}. Best is trial 163 with value: 13.269781708837542.\u001b[0m\n",
      "\u001b[32m[I 2021-06-18 19:02:16,072]\u001b[0m Trial 832 finished with value: 206.93350965430568 and parameters: {'params[0]': 2.155655670171312, 'params[1]': -2.8536862413997515}. Best is trial 163 with value: 13.269781708837542.\u001b[0m\n",
      "\u001b[32m[I 2021-06-18 19:02:16,112]\u001b[0m Trial 833 finished with value: 94.4992441064522 and parameters: {'params[0]': 2.76599193004792, 'params[1]': -2.3605896451442483}. Best is trial 163 with value: 13.269781708837542.\u001b[0m\n",
      "\u001b[32m[I 2021-06-18 19:02:16,142]\u001b[0m Trial 834 finished with value: 891.161098502334 and parameters: {'params[0]': 4.163789540276307, 'params[1]': -1.5794411994431716}. Best is trial 163 with value: 13.269781708837542.\u001b[0m\n",
      "\u001b[32m[I 2021-06-18 19:02:16,182]\u001b[0m Trial 835 finished with value: 242.41529196970617 and parameters: {'params[0]': 0.4958010466838325, 'params[1]': -3.047173870186329}. Best is trial 163 with value: 13.269781708837542.\u001b[0m\n",
      "\u001b[32m[I 2021-06-18 19:02:16,222]\u001b[0m Trial 836 finished with value: 126.97406480817367 and parameters: {'params[0]': 3.3253964466320323, 'params[1]': -2.600712491237173}. Best is trial 163 with value: 13.269781708837542.\u001b[0m\n",
      "\u001b[32m[I 2021-06-18 19:02:16,272]\u001b[0m Trial 837 finished with value: 37038.878536118835 and parameters: {'params[0]': 8.044649457136117, 'params[1]': -2.013685908780721}. Best is trial 163 with value: 13.269781708837542.\u001b[0m\n",
      "\u001b[32m[I 2021-06-18 19:02:16,302]\u001b[0m Trial 838 finished with value: 1936.4544955627657 and parameters: {'params[0]': 5.019418444182186, 'params[1]': -3.562557972181806}. Best is trial 163 with value: 13.269781708837542.\u001b[0m\n",
      "\u001b[32m[I 2021-06-18 19:02:16,342]\u001b[0m Trial 839 finished with value: 116.1579479869458 and parameters: {'params[0]': 2.519250290934126, 'params[1]': -2.366464314093746}. Best is trial 163 with value: 13.269781708837542.\u001b[0m\n",
      "\u001b[32m[I 2021-06-18 19:02:16,382]\u001b[0m Trial 840 finished with value: 241.79807520378847 and parameters: {'params[0]': 3.028787769553869, 'params[1]': -2.889637744516409}. Best is trial 163 with value: 13.269781708837542.\u001b[0m\n",
      "\u001b[32m[I 2021-06-18 19:02:16,412]\u001b[0m Trial 841 finished with value: 462.4039187100767 and parameters: {'params[0]': 3.759564620931576, 'params[1]': -2.0575674608209784}. Best is trial 163 with value: 13.269781708837542.\u001b[0m\n",
      "\u001b[32m[I 2021-06-18 19:02:16,442]\u001b[0m Trial 842 finished with value: 248.9890872586197 and parameters: {'params[0]': 1.8640739414531422, 'params[1]': -1.2344009124746609}. Best is trial 163 with value: 13.269781708837542.\u001b[0m\n",
      "\u001b[32m[I 2021-06-18 19:02:16,472]\u001b[0m Trial 843 finished with value: 118.91246226919147 and parameters: {'params[0]': 3.306466853756709, 'params[1]': -2.5958578676165605}. Best is trial 163 with value: 13.269781708837542.\u001b[0m\n",
      "\u001b[32m[I 2021-06-18 19:02:16,512]\u001b[0m Trial 844 finished with value: 262.41415667901134 and parameters: {'params[0]': 2.278086707721127, 'params[1]': -3.156191411879497}. Best is trial 163 with value: 13.269781708837542.\u001b[0m\n",
      "\u001b[32m[I 2021-06-18 19:02:16,542]\u001b[0m Trial 845 finished with value: 340.60589868263315 and parameters: {'params[0]': 2.802709939317569, 'params[1]': -1.6553488682995554}. Best is trial 163 with value: 13.269781708837542.\u001b[0m\n",
      "\u001b[32m[I 2021-06-18 19:02:16,572]\u001b[0m Trial 846 finished with value: 288.2794265301317 and parameters: {'params[0]': 3.53804705742441, 'params[1]': -2.230038352449978}. Best is trial 163 with value: 13.269781708837542.\u001b[0m\n",
      "\u001b[32m[I 2021-06-18 19:02:16,592]\u001b[0m Trial 847 finished with value: 291.5672100726073 and parameters: {'params[0]': 2.934488347509537, 'params[1]': -3.889894107094827}. Best is trial 163 with value: 13.269781708837542.\u001b[0m\n",
      "\u001b[32m[I 2021-06-18 19:02:16,622]\u001b[0m Trial 848 finished with value: 181.64527448296192 and parameters: {'params[0]': 2.522226376813654, 'params[1]': -2.7865529964146174}. Best is trial 163 with value: 13.269781708837542.\u001b[0m\n",
      "\u001b[32m[I 2021-06-18 19:02:16,662]\u001b[0m Trial 849 finished with value: 359.9216584488311 and parameters: {'params[0]': 3.908848225979014, 'params[1]': -2.5178477643305177}. Best is trial 163 with value: 13.269781708837542.\u001b[0m\n",
      "\u001b[32m[I 2021-06-18 19:02:16,692]\u001b[0m Trial 850 finished with value: 409.13025385758533 and parameters: {'params[0]': 3.267742781450902, 'params[1]': -3.2611558899637196}. Best is trial 163 with value: 13.269781708837542.\u001b[0m\n"
     ]
    },
    {
     "name": "stderr",
     "output_type": "stream",
     "text": [
      "\u001b[32m[I 2021-06-18 19:02:16,732]\u001b[0m Trial 851 finished with value: 244.5307203308428 and parameters: {'params[0]': -1.2862997660603588, 'params[1]': -1.8822840040944908}. Best is trial 163 with value: 13.269781708837542.\u001b[0m\n",
      "\u001b[32m[I 2021-06-18 19:02:16,762]\u001b[0m Trial 852 finished with value: 170.7291018012881 and parameters: {'params[0]': 2.1075439872600934, 'params[1]': -2.2809724882660274}. Best is trial 163 with value: 13.269781708837542.\u001b[0m\n",
      "\u001b[32m[I 2021-06-18 19:02:16,792]\u001b[0m Trial 853 finished with value: 235.22076221032012 and parameters: {'params[0]': 2.719109242752786, 'params[1]': -2.939505305335417}. Best is trial 163 with value: 13.269781708837542.\u001b[0m\n",
      "\u001b[32m[I 2021-06-18 19:02:16,822]\u001b[0m Trial 854 finished with value: 284.80637442096133 and parameters: {'params[0]': 3.1156523019018874, 'params[1]': -0.9183680572985591}. Best is trial 163 with value: 13.269781708837542.\u001b[0m\n",
      "\u001b[32m[I 2021-06-18 19:02:16,842]\u001b[0m Trial 855 finished with value: 156.21829311166837 and parameters: {'params[0]': 3.4388618341070405, 'params[1]': -2.5873082561981473}. Best is trial 163 with value: 13.269781708837542.\u001b[0m\n",
      "\u001b[32m[I 2021-06-18 19:02:16,872]\u001b[0m Trial 856 finished with value: 237.48762474625823 and parameters: {'params[0]': 1.659751122550365, 'params[1]': -1.929694647197444}. Best is trial 163 with value: 13.269781708837542.\u001b[0m\n",
      "\u001b[32m[I 2021-06-18 19:02:16,892]\u001b[0m Trial 857 finished with value: 891.511146245634 and parameters: {'params[0]': 4.188758253636603, 'params[1]': -1.4986465287893527}. Best is trial 163 with value: 13.269781708837542.\u001b[0m\n",
      "\u001b[32m[I 2021-06-18 19:02:16,922]\u001b[0m Trial 858 finished with value: 251.89952809052238 and parameters: {'params[0]': 1.245375304486633, 'params[1]': -3.453670571732605}. Best is trial 163 with value: 13.269781708837542.\u001b[0m\n",
      "\u001b[32m[I 2021-06-18 19:02:16,952]\u001b[0m Trial 859 finished with value: 292.96553834352034 and parameters: {'params[0]': 2.4213241676652144, 'params[1]': -0.3463150539337154}. Best is trial 163 with value: 13.269781708837542.\u001b[0m\n",
      "\u001b[32m[I 2021-06-18 19:02:16,982]\u001b[0m Trial 860 finished with value: 124.64263173951053 and parameters: {'params[0]': 2.889522373279035, 'params[1]': -2.2920892769437655}. Best is trial 163 with value: 13.269781708837542.\u001b[0m\n",
      "\u001b[32m[I 2021-06-18 19:02:17,012]\u001b[0m Trial 861 finished with value: 364.00454751545686 and parameters: {'params[0]': 3.640644526086728, 'params[1]': -2.8070353231390897}. Best is trial 163 with value: 13.269781708837542.\u001b[0m\n",
      "\u001b[32m[I 2021-06-18 19:02:17,042]\u001b[0m Trial 862 finished with value: 342.76561474325405 and parameters: {'params[0]': 3.143452015426334, 'params[1]': -3.149961088108955}. Best is trial 163 with value: 13.269781708837542.\u001b[0m\n",
      "\u001b[32m[I 2021-06-18 19:02:17,072]\u001b[0m Trial 863 finished with value: 209.7402850044464 and parameters: {'params[0]': 2.454702462051503, 'params[1]': -2.0902508808094753}. Best is trial 163 with value: 13.269781708837542.\u001b[0m\n",
      "\u001b[32m[I 2021-06-18 19:02:17,092]\u001b[0m Trial 864 finished with value: 43.744026909906026 and parameters: {'params[0]': 2.8094497350654604, 'params[1]': -2.510248891474859}. Best is trial 163 with value: 13.269781708837542.\u001b[0m\n",
      "\u001b[32m[I 2021-06-18 19:02:17,112]\u001b[0m Trial 865 finished with value: 258.63046054597316 and parameters: {'params[0]': 2.1273972911781955, 'params[1]': -3.713139889869141}. Best is trial 163 with value: 13.269781708837542.\u001b[0m\n",
      "\u001b[32m[I 2021-06-18 19:02:17,142]\u001b[0m Trial 866 finished with value: 171.91795281007325 and parameters: {'params[0]': 1.8492036290810865, 'params[1]': -2.570348431297327}. Best is trial 163 with value: 13.269781708837542.\u001b[0m\n",
      "\u001b[32m[I 2021-06-18 19:02:17,162]\u001b[0m Trial 867 finished with value: 212.85764489603383 and parameters: {'params[0]': 2.6147181200351635, 'params[1]': -2.878141984251888}. Best is trial 163 with value: 13.269781708837542.\u001b[0m\n",
      "\u001b[32m[I 2021-06-18 19:02:17,202]\u001b[0m Trial 868 finished with value: 338.167130973503 and parameters: {'params[0]': 2.7735379971926526, 'params[1]': -1.6368217583263707}. Best is trial 163 with value: 13.269781708837542.\u001b[0m\n",
      "\u001b[32m[I 2021-06-18 19:02:17,232]\u001b[0m Trial 869 finished with value: 115.2742266464743 and parameters: {'params[0]': 2.4621035578518145, 'params[1]': -2.393071653507327}. Best is trial 163 with value: 13.269781708837542.\u001b[0m\n",
      "\u001b[32m[I 2021-06-18 19:02:17,272]\u001b[0m Trial 870 finished with value: 268.1605290614209 and parameters: {'params[0]': 2.1046147982845356, 'params[1]': -3.2724151188901907}. Best is trial 163 with value: 13.269781708837542.\u001b[0m\n",
      "\u001b[32m[I 2021-06-18 19:02:17,302]\u001b[0m Trial 871 finished with value: 295.8704169656549 and parameters: {'params[0]': 2.9789902775342147, 'params[1]': -5.090261176816973}. Best is trial 163 with value: 13.269781708837542.\u001b[0m\n",
      "\u001b[32m[I 2021-06-18 19:02:17,332]\u001b[0m Trial 872 finished with value: 321.13331074873605 and parameters: {'params[0]': 3.292210302584752, 'params[1]': -1.9990057295703758}. Best is trial 163 with value: 13.269781708837542.\u001b[0m\n",
      "\u001b[32m[I 2021-06-18 19:02:17,372]\u001b[0m Trial 873 finished with value: 220.96250903953208 and parameters: {'params[0]': 1.498504703709643, 'params[1]': -2.857093511563484}. Best is trial 163 with value: 13.269781708837542.\u001b[0m\n",
      "\u001b[32m[I 2021-06-18 19:02:17,412]\u001b[0m Trial 874 finished with value: 93.32769396788558 and parameters: {'params[0]': 2.728584608867734, 'params[1]': -2.3719025379173515}. Best is trial 163 with value: 13.269781708837542.\u001b[0m\n",
      "\u001b[32m[I 2021-06-18 19:02:17,432]\u001b[0m Trial 875 finished with value: 397.2974465484397 and parameters: {'params[0]': 3.841373698839722, 'params[1]': -2.7076143870631046}. Best is trial 163 with value: 13.269781708837542.\u001b[0m\n",
      "\u001b[32m[I 2021-06-18 19:02:17,462]\u001b[0m Trial 876 finished with value: 276.513288734146 and parameters: {'params[0]': 2.192455774856214, 'params[1]': -1.4070225498507518}. Best is trial 163 with value: 13.269781708837542.\u001b[0m\n",
      "\u001b[32m[I 2021-06-18 19:02:17,512]\u001b[0m Trial 877 finished with value: 356.04671020877845 and parameters: {'params[0]': 3.062193179485848, 'params[1]': -3.4284702734830805}. Best is trial 163 with value: 13.269781708837542.\u001b[0m\n",
      "\u001b[32m[I 2021-06-18 19:02:17,542]\u001b[0m Trial 878 finished with value: 476.35575430693905 and parameters: {'params[0]': 3.5220260797466625, 'params[1]': -1.8210131264507978}. Best is trial 163 with value: 13.269781708837542.\u001b[0m\n",
      "\u001b[32m[I 2021-06-18 19:02:17,572]\u001b[0m Trial 879 finished with value: 264.80788471925155 and parameters: {'params[0]': 2.619773426924283, 'params[1]': -3.0809140783696582}. Best is trial 163 with value: 13.269781708837542.\u001b[0m\n",
      "\u001b[32m[I 2021-06-18 19:02:17,612]\u001b[0m Trial 880 finished with value: 173.92784094001917 and parameters: {'params[0]': 3.1601618806529057, 'params[1]': -2.2469007772795835}. Best is trial 163 with value: 13.269781708837542.\u001b[0m\n",
      "\u001b[32m[I 2021-06-18 19:02:17,642]\u001b[0m Trial 881 finished with value: 132.6125206665892 and parameters: {'params[0]': 2.479114965947512, 'params[1]': -2.6482032757893306}. Best is trial 163 with value: 13.269781708837542.\u001b[0m\n",
      "\u001b[32m[I 2021-06-18 19:02:17,678]\u001b[0m Trial 882 finished with value: 174.81800326298006 and parameters: {'params[0]': 2.8549990191453594, 'params[1]': -2.1715774423691987}. Best is trial 163 with value: 13.269781708837542.\u001b[0m\n",
      "\u001b[32m[I 2021-06-18 19:02:17,708]\u001b[0m Trial 883 finished with value: 238.08008326533633 and parameters: {'params[0]': 1.8981691565568735, 'params[1]': -3.017460732157062}. Best is trial 163 with value: 13.269781708837542.\u001b[0m\n",
      "\u001b[32m[I 2021-06-18 19:02:17,738]\u001b[0m Trial 884 finished with value: 529.7428567104606 and parameters: {'params[0]': 3.721386209931378, 'params[1]': -1.8796883333117862}. Best is trial 163 with value: 13.269781708837542.\u001b[0m\n",
      "\u001b[32m[I 2021-06-18 19:02:17,758]\u001b[0m Trial 885 finished with value: 992.9668235467573 and parameters: {'params[0]': 4.428548481043292, 'params[1]': 0.28384104988821823}. Best is trial 163 with value: 13.269781708837542.\u001b[0m\n",
      "\u001b[32m[I 2021-06-18 19:02:17,798]\u001b[0m Trial 886 finished with value: 371.46455221352085 and parameters: {'params[0]': 3.3188032910902145, 'params[1]': -3.9848280298527126}. Best is trial 163 with value: 13.269781708837542.\u001b[0m\n",
      "\u001b[32m[I 2021-06-18 19:02:17,868]\u001b[0m Trial 887 finished with value: 136.38217130381452 and parameters: {'params[0]': 2.2333926762681546, 'params[1]': -2.5580452773572473}. Best is trial 163 with value: 13.269781708837542.\u001b[0m\n"
     ]
    },
    {
     "name": "stderr",
     "output_type": "stream",
     "text": [
      "\u001b[32m[I 2021-06-18 19:02:17,888]\u001b[0m Trial 888 finished with value: 307.96104592103876 and parameters: {'params[0]': 2.9353906546176534, 'params[1]': -1.2794243933386884}. Best is trial 163 with value: 13.269781708837542.\u001b[0m\n",
      "\u001b[32m[I 2021-06-18 19:02:17,918]\u001b[0m Trial 889 finished with value: 435.6045203216448 and parameters: {'params[0]': 3.336904443852501, 'params[1]': -3.378959022669246}. Best is trial 163 with value: 13.269781708837542.\u001b[0m\n",
      "\u001b[32m[I 2021-06-18 19:02:17,948]\u001b[0m Trial 890 finished with value: 594.0357648037811 and parameters: {'params[0]': 4.0821816003714435, 'params[1]': -2.205953398596}. Best is trial 163 with value: 13.269781708837542.\u001b[0m\n",
      "\u001b[32m[I 2021-06-18 19:02:17,978]\u001b[0m Trial 891 finished with value: 148.45303078953043 and parameters: {'params[0]': 2.5907945296593207, 'params[1]': -2.709213479003355}. Best is trial 163 with value: 13.269781708837542.\u001b[0m\n",
      "\u001b[32m[I 2021-06-18 19:02:18,008]\u001b[0m Trial 892 finished with value: 491.5185434501535 and parameters: {'params[0]': 3.5215499296781685, 'params[1]': -1.7727924859864315}. Best is trial 163 with value: 13.269781708837542.\u001b[0m\n",
      "\u001b[32m[I 2021-06-18 19:02:18,028]\u001b[0m Trial 893 finished with value: 273.8238794158307 and parameters: {'params[0]': 2.9124945401213562, 'params[1]': -3.0233155685614777}. Best is trial 163 with value: 13.269781708837542.\u001b[0m\n",
      "\u001b[32m[I 2021-06-18 19:02:18,058]\u001b[0m Trial 894 finished with value: 280.18507540427396 and parameters: {'params[0]': 2.2515631634444477, 'params[1]': 1.0240625854016725}. Best is trial 163 with value: 13.269781708837542.\u001b[0m\n",
      "\u001b[32m[I 2021-06-18 19:02:18,098]\u001b[0m Trial 895 finished with value: 178.91171610851765 and parameters: {'params[0]': 1.6803409617457425, 'params[1]': -2.4426850539640905}. Best is trial 163 with value: 13.269781708837542.\u001b[0m\n",
      "\u001b[32m[I 2021-06-18 19:02:18,128]\u001b[0m Trial 896 finished with value: 242.86591461540831 and parameters: {'params[0]': 3.058539415675838, 'params[1]': -2.0633260796286974}. Best is trial 163 with value: 13.269781708837542.\u001b[0m\n",
      "\u001b[32m[I 2021-06-18 19:02:18,158]\u001b[0m Trial 897 finished with value: 601.947539712727 and parameters: {'params[0]': 3.803841911834481, 'params[1]': -3.6726322391420574}. Best is trial 163 with value: 13.269781708837542.\u001b[0m\n",
      "\u001b[32m[I 2021-06-18 19:02:18,188]\u001b[0m Trial 898 finished with value: 167.42234692233495 and parameters: {'params[0]': 2.6159225182634964, 'params[1]': -2.7583290919165138}. Best is trial 163 with value: 13.269781708837542.\u001b[0m\n",
      "\u001b[32m[I 2021-06-18 19:02:18,208]\u001b[0m Trial 899 finished with value: 420.0699526133958 and parameters: {'params[0]': 3.3981904700047676, 'params[1]': -6.617874967292162}. Best is trial 163 with value: 13.269781708837542.\u001b[0m\n",
      "\u001b[32m[I 2021-06-18 19:02:18,238]\u001b[0m Trial 900 finished with value: 292.13799149443184 and parameters: {'params[0]': 2.326301662382192, 'params[1]': -1.6442465183918498}. Best is trial 163 with value: 13.269781708837542.\u001b[0m\n",
      "\u001b[32m[I 2021-06-18 19:02:18,258]\u001b[0m Trial 901 finished with value: 6329.35416302821 and parameters: {'params[0]': 6.27482190294974, 'params[1]': -2.4045211541282225}. Best is trial 163 with value: 13.269781708837542.\u001b[0m\n",
      "\u001b[32m[I 2021-06-18 19:02:18,288]\u001b[0m Trial 902 finished with value: 295.4191791844586 and parameters: {'params[0]': 2.865855077103181, 'params[1]': -3.145289192411221}. Best is trial 163 with value: 13.269781708837542.\u001b[0m\n",
      "\u001b[32m[I 2021-06-18 19:02:18,318]\u001b[0m Trial 903 finished with value: 194.02289574690025 and parameters: {'params[0]': 3.1723673890248154, 'params[1]': -2.2149306851440143}. Best is trial 163 with value: 13.269781708837542.\u001b[0m\n",
      "\u001b[32m[I 2021-06-18 19:02:18,348]\u001b[0m Trial 904 finished with value: 456.3434487471489 and parameters: {'params[0]': 3.899546482857857, 'params[1]': -2.7438046995903043}. Best is trial 163 with value: 13.269781708837542.\u001b[0m\n",
      "\u001b[32m[I 2021-06-18 19:02:18,388]\u001b[0m Trial 905 finished with value: 237.14220474408162 and parameters: {'params[0]': 0.9476159832528464, 'params[1]': -1.977962232632684}. Best is trial 163 with value: 13.269781708837542.\u001b[0m\n",
      "\u001b[32m[I 2021-06-18 19:02:18,438]\u001b[0m Trial 906 finished with value: 240.25015473129451 and parameters: {'params[0]': 1.9912592844657502, 'params[1]': -1.0482281149554502}. Best is trial 163 with value: 13.269781708837542.\u001b[0m\n",
      "\u001b[32m[I 2021-06-18 19:02:18,468]\u001b[0m Trial 907 finished with value: 284.940377519614 and parameters: {'params[0]': 2.6582354448485015, 'params[1]': -3.182840878688411}. Best is trial 163 with value: 13.269781708837542.\u001b[0m\n",
      "\u001b[32m[I 2021-06-18 19:02:18,488]\u001b[0m Trial 908 finished with value: 228.09478000156918 and parameters: {'params[0]': 3.6406346249251036, 'params[1]': -2.4528739729279883}. Best is trial 163 with value: 13.269781708837542.\u001b[0m\n",
      "\u001b[32m[I 2021-06-18 19:02:18,518]\u001b[0m Trial 909 finished with value: 156241.93075836563 and parameters: {'params[0]': 9.424772431065286, 'params[1]': -1.579685417319213}. Best is trial 163 with value: 13.269781708837542.\u001b[0m\n",
      "\u001b[32m[I 2021-06-18 19:02:18,548]\u001b[0m Trial 910 finished with value: 242.09988359747558 and parameters: {'params[0]': 3.124898228324185, 'params[1]': -2.8599841314066414}. Best is trial 163 with value: 13.269781708837542.\u001b[0m\n",
      "\u001b[32m[I 2021-06-18 19:02:18,578]\u001b[0m Trial 911 finished with value: 283.16353756036796 and parameters: {'params[0]': 2.4102630054843006, 'params[1]': -3.5157283644718325}. Best is trial 163 with value: 13.269781708837542.\u001b[0m\n",
      "\u001b[32m[I 2021-06-18 19:02:18,608]\u001b[0m Trial 912 finished with value: 346.7070059193457 and parameters: {'params[0]': 3.482508941729395, 'params[1]': -2.0620463593361196}. Best is trial 163 with value: 13.269781708837542.\u001b[0m\n",
      "\u001b[32m[I 2021-06-18 19:02:18,638]\u001b[0m Trial 913 finished with value: 47.251052613776444 and parameters: {'params[0]': 2.8353738661251415, 'params[1]': -2.453360810949637}. Best is trial 163 with value: 13.269781708837542.\u001b[0m\n",
      "\u001b[32m[I 2021-06-18 19:02:18,678]\u001b[0m Trial 914 finished with value: 69.3988288096182 and parameters: {'params[0]': 2.863347164536518, 'params[1]': -2.5949870870474614}. Best is trial 163 with value: 13.269781708837542.\u001b[0m\n",
      "\u001b[32m[I 2021-06-18 19:02:18,719]\u001b[0m Trial 915 finished with value: 807.3408270874613 and parameters: {'params[0]': 4.159195945158792, 'params[1]': -4.468251412683105}. Best is trial 163 with value: 13.269781708837542.\u001b[0m\n",
      "\u001b[32m[I 2021-06-18 19:02:18,749]\u001b[0m Trial 916 finished with value: 290.1266232533422 and parameters: {'params[0]': 2.9195160948598318, 'params[1]': -3.088899729119241}. Best is trial 163 with value: 13.269781708837542.\u001b[0m\n",
      "\u001b[32m[I 2021-06-18 19:02:18,784]\u001b[0m Trial 917 finished with value: 1335.169001704914 and parameters: {'params[0]': 4.714026318741934, 'params[1]': -3.7476731270564105}. Best is trial 163 with value: 13.269781708837542.\u001b[0m\n",
      "\u001b[32m[I 2021-06-18 19:02:18,814]\u001b[0m Trial 918 finished with value: 205.88389361955115 and parameters: {'params[0]': 3.3693713049624683, 'params[1]': -2.7072626107476427}. Best is trial 163 with value: 13.269781708837542.\u001b[0m\n",
      "\u001b[32m[I 2021-06-18 19:02:18,844]\u001b[0m Trial 919 finished with value: 254.03700267954707 and parameters: {'params[0]': 2.5509613166812297, 'params[1]': -3.0411707475933754}. Best is trial 163 with value: 13.269781708837542.\u001b[0m\n",
      "\u001b[32m[I 2021-06-18 19:02:18,874]\u001b[0m Trial 920 finished with value: 26.515955647794414 and parameters: {'params[0]': 3.1024014624953233, 'params[1]': -2.506344705991547}. Best is trial 163 with value: 13.269781708837542.\u001b[0m\n",
      "\u001b[32m[I 2021-06-18 19:02:18,904]\u001b[0m Trial 921 finished with value: 323.62165700544074 and parameters: {'params[0]': 3.8421192311105594, 'params[1]': -2.4983373416204704}. Best is trial 163 with value: 13.269781708837542.\u001b[0m\n",
      "\u001b[32m[I 2021-06-18 19:02:18,929]\u001b[0m Trial 922 finished with value: 365.3870890643514 and parameters: {'params[0]': 3.535698592361845, 'params[1]': -2.062761680916113}. Best is trial 163 with value: 13.269781708837542.\u001b[0m\n",
      "\u001b[32m[I 2021-06-18 19:02:18,964]\u001b[0m Trial 923 finished with value: 387.676107372774 and parameters: {'params[0]': 3.161587916833689, 'params[1]': -3.3671655328616596}. Best is trial 163 with value: 13.269781708837542.\u001b[0m\n",
      "\u001b[32m[I 2021-06-18 19:02:19,004]\u001b[0m Trial 924 finished with value: 654.7748441092157 and parameters: {'params[0]': 4.154873493683041, 'params[1]': -2.7803905209327473}. Best is trial 163 with value: 13.269781708837542.\u001b[0m\n"
     ]
    },
    {
     "name": "stderr",
     "output_type": "stream",
     "text": [
      "\u001b[32m[I 2021-06-18 19:02:19,034]\u001b[0m Trial 925 finished with value: 394.88487873083966 and parameters: {'params[0]': 3.254548245229648, 'params[1]': -1.7860782403616782}. Best is trial 163 with value: 13.269781708837542.\u001b[0m\n",
      "\u001b[32m[I 2021-06-18 19:02:19,064]\u001b[0m Trial 926 finished with value: 261.66718826304066 and parameters: {'params[0]': 3.5954993373048563, 'params[1]': -2.332912585577157}. Best is trial 163 with value: 13.269781708837542.\u001b[0m\n",
      "\u001b[32m[I 2021-06-18 19:02:19,094]\u001b[0m Trial 927 finished with value: 232.73823945271602 and parameters: {'params[0]': 2.9256601003955756, 'params[1]': -2.89963048603778}. Best is trial 163 with value: 13.269781708837542.\u001b[0m\n",
      "\u001b[32m[I 2021-06-18 19:02:19,124]\u001b[0m Trial 928 finished with value: 323.648538110952 and parameters: {'params[0]': 3.816476170883239, 'params[1]': -2.431285328540711}. Best is trial 163 with value: 13.269781708837542.\u001b[0m\n",
      "\u001b[32m[I 2021-06-18 19:02:19,149]\u001b[0m Trial 929 finished with value: 401.8841416114336 and parameters: {'params[0]': 3.2150506765349545, 'params[1]': -3.3144049633658335}. Best is trial 163 with value: 13.269781708837542.\u001b[0m\n",
      "\u001b[32m[I 2021-06-18 19:02:19,174]\u001b[0m Trial 930 finished with value: 278.8666262258054 and parameters: {'params[0]': 2.2681310051319388, 'params[1]': -1.4058078690195057}. Best is trial 163 with value: 13.269781708837542.\u001b[0m\n",
      "\u001b[32m[I 2021-06-18 19:02:19,204]\u001b[0m Trial 931 finished with value: 260.4336581727654 and parameters: {'params[0]': 2.7931698810852037, 'params[1]': -1.9645796203850816}. Best is trial 163 with value: 13.269781708837542.\u001b[0m\n",
      "\u001b[32m[I 2021-06-18 19:02:19,229]\u001b[0m Trial 932 finished with value: 160.61995581431657 and parameters: {'params[0]': 3.44415360773558, 'params[1]': -2.592802236663285}. Best is trial 163 with value: 13.269781708837542.\u001b[0m\n",
      "\u001b[32m[I 2021-06-18 19:02:19,259]\u001b[0m Trial 933 finished with value: 137.13642489430117 and parameters: {'params[0]': 2.659028502805151, 'params[1]': -2.272159828752397}. Best is trial 163 with value: 13.269781708837542.\u001b[0m\n",
      "\u001b[32m[I 2021-06-18 19:02:19,289]\u001b[0m Trial 934 finished with value: 1020.4085574612649 and parameters: {'params[0]': 4.496215452173252, 'params[1]': -2.8829639118540755}. Best is trial 163 with value: 13.269781708837542.\u001b[0m\n",
      "\u001b[32m[I 2021-06-18 19:02:19,324]\u001b[0m Trial 935 finished with value: 258.3915456404798 and parameters: {'params[0]': 1.8397991038292556, 'params[1]': -3.585858818801995}. Best is trial 163 with value: 13.269781708837542.\u001b[0m\n",
      "\u001b[32m[I 2021-06-18 19:02:19,359]\u001b[0m Trial 936 finished with value: 296.40295120285776 and parameters: {'params[0]': 2.9930536720845, 'params[1]': -4.0767516025938875}. Best is trial 163 with value: 13.269781708837542.\u001b[0m\n",
      "\u001b[32m[I 2021-06-18 19:02:19,394]\u001b[0m Trial 937 finished with value: 729.9659412108673 and parameters: {'params[0]': 3.9319105348141097, 'params[1]': -1.6808583527117495}. Best is trial 163 with value: 13.269781708837542.\u001b[0m\n",
      "\u001b[32m[I 2021-06-18 19:02:19,429]\u001b[0m Trial 938 finished with value: 204.63006354035318 and parameters: {'params[0]': 2.326766034521781, 'params[1]': -2.11365001710287}. Best is trial 163 with value: 13.269781708837542.\u001b[0m\n",
      "\u001b[32m[I 2021-06-18 19:02:19,459]\u001b[0m Trial 939 finished with value: 355.65063361701584 and parameters: {'params[0]': 3.2830591776952174, 'params[1]': -3.0769554752618635}. Best is trial 163 with value: 13.269781708837542.\u001b[0m\n",
      "\u001b[32m[I 2021-06-18 19:02:19,479]\u001b[0m Trial 940 finished with value: 62.57573788927057 and parameters: {'params[0]': 2.7767198792376266, 'params[1]': -2.5532820355199495}. Best is trial 163 with value: 13.269781708837542.\u001b[0m\n",
      "\u001b[32m[I 2021-06-18 19:02:19,514]\u001b[0m Trial 941 finished with value: 253.62953935232957 and parameters: {'params[0]': 1.9008523593143862, 'params[1]': -1.2722369675539615}. Best is trial 163 with value: 13.269781708837542.\u001b[0m\n",
      "\u001b[32m[I 2021-06-18 19:02:19,544]\u001b[0m Trial 942 finished with value: 248.04742847364722 and parameters: {'params[0]': 2.305222795800217, 'params[1]': -0.7122058040940993}. Best is trial 163 with value: 13.269781708837542.\u001b[0m\n",
      "\u001b[32m[I 2021-06-18 19:02:19,579]\u001b[0m Trial 943 finished with value: 203.07122041752163 and parameters: {'params[0]': 1.265172741427741, 'params[1]': -2.373474691699995}. Best is trial 163 with value: 13.269781708837542.\u001b[0m\n",
      "\u001b[32m[I 2021-06-18 19:02:19,609]\u001b[0m Trial 944 finished with value: 284.2541113137772 and parameters: {'params[0]': 2.618565925323313, 'params[1]': -1.8366324604342348}. Best is trial 163 with value: 13.269781708837542.\u001b[0m\n",
      "\u001b[32m[I 2021-06-18 19:02:19,644]\u001b[0m Trial 945 finished with value: 150.21323483338162 and parameters: {'params[0]': 2.6957380383882574, 'params[1]': -2.727934798465541}. Best is trial 163 with value: 13.269781708837542.\u001b[0m\n",
      "\u001b[32m[I 2021-06-18 19:02:19,664]\u001b[0m Trial 946 finished with value: 244.79350318541285 and parameters: {'params[0]': -0.3597780346919732, 'params[1]': -3.1862274165323914}. Best is trial 163 with value: 13.269781708837542.\u001b[0m\n",
      "\u001b[32m[I 2021-06-18 19:02:19,705]\u001b[0m Trial 947 finished with value: 205.97801729352736 and parameters: {'params[0]': 2.192208645279742, 'params[1]': -2.1156340541999397}. Best is trial 163 with value: 13.269781708837542.\u001b[0m\n",
      "\u001b[32m[I 2021-06-18 19:02:19,725]\u001b[0m Trial 948 finished with value: 91.66944812095983 and parameters: {'params[0]': 2.8770148250077807, 'params[1]': -2.6360569789280937}. Best is trial 163 with value: 13.269781708837542.\u001b[0m\n",
      "\u001b[32m[I 2021-06-18 19:02:19,755]\u001b[0m Trial 949 finished with value: 262.96004244087607 and parameters: {'params[0]': 1.7573270134260928, 'params[1]': -3.428939580631362}. Best is trial 163 with value: 13.269781708837542.\u001b[0m\n",
      "\u001b[32m[I 2021-06-18 19:02:19,785]\u001b[0m Trial 950 finished with value: 308.3554290309194 and parameters: {'params[0]': 2.512856236730263, 'params[1]': -1.5357546545606815}. Best is trial 163 with value: 13.269781708837542.\u001b[0m\n",
      "\u001b[32m[I 2021-06-18 19:02:19,815]\u001b[0m Trial 951 finished with value: 135.56386306270184 and parameters: {'params[0]': 3.016060149038307, 'params[1]': -2.281664600440042}. Best is trial 163 with value: 13.269781708837542.\u001b[0m\n",
      "\u001b[32m[I 2021-06-18 19:02:19,855]\u001b[0m Trial 952 finished with value: 432.3103109000009 and parameters: {'params[0]': 3.621948376405947, 'params[1]': -2.9244186133143804}. Best is trial 163 with value: 13.269781708837542.\u001b[0m\n",
      "\u001b[32m[I 2021-06-18 19:02:19,885]\u001b[0m Trial 953 finished with value: 242.10569422099462 and parameters: {'params[0]': 2.123306466672832, 'params[1]': -1.916666541697749}. Best is trial 163 with value: 13.269781708837542.\u001b[0m\n",
      "\u001b[32m[I 2021-06-18 19:02:19,925]\u001b[0m Trial 954 finished with value: 67.42559948152186 and parameters: {'params[0]': 2.848622096603918, 'params[1]': -2.58720486611876}. Best is trial 163 with value: 13.269781708837542.\u001b[0m\n",
      "\u001b[32m[I 2021-06-18 19:02:19,965]\u001b[0m Trial 955 finished with value: 265.53459909579755 and parameters: {'params[0]': 2.4401725020552494, 'params[1]': -3.128352054788324}. Best is trial 163 with value: 13.269781708837542.\u001b[0m\n",
      "\u001b[32m[I 2021-06-18 19:02:19,995]\u001b[0m Trial 956 finished with value: 208.43013559966283 and parameters: {'params[0]': 1.4515577242684155, 'params[1]': -2.214311277269773}. Best is trial 163 with value: 13.269781708837542.\u001b[0m\n",
      "\u001b[32m[I 2021-06-18 19:02:20,025]\u001b[0m Trial 957 finished with value: 200.5536239946647 and parameters: {'params[0]': 3.3285794435848066, 'params[1]': -2.715944379248204}. Best is trial 163 with value: 13.269781708837542.\u001b[0m\n",
      "\u001b[32m[I 2021-06-18 19:02:20,055]\u001b[0m Trial 958 finished with value: 323.2456112376049 and parameters: {'params[0]': 2.931158736971138, 'params[1]': -3.663696278082706}. Best is trial 163 with value: 13.269781708837542.\u001b[0m\n",
      "\u001b[32m[I 2021-06-18 19:02:20,085]\u001b[0m Trial 959 finished with value: 516.3712212642598 and parameters: {'params[0]': 3.567602877481674, 'params[1]': -1.7455706950161098}. Best is trial 163 with value: 13.269781708837542.\u001b[0m\n",
      "\u001b[32m[I 2021-06-18 19:02:20,125]\u001b[0m Trial 960 finished with value: 90.42599015202615 and parameters: {'params[0]': 2.549654552854157, 'params[1]': -2.461032654186268}. Best is trial 163 with value: 13.269781708837542.\u001b[0m\n",
      "\u001b[32m[I 2021-06-18 19:02:20,155]\u001b[0m Trial 961 finished with value: 237.9392872513015 and parameters: {'params[0]': 2.0022384787806944, 'params[1]': -3.0081065695314524}. Best is trial 163 with value: 13.269781708837542.\u001b[0m\n"
     ]
    },
    {
     "name": "stderr",
     "output_type": "stream",
     "text": [
      "\u001b[32m[I 2021-06-18 19:02:20,195]\u001b[0m Trial 962 finished with value: 234.60976678666742 and parameters: {'params[0]': 3.1569446509761523, 'params[1]': -2.11544765249836}. Best is trial 163 with value: 13.269781708837542.\u001b[0m\n",
      "\u001b[32m[I 2021-06-18 19:02:20,225]\u001b[0m Trial 963 finished with value: 288.8302325086091 and parameters: {'params[0]': 2.727732500797752, 'params[1]': -1.2780743313189888}. Best is trial 163 with value: 13.269781708837542.\u001b[0m\n",
      "\u001b[32m[I 2021-06-18 19:02:20,245]\u001b[0m Trial 964 finished with value: 290.96325427415275 and parameters: {'params[0]': 3.7805317184802645, 'params[1]': -2.494100228696622}. Best is trial 163 with value: 13.269781708837542.\u001b[0m\n",
      "\u001b[32m[I 2021-06-18 19:02:20,275]\u001b[0m Trial 965 finished with value: 3056.1054729387365 and parameters: {'params[0]': 5.492215275755619, 'params[1]': -3.3810647025478535}. Best is trial 163 with value: 13.269781708837542.\u001b[0m\n",
      "\u001b[32m[I 2021-06-18 19:02:20,305]\u001b[0m Trial 966 finished with value: 380.4010153610837 and parameters: {'params[0]': 3.2060542959102736, 'params[1]': -1.7918579693380046}. Best is trial 163 with value: 13.269781708837542.\u001b[0m\n",
      "\u001b[32m[I 2021-06-18 19:02:20,335]\u001b[0m Trial 967 finished with value: 752.9613057090635 and parameters: {'params[0]': 4.1979945343973935, 'params[1]': -2.9096066255845643}. Best is trial 163 with value: 13.269781708837542.\u001b[0m\n",
      "\u001b[32m[I 2021-06-18 19:02:20,365]\u001b[0m Trial 968 finished with value: 168.8417691125947 and parameters: {'params[0]': 2.270765972035372, 'params[1]': -2.2494403178270463}. Best is trial 163 with value: 13.269781708837542.\u001b[0m\n",
      "\u001b[32m[I 2021-06-18 19:02:20,395]\u001b[0m Trial 969 finished with value: 244.5062469310291 and parameters: {'params[0]': -7.98613232173702, 'params[1]': -2.6681740460214023}. Best is trial 163 with value: 13.269781708837542.\u001b[0m\n",
      "\u001b[32m[I 2021-06-18 19:02:20,435]\u001b[0m Trial 970 finished with value: 289.02065420418205 and parameters: {'params[0]': 2.8751256233205944, 'params[1]': -3.8171157770311326}. Best is trial 163 with value: 13.269781708837542.\u001b[0m\n",
      "\u001b[32m[I 2021-06-18 19:02:20,475]\u001b[0m Trial 971 finished with value: 334.7434789909195 and parameters: {'params[0]': 3.462966072494165, 'params[1]': -2.072070369226136}. Best is trial 163 with value: 13.269781708837542.\u001b[0m\n",
      "\u001b[32m[I 2021-06-18 19:02:20,505]\u001b[0m Trial 972 finished with value: 273.3353349410114 and parameters: {'params[0]': 2.514721173021616, 'params[1]': -3.166365818382799}. Best is trial 163 with value: 13.269781708837542.\u001b[0m\n",
      "\u001b[32m[I 2021-06-18 19:02:20,535]\u001b[0m Trial 973 finished with value: 361.24732703864737 and parameters: {'params[0]': 2.976550732406558, 'params[1]': -1.530920361374228}. Best is trial 163 with value: 13.269781708837542.\u001b[0m\n",
      "\u001b[32m[I 2021-06-18 19:02:20,555]\u001b[0m Trial 974 finished with value: 154.47717566940085 and parameters: {'params[0]': 2.005778804418733, 'params[1]': -2.507724407693852}. Best is trial 163 with value: 13.269781708837542.\u001b[0m\n",
      "\u001b[32m[I 2021-06-18 19:02:20,585]\u001b[0m Trial 975 finished with value: 373.1756993109827 and parameters: {'params[0]': 3.545253825865573, 'params[1]': -2.878489704296551}. Best is trial 163 with value: 13.269781708837542.\u001b[0m\n",
      "\u001b[32m[I 2021-06-18 19:02:20,615]\u001b[0m Trial 976 finished with value: 309.19461178955737 and parameters: {'params[0]': 3.1640746361343512, 'params[1]': -0.9780566777045119}. Best is trial 163 with value: 13.269781708837542.\u001b[0m\n",
      "\u001b[32m[I 2021-06-18 19:02:20,655]\u001b[0m Trial 977 finished with value: 264.4932350086904 and parameters: {'params[0]': 2.6244029509512505, 'params[1]': -1.9060553696200246}. Best is trial 163 with value: 13.269781708837542.\u001b[0m\n",
      "\u001b[32m[I 2021-06-18 19:02:20,690]\u001b[0m Trial 978 finished with value: 380.1497357273637 and parameters: {'params[0]': 3.8775662919095613, 'params[1]': -2.3966024833835435}. Best is trial 163 with value: 13.269781708837542.\u001b[0m\n",
      "\u001b[32m[I 2021-06-18 19:02:20,720]\u001b[0m Trial 979 finished with value: 284.39860961743074 and parameters: {'params[0]': 2.345523425479148, 'params[1]': -3.3768894100232565}. Best is trial 163 with value: 13.269781708837542.\u001b[0m\n",
      "\u001b[32m[I 2021-06-18 19:02:20,760]\u001b[0m Trial 980 finished with value: 224.50697487908388 and parameters: {'params[0]': 1.58554827327124, 'params[1]': -2.904406878404223}. Best is trial 163 with value: 13.269781708837542.\u001b[0m\n",
      "\u001b[32m[I 2021-06-18 19:02:20,790]\u001b[0m Trial 981 finished with value: 222.1737025452087 and parameters: {'params[0]': 3.2236346138366163, 'params[1]': -2.180484078206933}. Best is trial 163 with value: 13.269781708837542.\u001b[0m\n",
      "\u001b[32m[I 2021-06-18 19:02:20,820]\u001b[0m Trial 982 finished with value: 331.866271669353 and parameters: {'params[0]': 2.7761609388209885, 'params[1]': -1.5145559776867525}. Best is trial 163 with value: 13.269781708837542.\u001b[0m\n",
      "\u001b[32m[I 2021-06-18 19:02:20,850]\u001b[0m Trial 983 finished with value: 165.62262590123248 and parameters: {'params[0]': 3.5055899777907444, 'params[1]': -2.5474660541393384}. Best is trial 163 with value: 13.269781708837542.\u001b[0m\n",
      "\u001b[32m[I 2021-06-18 19:02:20,880]\u001b[0m Trial 984 finished with value: 288.0488160889885 and parameters: {'params[0]': 2.9794641599569824, 'params[1]': -1.9277286421902586}. Best is trial 163 with value: 13.269781708837542.\u001b[0m\n",
      "\u001b[32m[I 2021-06-18 19:02:20,910]\u001b[0m Trial 985 finished with value: 217.89905633829156 and parameters: {'params[0]': 2.215361727374817, 'params[1]': -2.9024619130203315}. Best is trial 163 with value: 13.269781708837542.\u001b[0m\n",
      "\u001b[32m[I 2021-06-18 19:02:20,950]\u001b[0m Trial 986 finished with value: 612.1700254554626 and parameters: {'params[0]': 4.163101179159203, 'params[1]': -2.315446669001022}. Best is trial 163 with value: 13.269781708837542.\u001b[0m\n",
      "\u001b[32m[I 2021-06-18 19:02:20,990]\u001b[0m Trial 987 finished with value: 297.57431940500175 and parameters: {'params[0]': 2.627600686644752, 'params[1]': -3.4842785341542513}. Best is trial 163 with value: 13.269781708837542.\u001b[0m\n",
      "\u001b[32m[I 2021-06-18 19:02:21,020]\u001b[0m Trial 988 finished with value: 133.4903809643165 and parameters: {'params[0]': 3.286464123416002, 'params[1]': -2.6326011411483163}. Best is trial 163 with value: 13.269781708837542.\u001b[0m\n",
      "\u001b[32m[I 2021-06-18 19:02:21,050]\u001b[0m Trial 989 finished with value: 593.9673131417746 and parameters: {'params[0]': 3.827574969971397, 'params[1]': -4.162479948883073}. Best is trial 163 with value: 13.269781708837542.\u001b[0m\n",
      "\u001b[32m[I 2021-06-18 19:02:21,090]\u001b[0m Trial 990 finished with value: 352.71001542943134 and parameters: {'params[0]': 3.0282700336993944, 'params[1]': -1.758993043662958}. Best is trial 163 with value: 13.269781708837542.\u001b[0m\n",
      "\u001b[32m[I 2021-06-18 19:02:21,120]\u001b[0m Trial 991 finished with value: 247.55814818811888 and parameters: {'params[0]': 1.8135760405710104, 'params[1]': -3.124679258514113}. Best is trial 163 with value: 13.269781708837542.\u001b[0m\n",
      "\u001b[32m[I 2021-06-18 19:02:21,150]\u001b[0m Trial 992 finished with value: 204.81330957736523 and parameters: {'params[0]': 2.505726095387847, 'params[1]': -2.104286158970459}. Best is trial 163 with value: 13.269781708837542.\u001b[0m\n",
      "\u001b[32m[I 2021-06-18 19:02:21,170]\u001b[0m Trial 993 finished with value: 268.8733757664847 and parameters: {'params[0]': 3.5382030719795394, 'params[1]': -2.7204405462257752}. Best is trial 163 with value: 13.269781708837542.\u001b[0m\n",
      "\u001b[32m[I 2021-06-18 19:02:21,210]\u001b[0m Trial 994 finished with value: 156.93204020268925 and parameters: {'params[0]': 2.833453125036273, 'params[1]': -2.216617546005361}. Best is trial 163 with value: 13.269781708837542.\u001b[0m\n",
      "\u001b[32m[I 2021-06-18 19:02:21,250]\u001b[0m Trial 995 finished with value: 261.37897873617186 and parameters: {'params[0]': 2.1143233402692427, 'params[1]': -3.19749876430184}. Best is trial 163 with value: 13.269781708837542.\u001b[0m\n",
      "\u001b[32m[I 2021-06-18 19:02:21,290]\u001b[0m Trial 996 finished with value: 411.31200081917586 and parameters: {'params[0]': 3.244099673015917, 'params[1]': -1.5026260933464959}. Best is trial 163 with value: 13.269781708837542.\u001b[0m\n",
      "\u001b[32m[I 2021-06-18 19:02:21,320]\u001b[0m Trial 997 finished with value: 64.94535046011958 and parameters: {'params[0]': 2.707227265198133, 'params[1]': -2.5229143937038385}. Best is trial 163 with value: 13.269781708837542.\u001b[0m\n",
      "\u001b[32m[I 2021-06-18 19:02:21,350]\u001b[0m Trial 998 finished with value: 267.9972954851421 and parameters: {'params[0]': 2.5205995985805756, 'params[1]': -1.8714360254952696}. Best is trial 163 with value: 13.269781708837542.\u001b[0m\n"
     ]
    },
    {
     "name": "stderr",
     "output_type": "stream",
     "text": [
      "\u001b[32m[I 2021-06-18 19:02:21,380]\u001b[0m Trial 999 finished with value: 168.0033176872074 and parameters: {'params[0]': 2.104015333815438, 'params[1]': -2.295808889569325}. Best is trial 163 with value: 13.269781708837542.\u001b[0m\n"
     ]
    },
    {
     "data": {
      "text/plain": [
       "{'params[0]': 3.050249997276545, 'params[1]': -2.5061245717984897}"
      ]
     },
     "execution_count": 305,
     "metadata": {},
     "output_type": "execute_result"
    }
   ],
   "source": [
    "def objective(trial):\n",
    "    params[0] = trial.suggest_uniform('params[0]', -10, 10)\n",
    "    params[1] = trial.suggest_uniform('params[1]', -10, 10)\n",
    "    return error(params)\n",
    "\n",
    "study = optuna.create_study()\n",
    "study.optimize(objective, n_trials=1000)\n",
    "\n",
    "study.best_params"
   ]
  },
  {
   "cell_type": "code",
   "execution_count": 306,
   "metadata": {
    "ExecuteTime": {
     "end_time": "2021-06-18T16:02:46.076284Z",
     "start_time": "2021-06-18T16:02:45.796284Z"
    },
    "scrolled": true
   },
   "outputs": [
    {
     "data": {
      "image/png": "[encoded data removed]",
      "text/plain": [
       "<Figure size 432x288 with 1 Axes>"
      ]
     },
     "metadata": {
      "needs_background": "light"
     },
     "output_type": "display_data"
    }
   ],
   "source": [
    "#посмотрим результат\n",
    "params= [3.050249997276545, -2.5061245717984897]\n",
    "plt.plot(x, fx)\n",
    "plt.plot(x,f_modified(params,x),'r--')\n",
    "plt.show()"
   ]
  },
  {
   "cell_type": "markdown",
   "metadata": {
    "ExecuteTime": {
     "end_time": "2021-06-18T14:20:30.687652Z",
     "start_time": "2021-06-18T14:20:30.642652Z"
    }
   },
   "source": [
    "Совпадает, но не так как у **scipy minimize**"
   ]
  },
  {
   "cell_type": "markdown",
   "metadata": {},
   "source": [
    "#### Проверим эволюцию"
   ]
  },
  {
   "cell_type": "code",
   "execution_count": 307,
   "metadata": {
    "ExecuteTime": {
     "end_time": "2021-06-18T16:27:42.556428Z",
     "start_time": "2021-06-18T16:27:42.546427Z"
    }
   },
   "outputs": [],
   "source": [
    "from scipy.optimize import differential_evolution"
   ]
  },
  {
   "cell_type": "code",
   "execution_count": 314,
   "metadata": {
    "ExecuteTime": {
     "end_time": "2021-06-18T16:41:21.664440Z",
     "start_time": "2021-06-18T16:41:21.644440Z"
    },
    "id": "oXoGpFu0i-6g"
   },
   "outputs": [
    {
     "data": {
      "text/plain": [
       "254.198896237949"
      ]
     },
     "execution_count": 314,
     "metadata": {},
     "output_type": "execute_result"
    }
   ],
   "source": [
    "#для эволюции поменяем функцию, чтобы искомый вектор был x. \n",
    "#Тогда текущие значения массива x, становятся точкой х0 в t-мерном (t=len(x) )пространстве\n",
    "\n",
    "x0 = x\n",
    "def error_modified(x):\n",
    "    return np.sum(np.abs(fx - f(x0, x[0], x[1])))\n",
    "error_modified([1,2])"
   ]
  },
  {
   "cell_type": "markdown",
   "metadata": {},
   "source": [
    "##### Фреймворк 'optuna' + подбор идеальных параметров"
   ]
  },
  {
   "cell_type": "code",
   "execution_count": 342,
   "metadata": {
    "ExecuteTime": {
     "end_time": "2021-06-18T16:51:01.666831Z",
     "start_time": "2021-06-18T16:50:52.559709Z"
    },
    "collapsed": true
   },
   "outputs": [
    {
     "name": "stderr",
     "output_type": "stream",
     "text": [
      "\u001b[32m[I 2021-06-18 19:50:52,559]\u001b[0m A new study created in memory with name: no-name-e6f6987c-fe8b-4c2a-8a0e-df514a7ac196\u001b[0m\n",
      "\u001b[32m[I 2021-06-18 19:50:52,619]\u001b[0m Trial 0 finished with value: 244.3674208950464 and parameters: {'mutation_': 0.8694760943642049, 'recombination_': 0.2762049546614638}. Best is trial 0 with value: 244.3674208950464.\u001b[0m\n",
      "\u001b[32m[I 2021-06-18 19:50:52,679]\u001b[0m Trial 1 finished with value: 214.83742638024202 and parameters: {'mutation_': 0.4454669694127114, 'recombination_': 0.6051333750813591}. Best is trial 1 with value: 214.83742638024202.\u001b[0m\n",
      "\u001b[32m[I 2021-06-18 19:50:52,759]\u001b[0m Trial 2 finished with value: 204.54268306929387 and parameters: {'mutation_': 0.5366789765129466, 'recombination_': 0.3719783736357084}. Best is trial 2 with value: 204.54268306929387.\u001b[0m\n",
      "\u001b[32m[I 2021-06-18 19:50:52,839]\u001b[0m Trial 3 finished with value: 17.621556429123554 and parameters: {'mutation_': 1.6763815986249215, 'recombination_': 0.2172522562402679}. Best is trial 3 with value: 17.621556429123554.\u001b[0m\n",
      "\u001b[32m[I 2021-06-18 19:50:52,919]\u001b[0m Trial 4 finished with value: 40.3783604554289 and parameters: {'mutation_': 0.4159562490700811, 'recombination_': 0.39538474548271973}. Best is trial 3 with value: 17.621556429123554.\u001b[0m\n",
      "\u001b[32m[I 2021-06-18 19:50:53,019]\u001b[0m Trial 5 finished with value: 229.30934125946575 and parameters: {'mutation_': 0.5543351397643198, 'recombination_': 0.6144387990959815}. Best is trial 3 with value: 17.621556429123554.\u001b[0m\n",
      "\u001b[32m[I 2021-06-18 19:50:53,149]\u001b[0m Trial 6 finished with value: 21.54016415605448 and parameters: {'mutation_': 1.9117962714147196, 'recombination_': 0.4689172510913713}. Best is trial 3 with value: 17.621556429123554.\u001b[0m\n",
      "\u001b[32m[I 2021-06-18 19:50:53,199]\u001b[0m Trial 7 finished with value: 214.51493440928357 and parameters: {'mutation_': 0.31810422834460683, 'recombination_': 0.684195785213432}. Best is trial 3 with value: 17.621556429123554.\u001b[0m\n",
      "\u001b[32m[I 2021-06-18 19:50:53,269]\u001b[0m Trial 8 finished with value: 228.35671868256583 and parameters: {'mutation_': 1.4715714925308587, 'recombination_': 0.5923438008366875}. Best is trial 3 with value: 17.621556429123554.\u001b[0m\n",
      "\u001b[32m[I 2021-06-18 19:50:53,409]\u001b[0m Trial 9 finished with value: 3.4079733683967106e-06 and parameters: {'mutation_': 0.5281767596763819, 'recombination_': 0.08773319647053657}. Best is trial 9 with value: 3.4079733683967106e-06.\u001b[0m\n",
      "\u001b[32m[I 2021-06-18 19:50:53,479]\u001b[0m Trial 10 finished with value: 244.39441786669278 and parameters: {'mutation_': 0.011167599982022991, 'recombination_': 0.0019109503443174025}. Best is trial 9 with value: 3.4079733683967106e-06.\u001b[0m\n",
      "\u001b[32m[I 2021-06-18 19:50:53,639]\u001b[0m Trial 11 finished with value: 1.3257090320628606e-05 and parameters: {'mutation_': 1.3394577674573582, 'recombination_': 0.038574803850573214}. Best is trial 9 with value: 3.4079733683967106e-06.\u001b[0m\n",
      "\u001b[32m[I 2021-06-18 19:50:53,679]\u001b[0m Trial 12 finished with value: 1.3140734404615273e-05 and parameters: {'mutation_': 1.169044478946013, 'recombination_': 0.9955063355720818}. Best is trial 9 with value: 3.4079733683967106e-06.\u001b[0m\n",
      "\u001b[32m[I 2021-06-18 19:50:53,749]\u001b[0m Trial 13 finished with value: 241.47471466589144 and parameters: {'mutation_': 0.9678603549427816, 'recombination_': 0.9102321740788533}. Best is trial 9 with value: 3.4079733683967106e-06.\u001b[0m\n",
      "\u001b[32m[I 2021-06-18 19:50:53,871]\u001b[0m Trial 14 finished with value: 1.667798652960073e-06 and parameters: {'mutation_': 1.1504459541337981, 'recombination_': 0.9418760244485064}. Best is trial 14 with value: 1.667798652960073e-06.\u001b[0m\n",
      "\u001b[32m[I 2021-06-18 19:50:53,971]\u001b[0m Trial 15 finished with value: 91.52367697538038 and parameters: {'mutation_': 0.7815486471297819, 'recombination_': 0.8420987146079566}. Best is trial 14 with value: 1.667798652960073e-06.\u001b[0m\n",
      "\u001b[32m[I 2021-06-18 19:50:54,051]\u001b[0m Trial 16 finished with value: 241.4747085327179 and parameters: {'mutation_': 0.04960472427315954, 'recombination_': 0.1294484915654492}. Best is trial 14 with value: 1.667798652960073e-06.\u001b[0m\n",
      "\u001b[32m[I 2021-06-18 19:50:54,141]\u001b[0m Trial 17 finished with value: 12.407486498950853 and parameters: {'mutation_': 1.2221826403458154, 'recombination_': 0.8196942494980154}. Best is trial 14 with value: 1.667798652960073e-06.\u001b[0m\n",
      "\u001b[32m[I 2021-06-18 19:50:54,231]\u001b[0m Trial 18 finished with value: 1.3325459529589523e-05 and parameters: {'mutation_': 0.7082597123544921, 'recombination_': 0.779024134811112}. Best is trial 14 with value: 1.667798652960073e-06.\u001b[0m\n",
      "\u001b[32m[I 2021-06-18 19:50:54,301]\u001b[0m Trial 19 finished with value: 1.3196599595310943e-05 and parameters: {'mutation_': 0.18925397013302914, 'recombination_': 0.13857103144967475}. Best is trial 14 with value: 1.667798652960073e-06.\u001b[0m\n",
      "\u001b[32m[I 2021-06-18 19:50:54,351]\u001b[0m Trial 20 finished with value: 1.606053256608675e-05 and parameters: {'mutation_': 1.0433779920432005, 'recombination_': 0.9632383914020765}. Best is trial 14 with value: 1.667798652960073e-06.\u001b[0m\n",
      "\u001b[32m[I 2021-06-18 19:50:54,421]\u001b[0m Trial 21 finished with value: 237.95635495624072 and parameters: {'mutation_': 1.2316057566216752, 'recombination_': 0.9775859981249189}. Best is trial 14 with value: 1.667798652960073e-06.\u001b[0m\n",
      "\u001b[32m[I 2021-06-18 19:50:54,471]\u001b[0m Trial 22 finished with value: 1.2979044400118767e-05 and parameters: {'mutation_': 1.110829548587535, 'recombination_': 0.9834474082456229}. Best is trial 14 with value: 1.667798652960073e-06.\u001b[0m\n",
      "\u001b[32m[I 2021-06-18 19:50:54,571]\u001b[0m Trial 23 finished with value: 1.6006246798205837e-05 and parameters: {'mutation_': 1.494742187567324, 'recombination_': 0.756519477510543}. Best is trial 14 with value: 1.667798652960073e-06.\u001b[0m\n",
      "\u001b[32m[I 2021-06-18 19:50:54,651]\u001b[0m Trial 24 finished with value: 241.47595513483154 and parameters: {'mutation_': 1.0527056258670289, 'recombination_': 0.898168595812}. Best is trial 14 with value: 1.667798652960073e-06.\u001b[0m\n",
      "\u001b[32m[I 2021-06-18 19:50:54,731]\u001b[0m Trial 25 finished with value: 214.53901162249352 and parameters: {'mutation_': 0.6776396411056635, 'recombination_': 0.7148486864123806}. Best is trial 14 with value: 1.667798652960073e-06.\u001b[0m\n",
      "\u001b[32m[I 2021-06-18 19:50:54,831]\u001b[0m Trial 26 finished with value: 214.51033492712523 and parameters: {'mutation_': 0.9170159216978323, 'recombination_': 0.8883192652684733}. Best is trial 14 with value: 1.667798652960073e-06.\u001b[0m\n",
      "\u001b[32m[I 2021-06-18 19:50:54,891]\u001b[0m Trial 27 finished with value: 3.0699445519033475e-06 and parameters: {'mutation_': 1.6794894399971976, 'recombination_': 0.44519153073183926}. Best is trial 14 with value: 1.667798652960073e-06.\u001b[0m\n",
      "\u001b[32m[I 2021-06-18 19:50:55,051]\u001b[0m Trial 28 finished with value: 146.51021515358846 and parameters: {'mutation_': 1.8943174933933369, 'recombination_': 0.4938540785636477}. Best is trial 14 with value: 1.667798652960073e-06.\u001b[0m\n",
      "\u001b[32m[I 2021-06-18 19:50:55,201]\u001b[0m Trial 29 finished with value: 1.3161083542101437e-05 and parameters: {'mutation_': 1.6065444993712634, 'recombination_': 0.30193478365519444}. Best is trial 14 with value: 1.667798652960073e-06.\u001b[0m\n",
      "\u001b[32m[I 2021-06-18 19:50:55,271]\u001b[0m Trial 30 finished with value: 1.3092571469641712e-05 and parameters: {'mutation_': 1.765900797189769, 'recombination_': 0.23657609524301998}. Best is trial 14 with value: 1.667798652960073e-06.\u001b[0m\n",
      "\u001b[32m[I 2021-06-18 19:50:55,411]\u001b[0m Trial 31 finished with value: 8.684467684027947 and parameters: {'mutation_': 1.3353370106409757, 'recombination_': 0.07685482944205652}. Best is trial 14 with value: 1.667798652960073e-06.\u001b[0m\n",
      "\u001b[32m[I 2021-06-18 19:50:55,511]\u001b[0m Trial 32 finished with value: 228.35678526952813 and parameters: {'mutation_': 0.7843555172137378, 'recombination_': 0.4055371842268702}. Best is trial 14 with value: 1.667798652960073e-06.\u001b[0m\n",
      "\u001b[32m[I 2021-06-18 19:50:55,591]\u001b[0m Trial 33 finished with value: 3.202547392611166e-06 and parameters: {'mutation_': 1.126166584580771, 'recombination_': 0.5464360017104019}. Best is trial 14 with value: 1.667798652960073e-06.\u001b[0m\n",
      "\u001b[32m[I 2021-06-18 19:50:55,691]\u001b[0m Trial 34 finished with value: 39.36719929606297 and parameters: {'mutation_': 1.4138089294513654, 'recombination_': 0.31483684024410374}. Best is trial 14 with value: 1.667798652960073e-06.\u001b[0m\n"
     ]
    },
    {
     "name": "stderr",
     "output_type": "stream",
     "text": [
      "\u001b[32m[I 2021-06-18 19:50:55,792]\u001b[0m Trial 35 finished with value: 1.620699862225905e-05 and parameters: {'mutation_': 1.5714073873461663, 'recombination_': 0.5664875647020725}. Best is trial 14 with value: 1.667798652960073e-06.\u001b[0m\n",
      "\u001b[32m[I 2021-06-18 19:50:55,842]\u001b[0m Trial 36 finished with value: 214.73463465947881 and parameters: {'mutation_': 0.5398841255511723, 'recombination_': 0.6596901589070802}. Best is trial 14 with value: 1.667798652960073e-06.\u001b[0m\n",
      "\u001b[32m[I 2021-06-18 19:50:56,012]\u001b[0m Trial 37 finished with value: 70.08319805192089 and parameters: {'mutation_': 1.7814487822359282, 'recombination_': 0.42432251200423}. Best is trial 14 with value: 1.667798652960073e-06.\u001b[0m\n",
      "\u001b[32m[I 2021-06-18 19:50:56,092]\u001b[0m Trial 38 finished with value: 232.95862017913515 and parameters: {'mutation_': 0.8631270627775278, 'recombination_': 0.5344662724806977}. Best is trial 14 with value: 1.667798652960073e-06.\u001b[0m\n",
      "\u001b[32m[I 2021-06-18 19:50:56,182]\u001b[0m Trial 39 finished with value: 183.66326930364124 and parameters: {'mutation_': 0.40038346007754405, 'recombination_': 0.35216614909268334}. Best is trial 14 with value: 1.667798652960073e-06.\u001b[0m\n",
      "\u001b[32m[I 2021-06-18 19:50:56,242]\u001b[0m Trial 40 finished with value: 233.7110194580588 and parameters: {'mutation_': 0.2262822342965991, 'recombination_': 0.17710605677972602}. Best is trial 14 with value: 1.667798652960073e-06.\u001b[0m\n",
      "\u001b[32m[I 2021-06-18 19:50:56,312]\u001b[0m Trial 41 finished with value: 239.6309693113691 and parameters: {'mutation_': 1.1506577920975878, 'recombination_': 0.24951406077736066}. Best is trial 14 with value: 1.667798652960073e-06.\u001b[0m\n",
      "\u001b[32m[I 2021-06-18 19:50:56,382]\u001b[0m Trial 42 finished with value: 3.3902312273070834e-06 and parameters: {'mutation_': 1.0869150123796332, 'recombination_': 0.638237663736291}. Best is trial 14 with value: 1.667798652960073e-06.\u001b[0m\n",
      "\u001b[32m[I 2021-06-18 19:50:56,482]\u001b[0m Trial 43 finished with value: 61.992107319628474 and parameters: {'mutation_': 1.3187046477184878, 'recombination_': 0.4516225325957868}. Best is trial 14 with value: 1.667798652960073e-06.\u001b[0m\n",
      "\u001b[32m[I 2021-06-18 19:50:56,532]\u001b[0m Trial 44 finished with value: 1.9149564609577396e-06 and parameters: {'mutation_': 0.6174309990379294, 'recombination_': 0.6440384783050921}. Best is trial 14 with value: 1.667798652960073e-06.\u001b[0m\n",
      "\u001b[32m[I 2021-06-18 19:50:56,612]\u001b[0m Trial 45 finished with value: 214.510614360737 and parameters: {'mutation_': 0.9799867368447425, 'recombination_': 0.6040229039063452}. Best is trial 14 with value: 1.667798652960073e-06.\u001b[0m\n",
      "\u001b[32m[I 2021-06-18 19:50:56,672]\u001b[0m Trial 46 finished with value: 236.98800519662277 and parameters: {'mutation_': 0.8617307942137934, 'recombination_': 0.6395440427308459}. Best is trial 14 with value: 1.667798652960073e-06.\u001b[0m\n",
      "\u001b[32m[I 2021-06-18 19:50:56,782]\u001b[0m Trial 47 finished with value: 228.36012303519342 and parameters: {'mutation_': 0.6461489233653267, 'recombination_': 0.5640419708591249}. Best is trial 14 with value: 1.667798652960073e-06.\u001b[0m\n",
      "\u001b[32m[I 2021-06-18 19:50:56,882]\u001b[0m Trial 48 finished with value: 3.5124994051116687e-06 and parameters: {'mutation_': 1.2915244533702612, 'recombination_': 0.5208104474515358}. Best is trial 14 with value: 1.667798652960073e-06.\u001b[0m\n",
      "\u001b[32m[I 2021-06-18 19:50:56,952]\u001b[0m Trial 49 finished with value: 3.716637432482628e-06 and parameters: {'mutation_': 1.4286557891695875, 'recombination_': 0.7026320229449874}. Best is trial 14 with value: 1.667798652960073e-06.\u001b[0m\n",
      "\u001b[32m[I 2021-06-18 19:50:57,052]\u001b[0m Trial 50 finished with value: 1.601356961877798e-05 and parameters: {'mutation_': 0.935620990762819, 'recombination_': 0.48271167174411617}. Best is trial 14 with value: 1.667798652960073e-06.\u001b[0m\n",
      "\u001b[32m[I 2021-06-18 19:50:57,142]\u001b[0m Trial 51 finished with value: 3.7331957516428815e-06 and parameters: {'mutation_': 0.4619973751763399, 'recombination_': 0.7302244173126421}. Best is trial 14 with value: 1.667798652960073e-06.\u001b[0m\n",
      "\u001b[32m[I 2021-06-18 19:50:57,242]\u001b[0m Trial 52 finished with value: 214.5115639570171 and parameters: {'mutation_': 0.7899529385583586, 'recombination_': 0.6730381712554594}. Best is trial 14 with value: 1.667798652960073e-06.\u001b[0m\n",
      "\u001b[32m[I 2021-06-18 19:50:57,302]\u001b[0m Trial 53 finished with value: 214.51298950586897 and parameters: {'mutation_': 0.28831597428370337, 'recombination_': 0.8034548660833223}. Best is trial 14 with value: 1.667798652960073e-06.\u001b[0m\n",
      "\u001b[32m[I 2021-06-18 19:50:57,362]\u001b[0m Trial 54 finished with value: 234.96773766409618 and parameters: {'mutation_': 0.6260399961573919, 'recombination_': 0.6206055597191696}. Best is trial 14 with value: 1.667798652960073e-06.\u001b[0m\n",
      "\u001b[32m[I 2021-06-18 19:50:57,472]\u001b[0m Trial 55 finished with value: 11.679696688479527 and parameters: {'mutation_': 1.2087767580697457, 'recombination_': 0.35695507976447727}. Best is trial 14 with value: 1.667798652960073e-06.\u001b[0m\n",
      "\u001b[32m[I 2021-06-18 19:50:57,552]\u001b[0m Trial 56 finished with value: 1.6048772090826446e-05 and parameters: {'mutation_': 1.0872371784882564, 'recombination_': 0.5617835243109349}. Best is trial 14 with value: 1.667798652960073e-06.\u001b[0m\n",
      "\u001b[32m[I 2021-06-18 19:50:57,732]\u001b[0m Trial 57 finished with value: 115.48286761565711 and parameters: {'mutation_': 0.45077275544533335, 'recombination_': 0.0011044559477345617}. Best is trial 14 with value: 1.667798652960073e-06.\u001b[0m\n",
      "\u001b[32m[I 2021-06-18 19:50:57,802]\u001b[0m Trial 58 finished with value: 1.3290151724909549e-05 and parameters: {'mutation_': 1.9652492190407167, 'recombination_': 0.8412440862689768}. Best is trial 14 with value: 1.667798652960073e-06.\u001b[0m\n",
      "\u001b[32m[I 2021-06-18 19:50:57,852]\u001b[0m Trial 59 finished with value: 233.89873453205442 and parameters: {'mutation_': 0.0947519507827137, 'recombination_': 0.7601659877680031}. Best is trial 14 with value: 1.667798652960073e-06.\u001b[0m\n",
      "\u001b[32m[I 2021-06-18 19:50:58,092]\u001b[0m Trial 60 finished with value: 235.15827907330794 and parameters: {'mutation_': 0.9948886356840851, 'recombination_': 0.44374986900239693}. Best is trial 14 with value: 1.667798652960073e-06.\u001b[0m\n",
      "\u001b[32m[I 2021-06-18 19:50:58,192]\u001b[0m Trial 61 finished with value: 28.341446270186694 and parameters: {'mutation_': 1.259590052068633, 'recombination_': 0.5255502041151593}. Best is trial 14 with value: 1.667798652960073e-06.\u001b[0m\n",
      "\u001b[32m[I 2021-06-18 19:50:58,282]\u001b[0m Trial 62 finished with value: 189.9066792167553 and parameters: {'mutation_': 1.1201527163703988, 'recombination_': 0.5145053761296079}. Best is trial 14 with value: 1.667798652960073e-06.\u001b[0m\n",
      "\u001b[32m[I 2021-06-18 19:50:58,362]\u001b[0m Trial 63 finished with value: 214.51032940021256 and parameters: {'mutation_': 1.0481355823624838, 'recombination_': 0.6469515431234253}. Best is trial 14 with value: 1.667798652960073e-06.\u001b[0m\n",
      "\u001b[32m[I 2021-06-18 19:50:58,432]\u001b[0m Trial 64 finished with value: 1.5996537792162258e-05 and parameters: {'mutation_': 1.376777407155393, 'recombination_': 0.5983672281615185}. Best is trial 14 with value: 1.667798652960073e-06.\u001b[0m\n",
      "\u001b[32m[I 2021-06-18 19:50:58,522]\u001b[0m Trial 65 finished with value: 243.56852662966918 and parameters: {'mutation_': 1.2578714529322212, 'recombination_': 0.5490603305387604}. Best is trial 14 with value: 1.667798652960073e-06.\u001b[0m\n",
      "\u001b[32m[I 2021-06-18 19:50:58,582]\u001b[0m Trial 66 finished with value: 80.88669634785757 and parameters: {'mutation_': 0.5802007509304538, 'recombination_': 0.3823853777413526}. Best is trial 14 with value: 1.667798652960073e-06.\u001b[0m\n",
      "\u001b[32m[I 2021-06-18 19:50:58,662]\u001b[0m Trial 67 finished with value: 16.56632276008774 and parameters: {'mutation_': 1.5253174431211127, 'recombination_': 0.48192541032671155}. Best is trial 14 with value: 1.667798652960073e-06.\u001b[0m\n",
      "\u001b[32m[I 2021-06-18 19:50:58,712]\u001b[0m Trial 68 finished with value: 214.51092364468275 and parameters: {'mutation_': 0.7279340386728367, 'recombination_': 0.6959050113484082}. Best is trial 14 with value: 1.667798652960073e-06.\u001b[0m\n",
      "\u001b[32m[I 2021-06-18 19:50:58,772]\u001b[0m Trial 69 finished with value: 214.64628934326953 and parameters: {'mutation_': 1.1775528410706548, 'recombination_': 0.08879270263094696}. Best is trial 14 with value: 1.667798652960073e-06.\u001b[0m\n",
      "\u001b[32m[I 2021-06-18 19:50:58,859]\u001b[0m Trial 70 finished with value: 1.3351552451190685e-05 and parameters: {'mutation_': 1.6418383745073932, 'recombination_': 0.5903883717997476}. Best is trial 14 with value: 1.667798652960073e-06.\u001b[0m\n"
     ]
    },
    {
     "name": "stderr",
     "output_type": "stream",
     "text": [
      "\u001b[32m[I 2021-06-18 19:50:58,963]\u001b[0m Trial 71 finished with value: 1.61748933384942e-05 and parameters: {'mutation_': 1.450055463754675, 'recombination_': 0.7247723437115701}. Best is trial 14 with value: 1.667798652960073e-06.\u001b[0m\n",
      "\u001b[32m[I 2021-06-18 19:50:59,035]\u001b[0m Trial 72 finished with value: 214.57232765393442 and parameters: {'mutation_': 1.731522394916965, 'recombination_': 0.9286430241768189}. Best is trial 14 with value: 1.667798652960073e-06.\u001b[0m\n",
      "\u001b[32m[I 2021-06-18 19:50:59,149]\u001b[0m Trial 73 finished with value: 187.5689103796301 and parameters: {'mutation_': 1.3010826298117057, 'recombination_': 0.6882651962314905}. Best is trial 14 with value: 1.667798652960073e-06.\u001b[0m\n",
      "\u001b[32m[I 2021-06-18 19:50:59,211]\u001b[0m Trial 74 finished with value: 1.3313504457101999e-05 and parameters: {'mutation_': 1.3902730462575839, 'recombination_': 0.633850675743081}. Best is trial 14 with value: 1.667798652960073e-06.\u001b[0m\n",
      "\u001b[32m[I 2021-06-18 19:50:59,275]\u001b[0m Trial 75 finished with value: 214.51033002667472 and parameters: {'mutation_': 1.543387236479993, 'recombination_': 0.584077392106273}. Best is trial 14 with value: 1.667798652960073e-06.\u001b[0m\n",
      "\u001b[32m[I 2021-06-18 19:50:59,358]\u001b[0m Trial 76 finished with value: 18.300732332798454 and parameters: {'mutation_': 1.4572130690795357, 'recombination_': 0.663175685086105}. Best is trial 14 with value: 1.667798652960073e-06.\u001b[0m\n",
      "\u001b[32m[I 2021-06-18 19:50:59,460]\u001b[0m Trial 77 finished with value: 199.61869878221697 and parameters: {'mutation_': 1.0577000223266697, 'recombination_': 0.521097468138945}. Best is trial 14 with value: 1.667798652960073e-06.\u001b[0m\n",
      "\u001b[32m[I 2021-06-18 19:50:59,527]\u001b[0m Trial 78 finished with value: 1.7834413919004533e-06 and parameters: {'mutation_': 1.17451262203642, 'recombination_': 0.41576289349042234}. Best is trial 14 with value: 1.667798652960073e-06.\u001b[0m\n",
      "\u001b[32m[I 2021-06-18 19:50:59,651]\u001b[0m Trial 79 finished with value: 3.3232997793675167e-06 and parameters: {'mutation_': 0.9275574485343867, 'recombination_': 0.4288246437187727}. Best is trial 14 with value: 1.667798652960073e-06.\u001b[0m\n",
      "\u001b[32m[I 2021-06-18 19:50:59,719]\u001b[0m Trial 80 finished with value: 232.9586283895226 and parameters: {'mutation_': 0.900947150415621, 'recombination_': 0.4060754395200453}. Best is trial 14 with value: 1.667798652960073e-06.\u001b[0m\n",
      "\u001b[32m[I 2021-06-18 19:50:59,772]\u001b[0m Trial 81 finished with value: 199.63638559922578 and parameters: {'mutation_': 1.1499680665043777, 'recombination_': 0.45796061999235077}. Best is trial 14 with value: 1.667798652960073e-06.\u001b[0m\n",
      "\u001b[32m[I 2021-06-18 19:50:59,842]\u001b[0m Trial 82 finished with value: 1.6102051437094644e-05 and parameters: {'mutation_': 1.0174092555483902, 'recombination_': 0.3442447319356536}. Best is trial 14 with value: 1.667798652960073e-06.\u001b[0m\n",
      "\u001b[32m[I 2021-06-18 19:50:59,912]\u001b[0m Trial 83 finished with value: 2.368498710936251e-06 and parameters: {'mutation_': 1.199614945809983, 'recombination_': 0.4312253001884877}. Best is trial 14 with value: 1.667798652960073e-06.\u001b[0m\n",
      "\u001b[32m[I 2021-06-18 19:50:59,962]\u001b[0m Trial 84 finished with value: 241.22815839802067 and parameters: {'mutation_': 0.3670618648119797, 'recombination_': 0.4233401341976553}. Best is trial 14 with value: 1.667798652960073e-06.\u001b[0m\n",
      "\u001b[32m[I 2021-06-18 19:51:00,162]\u001b[0m Trial 85 finished with value: 1.632166097653709e-05 and parameters: {'mutation_': 0.8106833046703668, 'recombination_': 0.28098471453291696}. Best is trial 14 with value: 1.667798652960073e-06.\u001b[0m\n",
      "\u001b[32m[I 2021-06-18 19:51:00,232]\u001b[0m Trial 86 finished with value: 193.94441247481618 and parameters: {'mutation_': 1.2022983772736067, 'recombination_': 0.4288368991068462}. Best is trial 14 with value: 1.667798652960073e-06.\u001b[0m\n",
      "\u001b[32m[I 2021-06-18 19:51:00,302]\u001b[0m Trial 87 finished with value: 214.51066390369792 and parameters: {'mutation_': 0.4822996722585753, 'recombination_': 0.37682824276076005}. Best is trial 14 with value: 1.667798652960073e-06.\u001b[0m\n",
      "\u001b[32m[I 2021-06-18 19:51:00,372]\u001b[0m Trial 88 finished with value: 3.4590372504084144e-06 and parameters: {'mutation_': 0.9383570590866943, 'recombination_': 0.3260399840083276}. Best is trial 14 with value: 1.667798652960073e-06.\u001b[0m\n",
      "\u001b[32m[I 2021-06-18 19:51:00,472]\u001b[0m Trial 89 finished with value: 38.59123368505605 and parameters: {'mutation_': 0.7134102532005276, 'recombination_': 0.49494413314324015}. Best is trial 14 with value: 1.667798652960073e-06.\u001b[0m\n",
      "\u001b[32m[I 2021-06-18 19:51:00,562]\u001b[0m Trial 90 finished with value: 233.09045200622498 and parameters: {'mutation_': 1.1011095012393575, 'recombination_': 0.4677586624804997}. Best is trial 14 with value: 1.667798652960073e-06.\u001b[0m\n",
      "\u001b[32m[I 2021-06-18 19:51:00,662]\u001b[0m Trial 91 finished with value: 0.9902784342090101 and parameters: {'mutation_': 0.9470929688838238, 'recombination_': 0.2045722192914749}. Best is trial 14 with value: 1.667798652960073e-06.\u001b[0m\n",
      "\u001b[32m[I 2021-06-18 19:51:00,752]\u001b[0m Trial 92 finished with value: 128.41207935778587 and parameters: {'mutation_': 0.8391818815214974, 'recombination_': 0.3095238550247513}. Best is trial 14 with value: 1.667798652960073e-06.\u001b[0m\n",
      "\u001b[32m[I 2021-06-18 19:51:00,934]\u001b[0m Trial 93 finished with value: 1.289496528489309e-05 and parameters: {'mutation_': 0.8967135032614951, 'recombination_': 0.322973127362129}. Best is trial 14 with value: 1.667798652960073e-06.\u001b[0m\n",
      "\u001b[32m[I 2021-06-18 19:51:01,049]\u001b[0m Trial 94 finished with value: 0.3764543857684002 and parameters: {'mutation_': 0.9960718456450766, 'recombination_': 0.39720006147879683}. Best is trial 14 with value: 1.667798652960073e-06.\u001b[0m\n",
      "\u001b[32m[I 2021-06-18 19:51:01,181]\u001b[0m Trial 95 finished with value: 1.5107396649227667e-06 and parameters: {'mutation_': 1.13973939955462, 'recombination_': 0.43492652845413493}. Best is trial 95 with value: 1.5107396649227667e-06.\u001b[0m\n",
      "\u001b[32m[I 2021-06-18 19:51:01,306]\u001b[0m Trial 96 finished with value: 5.742238488031776 and parameters: {'mutation_': 1.1265230144280696, 'recombination_': 0.44888558946913104}. Best is trial 95 with value: 1.5107396649227667e-06.\u001b[0m\n",
      "\u001b[32m[I 2021-06-18 19:51:01,456]\u001b[0m Trial 97 finished with value: 0.41576502986487096 and parameters: {'mutation_': 1.241310630396546, 'recombination_': 0.41824031755115465}. Best is trial 95 with value: 1.5107396649227667e-06.\u001b[0m\n",
      "\u001b[32m[I 2021-06-18 19:51:01,533]\u001b[0m Trial 98 finished with value: 1.3398279754106568e-05 and parameters: {'mutation_': 1.175458620628619, 'recombination_': 0.3560510350470988}. Best is trial 95 with value: 1.5107396649227667e-06.\u001b[0m\n",
      "\u001b[32m[I 2021-06-18 19:51:01,660]\u001b[0m Trial 99 finished with value: 3.3059756043840594e-06 and parameters: {'mutation_': 0.6068669543190847, 'recombination_': 0.4971904788616174}. Best is trial 95 with value: 1.5107396649227667e-06.\u001b[0m\n"
     ]
    },
    {
     "data": {
      "text/plain": [
       "{'mutation_': 1.13973939955462, 'recombination_': 0.43492652845413493}"
      ]
     },
     "execution_count": 342,
     "metadata": {},
     "output_type": "execute_result"
    }
   ],
   "source": [
    "bounds = [[-30,30],[-30,30]]\n",
    "\n",
    "def objective(trial):\n",
    "    mutation_ = trial.suggest_uniform('mutation_', 0, 1.99)\n",
    "    recombination_ = trial.suggest_uniform('recombination_', 0, 1)\n",
    "    result = differential_evolution(error_modified, bounds, seed=42, popsize=1, tol=1e-9, \n",
    "                                atol=1e-9, mutation= mutation_, recombination=recombination_, \n",
    "                                updating='immediate', strategy='best1bin',polish=True)\n",
    "    return result.fun\n",
    "\n",
    "study = optuna.create_study()\n",
    "study.optimize(objective, n_trials=100)\n",
    "\n",
    "study.best_params"
   ]
  },
  {
   "cell_type": "code",
   "execution_count": 345,
   "metadata": {
    "ExecuteTime": {
     "end_time": "2021-06-18T16:55:58.283167Z",
     "start_time": "2021-06-18T16:55:58.133167Z"
    }
   },
   "outputs": [
    {
     "data": {
      "text/plain": [
       "     fun: 1.5107396649227667e-06\n",
       "     jac: array([140.49, 502.68])\n",
       " message: 'Optimization terminated successfully.'\n",
       "    nfev: 872\n",
       "     nit: 144\n",
       " success: True\n",
       "       x: array([3.00, -2.50])"
      ]
     },
     "execution_count": 345,
     "metadata": {},
     "output_type": "execute_result"
    }
   ],
   "source": [
    "# подставляем значения из optuna: {'mutation_': 1.13973939955462, 'recombination_': 0.43492652845413493}\n",
    "bounds = [[-30,30],[-30,30]]\n",
    "result = differential_evolution(error_modified, bounds, seed=42, popsize=1, tol=1e-9, \n",
    "                                atol=1e-9, mutation= 1.13973939955462, recombination=0.43492652845413493, \n",
    "                                updating='immediate', strategy='best1bin',polish=True)\n",
    "result"
   ]
  },
  {
   "cell_type": "code",
   "execution_count": 346,
   "metadata": {
    "ExecuteTime": {
     "end_time": "2021-06-18T16:56:21.820390Z",
     "start_time": "2021-06-18T16:56:21.559390Z"
    },
    "scrolled": true
   },
   "outputs": [
    {
     "data": {
      "image/png": "[encoded data removed]",
      "text/plain": [
       "<Figure size 432x288 with 1 Axes>"
      ]
     },
     "metadata": {
      "needs_background": "light"
     },
     "output_type": "display_data"
    }
   ],
   "source": [
    "#посмотрим результат\n",
    "params = result.x\n",
    "plt.plot(x0, fx)\n",
    "plt.plot(x0,f_modified(params),'r--')\n",
    "plt.show()"
   ]
  },
  {
   "cell_type": "markdown",
   "metadata": {},
   "source": [
    "#### Плавка (basinhooping)"
   ]
  },
  {
   "cell_type": "code",
   "execution_count": 347,
   "metadata": {
    "ExecuteTime": {
     "end_time": "2021-06-18T17:12:04.041634Z",
     "start_time": "2021-06-18T17:12:04.031634Z"
    }
   },
   "outputs": [],
   "source": [
    "from scipy.optimize import basinhopping"
   ]
  },
  {
   "cell_type": "code",
   "execution_count": 351,
   "metadata": {
    "ExecuteTime": {
     "end_time": "2021-06-18T17:16:31.657311Z",
     "start_time": "2021-06-18T17:16:24.559254Z"
    }
   },
   "outputs": [
    {
     "data": {
      "text/plain": [
       "                        fun: 1.6214307976269993e-06\n",
       " lowest_optimization_result:       fun: 1.6214307976269993e-06\n",
       " hess_inv: array([[0.00, 0.00],\n",
       "       [0.00, 0.00]])\n",
       "      jac: array([124.07, 560.39])\n",
       "  message: 'Desired error not necessarily achieved due to precision loss.'\n",
       "     nfev: 180\n",
       "      nit: 24\n",
       "     njev: 56\n",
       "   status: 2\n",
       "  success: False\n",
       "        x: array([3.00, -2.50])\n",
       "                    message: ['requested number of basinhopping iterations completed successfully']\n",
       "      minimization_failures: 201\n",
       "                       nfev: 58402\n",
       "                        nit: 200\n",
       "                       njev: 18709\n",
       "                          x: array([3.00, -2.50])"
      ]
     },
     "execution_count": 351,
     "metadata": {},
     "output_type": "execute_result"
    }
   ],
   "source": [
    "res = basinhopping(error_modified, [1,2], minimizer_kwargs={'method': 'BFGS'}, niter = 50)\n",
    "res"
   ]
  },
  {
   "cell_type": "code",
   "execution_count": 353,
   "metadata": {
    "ExecuteTime": {
     "end_time": "2021-06-18T17:17:52.025801Z",
     "start_time": "2021-06-18T17:17:51.762792Z"
    },
    "scrolled": true
   },
   "outputs": [
    {
     "data": {
      "image/png": "[encoded data removed]",
      "text/plain": [
       "<Figure size 432x288 with 1 Axes>"
      ]
     },
     "metadata": {
      "needs_background": "light"
     },
     "output_type": "display_data"
    }
   ],
   "source": [
    "#посмотрим результат\n",
    "params = res.x\n",
    "plt.plot(x0, fx)\n",
    "plt.plot(x0,f_modified(params),'r--')\n",
    "plt.show()"
   ]
  },
  {
   "cell_type": "markdown",
   "metadata": {},
   "source": [
    "#### Вывод: \n",
    "Проверили все изученные методы нахождения параметоров. Лучшие результаты показали методы:\n",
    "- **scipy minimize nelder-mead**\n",
    "- **basinhooping**\n",
    "- **differential_evolution**"
   ]
  },
  {
   "cell_type": "markdown",
   "metadata": {
    "id": "4AXJ_r5UjrY5"
   },
   "source": [
    "## Задание 4"
   ]
  },
  {
   "cell_type": "markdown",
   "metadata": {
    "id": "zRnYGwhXjtQB"
   },
   "source": [
    "Создайте собственную дискретную случайную величину с 20 значениями. Сгенерируйте 1000 выборок размера 50. Посчитайте среднее для каждой выборки. Постройте гистограмму распределения средних."
   ]
  },
  {
   "cell_type": "code",
   "execution_count": 355,
   "metadata": {
    "ExecuteTime": {
     "end_time": "2021-06-18T17:24:17.040134Z",
     "start_time": "2021-06-18T17:24:17.030134Z"
    }
   },
   "outputs": [],
   "source": [
    "from scipy.stats import *"
   ]
  },
  {
   "cell_type": "code",
   "execution_count": 356,
   "metadata": {
    "ExecuteTime": {
     "end_time": "2021-06-18T17:24:18.935190Z",
     "start_time": "2021-06-18T17:24:18.915190Z"
    }
   },
   "outputs": [
    {
     "data": {
      "text/plain": [
       "array([58, 52, 58, 51, 40, 40, 59, 51, 56, 54, 56, 55, 48, 53, 55, 51, 53,\n",
       "       59, 48, 50])"
      ]
     },
     "execution_count": 356,
     "metadata": {},
     "output_type": "execute_result"
    }
   ],
   "source": [
    "#Создайте свою дискретную случайную величину с не менее, чем 20 значениями.\n",
    "x = binom.rvs(100, 0.53, size= 100)\n",
    "probabilities = np.random.random(100)\n",
    "probabilities = probabilities / probabilities.sum()\n",
    "\n",
    "np.random.choice(x,20 ,p=probabilities)"
   ]
  },
  {
   "cell_type": "code",
   "execution_count": 361,
   "metadata": {
    "ExecuteTime": {
     "end_time": "2021-06-18T17:32:15.410515Z",
     "start_time": "2021-06-18T17:32:15.270515Z"
    },
    "id": "Rm7dyNaRib1G"
   },
   "outputs": [],
   "source": [
    "# Сгенерируйте 1000 выборок размера 50. \n",
    "# Посчитайте среднее для каждой выборки. \n",
    "# Постройте гистограмму распределения средних.\n",
    "n = 50\n",
    "\n",
    "rv = expon(0)       #Экспоненциальное распределение\n",
    "#rv = sts.norm(loc = 1, scale = 1) # Можно исплользовать любое. Например Стьюдента\n",
    "\n",
    "samples_count = 1000    #1000 Экземпляров\n",
    "a = np.array([])        # Массив для сохранения средних по выборкам\n",
    "    \n",
    "for number in range(samples_count):\n",
    "    # На каждом цикле генерируем выборки размера 50\n",
    "    sample = rv.rvs(size=n)\n",
    "\n",
    "    # Считаем среднее по каждой выборке и добавляем в массив средних\n",
    "    a = np.append(a, sample.mean())"
   ]
  },
  {
   "cell_type": "code",
   "execution_count": 363,
   "metadata": {
    "ExecuteTime": {
     "end_time": "2021-06-18T17:32:23.311581Z",
     "start_time": "2021-06-18T17:32:22.831580Z"
    },
    "id": "vEkIWfggib5p"
   },
   "outputs": [
    {
     "data": {
      "image/png": "[encoded data removed]",
      "text/plain": [
       "<Figure size 504x360 with 1 Axes>"
      ]
     },
     "metadata": {
      "needs_background": "light"
     },
     "output_type": "display_data"
    }
   ],
   "source": [
    "# гистограмма распределения средних\n",
    "\n",
    "fig = plt.figure(figsize=(7,5))\n",
    "\n",
    "\n",
    "#plt.hist(a[i-1,:], density=True,bins=30, label=label_i)\n",
    "sns.histplot(a,kde=True)\n",
    "plt.title('sample of 50 values. ')\n",
    "plt.ylabel('samples means')\n",
    "plt.xlabel('$x$');\n"
   ]
  },
  {
   "cell_type": "markdown",
   "metadata": {
    "id": "KJWpqOvPjt1E"
   },
   "source": [
    "## Задание 5"
   ]
  },
  {
   "cell_type": "markdown",
   "metadata": {
    "id": "48ezmZDMjvIY"
   },
   "source": [
    "Найдите собственные значения и собственные вектора матрицы (на python и на бумаге):"
   ]
  },
  {
   "cell_type": "markdown",
   "metadata": {
    "id": "509GRSXskfQt"
   },
   "source": [
    "\n",
    "\n",
    "```\n",
    "m = np.array([[1, 4],\n",
    "              [1, 1]])\n",
    "print(m)\n",
    "```\n",
    "\n"
   ]
  },
  {
   "cell_type": "code",
   "execution_count": 364,
   "metadata": {
    "ExecuteTime": {
     "end_time": "2021-06-18T17:33:39.241225Z",
     "start_time": "2021-06-18T17:33:39.221225Z"
    }
   },
   "outputs": [
    {
     "name": "stdout",
     "output_type": "stream",
     "text": [
      "[[1 4]\n",
      " [1 1]]\n"
     ]
    }
   ],
   "source": [
    "m = np.array([[1, 4],\n",
    "              [1, 1]])\n",
    "print(m)"
   ]
  },
  {
   "cell_type": "code",
   "execution_count": 365,
   "metadata": {
    "ExecuteTime": {
     "end_time": "2021-06-18T17:34:02.065335Z",
     "start_time": "2021-06-18T17:34:02.045335Z"
    }
   },
   "outputs": [
    {
     "data": {
      "text/plain": [
       "(array([3.00, -1.00]),\n",
       " array([[0.89, -0.89],\n",
       "        [0.45, 0.45]]))"
      ]
     },
     "execution_count": 365,
     "metadata": {},
     "output_type": "execute_result"
    }
   ],
   "source": [
    "# найдем собственный вектор(ню) и собственное значение (лямбда)\n",
    "lambda_, nu  = np.linalg.eig(m)\n",
    "lambda_, nu"
   ]
  },
  {
   "cell_type": "code",
   "execution_count": 366,
   "metadata": {
    "ExecuteTime": {
     "end_time": "2021-06-18T17:34:19.774520Z",
     "start_time": "2021-06-18T17:34:19.764520Z"
    }
   },
   "outputs": [
    {
     "name": "stdout",
     "output_type": "stream",
     "text": [
      "m * nu[:,0] = [2.68 1.34],\n",
      "lambda_[0] * nu[:,0] = [2.68 1.34]   \n",
      "m * nu[:,1] = [0.89 -0.45],\n",
      "lambda_[1] * nu[:,1] = [0.89 -0.45]   \n"
     ]
    }
   ],
   "source": [
    "# проверка  A*nu = nu*lambda\n",
    "for i in range(len(m)):\n",
    "    left_ = m[:,:] @ nu[:,i]\n",
    "    right_ = lambda_[i] * nu[:,i]\n",
    "    print( f'm * nu[:,{i}] = {left_},\\nlambda_[{i}] * nu[:,{i}] = {right_}   ')"
   ]
  },
  {
   "cell_type": "code",
   "execution_count": 380,
   "metadata": {
    "ExecuteTime": {
     "end_time": "2021-06-18T17:47:44.353182Z",
     "start_time": "2021-06-18T17:47:43.773182Z"
    }
   },
   "outputs": [
    {
     "data": {
      "image/png": "[encoded data removed]",
      "text/plain": [
       "<Figure size 504x504 with 1 Axes>"
      ]
     },
     "metadata": {
      "needs_background": "light"
     },
     "output_type": "display_data"
    }
   ],
   "source": [
    "# визуализируем для наглядности. для примера возьмем квадрат со стороной 200\n",
    "plt.figure(figsize=(7,7))\n",
    "A = [\n",
    "[-100, -100],\n",
    "[-100, 100],\n",
    "[100, 100],\n",
    "[100, -100],\n",
    "[-100, -100]\n",
    "]\n",
    "\n",
    "A = np.array(A)\n",
    "x = A[:,0]\n",
    "y = A[:,1]\n",
    "# исходный квадрат\n",
    "plt.plot(x, y, label = 'initial plot')\n",
    "\n",
    "#умножение на матрицу m (зеленым)\n",
    "C = A @ m\n",
    "\n",
    "x_1 = C[:,0]\n",
    "y_1 = C[:,1]\n",
    "\n",
    "plt.plot(x_1, y_1, color = 'green', label = 'plot @ m')\n",
    "\n",
    "#новая система координат (красным) на базисе собственных векторов матрицы m\n",
    "C = np.array(nu[:,0]) * lambda_[0] * 100\n",
    "C.resize(2,2)\n",
    "x_1 = C[:,0]\n",
    "y_1 = C[:,1]\n",
    "plt.plot(x_1, y_1, color = 'red', label = '1-st internal vector. matrix m')\n",
    "\n",
    "C = np.array(nu[:,1]) * lambda_[1] * 100\n",
    "C.resize(2,2)\n",
    "x_1 = C[:,0]\n",
    "y_1 = C[:,1]\n",
    "plt.plot(x_1, y_1, color = 'red', label = '2-nd internal vector. matrix m')\n",
    "\n",
    "plt.legend()\n",
    "plt.xlim([-500,500])\n",
    "plt.ylim([-500,500])\n",
    "plt.xticks(range(-500,500,100))\n",
    "plt.yticks(range(-500,500,100));"
   ]
  },
  {
   "cell_type": "code",
   "execution_count": null,
   "metadata": {},
   "outputs": [],
   "source": []
  },
  {
   "cell_type": "code",
   "execution_count": null,
   "metadata": {},
   "outputs": [],
   "source": []
  }
 ],
 "metadata": {
  "colab": {
   "name": "HW_X",
   "provenance": []
  },
  "kernelspec": {
   "display_name": "Python 3",
   "language": "python",
   "name": "python3"
  },
  "language_info": {
   "codemirror_mode": {
    "name": "ipython",
    "version": 3
   },
   "file_extension": ".py",
   "mimetype": "text/x-python",
   "name": "python",
   "nbconvert_exporter": "python",
   "pygments_lexer": "ipython3",
   "version": "3.8.5"
  }
 },
 "nbformat": 4,
 "nbformat_minor": 1
}
