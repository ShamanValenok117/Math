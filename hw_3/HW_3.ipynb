{
 "cells": [
  {
   "cell_type": "markdown",
   "metadata": {
    "id": "pqJ3l8E1PXFU"
   },
   "source": [
    "# Домашнее задание \"Продвинутая линейная алгебра\"."
   ]
  },
  {
   "cell_type": "markdown",
   "metadata": {
    "id": "xV6YXX6VPjiM"
   },
   "source": [
    "### Уровень 0:"
   ]
  },
  {
   "cell_type": "markdown",
   "metadata": {
    "id": "sdJhzn3YPCZG"
   },
   "source": [
    "Придумайте матрицы, которые обладают следующими свойствами:\n",
    "\n",
    "a) Диагональная, ортогональная, но не единичная(!)"
   ]
  },
  {
   "cell_type": "code",
   "execution_count": 2,
   "metadata": {
    "ExecuteTime": {
     "end_time": "2021-06-15T09:30:56.936897Z",
     "start_time": "2021-06-15T09:30:56.176896Z"
    }
   },
   "outputs": [],
   "source": [
    "import numpy as np\n",
    "import matplotlib.pyplot as plt"
   ]
  },
  {
   "cell_type": "code",
   "execution_count": 29,
   "metadata": {
    "ExecuteTime": {
     "end_time": "2021-06-15T11:00:19.961565Z",
     "start_time": "2021-06-15T11:00:19.941565Z"
    }
   },
   "outputs": [],
   "source": [
    "# Диагональная, ортогональная, но не единичная(!)\n",
    "A = np.array([ [-1,0,0], [0,-1,0], [0,0,-1] ])"
   ]
  },
  {
   "cell_type": "code",
   "execution_count": 30,
   "metadata": {
    "ExecuteTime": {
     "end_time": "2021-06-15T11:00:22.201568Z",
     "start_time": "2021-06-15T11:00:22.191568Z"
    }
   },
   "outputs": [
    {
     "data": {
      "text/plain": [
       "array([[1, 0, 0],\n",
       "       [0, 1, 0],\n",
       "       [0, 0, 1]])"
      ]
     },
     "execution_count": 30,
     "metadata": {},
     "output_type": "execute_result"
    }
   ],
   "source": [
    "# ортогональная проверка\n",
    "AT = A.transpose()\n",
    "A @ AT"
   ]
  },
  {
   "cell_type": "markdown",
   "metadata": {
    "id": "sdJhzn3YPCZG"
   },
   "source": [
    "b) Верхнетреугольная, ортогональная"
   ]
  },
  {
   "cell_type": "code",
   "execution_count": 31,
   "metadata": {
    "ExecuteTime": {
     "end_time": "2021-06-15T11:01:14.678642Z",
     "start_time": "2021-06-15T11:01:14.658642Z"
    }
   },
   "outputs": [
    {
     "data": {
      "text/plain": [
       "array([[-1,  0,  0],\n",
       "       [ 0, -1,  0],\n",
       "       [ 0,  0, -1]])"
      ]
     },
     "execution_count": 31,
     "metadata": {},
     "output_type": "execute_result"
    }
   ],
   "source": [
    "A = np.array([ [-1,0,0], [0,-1,0], [0,0,-1] ])\n",
    "A"
   ]
  },
  {
   "cell_type": "code",
   "execution_count": 32,
   "metadata": {
    "ExecuteTime": {
     "end_time": "2021-06-15T11:01:19.088648Z",
     "start_time": "2021-06-15T11:01:19.068648Z"
    }
   },
   "outputs": [
    {
     "data": {
      "text/plain": [
       "array([[-1,  0,  0],\n",
       "       [ 0, -1,  0],\n",
       "       [ 0,  0, -1]])"
      ]
     },
     "execution_count": 32,
     "metadata": {},
     "output_type": "execute_result"
    }
   ],
   "source": [
    "AT = A.transpose()\n",
    "AT"
   ]
  },
  {
   "cell_type": "code",
   "execution_count": 33,
   "metadata": {
    "ExecuteTime": {
     "end_time": "2021-06-15T11:01:27.519660Z",
     "start_time": "2021-06-15T11:01:27.509660Z"
    }
   },
   "outputs": [
    {
     "data": {
      "text/plain": [
       "array([[1, 0, 0],\n",
       "       [0, 1, 0],\n",
       "       [0, 0, 1]])"
      ]
     },
     "execution_count": 33,
     "metadata": {},
     "output_type": "execute_result"
    }
   ],
   "source": [
    "A@AT"
   ]
  },
  {
   "cell_type": "markdown",
   "metadata": {
    "id": "sdJhzn3YPCZG"
   },
   "source": [
    "c) Нижнетреугольная, ортогональная"
   ]
  },
  {
   "cell_type": "code",
   "execution_count": 34,
   "metadata": {
    "ExecuteTime": {
     "end_time": "2021-06-15T11:01:38.050675Z",
     "start_time": "2021-06-15T11:01:38.040675Z"
    }
   },
   "outputs": [
    {
     "data": {
      "text/plain": [
       "array([[-1,  0,  0],\n",
       "       [ 0, -1,  0],\n",
       "       [ 0,  0, -1]])"
      ]
     },
     "execution_count": 34,
     "metadata": {},
     "output_type": "execute_result"
    }
   ],
   "source": [
    "A = np.array([ [-1,0,0], [0,-1,0], [0,0,-1] ])\n",
    "A"
   ]
  },
  {
   "cell_type": "code",
   "execution_count": 35,
   "metadata": {
    "ExecuteTime": {
     "end_time": "2021-06-15T11:01:50.753693Z",
     "start_time": "2021-06-15T11:01:50.733693Z"
    }
   },
   "outputs": [
    {
     "data": {
      "text/plain": [
       "array([[1, 0, 0],\n",
       "       [0, 1, 0],\n",
       "       [0, 0, 1]])"
      ]
     },
     "execution_count": 35,
     "metadata": {},
     "output_type": "execute_result"
    }
   ],
   "source": [
    "AT = A.transpose()\n",
    "A@AT"
   ]
  },
  {
   "cell_type": "markdown",
   "metadata": {
    "id": "sdJhzn3YPCZG"
   },
   "source": [
    "d) Матрица, у которой определитель = 1, и все элементы не равны 0\n",
    "\n",
    "P.S. Во всех пунктах ответом должна быть ненулевая матрица размерности не менее 2!"
   ]
  },
  {
   "cell_type": "code",
   "execution_count": 48,
   "metadata": {
    "ExecuteTime": {
     "end_time": "2021-06-01T07:23:54.776047Z",
     "start_time": "2021-06-01T07:23:54.756047Z"
    }
   },
   "outputs": [
    {
     "name": "stdout",
     "output_type": "stream",
     "text": [
      "\n",
      " Sir, Task is recieved: \n",
      "..........................................................................................\n",
      " Sir, \n",
      " Task is finished: \n",
      " [[5.  0.  9.9]\n",
      " [0.  3.  0. ]\n",
      " [5.  0.  7. ]]\n"
     ]
    }
   ],
   "source": [
    "print('\\n Sir, Task is recieved: ', )    \n",
    "for x in np.arange(1,10,0.1):\n",
    "    A = np.array([ [5,0,x], [0,3,0], [5,0,7] ])\n",
    "    print('.',end='')\n",
    "    if np.linalg.det(A) == 1: break\n",
    "print('\\n Sir, \\n Task is finished: \\n', A)    "
   ]
  },
  {
   "cell_type": "markdown",
   "metadata": {
    "id": "DoobuSBZQl6d"
   },
   "source": [
    "Найдите собственные значения и собственные вектора матриц:\n",
    "\n",
    "```\n",
    "m = np.array([[2, 2],\n",
    "              [1, 3]])\n",
    "print(m)\n",
    "```"
   ]
  },
  {
   "cell_type": "code",
   "execution_count": 56,
   "metadata": {
    "ExecuteTime": {
     "end_time": "2021-06-01T07:27:00.269308Z",
     "start_time": "2021-06-01T07:27:00.259308Z"
    }
   },
   "outputs": [
    {
     "name": "stdout",
     "output_type": "stream",
     "text": [
      "[[2 2]\n",
      " [1 3]]\n"
     ]
    }
   ],
   "source": [
    "m = np.array([[2, 2],\n",
    "              [1, 3]])\n",
    "print(m)"
   ]
  },
  {
   "cell_type": "code",
   "execution_count": 127,
   "metadata": {
    "ExecuteTime": {
     "end_time": "2021-06-01T08:31:02.937720Z",
     "start_time": "2021-06-01T08:31:02.917720Z"
    }
   },
   "outputs": [
    {
     "data": {
      "text/plain": [
       "(array([1., 4.]),\n",
       " array([[-0.89442719, -0.70710678],\n",
       "        [ 0.4472136 , -0.70710678]]))"
      ]
     },
     "execution_count": 127,
     "metadata": {},
     "output_type": "execute_result"
    }
   ],
   "source": [
    "# найдем собственный вектор(ню) и собственное значение (лямбда)\n",
    "lambda_, nu  = np.linalg.eig(m)\n",
    "lambda_, nu"
   ]
  },
  {
   "cell_type": "code",
   "execution_count": 126,
   "metadata": {
    "ExecuteTime": {
     "end_time": "2021-06-01T08:29:36.495598Z",
     "start_time": "2021-06-01T08:29:36.485598Z"
    }
   },
   "outputs": [
    {
     "name": "stdout",
     "output_type": "stream",
     "text": [
      "m * nu[:,0] = [-0.89442719  0.4472136 ],\n",
      "lambda_[0] * nu[:,0] = [-0.89442719  0.4472136 ]   \n",
      "m * nu[:,1] = [-2.82842712 -2.82842712],\n",
      "lambda_[1] * nu[:,1] = [-2.82842712 -2.82842712]   \n"
     ]
    }
   ],
   "source": [
    "# проверка  A*nu = nu*lambda\n",
    "for i in range(len(m)):\n",
    "    left_ = m[:,:] @ nu[:,i]\n",
    "    right_ = lambda_[i] * nu[:,i]\n",
    "    print( f'm * nu[:,{i}] = {left_},\\nlambda_[{i}] * nu[:,{i}] = {right_}   ')\n",
    "    #if ( left_ == right_): print('True')"
   ]
  },
  {
   "cell_type": "code",
   "execution_count": 153,
   "metadata": {
    "ExecuteTime": {
     "end_time": "2021-06-08T08:57:31.893404Z",
     "start_time": "2021-06-08T08:57:31.583404Z"
    }
   },
   "outputs": [
    {
     "data": {
      "text/plain": [
       "[<matplotlib.lines.Line2D at 0xcbf9310>]"
      ]
     },
     "execution_count": 153,
     "metadata": {},
     "output_type": "execute_result"
    },
    {
     "data": {
      "image/png": "[encoded data removed]",
      "text/plain": [
       "<Figure size 432x288 with 1 Axes>"
      ]
     },
     "metadata": {
      "needs_background": "light"
     },
     "output_type": "display_data"
    }
   ],
   "source": [
    "# визуализируем для наглядности. для примера возьмем объект из ДЗ 2.\n",
    "A = [\n",
    "[-100, -100, 1],\n",
    "[-100, 100, 1],\n",
    "[100, 100, 1],\n",
    "[0, 0, 1],\n",
    "[100, -100, 1],\n",
    "[-100, -100, 1]\n",
    "]\n",
    "\n",
    "A = np.array(A)\n",
    "x = A[:,0]\n",
    "y = A[:,1]\n",
    "\n",
    "plt.plot(x, y)\n",
    "\n",
    "#умножение на матрицу m (зеленым)\n",
    "A = A[:,:-1]\n",
    "C = A @ m\n",
    "\n",
    "x_1 = C[:,0]\n",
    "y_1 = C[:,1]\n",
    "\n",
    "plt.plot(x_1, y_1, color = 'green')\n",
    "\n",
    "#новая система координат (красным) на базисе собственных векторов матрицы m\n",
    "C = np.array(nu[:,0]) * lambda_[0] * 100\n",
    "C.resize(2,2)\n",
    "x_1 = C[:,0]\n",
    "y_1 = C[:,1]\n",
    "plt.plot(x_1, y_1, color = 'red')\n",
    "\n",
    "C = np.array(nu[:,1]) * lambda_[1] * 100\n",
    "C.resize(2,2)\n",
    "x_1 = C[:,0]\n",
    "y_1 = C[:,1]\n",
    "plt.plot(x_1, y_1, color = 'red')\n"
   ]
  },
  {
   "cell_type": "code",
   "execution_count": 139,
   "metadata": {
    "ExecuteTime": {
     "end_time": "2021-06-01T08:40:53.594551Z",
     "start_time": "2021-06-01T08:40:53.574551Z"
    }
   },
   "outputs": [
    {
     "data": {
      "text/plain": [
       "(array([[-0.89442719, -0.70710678],\n",
       "        [ 0.4472136 , -0.70710678]]),\n",
       " array([1., 4.]),\n",
       " array([[2, 2],\n",
       "        [1, 3]]))"
      ]
     },
     "execution_count": 139,
     "metadata": {},
     "output_type": "execute_result"
    }
   ],
   "source": [
    "nu,lambda_,m"
   ]
  },
  {
   "cell_type": "markdown",
   "metadata": {
    "id": "1IymnLDrPCXH"
   },
   "source": [
    "### Уровень 1:"
   ]
  },
  {
   "cell_type": "markdown",
   "metadata": {
    "id": "iJPawZAEPpJO"
   },
   "source": [
    "\n",
    "Найдите спектральное разложение матрицы:\n",
    "\n",
    "```\n",
    "m = np.array([[1, 2],\n",
    "              [2,3]])\n",
    "print(m)\n",
    "```\n"
   ]
  },
  {
   "cell_type": "code",
   "execution_count": 154,
   "metadata": {
    "ExecuteTime": {
     "end_time": "2021-06-08T09:14:52.626871Z",
     "start_time": "2021-06-08T09:14:52.606871Z"
    }
   },
   "outputs": [
    {
     "name": "stdout",
     "output_type": "stream",
     "text": [
      "[[1 2]\n",
      " [2 3]]\n"
     ]
    }
   ],
   "source": [
    "m = np.array([[1, 2],\n",
    "              [2,3]])\n",
    "print(m)"
   ]
  },
  {
   "cell_type": "code",
   "execution_count": 156,
   "metadata": {
    "ExecuteTime": {
     "end_time": "2021-06-08T09:16:08.226977Z",
     "start_time": "2021-06-08T09:16:08.206977Z"
    }
   },
   "outputs": [
    {
     "data": {
      "text/plain": [
       "(array([-0.23606798,  4.23606798]),\n",
       " array([[-0.85065081, -0.52573111],\n",
       "        [ 0.52573111, -0.85065081]]))"
      ]
     },
     "execution_count": 156,
     "metadata": {},
     "output_type": "execute_result"
    }
   ],
   "source": [
    "lambda_, nu = np.linalg.eig(m)\n",
    "lambda_, nu"
   ]
  },
  {
   "cell_type": "code",
   "execution_count": 160,
   "metadata": {
    "ExecuteTime": {
     "end_time": "2021-06-08T09:17:52.851124Z",
     "start_time": "2021-06-08T09:17:52.831124Z"
    }
   },
   "outputs": [
    {
     "data": {
      "text/plain": [
       "array([[-0.23606798,  0.        ],\n",
       "       [-0.        ,  4.23606798]])"
      ]
     },
     "execution_count": 160,
     "metadata": {},
     "output_type": "execute_result"
    }
   ],
   "source": [
    "D = np.eye(2) * lambda_\n",
    "D"
   ]
  },
  {
   "cell_type": "markdown",
   "metadata": {},
   "source": [
    "Спектральное разложение(PCA) матрицы m в виде:  \n",
    "m = St * D * S  \n",
    ",где:"
   ]
  },
  {
   "cell_type": "code",
   "execution_count": 162,
   "metadata": {
    "ExecuteTime": {
     "end_time": "2021-06-08T09:20:42.571363Z",
     "start_time": "2021-06-08T09:20:42.551363Z"
    }
   },
   "outputs": [
    {
     "name": "stdout",
     "output_type": "stream",
     "text": [
      "St = [[-0.85065081  0.52573111]\n",
      " [-0.52573111 -0.85065081]] \n",
      "D = [[-0.23606798  0.        ]\n",
      " [-0.          4.23606798]] \n",
      "S = [[-0.85065081 -0.52573111]\n",
      " [ 0.52573111 -0.85065081]] \n"
     ]
    }
   ],
   "source": [
    "print(f'St = {np.transpose(nu)} ')\n",
    "print(f'D = {D} ')\n",
    "print(f'S = {nu} ')"
   ]
  },
  {
   "cell_type": "code",
   "execution_count": 168,
   "metadata": {
    "ExecuteTime": {
     "end_time": "2021-06-08T09:21:49.411457Z",
     "start_time": "2021-06-08T09:21:49.391457Z"
    }
   },
   "outputs": [
    {
     "data": {
      "text/plain": [
       "array([[-0.23606798,  0.        ],\n",
       "       [ 0.        ,  4.23606798]])"
      ]
     },
     "execution_count": 168,
     "metadata": {},
     "output_type": "execute_result"
    }
   ],
   "source": [
    "np.transpose(nu) @ nu @ D"
   ]
  },
  {
   "cell_type": "markdown",
   "metadata": {
    "id": "V9fcRZltQoRu"
   },
   "source": [
    "### Постройте зависимость качества восстановления рукописных цифр (MNIST) в зависимости от различного количества компонент PCA. В качестве метрики различия предлагаю использовать MSE.*\n",
    "\n",
    "\n"
   ]
  },
  {
   "cell_type": "markdown",
   "metadata": {
    "id": "pH2vOABpSMSQ"
   },
   "source": [
    "\n",
    "--------------------------------------------------------------------------------"
   ]
  },
  {
   "cell_type": "markdown",
   "metadata": {
    "id": "d1qAqmOMSMUd"
   },
   "source": [
    "У PCA есть метод transform и inverse_transofrm. Первый - снижает размерность, второй - восстанавливает оригинальные данные с потерей информации.\n",
    "Надо посчитать насколько в среднем точно восстанавливается оригинальная картинка в зависимости от количества компонент в PCA."
   ]
  },
  {
   "cell_type": "markdown",
   "metadata": {
    "id": "THD2Cd1ySPOQ"
   },
   "source": []
  },
  {
   "cell_type": "markdown",
   "metadata": {
    "id": "tosUSbt0QqYG"
   },
   "source": [
    "В качестве справки можно использовать:\n",
    "\n",
    "https://scikit-learn.org/stable/modules/generated/sklearn.decomposition.PCA.html - Документация по PCA\n",
    "\n",
    "https://scikit-learn.org/stable/modules/generated/sklearn.metrics.mean_squared_error.html - Документация по MSE\n",
    "\n",
    "Картинки цифр можно взять отсюда - https://scikit-learn.org/stable/modules/generated/sklearn.datasets.load_digits.html\n"
   ]
  },
  {
   "cell_type": "code",
   "execution_count": 37,
   "metadata": {
    "ExecuteTime": {
     "end_time": "2021-06-15T11:05:27.438998Z",
     "start_time": "2021-06-15T11:05:24.808994Z"
    }
   },
   "outputs": [],
   "source": [
    "import numpy as np\n",
    "import sklearn \n",
    "import matplotlib.pyplot as plt\n",
    "from sklearn.datasets import load_digits\n",
    "digits = load_digits()"
   ]
  },
  {
   "cell_type": "code",
   "execution_count": 285,
   "metadata": {
    "ExecuteTime": {
     "end_time": "2021-06-08T11:32:15.065211Z",
     "start_time": "2021-06-08T11:32:14.665210Z"
    }
   },
   "outputs": [
    {
     "data": {
      "text/plain": [
       "<matplotlib.image.AxesImage at 0x14aed0a0>"
      ]
     },
     "execution_count": 285,
     "metadata": {},
     "output_type": "execute_result"
    },
    {
     "data": {
      "image/png": "[encoded data removed]",
      "text/plain": [
       "<Figure size 288x288 with 1 Axes>"
      ]
     },
     "metadata": {
      "needs_background": "light"
     },
     "output_type": "display_data"
    }
   ],
   "source": [
    "#Выполним для числа \"0\"\n",
    "plt.matshow(digits.images[0]) "
   ]
  },
  {
   "cell_type": "code",
   "execution_count": 41,
   "metadata": {
    "ExecuteTime": {
     "end_time": "2021-06-15T11:05:48.131027Z",
     "start_time": "2021-06-15T11:05:48.111027Z"
    }
   },
   "outputs": [
    {
     "data": {
      "text/plain": [
       "array([[ 0.,  0.,  5., 13.,  9.,  1.,  0.,  0.],\n",
       "       [ 0.,  0., 13., 15., 10., 15.,  5.,  0.],\n",
       "       [ 0.,  3., 15.,  2.,  0., 11.,  8.,  0.],\n",
       "       [ 0.,  4., 12.,  0.,  0.,  8.,  8.,  0.],\n",
       "       [ 0.,  5.,  8.,  0.,  0.,  9.,  8.,  0.],\n",
       "       [ 0.,  4., 11.,  0.,  1., 12.,  7.,  0.],\n",
       "       [ 0.,  2., 14.,  5., 10., 12.,  0.,  0.],\n",
       "       [ 0.,  0.,  6., 13., 10.,  0.,  0.,  0.]])"
      ]
     },
     "execution_count": 41,
     "metadata": {},
     "output_type": "execute_result"
    }
   ],
   "source": [
    "m = digits.images[0]\n",
    "m"
   ]
  },
  {
   "cell_type": "code",
   "execution_count": 38,
   "metadata": {
    "ExecuteTime": {
     "end_time": "2021-06-15T11:05:33.509006Z",
     "start_time": "2021-06-15T11:05:33.179006Z"
    }
   },
   "outputs": [],
   "source": [
    "from sklearn.decomposition import PCA\n",
    "tester = PCA(n_components=2, svd_solver='full')\n",
    "\n",
    "from sklearn.metrics import mean_squared_error"
   ]
  },
  {
   "cell_type": "code",
   "execution_count": 39,
   "metadata": {
    "ExecuteTime": {
     "end_time": "2021-06-15T11:05:38.160013Z",
     "start_time": "2021-06-15T11:05:38.140013Z"
    }
   },
   "outputs": [
    {
     "data": {
      "text/plain": [
       "PCA(n_components=2, svd_solver='full')"
      ]
     },
     "execution_count": 39,
     "metadata": {},
     "output_type": "execute_result"
    }
   ],
   "source": [
    "tester.set_params(n_components=2)"
   ]
  },
  {
   "cell_type": "code",
   "execution_count": 42,
   "metadata": {
    "ExecuteTime": {
     "end_time": "2021-06-15T11:05:50.771030Z",
     "start_time": "2021-06-15T11:05:50.741030Z"
    }
   },
   "outputs": [
    {
     "data": {
      "text/plain": [
       "1.1688674951214155"
      ]
     },
     "execution_count": 42,
     "metadata": {},
     "output_type": "execute_result"
    }
   ],
   "source": [
    "A = tester.fit_transform(m)\n",
    "m_ = tester.inverse_transform(A)\n",
    "mean_squared_error(m,m_)"
   ]
  },
  {
   "cell_type": "code",
   "execution_count": 43,
   "metadata": {
    "ExecuteTime": {
     "end_time": "2021-06-15T11:05:55.612037Z",
     "start_time": "2021-06-15T11:05:53.102034Z"
    },
    "scrolled": false
   },
   "outputs": [
    {
     "data": {
      "image/png": "[encoded data removed]",
      "text/plain": [
       "<Figure size 1080x504 with 9 Axes>"
      ]
     },
     "metadata": {
      "needs_background": "light"
     },
     "output_type": "display_data"
    }
   ],
   "source": [
    "# визуализируем для числа \"0\"\n",
    "fig = plt.figure(figsize=(15,7))\n",
    "ax = fig.add_subplot(331)\n",
    "ax.matshow(m)\n",
    "ax.set(title = 'Original' )\n",
    "MSE_dict = dict()\n",
    "\n",
    "for i in range(1,9,1):\n",
    "    plot_number = 331 + i\n",
    "    ax = fig.add_subplot(plot_number)\n",
    "    tester.set_params(n_components=i)\n",
    "    A = tester.fit_transform(m)\n",
    "    m_ = tester.inverse_transform(A)\n",
    "    MSE = mean_squared_error(m,m_)\n",
    "    MSE_dict[i] = MSE\n",
    "    ax.set(title = f'No.components = {i}, \\n MSE = {MSE:.2f}')\n",
    "    ax.matshow(m_)"
   ]
  },
  {
   "cell_type": "markdown",
   "metadata": {
    "ExecuteTime": {
     "end_time": "2021-06-15T11:06:05.153051Z",
     "start_time": "2021-06-15T11:06:05.133051Z"
    }
   },
   "source": [
    "### Выведем график зависимости среднеквадратичной ошибки(MSE) от количества принятых компонент (PCA)"
   ]
  },
  {
   "cell_type": "code",
   "execution_count": 49,
   "metadata": {
    "ExecuteTime": {
     "end_time": "2021-06-15T11:12:32.040693Z",
     "start_time": "2021-06-15T11:12:31.540692Z"
    }
   },
   "outputs": [
    {
     "data": {
      "image/png": "[encoded data removed]",
      "text/plain": [
       "<Figure size 432x288 with 1 Axes>"
      ]
     },
     "metadata": {
      "needs_background": "light"
     },
     "output_type": "display_data"
    }
   ],
   "source": [
    "fig,ax = plt.subplots()\n",
    "ax.plot(MSE_dict.keys(), MSE_dict.values())\n",
    "ax.set(xlabel='No.of components', ylabel='Mean Squared Error', yticks=np.arange(0,5,.25));"
   ]
  },
  {
   "cell_type": "code",
   "execution_count": null,
   "metadata": {},
   "outputs": [],
   "source": []
  },
  {
   "cell_type": "code",
   "execution_count": 259,
   "metadata": {
    "ExecuteTime": {
     "end_time": "2021-06-08T10:54:19.904991Z",
     "start_time": "2021-06-08T10:54:19.844991Z"
    }
   },
   "outputs": [
    {
     "data": {
      "text/plain": [
       "{0: 5, 1: 5, 2: 6, 3: 6, 4: 6, 5: 5, 6: 5, 7: 6, 8: 6, 9: 6}"
      ]
     },
     "execution_count": 259,
     "metadata": {},
     "output_type": "execute_result"
    }
   ],
   "source": [
    "# Выполним для всех чисел. Найдем минимальное количество компонентов PCA, чтобы MSE =0. все сложим в словарь \"PCA_model\" \n",
    "PCA_model = dict()\n",
    "for i in range(0,10,1):\n",
    "    \n",
    "    m = digits.images[i]\n",
    "\n",
    "    for j in range(1,9,1):\n",
    "        tester.set_params(n_components=j)\n",
    "        A = tester.fit_transform(m)\n",
    "        m_ = tester.inverse_transform(A)\n",
    "        MSE = round(mean_squared_error(m,m_),2)\n",
    "        if MSE == 0: \n",
    "            PCA_model[i] = j\n",
    "            break\n",
    "PCA_model    "
   ]
  },
  {
   "cell_type": "code",
   "execution_count": 278,
   "metadata": {
    "ExecuteTime": {
     "end_time": "2021-06-08T11:25:58.097668Z",
     "start_time": "2021-06-08T11:25:51.311657Z"
    },
    "scrolled": false
   },
   "outputs": [
    {
     "data": {
      "image/png": "[encoded data removed]",
      "text/plain": [
       "<Figure size 504x432 with 2 Axes>"
      ]
     },
     "metadata": {
      "needs_background": "light"
     },
     "output_type": "display_data"
    },
    {
     "data": {
      "image/png": "[encoded data removed]",
      "text/plain": [
       "<Figure size 504x432 with 2 Axes>"
      ]
     },
     "metadata": {
      "needs_background": "light"
     },
     "output_type": "display_data"
    },
    {
     "data": {
      "image/png": "[encoded data removed]",
      "text/plain": [
       "<Figure size 504x432 with 2 Axes>"
      ]
     },
     "metadata": {
      "needs_background": "light"
     },
     "output_type": "display_data"
    },
    {
     "data": {
      "image/png": "[encoded data removed]",
      "text/plain": [
       "<Figure size 504x432 with 2 Axes>"
      ]
     },
     "metadata": {
      "needs_background": "light"
     },
     "output_type": "display_data"
    },
    {
     "data": {
      "image/png": "[encoded data removed]",
      "text/plain": [
       "<Figure size 504x432 with 2 Axes>"
      ]
     },
     "metadata": {
      "needs_background": "light"
     },
     "output_type": "display_data"
    },
    {
     "data": {
      "image/png": "[encoded data removed]",
      "text/plain": [
       "<Figure size 504x432 with 2 Axes>"
      ]
     },
     "metadata": {
      "needs_background": "light"
     },
     "output_type": "display_data"
    },
    {
     "data": {
      "image/png": "[encoded data removed]",
      "text/plain": [
       "<Figure size 504x432 with 2 Axes>"
      ]
     },
     "metadata": {
      "needs_background": "light"
     },
     "output_type": "display_data"
    },
    {
     "data": {
      "image/png": "[encoded data removed]",
      "text/plain": [
       "<Figure size 504x432 with 2 Axes>"
      ]
     },
     "metadata": {
      "needs_background": "light"
     },
     "output_type": "display_data"
    },
    {
     "data": {
      "image/png": "[encoded data removed]",
      "text/plain": [
       "<Figure size 504x432 with 2 Axes>"
      ]
     },
     "metadata": {
      "needs_background": "light"
     },
     "output_type": "display_data"
    },
    {
     "data": {
      "image/png": "[encoded data removed]",
      "text/plain": [
       "<Figure size 504x432 with 2 Axes>"
      ]
     },
     "metadata": {
      "needs_background": "light"
     },
     "output_type": "display_data"
    }
   ],
   "source": [
    "#визуализируем:\n",
    "\n",
    "for i in PCA_model.keys():\n",
    "    m = digits.images[i]\n",
    "    fig = plt.figure(figsize=(7,6))\n",
    "    ax = fig.add_subplot(121)\n",
    "    ax.matshow(m)\n",
    "    ax.set(title = f'Original {i}' )\n",
    "    \n",
    "    ax = fig.add_subplot(122)\n",
    "    \n",
    "    tester.set_params(n_components=PCA_model[i])\n",
    "    A = tester.fit_transform(m)\n",
    "    m_ = tester.inverse_transform(A)\n",
    "    \n",
    "    ax.matshow(m_)\n",
    "    ax.set(title = f'No.components = {PCA_model[i]}')\n",
    "    plt.show()\n",
    "    "
   ]
  },
  {
   "cell_type": "markdown",
   "metadata": {},
   "source": [
    "### Вывод  \n",
    "Для каждого числа можно сократить количество признаков (столбцов) с 8 до 5-6."
   ]
  }
 ],
 "metadata": {
  "colab": {
   "collapsed_sections": [],
   "name": "HW_3",
   "provenance": []
  },
  "kernelspec": {
   "display_name": "Python 3",
   "language": "python",
   "name": "python3"
  },
  "language_info": {
   "codemirror_mode": {
    "name": "ipython",
    "version": 3
   },
   "file_extension": ".py",
   "mimetype": "text/x-python",
   "name": "python",
   "nbconvert_exporter": "python",
   "pygments_lexer": "ipython3",
   "version": "3.8.5"
  }
 },
 "nbformat": 4,
 "nbformat_minor": 1
}
