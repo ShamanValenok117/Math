{
 "cells": [
  {
   "cell_type": "markdown",
   "metadata": {
    "id": "MDcEqde2UtVJ"
   },
   "source": [
    "# Домашнее задание \"Производная функции нескольких аргументов\"."
   ]
  },
  {
   "cell_type": "code",
   "execution_count": 2,
   "metadata": {
    "ExecuteTime": {
     "end_time": "2021-06-09T14:18:18.398019Z",
     "start_time": "2021-06-09T14:18:17.728019Z"
    },
    "id": "hkGWP9e5TgmG"
   },
   "outputs": [],
   "source": [
    "import numpy as np\n",
    "from scipy.optimize import approx_fprime"
   ]
  },
  {
   "cell_type": "code",
   "execution_count": 14,
   "metadata": {
    "ExecuteTime": {
     "end_time": "2021-06-09T14:34:19.044413Z",
     "start_time": "2021-06-09T14:34:19.024413Z"
    }
   },
   "outputs": [
    {
     "data": {
      "text/plain": [
       "array([  2.        , 400.00000381])"
      ]
     },
     "execution_count": 14,
     "metadata": {},
     "output_type": "execute_result"
    }
   ],
   "source": [
    "def func(x, c0, c1):\n",
    "    return c0 * x[0]**2 + c1*x[1]**2\n",
    "\n",
    "\n",
    "x = np.ones(2)\n",
    "\n",
    "c0, c1 = (1, 200)\n",
    "\n",
    "eps = np.sqrt(np.finfo(float).eps)\n",
    "\n",
    "approx_fprime(x, func, eps, c0, c1)\n"
   ]
  },
  {
   "cell_type": "markdown",
   "metadata": {
    "id": "Brjig4o4UnHe"
   },
   "source": [
    "### Уровень 0:"
   ]
  },
  {
   "cell_type": "markdown",
   "metadata": {
    "id": "xOv4al86VAw1"
   },
   "source": [
    "Посчитайте частные производные функций:"
   ]
  },
  {
   "cell_type": "markdown",
   "metadata": {
    "id": "fCyKnRYIUw2j"
   },
   "source": [
    "\n",
    "1) $f(x,y)=2x^2y^3 + 1/x + y^2x + 7$, а для этой функции также градиент в точке $(1,2)$\n",
    "\n",
    "2) $f(x,y)=x^2y - sin(xy) + cos(x^2) + 6y$"
   ]
  },
  {
   "cell_type": "code",
   "execution_count": 137,
   "metadata": {
    "ExecuteTime": {
     "end_time": "2021-06-09T19:04:01.168280Z",
     "start_time": "2021-06-09T19:04:01.148280Z"
    }
   },
   "outputs": [],
   "source": [
    "import sympy\n",
    "from sympy import *\n",
    "x,y = symbols('x y')"
   ]
  },
  {
   "cell_type": "markdown",
   "metadata": {
    "ExecuteTime": {
     "end_time": "2021-06-09T14:39:18.780855Z",
     "start_time": "2021-06-09T14:39:18.360854Z"
    }
   },
   "source": [
    "###  Функция №1"
   ]
  },
  {
   "cell_type": "code",
   "execution_count": 26,
   "metadata": {
    "ExecuteTime": {
     "end_time": "2021-06-09T15:02:03.182884Z",
     "start_time": "2021-06-09T15:02:03.172884Z"
    }
   },
   "outputs": [
    {
     "name": "stdout",
     "output_type": "stream",
     "text": [
      "Функция №1 = \n"
     ]
    },
    {
     "data": {
      "text/latex": [
       "$\\displaystyle 2 x^{2} y^{3} + x y^{2} + 7 + \\frac{1}{x}$"
      ],
      "text/plain": [
       "2*x**2*y**3 + x*y**2 + 7 + 1/x"
      ]
     },
     "execution_count": 26,
     "metadata": {},
     "output_type": "execute_result"
    }
   ],
   "source": [
    "print('Функция №1 = ')\n",
    "expression = 2*x**2 * y**3 + x**(-1) + y**2 * x + 7\n",
    "expression"
   ]
  },
  {
   "cell_type": "code",
   "execution_count": 23,
   "metadata": {
    "ExecuteTime": {
     "end_time": "2021-06-09T15:01:06.716805Z",
     "start_time": "2021-06-09T15:01:06.696805Z"
    }
   },
   "outputs": [
    {
     "name": "stdout",
     "output_type": "stream",
     "text": [
      "Частная производная функции №1 по х = \n"
     ]
    },
    {
     "data": {
      "text/latex": [
       "$\\displaystyle 4 x y^{3} + y^{2} - \\frac{1}{x^{2}}$"
      ],
      "text/plain": [
       "4*x*y**3 + y**2 - 1/x**2"
      ]
     },
     "execution_count": 23,
     "metadata": {},
     "output_type": "execute_result"
    }
   ],
   "source": [
    "expression_dif_x = diff(expression,x)\n",
    "print('Частная производная функции №1 по х = ')\n",
    "expression_dif_x\n"
   ]
  },
  {
   "cell_type": "code",
   "execution_count": 25,
   "metadata": {
    "ExecuteTime": {
     "end_time": "2021-06-09T15:01:38.640849Z",
     "start_time": "2021-06-09T15:01:38.620849Z"
    }
   },
   "outputs": [
    {
     "name": "stdout",
     "output_type": "stream",
     "text": [
      "Частная производная функции №1 по y = \n"
     ]
    },
    {
     "data": {
      "text/latex": [
       "$\\displaystyle 6 x^{2} y^{2} + 2 x y$"
      ],
      "text/plain": [
       "6*x**2*y**2 + 2*x*y"
      ]
     },
     "execution_count": 25,
     "metadata": {},
     "output_type": "execute_result"
    }
   ],
   "source": [
    "expression_dif_y = diff(expression,y)\n",
    "print('Частная производная функции №1 по y = ')\n",
    "expression_dif_y"
   ]
  },
  {
   "cell_type": "code",
   "execution_count": 51,
   "metadata": {
    "ExecuteTime": {
     "end_time": "2021-06-09T16:04:42.262176Z",
     "start_time": "2021-06-09T16:04:42.242176Z"
    }
   },
   "outputs": [],
   "source": [
    "def function(x):\n",
    "    return  2*x[0]**2 * x[1]**3 + x[0]**(-1) + x[1]**2 * x[0] + 7"
   ]
  },
  {
   "cell_type": "code",
   "execution_count": 52,
   "metadata": {
    "ExecuteTime": {
     "end_time": "2021-06-09T16:04:43.912178Z",
     "start_time": "2021-06-09T16:04:43.892178Z"
    }
   },
   "outputs": [
    {
     "name": "stdout",
     "output_type": "stream",
     "text": [
      "Градиент в точке [1,2]\n"
     ]
    },
    {
     "data": {
      "text/plain": [
       "array([35.00000024, 28.00000024])"
      ]
     },
     "execution_count": 52,
     "metadata": {},
     "output_type": "execute_result"
    }
   ],
   "source": [
    "print('Градиент в точке [1,2]')\n",
    "approx_fprime([1,2], function, eps)"
   ]
  },
  {
   "cell_type": "markdown",
   "metadata": {
    "ExecuteTime": {
     "end_time": "2021-06-09T14:39:18.780855Z",
     "start_time": "2021-06-09T14:39:18.360854Z"
    }
   },
   "source": [
    "###  Функция №2\n",
    "$f(x,y)=x^2y - sin(xy) + cos(x^2) + 6y$"
   ]
  },
  {
   "cell_type": "code",
   "execution_count": 43,
   "metadata": {
    "ExecuteTime": {
     "end_time": "2021-06-09T16:02:30.195990Z",
     "start_time": "2021-06-09T16:02:30.175990Z"
    }
   },
   "outputs": [
    {
     "name": "stdout",
     "output_type": "stream",
     "text": [
      "Функция №2 = \n"
     ]
    },
    {
     "data": {
      "text/latex": [
       "$\\displaystyle x^{2} y + 6 y - \\sin{\\left(x y \\right)} + \\cos{\\left(x^{2} \\right)}$"
      ],
      "text/plain": [
       "x**2*y + 6*y - sin(x*y) + cos(x**2)"
      ]
     },
     "execution_count": 43,
     "metadata": {},
     "output_type": "execute_result"
    }
   ],
   "source": [
    "print('Функция №2 = ')\n",
    "expression = x**2 * y - sin(x*y) + cos(x**2) + 6*y\n",
    "expression"
   ]
  },
  {
   "cell_type": "code",
   "execution_count": 44,
   "metadata": {
    "ExecuteTime": {
     "end_time": "2021-06-09T16:02:55.279025Z",
     "start_time": "2021-06-09T16:02:55.249025Z"
    }
   },
   "outputs": [
    {
     "name": "stdout",
     "output_type": "stream",
     "text": [
      "Частная производная функции №1 по х = \n"
     ]
    },
    {
     "data": {
      "text/latex": [
       "$\\displaystyle 2 x y - 2 x \\sin{\\left(x^{2} \\right)} - y \\cos{\\left(x y \\right)}$"
      ],
      "text/plain": [
       "2*x*y - 2*x*sin(x**2) - y*cos(x*y)"
      ]
     },
     "execution_count": 44,
     "metadata": {},
     "output_type": "execute_result"
    }
   ],
   "source": [
    "expression_dif_x = diff(expression,x)\n",
    "print('Частная производная функции №1 по х = ')\n",
    "expression_dif_x\n"
   ]
  },
  {
   "cell_type": "code",
   "execution_count": 45,
   "metadata": {
    "ExecuteTime": {
     "end_time": "2021-06-09T16:02:59.560031Z",
     "start_time": "2021-06-09T16:02:59.540031Z"
    }
   },
   "outputs": [
    {
     "name": "stdout",
     "output_type": "stream",
     "text": [
      "Частная производная функции №1 по y = \n"
     ]
    },
    {
     "data": {
      "text/latex": [
       "$\\displaystyle x^{2} - x \\cos{\\left(x y \\right)} + 6$"
      ],
      "text/plain": [
       "x**2 - x*cos(x*y) + 6"
      ]
     },
     "execution_count": 45,
     "metadata": {},
     "output_type": "execute_result"
    }
   ],
   "source": [
    "expression_dif_y = diff(expression,y)\n",
    "print('Частная производная функции №1 по y = ')\n",
    "expression_dif_y"
   ]
  },
  {
   "cell_type": "code",
   "execution_count": 47,
   "metadata": {
    "ExecuteTime": {
     "end_time": "2021-06-09T16:03:55.937111Z",
     "start_time": "2021-06-09T16:03:55.917111Z"
    }
   },
   "outputs": [],
   "source": [
    "def function(x):\n",
    "    return  x[0]**2 * x[1] - sin(x[0]*x[1]) + cos(x[0]**2) + 6*x[1]"
   ]
  },
  {
   "cell_type": "code",
   "execution_count": 49,
   "metadata": {
    "ExecuteTime": {
     "end_time": "2021-06-09T16:04:28.031156Z",
     "start_time": "2021-06-09T16:04:28.011156Z"
    }
   },
   "outputs": [
    {
     "name": "stdout",
     "output_type": "stream",
     "text": [
      "Градиент в точке [1,2]\n"
     ]
    },
    {
     "data": {
      "text/plain": [
       "array([3.14935184, 7.41614687])"
      ]
     },
     "execution_count": 49,
     "metadata": {},
     "output_type": "execute_result"
    }
   ],
   "source": [
    "print('Градиент в точке [1,2]')\n",
    "approx_fprime([1,2], function, eps)"
   ]
  },
  {
   "cell_type": "markdown",
   "metadata": {
    "id": "COzir0ZGVLtz"
   },
   "source": [
    "### Уровень 1:"
   ]
  },
  {
   "cell_type": "markdown",
   "metadata": {
    "id": "VIW3H6ChVOZQ"
   },
   "source": [
    "Градиентный спуск своими руками:"
   ]
  },
  {
   "cell_type": "code",
   "execution_count": 55,
   "metadata": {
    "ExecuteTime": {
     "end_time": "2021-06-09T17:59:16.764809Z",
     "start_time": "2021-06-09T17:59:16.744809Z"
    }
   },
   "outputs": [],
   "source": [
    "from scipy.misc import derivative"
   ]
  },
  {
   "cell_type": "code",
   "execution_count": 118,
   "metadata": {
    "ExecuteTime": {
     "end_time": "2021-06-09T18:50:46.007156Z",
     "start_time": "2021-06-09T18:50:45.997156Z"
    }
   },
   "outputs": [],
   "source": [
    "np.set_printoptions(formatter={'float_kind': '{:.5f}'.format  })"
   ]
  },
  {
   "cell_type": "code",
   "execution_count": 53,
   "metadata": {
    "ExecuteTime": {
     "end_time": "2021-06-09T17:58:44.390764Z",
     "start_time": "2021-06-09T17:58:44.380764Z"
    },
    "id": "rFpy298AUwXs"
   },
   "outputs": [],
   "source": [
    "def f(x):\n",
    "    return (x[0]**2) + (x[1]**2)"
   ]
  },
  {
   "cell_type": "code",
   "execution_count": 120,
   "metadata": {
    "ExecuteTime": {
     "end_time": "2021-06-09T18:51:37.596229Z",
     "start_time": "2021-06-09T18:51:37.516229Z"
    },
    "id": "kBQCpgyEcZ9j"
   },
   "outputs": [
    {
     "name": "stdout",
     "output_type": "stream",
     "text": [
      "gradient: \t|\t point coordinates:\n",
      "-------------------------------------------------------\n",
      "[200.00000 400.00000] \t |\t[80.00000 160.00000]\n",
      "[160.00000 320.00000] \t |\t[64.00000 128.00000]\n",
      "[128.00000 256.00000] \t |\t[51.20000 102.40000]\n",
      "[102.40002 204.79993] \t |\t[40.96000 81.92001]\n",
      "[81.92004 163.84009] \t |\t[32.76799 65.53600]\n",
      "[65.53595 131.07202] \t |\t[26.21440 52.42880]\n",
      "[52.42880 104.85757] \t |\t[20.97152 41.94304]\n",
      "[41.94302 83.88608] \t |\t[16.77722 33.55443]\n",
      "[33.55443 67.10886] \t |\t[13.42177 26.84355]\n",
      "[26.84354 53.68709] \t |\t[10.73742 21.47484]\n",
      "[21.47483 42.94967] \t |\t[8.58994 17.17987]\n",
      "[17.17987 34.35974] \t |\t[6.87195 13.74390]\n",
      "[13.74390 27.48779] \t |\t[5.49756 10.99512]\n",
      "[10.99512 21.99023] \t |\t[4.39805 8.79609]\n",
      "[8.79609 17.59219] \t |\t[3.51844 7.03687]\n",
      "[7.03687 14.07375] \t |\t[2.81475 5.62950]\n",
      "[5.62950 11.25900] \t |\t[2.25180 4.50360]\n",
      "[4.50360 9.00720] \t |\t[1.80144 3.60288]\n",
      "[3.60288 7.20576] \t |\t[1.44115 2.88230]\n",
      "[2.88230 5.76461] \t |\t[1.15292 2.30584]\n",
      "[2.30584 4.61169] \t |\t[0.92234 1.84467]\n",
      "[1.84467 3.68935] \t |\t[0.73787 1.47574]\n",
      "[1.47574 2.95148] \t |\t[0.59030 1.18059]\n",
      "[1.18059 2.36118] \t |\t[0.47224 0.94447]\n",
      "[0.94447 1.88895] \t |\t[0.37779 0.75558]\n",
      "[0.75558 1.51116] \t |\t[0.30223 0.60446]\n",
      "[0.60446 1.20893] \t |\t[0.24179 0.48357]\n",
      "[0.48357 0.96714] \t |\t[0.19343 0.38686]\n",
      "[0.38686 0.77371] \t |\t[0.15474 0.30949]\n",
      "[0.30949 0.61897] \t |\t[0.12379 0.24759]\n",
      "[0.24759 0.49518] \t |\t[0.09904 0.19807]\n",
      "[0.19807 0.39614] \t |\t[0.07923 0.15846]\n",
      "[0.15846 0.31691] \t |\t[0.06338 0.12677]\n",
      "[0.12677 0.25353] \t |\t[0.05071 0.10141]\n",
      "[0.10141 0.20282] \t |\t[0.04056 0.08113]\n",
      "[0.08113 0.16226] \t |\t[0.03245 0.06490]\n",
      "[0.06490 0.12981] \t |\t[0.02596 0.05192]\n",
      "[0.05192 0.10385] \t |\t[0.02077 0.04154]\n",
      "[0.04154 0.08308] \t |\t[0.01662 0.03323]\n",
      "[0.03323 0.06646] \t |\t[0.01329 0.02658]\n",
      "[0.02658 0.05317] \t |\t[0.01063 0.02127]\n",
      "[0.02127 0.04254] \t |\t[0.00851 0.01701]\n",
      "[0.01701 0.03403] \t |\t[0.00681 0.01361]\n",
      "[0.01361 0.02722] \t |\t[0.00544 0.01089]\n",
      "[0.01089 0.02178] \t |\t[0.00436 0.00871]\n",
      "[0.00871 0.01742] \t |\t[0.00348 0.00697]\n",
      "[0.00697 0.01394] \t |\t[0.00279 0.00558]\n",
      "[0.00558 0.01115] \t |\t[0.00223 0.00446]\n",
      "[0.00446 0.00892] \t |\t[0.00178 0.00357]\n",
      "[0.00357 0.00714] \t |\t[0.00143 0.00285]\n",
      "[0.00285 0.00571] \t |\t[0.00114 0.00228]\n",
      "[0.00228 0.00457] \t |\t[0.00091 0.00183]\n",
      "[0.00183 0.00365] \t |\t[0.00073 0.00146]\n",
      "[0.00146 0.00292] \t |\t[0.00058 0.00117]\n",
      "[0.00117 0.00234] \t |\t[0.00047 0.00094]\n",
      "[0.00094 0.00187] \t |\t[0.00037 0.00075]\n",
      "[0.00075 0.00150] \t |\t[0.00030 0.00060]\n",
      "[0.00060 0.00120] \t |\t[0.00024 0.00048]\n",
      "[0.00048 0.00096] \t |\t[0.00019 0.00038]\n",
      "[0.00038 0.00077] \t |\t[0.00015 0.00031]\n",
      "[0.00031 0.00061] \t |\t[0.00012 0.00025]\n",
      "[0.00025 0.00049] \t |\t[0.00010 0.00020]\n",
      "[0.00020 0.00039] \t |\t[0.00008 0.00016]\n",
      "[0.00016 0.00031] \t |\t[0.00006 0.00013]\n",
      "[0.00013 0.00025] \t |\t[0.00005 0.00010]\n",
      "[0.00010 0.00020] \t |\t[0.00004 0.00008]\n",
      "[0.00008 0.00016] \t |\t[0.00003 0.00006]\n",
      "[0.00006 0.00013] \t |\t[0.00003 0.00005]\n",
      "[0.00005 0.00010] \t |\t[0.00002 0.00004]\n",
      "[0.00004 0.00008] \t |\t[0.00002 0.00003]\n",
      "[0.00003 0.00007] \t |\t[0.00001 0.00003]\n",
      "[0.00003 0.00005] \t |\t[0.00001 0.00002]\n",
      "[0.00002 0.00004] \t |\t[0.00001 0.00002]\n",
      "[0.00002 0.00003] \t |\t[0.00001 0.00001]\n",
      "[0.00001 0.00003] \t |\t[0.00001 0.00001]\n",
      "[0.00001 0.00002] \t |\t[0.00000 0.00001]\n",
      "[0.00001 0.00002] \t |\t[0.00000 0.00001]\n",
      "[0.00001 0.00001] \t |\t[0.00000 0.00001]\n",
      "[0.00001 0.00001] \t |\t[0.00000 0.00000]\n",
      "[0.00000 0.00001] \t |\t[0.00000 0.00000]\n",
      "[0.00000 0.00001] \t |\t[0.00000 0.00000]\n",
      "[0.00000 0.00001] \t |\t[0.00000 0.00000]\n",
      "[0.00000 0.00000] \t |\t[0.00000 0.00000]\n",
      "[0.00000 0.00000] \t |\t[0.00000 0.00000]\n",
      "[0.00000 0.00000] \t |\t[0.00000 0.00000]\n",
      "[0.00000 0.00000] \t |\t[0.00000 0.00000]\n",
      "[0.00000 0.00000] \t |\t[0.00000 0.00000]\n",
      "[0.00000 0.00000] \t |\t[0.00000 0.00000]\n",
      "[0.00000 0.00000] \t |\t[0.00000 0.00000]\n",
      "[0.00000 0.00000] \t |\t[0.00000 0.00000]\n",
      "[0.00000 0.00000] \t |\t[0.00000 0.00000]\n",
      "[0.00000 0.00000] \t |\t[0.00000 0.00000]\n",
      "-------------------------------------------------------\n",
      "Total iterations = 91\n",
      "-------------------------------------------------------\n",
      "Минимум достигается в:  [0.00000 0.00000]\n",
      "Значение функции в минимуме: 0.00\n"
     ]
    }
   ],
   "source": [
    "x = np.array([100, 200])\n",
    "learning_rate = 0.1\n",
    "accuracy = 1e-6\n",
    "\n",
    "print('gradient: \\t|\\t point coordinates:')\n",
    "print('-'*55)\n",
    "for i in range(100):\n",
    "    # Calculate gradient\n",
    "    grad = approx_fprime(x,f,eps)\n",
    "    print(grad, end=' \\t |\\t')\n",
    "    \n",
    "    #grad = derivative(f,x,dx=1e-6,n=1)\n",
    "    #print(f'{grad:.5f}', end=' \\t |\\t')\n",
    "    \n",
    "    # Update x with gradient\n",
    "    x = x - learning_rate * grad\n",
    "    print(x)\n",
    "    \n",
    "    #Stop criteria\n",
    "    if grad.sum() <= accuracy: \n",
    "        print('-'*55)\n",
    "        print(f'Total iterations = {i}') \n",
    "        break\n",
    "        \n",
    "print('-'*55)\n",
    "print(\"Минимум достигается в: \", x)\n",
    "print(\"Значение функции в минимуме: %.2f\" % f(x))"
   ]
  },
  {
   "cell_type": "markdown",
   "metadata": {},
   "source": [
    "Проверка с помощью функции \"minimize\""
   ]
  },
  {
   "cell_type": "code",
   "execution_count": 91,
   "metadata": {
    "ExecuteTime": {
     "end_time": "2021-06-09T18:32:57.420653Z",
     "start_time": "2021-06-09T18:32:57.400652Z"
    }
   },
   "outputs": [],
   "source": [
    "from scipy.optimize import minimize"
   ]
  },
  {
   "cell_type": "code",
   "execution_count": 93,
   "metadata": {
    "ExecuteTime": {
     "end_time": "2021-06-09T18:34:19.690768Z",
     "start_time": "2021-06-09T18:34:19.660768Z"
    }
   },
   "outputs": [
    {
     "name": "stdout",
     "output_type": "stream",
     "text": [
      "Optimization terminated successfully.\n",
      "         Current function value: 0.000000\n",
      "         Iterations: 79\n",
      "         Function evaluations: 150\n"
     ]
    }
   ],
   "source": [
    "res = minimize(f,x,method='nelder-mead', options={'xtol':1e-8, 'disp':True})"
   ]
  },
  {
   "cell_type": "markdown",
   "metadata": {
    "id": "eAw4uXx_UnJk"
   },
   "source": [
    "\n",
    "Проверка с помощью встроенной функции numpy:"
   ]
  },
  {
   "cell_type": "code",
   "execution_count": 136,
   "metadata": {
    "ExecuteTime": {
     "end_time": "2021-06-09T19:03:36.366245Z",
     "start_time": "2021-06-09T19:03:36.356245Z"
    },
    "id": "_O-rTJ1yciMI"
   },
   "outputs": [],
   "source": [
    "#make points grid\n",
    "a = np.arange(-200,200,1)"
   ]
  },
  {
   "cell_type": "code",
   "execution_count": 140,
   "metadata": {
    "ExecuteTime": {
     "end_time": "2021-06-09T19:05:24.795398Z",
     "start_time": "2021-06-09T19:05:24.775398Z"
    }
   },
   "outputs": [],
   "source": [
    "#make functions output grid\n",
    "expression = x**2 + y**2\n",
    "fr = lambdify( [x,y] , expression , 'numpy' )\n",
    "function_array = fr(a,a)"
   ]
  },
  {
   "cell_type": "code",
   "execution_count": 144,
   "metadata": {
    "ExecuteTime": {
     "end_time": "2021-06-09T19:11:02.264888Z",
     "start_time": "2021-06-09T19:11:02.244888Z"
    }
   },
   "outputs": [],
   "source": [
    "#make gradient grid\n",
    "gradient_array = np.gradient(function_array)"
   ]
  },
  {
   "cell_type": "code",
   "execution_count": 149,
   "metadata": {
    "ExecuteTime": {
     "end_time": "2021-06-09T19:14:13.160195Z",
     "start_time": "2021-06-09T19:14:13.150195Z"
    }
   },
   "outputs": [],
   "source": [
    "# find position where gradient = 0\n",
    "position = np.argwhere(gradient_array == 0 )"
   ]
  },
  {
   "cell_type": "code",
   "execution_count": 157,
   "metadata": {
    "ExecuteTime": {
     "end_time": "2021-06-09T19:19:13.237617Z",
     "start_time": "2021-06-09T19:19:13.227617Z"
    }
   },
   "outputs": [],
   "source": [
    "# find coorinates of this point point_coordinates = [coordinate,coordinate]\n",
    "coordinate = -200 + position[0][0]*1"
   ]
  },
  {
   "cell_type": "code",
   "execution_count": 158,
   "metadata": {
    "ExecuteTime": {
     "end_time": "2021-06-09T19:19:20.398628Z",
     "start_time": "2021-06-09T19:19:20.378628Z"
    }
   },
   "outputs": [
    {
     "data": {
      "text/plain": [
       "0"
      ]
     },
     "execution_count": 158,
     "metadata": {},
     "output_type": "execute_result"
    }
   ],
   "source": [
    "fr(coordinate,coordinate)"
   ]
  },
  {
   "cell_type": "markdown",
   "metadata": {},
   "source": [
    "Функция имеет градиент = 0 в точке [0,0].  \n",
    "\n",
    "Если градиент = 0, то это экстремум функции. Так как, такой градиент(равный 0) всего 1  - стало быть это глобальный максимум.   \n",
    "\n",
    "Значение в глобальном максимуме = 0, глобальный максимум находится по координатам  [0,0]."
   ]
  }
 ],
 "metadata": {
  "colab": {
   "name": "HW_5",
   "provenance": []
  },
  "kernelspec": {
   "display_name": "Python 3",
   "language": "python",
   "name": "python3"
  },
  "language_info": {
   "codemirror_mode": {
    "name": "ipython",
    "version": 3
   },
   "file_extension": ".py",
   "mimetype": "text/x-python",
   "name": "python",
   "nbconvert_exporter": "python",
   "pygments_lexer": "ipython3",
   "version": "3.8.5"
  }
 },
 "nbformat": 4,
 "nbformat_minor": 1
}
