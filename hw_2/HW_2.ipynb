{
 "cells": [
  {
   "cell_type": "markdown",
   "metadata": {
    "id": "SVe9_TI3OEzz"
   },
   "source": [
    "# Домашнее задание \"Линейная алгебра. Матрицы\"."
   ]
  },
  {
   "cell_type": "markdown",
   "metadata": {
    "id": "5y1_BdobOJhL"
   },
   "source": [
    "### Уровень 0:"
   ]
  },
  {
   "cell_type": "markdown",
   "metadata": {
    "id": "T6OsnFW8Nds0"
   },
   "source": [
    " - Создайте матрицу 3 на 3, заполненную числами от 1 до 9\n",
    " - Прибавьте к ней матрицу с единицами на диагонале\n",
    " - Умножьте полученную матрицу на вектор (1, 2, 3)\n",
    " - Посчитайте обратную матрицу к полученной в результате прибавления матрице"
   ]
  },
  {
   "cell_type": "code",
   "execution_count": 1,
   "metadata": {
    "ExecuteTime": {
     "end_time": "2021-05-28T11:42:38.793022Z",
     "start_time": "2021-05-28T11:42:38.353021Z"
    }
   },
   "outputs": [],
   "source": [
    "import numpy as np\n",
    "import matplotlib.pyplot as plt "
   ]
  },
  {
   "cell_type": "markdown",
   "metadata": {},
   "source": [
    "#### Создайте матрицу 3 на 3, заполненную числами от 1 до 9"
   ]
  },
  {
   "cell_type": "code",
   "execution_count": 5,
   "metadata": {
    "ExecuteTime": {
     "end_time": "2021-05-28T11:44:15.054157Z",
     "start_time": "2021-05-28T11:44:15.044157Z"
    }
   },
   "outputs": [
    {
     "data": {
      "text/plain": [
       "array([[1, 2, 3],\n",
       "       [4, 5, 6],\n",
       "       [7, 8, 9]])"
      ]
     },
     "execution_count": 5,
     "metadata": {},
     "output_type": "execute_result"
    }
   ],
   "source": [
    "A = np.arange(1,10).reshape(3,3)\n",
    "A"
   ]
  },
  {
   "cell_type": "markdown",
   "metadata": {},
   "source": [
    "#### Прибавьте к ней матрицу с единицами на диагонале"
   ]
  },
  {
   "cell_type": "code",
   "execution_count": 8,
   "metadata": {
    "ExecuteTime": {
     "end_time": "2021-05-28T11:47:00.584390Z",
     "start_time": "2021-05-28T11:47:00.574390Z"
    }
   },
   "outputs": [
    {
     "data": {
      "text/plain": [
       "array([[1., 0., 0.],\n",
       "       [0., 1., 0.],\n",
       "       [0., 0., 1.]])"
      ]
     },
     "execution_count": 8,
     "metadata": {},
     "output_type": "execute_result"
    }
   ],
   "source": [
    "I_3 = np.eye(3)\n",
    "I_3"
   ]
  },
  {
   "cell_type": "code",
   "execution_count": 14,
   "metadata": {
    "ExecuteTime": {
     "end_time": "2021-05-28T11:49:10.740573Z",
     "start_time": "2021-05-28T11:49:10.720573Z"
    }
   },
   "outputs": [
    {
     "data": {
      "text/plain": [
       "array([[ 2.,  2.,  3.],\n",
       "       [ 4.,  6.,  6.],\n",
       "       [ 7.,  8., 10.]])"
      ]
     },
     "execution_count": 14,
     "metadata": {},
     "output_type": "execute_result"
    }
   ],
   "source": [
    "B = A + I_3\n",
    "B"
   ]
  },
  {
   "cell_type": "markdown",
   "metadata": {},
   "source": [
    "#### Умножьте полученную матрицу на вектор (1, 2, 3)"
   ]
  },
  {
   "cell_type": "code",
   "execution_count": 11,
   "metadata": {
    "ExecuteTime": {
     "end_time": "2021-05-28T11:48:02.341477Z",
     "start_time": "2021-05-28T11:48:02.321477Z"
    }
   },
   "outputs": [
    {
     "data": {
      "text/plain": [
       "array([1, 2, 3])"
      ]
     },
     "execution_count": 11,
     "metadata": {},
     "output_type": "execute_result"
    }
   ],
   "source": [
    "vector = np.arange(1,4,1)\n",
    "vector"
   ]
  },
  {
   "cell_type": "code",
   "execution_count": 15,
   "metadata": {
    "ExecuteTime": {
     "end_time": "2021-05-28T11:49:14.511578Z",
     "start_time": "2021-05-28T11:49:14.501578Z"
    }
   },
   "outputs": [
    {
     "data": {
      "text/plain": [
       "array([[ 2.,  4.,  9.],\n",
       "       [ 4., 12., 18.],\n",
       "       [ 7., 16., 30.]])"
      ]
     },
     "execution_count": 15,
     "metadata": {},
     "output_type": "execute_result"
    }
   ],
   "source": [
    "B * vector"
   ]
  },
  {
   "cell_type": "code",
   "execution_count": 16,
   "metadata": {
    "ExecuteTime": {
     "end_time": "2021-05-28T11:49:29.663600Z",
     "start_time": "2021-05-28T11:49:29.643600Z"
    }
   },
   "outputs": [
    {
     "data": {
      "text/plain": [
       "array([[ 2.,  4.,  9.],\n",
       "       [ 4., 12., 18.],\n",
       "       [ 7., 16., 30.]])"
      ]
     },
     "execution_count": 16,
     "metadata": {},
     "output_type": "execute_result"
    }
   ],
   "source": [
    "vector * B"
   ]
  },
  {
   "cell_type": "markdown",
   "metadata": {},
   "source": [
    "#### Посчитайте обратную матрицу к полученной в результате прибавления матрице"
   ]
  },
  {
   "cell_type": "code",
   "execution_count": 17,
   "metadata": {
    "ExecuteTime": {
     "end_time": "2021-05-28T11:50:09.028655Z",
     "start_time": "2021-05-28T11:50:08.998655Z"
    }
   },
   "outputs": [
    {
     "data": {
      "text/plain": [
       "array([[-6. , -2. ,  3. ],\n",
       "       [-1. ,  0.5,  0. ],\n",
       "       [ 5. ,  1. , -2. ]])"
      ]
     },
     "execution_count": 17,
     "metadata": {},
     "output_type": "execute_result"
    }
   ],
   "source": [
    "np.linalg.inv(B)"
   ]
  },
  {
   "cell_type": "markdown",
   "metadata": {
    "id": "_BAj6HboOLrk"
   },
   "source": [
    "### Уровень 1:"
   ]
  },
  {
   "cell_type": "markdown",
   "metadata": {
    "id": "RiADgeYcOPQF"
   },
   "source": [
    "Дан объект в 2d пространстве:\n",
    "\n",
    "\n",
    "\n",
    "```\n",
    "import numpy as np\n",
    "import matplotlib.pyplot as plt\n",
    "\n",
    "A = [\n",
    "[-100, -100, 1],\n",
    "[-100, 100, 1],\n",
    "[100, 100, 1],\n",
    "[0, 0, 1],\n",
    "[100, -100, 1],\n",
    "[-100, -100, 1]\n",
    "]\n",
    "\n",
    "A = np.array(A)\n",
    "x = A[:,0]\n",
    "y = A[:,1]\n",
    "\n",
    "plt.plot(x, y)\n",
    "plt.ylim([-200, 200])\n",
    "plt.xlim([-200, 200])\n",
    "```\n",
    "\n",
    "\n",
    "При помощи матричных операций выполните:\n",
    "- Уменьшить объект в два раза\n",
    "- Повернуть на 130 градусов\n",
    "- Отразить объект относительно прямой y=x\n",
    "- Выполнить смещение объекта и масштабирование (применить 2 матрицы трансформаций). Смещение на (200, 300) и масштабирование на (0.5, 1.2)\n",
    "\n"
   ]
  },
  {
   "cell_type": "code",
   "execution_count": 145,
   "metadata": {
    "ExecuteTime": {
     "end_time": "2021-05-31T07:39:01.073050Z",
     "start_time": "2021-05-31T07:39:00.693049Z"
    }
   },
   "outputs": [
    {
     "data": {
      "text/plain": [
       "(-200.0, 200.0)"
      ]
     },
     "execution_count": 145,
     "metadata": {},
     "output_type": "execute_result"
    },
    {
     "data": {
      "image/png": "[encoded data removed]",
      "text/plain": [
       "<Figure size 432x288 with 1 Axes>"
      ]
     },
     "metadata": {
      "needs_background": "light"
     },
     "output_type": "display_data"
    }
   ],
   "source": [
    "A = [\n",
    "[-100, -100, 1],\n",
    "[-100, 100, 1],\n",
    "[100, 100, 1],\n",
    "[0, 0, 1],\n",
    "[100, -100, 1],\n",
    "[-100, -100, 1]\n",
    "]\n",
    "\n",
    "A = np.array(A)\n",
    "x = A[:,0]\n",
    "y = A[:,1]\n",
    "\n",
    "plt.plot(x, y)\n",
    "plt.ylim([-200, 200])\n",
    "plt.xlim([-200, 200])"
   ]
  },
  {
   "cell_type": "markdown",
   "metadata": {
    "ExecuteTime": {
     "end_time": "2021-05-28T11:53:36.142946Z",
     "start_time": "2021-05-28T11:53:36.132946Z"
    }
   },
   "source": [
    "#### Уменьшить объект в два раза"
   ]
  },
  {
   "cell_type": "code",
   "execution_count": 29,
   "metadata": {
    "ExecuteTime": {
     "end_time": "2021-05-28T12:17:35.186971Z",
     "start_time": "2021-05-28T12:17:34.806970Z"
    }
   },
   "outputs": [
    {
     "data": {
      "text/plain": [
       "(-200.0, 200.0)"
      ]
     },
     "execution_count": 29,
     "metadata": {},
     "output_type": "execute_result"
    },
    {
     "data": {
      "image/png": "[encoded data removed]",
      "text/plain": [
       "<Figure size 432x288 with 1 Axes>"
      ]
     },
     "metadata": {
      "needs_background": "light"
     },
     "output_type": "display_data"
    }
   ],
   "source": [
    "#умножить на диагональную матрицу со значением 0.5\n",
    "B = A @ np.eye(3)/2\n",
    "x_1 = B[:,0]\n",
    "y_1 = B[:,1]\n",
    "\n",
    "plt.plot(x, y)\n",
    "plt.plot(x_1, y_1, c='green')\n",
    "plt.ylim([-200, 200])\n",
    "plt.xlim([-200, 200])"
   ]
  },
  {
   "cell_type": "markdown",
   "metadata": {
    "ExecuteTime": {
     "end_time": "2021-05-28T11:53:36.142946Z",
     "start_time": "2021-05-28T11:53:36.132946Z"
    }
   },
   "source": [
    "#### Повернуть на 130 градусов"
   ]
  },
  {
   "cell_type": "code",
   "execution_count": 83,
   "metadata": {
    "ExecuteTime": {
     "end_time": "2021-05-31T07:09:53.504578Z",
     "start_time": "2021-05-31T07:09:53.484578Z"
    }
   },
   "outputs": [
    {
     "data": {
      "text/plain": [
       "2.2689280275926285"
      ]
     },
     "execution_count": 83,
     "metadata": {},
     "output_type": "execute_result"
    }
   ],
   "source": [
    "alpha = np.pi/(180/130)\n",
    "alpha"
   ]
  },
  {
   "cell_type": "code",
   "execution_count": 84,
   "metadata": {
    "ExecuteTime": {
     "end_time": "2021-05-31T07:09:56.784583Z",
     "start_time": "2021-05-31T07:09:56.774583Z"
    }
   },
   "outputs": [
    {
     "data": {
      "text/plain": [
       "array([[-0.64278761, -0.76604444],\n",
       "       [ 0.76604444, -0.64278761]])"
      ]
     },
     "execution_count": 84,
     "metadata": {},
     "output_type": "execute_result"
    }
   ],
   "source": [
    "C = np.array([[np.cos(alpha), -np.sin(alpha) ], [ np.sin(alpha) , np.cos(alpha) ]])\n",
    "C"
   ]
  },
  {
   "cell_type": "code",
   "execution_count": 85,
   "metadata": {
    "ExecuteTime": {
     "end_time": "2021-05-31T07:09:59.535587Z",
     "start_time": "2021-05-31T07:09:59.525587Z"
    }
   },
   "outputs": [
    {
     "data": {
      "text/plain": [
       "array([[ 140.88320528,  -12.32568334, -140.88320528,    0.        ,\n",
       "          12.32568334,  140.88320528],\n",
       "       [ -12.32568334, -140.88320528,   12.32568334,    0.        ,\n",
       "         140.88320528,  -12.32568334]])"
      ]
     },
     "execution_count": 85,
     "metadata": {},
     "output_type": "execute_result"
    }
   ],
   "source": [
    "C @ np.array([x,y])"
   ]
  },
  {
   "cell_type": "code",
   "execution_count": 86,
   "metadata": {
    "ExecuteTime": {
     "end_time": "2021-05-31T07:10:04.446594Z",
     "start_time": "2021-05-31T07:10:03.915593Z"
    }
   },
   "outputs": [
    {
     "data": {
      "text/plain": [
       "(-200.0, 200.0)"
      ]
     },
     "execution_count": 86,
     "metadata": {},
     "output_type": "execute_result"
    },
    {
     "data": {
      "image/png": "[encoded data removed]",
      "text/plain": [
       "<Figure size 432x288 with 1 Axes>"
      ]
     },
     "metadata": {
      "needs_background": "light"
     },
     "output_type": "display_data"
    }
   ],
   "source": [
    "B = C @ np.array([x,y])\n",
    "\n",
    "x_1 = B[0]\n",
    "y_1 = B[1]\n",
    "\n",
    "plt.plot(x, y)\n",
    "plt.plot(x_1, y_1, c='green')\n",
    "plt.ylim([-200, 200])\n",
    "plt.xlim([-200, 200])"
   ]
  },
  {
   "cell_type": "code",
   "execution_count": 87,
   "metadata": {
    "ExecuteTime": {
     "end_time": "2021-05-31T07:10:09.166600Z",
     "start_time": "2021-05-31T07:10:09.146600Z"
    }
   },
   "outputs": [],
   "source": [
    "from ipywidgets import widgets\n",
    "from IPython.display import display\n",
    "from IPython.html.widgets import *"
   ]
  },
  {
   "cell_type": "code",
   "execution_count": 94,
   "metadata": {
    "ExecuteTime": {
     "end_time": "2021-05-31T07:15:10.810037Z",
     "start_time": "2021-05-31T07:15:10.328035Z"
    }
   },
   "outputs": [
    {
     "data": {
      "application/vnd.jupyter.widget-view+json": {
       "model_id": "743805e8606c40448a11da27b4e8aba8",
       "version_major": 2,
       "version_minor": 0
      },
      "text/plain": [
       "interactive(children=(IntSlider(value=90, description='alpha', max=180, step=10), Output()), _dom_classes=('wi…"
      ]
     },
     "metadata": {},
     "output_type": "display_data"
    },
    {
     "data": {
      "text/plain": [
       "<function __main__.plt_matrix_A(alpha)>"
      ]
     },
     "execution_count": 94,
     "metadata": {},
     "output_type": "execute_result"
    }
   ],
   "source": [
    "def plt_matrix_A(alpha):\n",
    "    \n",
    "    alpha = np.deg2rad(alpha)\n",
    "    #alpha = np.pi/(180/alpha)\n",
    "    \n",
    "    C = np.array([[np.cos(alpha), -np.sin(alpha) ], [ np.sin(alpha) , np.cos(alpha) ]])\n",
    "\n",
    "    B = C @ np.array([x,y])\n",
    "\n",
    "    x_1 = B[0]\n",
    "    y_1 = B[1]\n",
    "    \n",
    "    plt.plot(x, y)\n",
    "    \n",
    "    plt.plot(x_1, y_1, c='green')\n",
    "    \n",
    "    plt.ylim([-200, 200])\n",
    "    plt.xlim([-200, 200])\n",
    "   \n",
    "\n",
    "interact( plt_matrix_A, alpha = (0,180,10) )"
   ]
  },
  {
   "cell_type": "markdown",
   "metadata": {
    "ExecuteTime": {
     "end_time": "2021-05-28T11:53:36.142946Z",
     "start_time": "2021-05-28T11:53:36.132946Z"
    }
   },
   "source": [
    "#### Отразить объект относительно прямой y=x"
   ]
  },
  {
   "cell_type": "code",
   "execution_count": 148,
   "metadata": {
    "ExecuteTime": {
     "end_time": "2021-05-31T07:40:04.270139Z",
     "start_time": "2021-05-31T07:40:04.260139Z"
    }
   },
   "outputs": [
    {
     "data": {
      "text/plain": [
       "array([[0, 1, 0],\n",
       "       [1, 0, 0],\n",
       "       [0, 0, 1]])"
      ]
     },
     "execution_count": 148,
     "metadata": {},
     "output_type": "execute_result"
    }
   ],
   "source": [
    "C = np.array( [[0,1,0], [1,0,0], [0,0,1] ])\n",
    "C"
   ]
  },
  {
   "cell_type": "code",
   "execution_count": 150,
   "metadata": {
    "ExecuteTime": {
     "end_time": "2021-05-31T07:41:23.189250Z",
     "start_time": "2021-05-31T07:41:22.589249Z"
    }
   },
   "outputs": [
    {
     "data": {
      "text/plain": [
       "Text(0.5, 1.0, 'Vertical Mirror')"
      ]
     },
     "execution_count": 150,
     "metadata": {},
     "output_type": "execute_result"
    },
    {
     "data": {
      "image/png": "[encoded data removed]",
      "text/plain": [
       "<Figure size 864x360 with 2 Axes>"
      ]
     },
     "metadata": {
      "needs_background": "light"
     },
     "output_type": "display_data"
    }
   ],
   "source": [
    "B = A @ C\n",
    "\n",
    "x_1 = B[:,1]\n",
    "y_1 = B[:,0]\n",
    "fig = plt.figure(figsize=(12,5))\n",
    "fig.add_subplot(121)\n",
    "plt.plot(x, y)\n",
    "plt.title('Original')\n",
    "fig.add_subplot(122)\n",
    "\n",
    "plt.plot(x_1, y_1, c='green')\n",
    "plt.title('Vertical Mirror')\n"
   ]
  },
  {
   "cell_type": "markdown",
   "metadata": {
    "ExecuteTime": {
     "end_time": "2021-05-28T11:53:36.142946Z",
     "start_time": "2021-05-28T11:53:36.132946Z"
    }
   },
   "source": [
    "#### Выполнить смещение объекта и масштабирование (применить 2 матрицы трансформаций). Смещение на (200, 300) и масштабирование на (0.5, 1.2)"
   ]
  },
  {
   "cell_type": "code",
   "execution_count": 146,
   "metadata": {
    "ExecuteTime": {
     "end_time": "2021-05-31T07:39:07.754059Z",
     "start_time": "2021-05-31T07:39:07.734059Z"
    }
   },
   "outputs": [
    {
     "data": {
      "text/plain": [
       "array([[200, 300,   0],\n",
       "       [200, 300,   0],\n",
       "       [200, 300,   0],\n",
       "       [200, 300,   0],\n",
       "       [200, 300,   0],\n",
       "       [200, 300,   0]])"
      ]
     },
     "execution_count": 146,
     "metadata": {},
     "output_type": "execute_result"
    }
   ],
   "source": [
    "move_matrix = np.concatenate( (np.full([6,1],200), np.full([6,1],300), np.full([6,1],0) ), axis=1 )\n",
    "move_matrix"
   ]
  },
  {
   "cell_type": "code",
   "execution_count": 160,
   "metadata": {
    "ExecuteTime": {
     "end_time": "2021-05-31T07:44:40.703528Z",
     "start_time": "2021-05-31T07:44:40.173527Z"
    }
   },
   "outputs": [
    {
     "data": {
      "text/plain": [
       "(-200.0, 500.0)"
      ]
     },
     "execution_count": 160,
     "metadata": {},
     "output_type": "execute_result"
    },
    {
     "data": {
      "image/png": "[encoded data removed]",
      "text/plain": [
       "<Figure size 864x360 with 2 Axes>"
      ]
     },
     "metadata": {
      "needs_background": "light"
     },
     "output_type": "display_data"
    }
   ],
   "source": [
    "B = A + move_matrix\n",
    "\n",
    "x_1 = B[:,0]\n",
    "y_1 = B[:,1]\n",
    "\n",
    "fig = plt.figure(figsize=(12,5))\n",
    "\n",
    "#1\n",
    "fig.add_subplot(121)\n",
    "plt.plot(x, y)\n",
    "plt.title('Original')\n",
    "plt.ylim([-200, 500])\n",
    "plt.xlim([-200, 500])\n",
    "\n",
    "#2\n",
    "fig.add_subplot(122)\n",
    "plt.plot(x_1, y_1, c='green')\n",
    "plt.title('Moved')\n",
    "    \n",
    "plt.ylim([-200, 500])\n",
    "plt.xlim([-200, 500])"
   ]
  },
  {
   "cell_type": "code",
   "execution_count": 161,
   "metadata": {
    "ExecuteTime": {
     "end_time": "2021-05-31T07:44:43.113531Z",
     "start_time": "2021-05-31T07:44:42.593530Z"
    }
   },
   "outputs": [
    {
     "data": {
      "text/plain": [
       "(-200.0, 500.0)"
      ]
     },
     "execution_count": 161,
     "metadata": {},
     "output_type": "execute_result"
    },
    {
     "data": {
      "image/png": "[encoded data removed]",
      "text/plain": [
       "<Figure size 864x360 with 2 Axes>"
      ]
     },
     "metadata": {
      "needs_background": "light"
     },
     "output_type": "display_data"
    }
   ],
   "source": [
    "size_matix = [[0.5, 1.2, 1] ] \n",
    "B = B * size_matix\n",
    "\n",
    "x_1 = B[:,0]\n",
    "y_1 = B[:,1]\n",
    "\n",
    "fig = plt.figure(figsize=(12,5))\n",
    "\n",
    "#1\n",
    "fig.add_subplot(121)\n",
    "plt.plot(x, y)\n",
    "plt.title('Original')\n",
    "plt.ylim([-200, 500])\n",
    "plt.xlim([-200, 500])\n",
    "\n",
    "#2\n",
    "fig.add_subplot(122)\n",
    "plt.plot(x_1, y_1, c='green')\n",
    "plt.title('Moved + Sized')\n",
    "    \n",
    "plt.ylim([-200, 500])\n",
    "plt.xlim([-200, 500])"
   ]
  },
  {
   "cell_type": "code",
   "execution_count": 163,
   "metadata": {
    "ExecuteTime": {
     "end_time": "2021-05-31T07:45:07.106565Z",
     "start_time": "2021-05-31T07:45:07.086565Z"
    },
    "collapsed": true
   },
   "outputs": [
    {
     "ename": "NameError",
     "evalue": "name 'A' is not defined",
     "output_type": "error",
     "traceback": [
      "\u001b[1;31m---------------------------------------------------------------------------\u001b[0m",
      "\u001b[1;31mNameError\u001b[0m                                 Traceback (most recent call last)",
      "\u001b[1;32m<ipython-input-163-55da7eb90f31>\u001b[0m in \u001b[0;36m<module>\u001b[1;34m\u001b[0m\n\u001b[1;32m----> 1\u001b[1;33m \u001b[1;32mdel\u001b[0m \u001b[0mA\u001b[0m\u001b[1;33m,\u001b[0m \u001b[0mB\u001b[0m\u001b[1;33m,\u001b[0m \u001b[0mC\u001b[0m\u001b[1;33m,\u001b[0m \u001b[0mx_1\u001b[0m\u001b[1;33m,\u001b[0m \u001b[0my_1\u001b[0m\u001b[1;33m,\u001b[0m \u001b[0mmove_matrix\u001b[0m\u001b[1;33m,\u001b[0m \u001b[0msize_matix\u001b[0m\u001b[1;33m\u001b[0m\u001b[1;33m\u001b[0m\u001b[0m\n\u001b[0m",
      "\u001b[1;31mNameError\u001b[0m: name 'A' is not defined"
     ]
    }
   ],
   "source": [
    "del A, B, C, x_1, y_1, move_matrix, size_matix"
   ]
  }
 ],
 "metadata": {
  "colab": {
   "collapsed_sections": [],
   "name": "HW_2",
   "provenance": []
  },
  "kernelspec": {
   "display_name": "Python 3",
   "language": "python",
   "name": "python3"
  },
  "language_info": {
   "codemirror_mode": {
    "name": "ipython",
    "version": 3
   },
   "file_extension": ".py",
   "mimetype": "text/x-python",
   "name": "python",
   "nbconvert_exporter": "python",
   "pygments_lexer": "ipython3",
   "version": "3.8.5"
  }
 },
 "nbformat": 4,
 "nbformat_minor": 1
}
