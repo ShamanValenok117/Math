{
 "cells": [
  {
   "cell_type": "markdown",
   "metadata": {
    "id": "XCh60YYHSun4"
   },
   "source": [
    "# Домашнее задание \"Математический анализ. Производная\".\n"
   ]
  },
  {
   "cell_type": "markdown",
   "metadata": {
    "id": "dYJjLWBaSur5"
   },
   "source": [
    "### Уровень 0:\n"
   ]
  },
  {
   "cell_type": "markdown",
   "metadata": {
    "id": "jIOhN-AuSuqU"
   },
   "source": [
    "Посчитайте значение первой и второй производной функции:\n",
    "\n",
    "$f(x) = x^5 + 4sin(2x) + cos(3x+3)$ \n",
    "\n",
    "В точке x = 1.\n",
    "\n"
   ]
  },
  {
   "cell_type": "code",
   "execution_count": 30,
   "metadata": {
    "ExecuteTime": {
     "end_time": "2021-06-08T15:15:41.164924Z",
     "start_time": "2021-06-08T15:15:41.154924Z"
    }
   },
   "outputs": [],
   "source": [
    "import sympy \n",
    "from sympy import *\n",
    "x,y = symbols( 'x y')"
   ]
  },
  {
   "cell_type": "code",
   "execution_count": 62,
   "metadata": {
    "ExecuteTime": {
     "end_time": "2021-06-08T15:28:27.720002Z",
     "start_time": "2021-06-08T15:28:27.710002Z"
    }
   },
   "outputs": [],
   "source": [
    "import scipy as sps\n",
    "import numpy as np"
   ]
  },
  {
   "cell_type": "code",
   "execution_count": 31,
   "metadata": {
    "ExecuteTime": {
     "end_time": "2021-06-08T15:15:43.784928Z",
     "start_time": "2021-06-08T15:15:43.764928Z"
    }
   },
   "outputs": [
    {
     "name": "stdout",
     "output_type": "stream",
     "text": [
      "expression = x**5 + 4*sin(2*x) + cos(3*x + 3), \n",
      "expression_derivative = 5*x**4 - 3*sin(3*x + 3) + 8*cos(2*x)\n",
      "expression_second_derivative = 20*x**3 - 16*sin(2*x) - 9*cos(3*x + 3)\n"
     ]
    }
   ],
   "source": [
    "expression = x**5 + 4 * sin(2*x) + cos(3*x+3)\n",
    "expression_dif = diff(expression,x)\n",
    "print(f'expression = {expression}, \\nexpression_derivative = {expression_dif}')\n",
    "expression_2nd_dif = diff(expression_dif,x)\n",
    "print(f'expression_second_derivative = {expression_2nd_dif}')\n"
   ]
  },
  {
   "cell_type": "code",
   "execution_count": 36,
   "metadata": {
    "ExecuteTime": {
     "end_time": "2021-06-08T15:17:33.190082Z",
     "start_time": "2021-06-08T15:17:33.180082Z"
    }
   },
   "outputs": [
    {
     "name": "stdout",
     "output_type": "stream",
     "text": [
      " for x = 1 \n",
      "expression = 5.597, \n",
      "expression_derivative = 2.509, \n",
      "expression_second_derivative = -3.190\n"
     ]
    }
   ],
   "source": [
    "print(f''' for x = 1 \\nexpression = {expression.evalf( subs={x:1} ) :.3f}, \n",
    "expression_derivative = {expression_dif.evalf( subs={x:1} ) :.3f}, \n",
    "expression_second_derivative = {expression_2nd_dif.evalf( subs={x:1} ) :.3f}''')"
   ]
  },
  {
   "cell_type": "code",
   "execution_count": 49,
   "metadata": {
    "ExecuteTime": {
     "end_time": "2021-06-08T15:20:59.439372Z",
     "start_time": "2021-06-08T15:20:59.419372Z"
    }
   },
   "outputs": [
    {
     "name": "stdout",
     "output_type": "stream",
     "text": [
      "5.597359993953093\n",
      "2.5090718022196383\n",
      "-3.1902914090642014\n"
     ]
    }
   ],
   "source": [
    "# проверим через numPy\n",
    "f = lambdify(x,expression, 'numpy')\n",
    "f1 = lambdify(x,expression_dif, 'numpy')\n",
    "f2 = lambdify(x,expression_2nd_dif, 'numpy')\n",
    "print(f(1))\n",
    "print(f1(1))\n",
    "print(f2(1))"
   ]
  },
  {
   "cell_type": "code",
   "execution_count": 43,
   "metadata": {
    "ExecuteTime": {
     "end_time": "2021-06-08T15:20:15.782311Z",
     "start_time": "2021-06-08T15:20:15.762310Z"
    }
   },
   "outputs": [
    {
     "name": "stdout",
     "output_type": "stream",
     "text": [
      "5.597359993953093\n",
      "2.5090718022196383\n",
      "-3.1902914090642014\n"
     ]
    }
   ],
   "source": [
    "# проверим через math\n",
    "f = lambdify(x,expression, 'math')\n",
    "f1 = lambdify(x,expression_dif, 'math')\n",
    "f2 = lambdify(x,expression_2nd_dif, 'math')\n",
    "print(f(1))\n",
    "print(f1(1))\n",
    "print(f2(1))"
   ]
  },
  {
   "cell_type": "code",
   "execution_count": 66,
   "metadata": {
    "ExecuteTime": {
     "end_time": "2021-06-08T15:30:10.753147Z",
     "start_time": "2021-06-08T15:30:10.733147Z"
    }
   },
   "outputs": [
    {
     "name": "stdout",
     "output_type": "stream",
     "text": [
      "2.50907180188165\n",
      "-3.19033688356285\n"
     ]
    }
   ],
   "source": [
    "# проверим через sps.misc.derivative\n",
    "def func_expression(x):\n",
    "    return x**5 + 4* sin(2*x) + cos(3*x+3)\n",
    "\n",
    "f1 = sps.misc.derivative(func_expression,1,dx=1e-6,n=1)\n",
    "f2 = sps.misc.derivative(func_expression,1,dx=1e-6,n=2)\n",
    "\n",
    "print(f1)\n",
    "print(f2)"
   ]
  },
  {
   "cell_type": "markdown",
   "metadata": {},
   "source": [
    "Все расчеты совпадают - Задание выполнено и проверено"
   ]
  },
  {
   "cell_type": "markdown",
   "metadata": {
    "id": "gzEtleVuSuln"
   },
   "source": [
    "### Уровень 1:\n"
   ]
  },
  {
   "cell_type": "markdown",
   "metadata": {
    "id": "1CL3dzNyS_og"
   },
   "source": [
    "Постройте график первой и второй производной функции:\n",
    "\n",
    "$f(x) = sin^5(2x+1)$\n",
    "\n",
    "На отрезке [-5; 5]."
   ]
  },
  {
   "cell_type": "code",
   "execution_count": 68,
   "metadata": {
    "ExecuteTime": {
     "end_time": "2021-06-08T15:31:31.761263Z",
     "start_time": "2021-06-08T15:31:31.751263Z"
    }
   },
   "outputs": [],
   "source": [
    "a = np.linspace(-5,5,num=100)"
   ]
  },
  {
   "cell_type": "code",
   "execution_count": 89,
   "metadata": {
    "ExecuteTime": {
     "end_time": "2021-06-08T15:46:09.513499Z",
     "start_time": "2021-06-08T15:46:09.483498Z"
    }
   },
   "outputs": [
    {
     "name": "stdout",
     "output_type": "stream",
     "text": [
      " expression = sin(2*x + 1)**5 \n",
      " expression_derivative = 10*sin(2*x + 1)**4*cos(2*x + 1) \n",
      " expression_second_derivative = -20*sin(2*x + 1)**5 + 80*sin(2*x + 1)**3*cos(2*x + 1)**2 \n"
     ]
    }
   ],
   "source": [
    "expression = sin(2*x + 1 )**5\n",
    "expression_dif = diff(expression,x)\n",
    "expression_2nd_dif = diff(expression_dif,x)\n",
    "\n",
    "print(f' expression = {expression} ')\n",
    "print(f' expression_derivative = {expression_dif} ' )\n",
    "print(f' expression_second_derivative = {expression_2nd_dif} ' )"
   ]
  },
  {
   "cell_type": "code",
   "execution_count": 96,
   "metadata": {
    "ExecuteTime": {
     "end_time": "2021-06-08T15:50:15.375844Z",
     "start_time": "2021-06-08T15:50:15.355844Z"
    }
   },
   "outputs": [],
   "source": [
    "f = lambdify(x,expression)\n",
    "expression_output_array = f(a)\n",
    "\n",
    "f1 = lambdify(x,expression_dif)\n",
    "expression_dif_output_array = f1(a)\n",
    "\n",
    "f2 = lambdify(x,expression_2nd_dif)\n",
    "expression_2nd_dif_output_array = f2(a)"
   ]
  },
  {
   "cell_type": "code",
   "execution_count": 73,
   "metadata": {
    "ExecuteTime": {
     "end_time": "2021-06-08T15:37:52.673799Z",
     "start_time": "2021-06-08T15:37:52.123798Z"
    }
   },
   "outputs": [],
   "source": [
    "import matplotlib.pyplot as plt"
   ]
  },
  {
   "cell_type": "code",
   "execution_count": 97,
   "metadata": {
    "ExecuteTime": {
     "end_time": "2021-06-08T15:50:18.875849Z",
     "start_time": "2021-06-08T15:50:18.325849Z"
    }
   },
   "outputs": [
    {
     "data": {
      "text/plain": [
       "<matplotlib.legend.Legend at 0xf482c70>"
      ]
     },
     "execution_count": 97,
     "metadata": {},
     "output_type": "execute_result"
    },
    {
     "data": {
      "image/png": "[encoded data removed]",
      "text/plain": [
       "<Figure size 864x360 with 1 Axes>"
      ]
     },
     "metadata": {
      "needs_background": "light"
     },
     "output_type": "display_data"
    }
   ],
   "source": [
    "fig = plt.figure(figsize=(12,5))\n",
    "plt.plot(expression_output_array,'g-', label = 'function')\n",
    "plt.plot(expression_dif_output_array,'m--', label='the first derivatie')\n",
    "plt.plot(expression_2nd_dif_output_array,'c-', label='the second derivatie')\n",
    "\n",
    "plt.legend(loc='upper right')"
   ]
  }
 ],
 "metadata": {
  "colab": {
   "name": "HW_4",
   "provenance": []
  },
  "kernelspec": {
   "display_name": "Python 3",
   "language": "python",
   "name": "python3"
  },
  "language_info": {
   "codemirror_mode": {
    "name": "ipython",
    "version": 3
   },
   "file_extension": ".py",
   "mimetype": "text/x-python",
   "name": "python",
   "nbconvert_exporter": "python",
   "pygments_lexer": "ipython3",
   "version": "3.8.5"
  }
 },
 "nbformat": 4,
 "nbformat_minor": 1
}
